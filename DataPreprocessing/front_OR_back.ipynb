{
 "cells": [
  {
   "cell_type": "code",
   "execution_count": 1,
   "metadata": {},
   "outputs": [
    {
     "name": "stderr",
     "output_type": "stream",
     "text": [
      "c:\\Users\\EHmin\\anaconda3\\envs\\EHmin\\lib\\site-packages\\tqdm\\auto.py:21: TqdmWarning: IProgress not found. Please update jupyter and ipywidgets. See https://ipywidgets.readthedocs.io/en/stable/user_install.html\n",
      "  from .autonotebook import tqdm as notebook_tqdm\n"
     ]
    }
   ],
   "source": [
    "import pandas as pd \n",
    "import glob\n",
    "import cv2 as cv\n",
    "import random\n",
    "import os\n",
    "\n",
    "import matplotlib.pyplot as plt\n",
    "import numpy as np\n",
    "import random\n",
    "from PIL import Image\n",
    "import PIL.ImageOps    \n",
    "\n",
    "import torchvision\n",
    "import torchvision.datasets as datasets\n",
    "import torchvision.transforms as transforms\n",
    "from torch.utils.data import DataLoader, Dataset\n",
    "import torchvision.utils\n",
    "import torch\n",
    "from torch.autograd import Variable\n",
    "import torch.nn as nn\n",
    "from torch import optim\n",
    "import torch.nn.functional as F\n",
    "import albumentations as A\n",
    "from albumentations.pytorch.transforms import ToTensorV2\n",
    "from sklearn.metrics import f1_score, accuracy_score, classification_report, recall_score, precision_score\n",
    "\n",
    "from tqdm.auto import tqdm\n",
    "import timm\n",
    "import math\n",
    "from sklearn.model_selection import train_test_split\n",
    "\n",
    "import segmentation_models_pytorch as smp\n",
    "device = torch.device('cuda' if torch.cuda.is_available() else 'cpu')"
   ]
  },
  {
   "cell_type": "code",
   "execution_count": 2,
   "metadata": {},
   "outputs": [],
   "source": [
    "def seed_everything(seed):\n",
    "    random.seed(seed)\n",
    "    os.environ['PYTHONHASHSEED'] = 'a'\n",
    "    np.random.seed(seed)\n",
    "    torch.manual_seed(seed)\n",
    "    torch.cuda.manual_seed(seed)\n",
    "    torch.backends.cudnn.deterministic = True\n",
    "    torch.backends.cudnn.benchmark = True\n",
    "\n",
    "CFG = {\n",
    "    'IMG_SIZE':224,\n",
    "    'EPOCHS':20,\n",
    "    'LEARNING_RATE':3e-4,\n",
    "    # 'LEARNING_RATE':10,\n",
    "    'BATCH_SIZE':8,\n",
    "    'SEED':41\n",
    "}\n",
    "\n",
    "seed_everything(CFG['SEED']) # Seed 고정"
   ]
  },
  {
   "cell_type": "code",
   "execution_count": 3,
   "metadata": {},
   "outputs": [],
   "source": [
    "# train_target = glob.glob(\"../Data/train_target_image/*\")\n",
    "# train_target.sort()\n",
    "# train_target"
   ]
  },
  {
   "cell_type": "code",
   "execution_count": 4,
   "metadata": {},
   "outputs": [],
   "source": [
    "# template = cv.imread(train_target[1])\n",
    "# template = template[908:1074, 136:428]\n"
   ]
  },
  {
   "cell_type": "code",
   "execution_count": 5,
   "metadata": {},
   "outputs": [],
   "source": [
    "# img2 = cv.imread(train_target[44])\n",
    "# result = cv.matchTemplate(img2, template, cv.TM_CCOEFF_NORMED)\n",
    "# threshold = 0.5\n",
    "# locations = np.where(result >= threshold)\n",
    "# if locations[0].size > 0:\n",
    "#     print(\"있어\")\n",
    "# else:\n",
    "#     print(\"없어\")\n"
   ]
  },
  {
   "cell_type": "code",
   "execution_count": 6,
   "metadata": {},
   "outputs": [],
   "source": [
    "# ans = []\n",
    "\n",
    "# for img_path in tqdm(train_target):\n",
    "#     img = cv.imread(img_path)\n",
    "#     result = cv.matchTemplate(img, template, cv.TM_CCOEFF_NORMED)\n",
    "#     threshold = 0.8\n",
    "#     locations = np.where(result >= threshold)\n",
    "#     if locations[0].size > 0:\n",
    "#         ans.append(0) #0 이면 뒤\n",
    "#     else:\n",
    "#         ans.append(1) # 1이면 앞\n",
    "\n",
    "    "
   ]
  },
  {
   "cell_type": "code",
   "execution_count": 7,
   "metadata": {},
   "outputs": [],
   "source": [
    "# df = pd.DataFrame(columns=['image','label'])\n",
    "# df['image'] = train_target\n",
    "# df['label'] = ans\n",
    "# df.to_csv('my_data.csv', index=False)\n"
   ]
  },
  {
   "cell_type": "code",
   "execution_count": 8,
   "metadata": {},
   "outputs": [
    {
     "data": {
      "text/html": [
       "<div>\n",
       "<style scoped>\n",
       "    .dataframe tbody tr th:only-of-type {\n",
       "        vertical-align: middle;\n",
       "    }\n",
       "\n",
       "    .dataframe tbody tr th {\n",
       "        vertical-align: top;\n",
       "    }\n",
       "\n",
       "    .dataframe thead th {\n",
       "        text-align: right;\n",
       "    }\n",
       "</style>\n",
       "<table border=\"1\" class=\"dataframe\">\n",
       "  <thead>\n",
       "    <tr style=\"text-align: right;\">\n",
       "      <th></th>\n",
       "      <th>image</th>\n",
       "      <th>label</th>\n",
       "    </tr>\n",
       "  </thead>\n",
       "  <tbody>\n",
       "    <tr>\n",
       "      <th>0</th>\n",
       "      <td>../Data/train_target_image\\TRAIN_TARGET_0000.png</td>\n",
       "      <td>1</td>\n",
       "    </tr>\n",
       "    <tr>\n",
       "      <th>1</th>\n",
       "      <td>../Data/train_target_image\\TRAIN_TARGET_0001.png</td>\n",
       "      <td>0</td>\n",
       "    </tr>\n",
       "    <tr>\n",
       "      <th>2</th>\n",
       "      <td>../Data/train_target_image\\TRAIN_TARGET_0002.png</td>\n",
       "      <td>1</td>\n",
       "    </tr>\n",
       "    <tr>\n",
       "      <th>3</th>\n",
       "      <td>../Data/train_target_image\\TRAIN_TARGET_0003.png</td>\n",
       "      <td>1</td>\n",
       "    </tr>\n",
       "    <tr>\n",
       "      <th>4</th>\n",
       "      <td>../Data/train_target_image\\TRAIN_TARGET_0004.png</td>\n",
       "      <td>1</td>\n",
       "    </tr>\n",
       "    <tr>\n",
       "      <th>...</th>\n",
       "      <td>...</td>\n",
       "      <td>...</td>\n",
       "    </tr>\n",
       "    <tr>\n",
       "      <th>2918</th>\n",
       "      <td>../Data/train_target_image\\TRAIN_TARGET_2918.png</td>\n",
       "      <td>0</td>\n",
       "    </tr>\n",
       "    <tr>\n",
       "      <th>2919</th>\n",
       "      <td>../Data/train_target_image\\TRAIN_TARGET_2919.png</td>\n",
       "      <td>1</td>\n",
       "    </tr>\n",
       "    <tr>\n",
       "      <th>2920</th>\n",
       "      <td>../Data/train_target_image\\TRAIN_TARGET_2920.png</td>\n",
       "      <td>1</td>\n",
       "    </tr>\n",
       "    <tr>\n",
       "      <th>2921</th>\n",
       "      <td>../Data/train_target_image\\TRAIN_TARGET_2921.png</td>\n",
       "      <td>1</td>\n",
       "    </tr>\n",
       "    <tr>\n",
       "      <th>2922</th>\n",
       "      <td>../Data/train_target_image\\TRAIN_TARGET_2922.png</td>\n",
       "      <td>0</td>\n",
       "    </tr>\n",
       "  </tbody>\n",
       "</table>\n",
       "<p>2923 rows × 2 columns</p>\n",
       "</div>"
      ],
      "text/plain": [
       "                                                 image  label\n",
       "0     ../Data/train_target_image\\TRAIN_TARGET_0000.png      1\n",
       "1     ../Data/train_target_image\\TRAIN_TARGET_0001.png      0\n",
       "2     ../Data/train_target_image\\TRAIN_TARGET_0002.png      1\n",
       "3     ../Data/train_target_image\\TRAIN_TARGET_0003.png      1\n",
       "4     ../Data/train_target_image\\TRAIN_TARGET_0004.png      1\n",
       "...                                                ...    ...\n",
       "2918  ../Data/train_target_image\\TRAIN_TARGET_2918.png      0\n",
       "2919  ../Data/train_target_image\\TRAIN_TARGET_2919.png      1\n",
       "2920  ../Data/train_target_image\\TRAIN_TARGET_2920.png      1\n",
       "2921  ../Data/train_target_image\\TRAIN_TARGET_2921.png      1\n",
       "2922  ../Data/train_target_image\\TRAIN_TARGET_2922.png      0\n",
       "\n",
       "[2923 rows x 2 columns]"
      ]
     },
     "execution_count": 8,
     "metadata": {},
     "output_type": "execute_result"
    }
   ],
   "source": [
    "df = pd.read_csv('./my_data.csv', )\n",
    "df"
   ]
  },
  {
   "cell_type": "code",
   "execution_count": 9,
   "metadata": {},
   "outputs": [],
   "source": [
    "class CustomDataset(Dataset):\n",
    "    def __init__(self, image, label, transform=None, infer=False):\n",
    "        self.source = image\n",
    "        self.gt = label\n",
    "        self.transform = transform\n",
    "        self.infer = infer\n",
    "\n",
    "\n",
    "    def __getitem__(self, idx):\n",
    "        img_path = self.source[idx]\n",
    "        image = cv.imread(img_path)\n",
    "        image = cv.cvtColor(image, cv.COLOR_BGR2RGB)\n",
    "        \n",
    "        if self.infer:\n",
    "            if self.transform:\n",
    "                image = self.transform(image=image)['image']\n",
    "            return image\n",
    "        \n",
    "        label = self.gt[idx]\n",
    "\n",
    "        if self.transform: # 알부네이션 먹이이는 형식으로 진행 \n",
    "            augmented = self.transform(image=image) \n",
    "            image = augmented['image']\n",
    "            \n",
    "        return image, label\n",
    "    \n",
    "    def __len__(self):\n",
    "        return len(self.source)\n",
    "    "
   ]
  },
  {
   "cell_type": "code",
   "execution_count": 10,
   "metadata": {},
   "outputs": [],
   "source": [
    "transform = A.Compose(\n",
    "    [   \n",
    "        A.Resize(224, 224),\n",
    "        A.Normalize(),\n",
    "        ToTensorV2()\n",
    "    ]\n",
    ")"
   ]
  },
  {
   "cell_type": "code",
   "execution_count": 11,
   "metadata": {},
   "outputs": [],
   "source": [
    "train, val, _, _ = train_test_split(df, df['label'], test_size=0.2, random_state=CFG['SEED'])"
   ]
  },
  {
   "cell_type": "code",
   "execution_count": 12,
   "metadata": {},
   "outputs": [],
   "source": [
    "train_dataset = CustomDataset(image = train['image'].values, label = train['label'].values, transform=transform, infer=False)\n",
    "train_loader = DataLoader(train_dataset, batch_size=16, shuffle=True, num_workers=0)\n",
    "\n",
    "val_dataset = CustomDataset(image = val['image'].values, label = val['label'].values, transform=transform, infer=False)\n",
    "val_loader = DataLoader(val_dataset, batch_size=16, shuffle=True, num_workers=0)"
   ]
  },
  {
   "cell_type": "code",
   "execution_count": 13,
   "metadata": {},
   "outputs": [],
   "source": [
    "class BaseModel(nn.Module):\n",
    "    def __init__(self):\n",
    "        super(BaseModel, self).__init__()\n",
    "        self.backbone = timm.create_model('efficientnet_b7', pretrained=False)\n",
    "        self.classifier = nn.Linear(1000, 2)\n",
    "        self.dropout = nn.Dropout(0.1)\n",
    "        self.ReLU = nn.ReLU(inplace=False)\n",
    "        self.classifier2 = nn.Linear(50, 2)\n",
    "    \n",
    "    def forward(self, x):\n",
    "        x = self.backbone(x)\n",
    "        x = self.classifier(x)\n",
    "        \n",
    "        return F.log_softmax(x, dim=1)\n",
    "    \n",
    "        \n",
    "    "
   ]
  },
  {
   "cell_type": "code",
   "execution_count": 14,
   "metadata": {},
   "outputs": [],
   "source": [
    "def validation(model, criterion, val_loader, device):\n",
    "    model.eval()\n",
    "    val_loss = []\n",
    "    preds, true_labels = [], []\n",
    "  \n",
    "    \n",
    "    with torch.no_grad():\n",
    "        for landmark_list, labels in tqdm(iter(val_loader)):\n",
    "            \n",
    "            landmark_list = landmark_list.float().to(device)\n",
    "            \n",
    "            labels = labels.type(torch.LongTensor).to(device)\n",
    "            \n",
    "            pred = model(landmark_list)\n",
    "\n",
    "            loss = criterion(pred, labels)\n",
    "            \n",
    "            preds += pred.detach().argmax(1).cpu().numpy().tolist()\n",
    "            true_labels += labels.detach().cpu().numpy().tolist()\n",
    "            \n",
    "            val_loss.append(loss.item())\n",
    "            # print(preds, true_labels)\n",
    "            # https://scikit-learn.org/stable/modules/generated/sklearn.metrics.accuracy_score.html\n",
    "            \n",
    "        _val_loss = np.mean(val_loss)\n",
    "        _val_score_f1 = f1_score(true_labels, preds, average='weighted')\n",
    "        _val_score_acc = accuracy_score(true_labels, preds)\n",
    "        _val_score_recall = recall_score(true_labels, preds, average='macro')\n",
    "        _val_score_precision = precision_score(true_labels, preds, average='macro')\n",
    "        report = classification_report(true_labels, preds)\n",
    "        \n",
    "        # print(accuracy_score(true_labels, preds))\n",
    "        \n",
    "        \n",
    "    \n",
    "    return _val_loss, _val_score_f1, _val_score_acc, report , _val_score_recall, _val_score_precision"
   ]
  },
  {
   "cell_type": "code",
   "execution_count": 15,
   "metadata": {},
   "outputs": [],
   "source": [
    "def train(model, optimizer, train_loader, val_loader, scheduler, device):\n",
    "    model = model.to(device)\n",
    "    criterion = nn.NLLLoss(weight=torch.tensor([0.01, 0.99]), reduction=\"sum\").to(device)\n",
    "\n",
    "    best_score = 0\n",
    "    best_model = None\n",
    "    \n",
    "    for epoch in range(0, CFG['EPOCHS']):\n",
    "        model.train()\n",
    "        train_loss = []\n",
    "        \n",
    "        for landmark_list, labels in tqdm(iter(train_loader)):\n",
    "            \n",
    "            landmark_list = landmark_list.float().to(device)\n",
    "            \n",
    "            labels = labels.type(torch.LongTensor).to(device)\n",
    "            \n",
    "            optimizer.zero_grad()\n",
    "            output = model(landmark_list)\n",
    "            \n",
    "            loss = criterion(output, labels)\n",
    "            \n",
    "            loss.backward()\n",
    "            optimizer.step()\n",
    "            train_loss.append(loss.item())\n",
    "                    \n",
    "                \n",
    "        _val_loss, _val_score_f1, _val_score_acc, report , _val_score_recall, _val_score_precision = validation(model, criterion, val_loader, device)\n",
    "        \n",
    "        _train_loss = np.mean(train_loss)\n",
    "        print(f'Epoch [{epoch}], Train Loss : [{_train_loss:.5f}] Val Loss : [{_val_loss:.5f}] Val accuracy score : [{_val_score_acc:.5f}] Val recall score : [{_val_score_recall:.5f}] Val f1 score : [{_val_score_f1:.5f}]')\n",
    "        print(report)\n",
    "        if scheduler is not None:\n",
    "            scheduler.step(_val_score_recall)\n",
    "            \n",
    "        if best_score < _val_score_acc:\n",
    "            best_score = _val_score_acc\n",
    "            best_model = model\n",
    "            torch.save(best_model.state_dict(), \"./frontOrBack.pt\")\n",
    "            \n",
    "            \n",
    "    \n",
    "    return best_model"
   ]
  },
  {
   "cell_type": "code",
   "execution_count": 16,
   "metadata": {},
   "outputs": [],
   "source": [
    "model = BaseModel()"
   ]
  },
  {
   "cell_type": "code",
   "execution_count": 17,
   "metadata": {},
   "outputs": [
    {
     "name": "stderr",
     "output_type": "stream",
     "text": [
      "100%|██████████| 147/147 [02:20<00:00,  1.05it/s]\n",
      "100%|██████████| 37/37 [00:31<00:00,  1.16it/s]\n",
      "c:\\Users\\EHmin\\anaconda3\\envs\\EHmin\\lib\\site-packages\\sklearn\\metrics\\_classification.py:1344: UndefinedMetricWarning: Precision is ill-defined and being set to 0.0 in labels with no predicted samples. Use `zero_division` parameter to control this behavior.\n",
      "  _warn_prf(average, modifier, msg_start, len(result))\n",
      "c:\\Users\\EHmin\\anaconda3\\envs\\EHmin\\lib\\site-packages\\sklearn\\metrics\\_classification.py:1344: UndefinedMetricWarning: Precision and F-score are ill-defined and being set to 0.0 in labels with no predicted samples. Use `zero_division` parameter to control this behavior.\n",
      "  _warn_prf(average, modifier, msg_start, len(result))\n",
      "c:\\Users\\EHmin\\anaconda3\\envs\\EHmin\\lib\\site-packages\\sklearn\\metrics\\_classification.py:1344: UndefinedMetricWarning: Precision and F-score are ill-defined and being set to 0.0 in labels with no predicted samples. Use `zero_division` parameter to control this behavior.\n",
      "  _warn_prf(average, modifier, msg_start, len(result))\n",
      "c:\\Users\\EHmin\\anaconda3\\envs\\EHmin\\lib\\site-packages\\sklearn\\metrics\\_classification.py:1344: UndefinedMetricWarning: Precision and F-score are ill-defined and being set to 0.0 in labels with no predicted samples. Use `zero_division` parameter to control this behavior.\n",
      "  _warn_prf(average, modifier, msg_start, len(result))\n"
     ]
    },
    {
     "name": "stdout",
     "output_type": "stream",
     "text": [
      "Epoch [0], Train Loss : [0.51962] Val Loss : [0.28363] Val accuracy score : [0.53846] Val recall score : [0.50000] Val f1 score : [0.37692]\n",
      "              precision    recall  f1-score   support\n",
      "\n",
      "           0       0.00      0.00      0.00       270\n",
      "           1       0.54      1.00      0.70       315\n",
      "\n",
      "    accuracy                           0.54       585\n",
      "   macro avg       0.27      0.50      0.35       585\n",
      "weighted avg       0.29      0.54      0.38       585\n",
      "\n"
     ]
    },
    {
     "name": "stderr",
     "output_type": "stream",
     "text": [
      "100%|██████████| 147/147 [02:12<00:00,  1.11it/s]\n",
      "100%|██████████| 37/37 [00:29<00:00,  1.25it/s]\n",
      "c:\\Users\\EHmin\\anaconda3\\envs\\EHmin\\lib\\site-packages\\sklearn\\metrics\\_classification.py:1344: UndefinedMetricWarning: Precision is ill-defined and being set to 0.0 in labels with no predicted samples. Use `zero_division` parameter to control this behavior.\n",
      "  _warn_prf(average, modifier, msg_start, len(result))\n",
      "c:\\Users\\EHmin\\anaconda3\\envs\\EHmin\\lib\\site-packages\\sklearn\\metrics\\_classification.py:1344: UndefinedMetricWarning: Precision and F-score are ill-defined and being set to 0.0 in labels with no predicted samples. Use `zero_division` parameter to control this behavior.\n",
      "  _warn_prf(average, modifier, msg_start, len(result))\n",
      "c:\\Users\\EHmin\\anaconda3\\envs\\EHmin\\lib\\site-packages\\sklearn\\metrics\\_classification.py:1344: UndefinedMetricWarning: Precision and F-score are ill-defined and being set to 0.0 in labels with no predicted samples. Use `zero_division` parameter to control this behavior.\n",
      "  _warn_prf(average, modifier, msg_start, len(result))\n",
      "c:\\Users\\EHmin\\anaconda3\\envs\\EHmin\\lib\\site-packages\\sklearn\\metrics\\_classification.py:1344: UndefinedMetricWarning: Precision and F-score are ill-defined and being set to 0.0 in labels with no predicted samples. Use `zero_division` parameter to control this behavior.\n",
      "  _warn_prf(average, modifier, msg_start, len(result))\n"
     ]
    },
    {
     "name": "stdout",
     "output_type": "stream",
     "text": [
      "Epoch [1], Train Loss : [0.23199] Val Loss : [0.21896] Val accuracy score : [0.53846] Val recall score : [0.50000] Val f1 score : [0.37692]\n",
      "              precision    recall  f1-score   support\n",
      "\n",
      "           0       0.00      0.00      0.00       270\n",
      "           1       0.54      1.00      0.70       315\n",
      "\n",
      "    accuracy                           0.54       585\n",
      "   macro avg       0.27      0.50      0.35       585\n",
      "weighted avg       0.29      0.54      0.38       585\n",
      "\n"
     ]
    },
    {
     "name": "stderr",
     "output_type": "stream",
     "text": [
      "100%|██████████| 147/147 [02:08<00:00,  1.15it/s]\n",
      "100%|██████████| 37/37 [00:29<00:00,  1.26it/s]\n"
     ]
    },
    {
     "name": "stdout",
     "output_type": "stream",
     "text": [
      "Epoch [2], Train Loss : [0.18707] Val Loss : [0.18393] Val accuracy score : [0.72650] Val recall score : [0.70450] Val f1 score : [0.69880]\n",
      "              precision    recall  f1-score   support\n",
      "\n",
      "           0       0.97      0.42      0.59       270\n",
      "           1       0.67      0.99      0.80       315\n",
      "\n",
      "    accuracy                           0.73       585\n",
      "   macro avg       0.82      0.70      0.69       585\n",
      "weighted avg       0.81      0.73      0.70       585\n",
      "\n"
     ]
    },
    {
     "name": "stderr",
     "output_type": "stream",
     "text": [
      "100%|██████████| 147/147 [02:07<00:00,  1.15it/s]\n",
      "100%|██████████| 37/37 [00:29<00:00,  1.26it/s]\n",
      "c:\\Users\\EHmin\\anaconda3\\envs\\EHmin\\lib\\site-packages\\sklearn\\metrics\\_classification.py:1344: UndefinedMetricWarning: Precision is ill-defined and being set to 0.0 in labels with no predicted samples. Use `zero_division` parameter to control this behavior.\n",
      "  _warn_prf(average, modifier, msg_start, len(result))\n",
      "c:\\Users\\EHmin\\anaconda3\\envs\\EHmin\\lib\\site-packages\\sklearn\\metrics\\_classification.py:1344: UndefinedMetricWarning: Precision and F-score are ill-defined and being set to 0.0 in labels with no predicted samples. Use `zero_division` parameter to control this behavior.\n",
      "  _warn_prf(average, modifier, msg_start, len(result))\n",
      "c:\\Users\\EHmin\\anaconda3\\envs\\EHmin\\lib\\site-packages\\sklearn\\metrics\\_classification.py:1344: UndefinedMetricWarning: Precision and F-score are ill-defined and being set to 0.0 in labels with no predicted samples. Use `zero_division` parameter to control this behavior.\n",
      "  _warn_prf(average, modifier, msg_start, len(result))\n",
      "c:\\Users\\EHmin\\anaconda3\\envs\\EHmin\\lib\\site-packages\\sklearn\\metrics\\_classification.py:1344: UndefinedMetricWarning: Precision and F-score are ill-defined and being set to 0.0 in labels with no predicted samples. Use `zero_division` parameter to control this behavior.\n",
      "  _warn_prf(average, modifier, msg_start, len(result))\n"
     ]
    },
    {
     "name": "stdout",
     "output_type": "stream",
     "text": [
      "Epoch [3], Train Loss : [0.16864] Val Loss : [0.16666] Val accuracy score : [0.53846] Val recall score : [0.50000] Val f1 score : [0.37692]\n",
      "              precision    recall  f1-score   support\n",
      "\n",
      "           0       0.00      0.00      0.00       270\n",
      "           1       0.54      1.00      0.70       315\n",
      "\n",
      "    accuracy                           0.54       585\n",
      "   macro avg       0.27      0.50      0.35       585\n",
      "weighted avg       0.29      0.54      0.38       585\n",
      "\n"
     ]
    },
    {
     "name": "stderr",
     "output_type": "stream",
     "text": [
      "100%|██████████| 147/147 [02:06<00:00,  1.16it/s]\n",
      "100%|██████████| 37/37 [00:29<00:00,  1.26it/s]\n"
     ]
    },
    {
     "name": "stdout",
     "output_type": "stream",
     "text": [
      "Epoch [4], Train Loss : [0.13300] Val Loss : [0.15514] Val accuracy score : [0.73333] Val recall score : [0.71138] Val f1 score : [0.70633]\n",
      "              precision    recall  f1-score   support\n",
      "\n",
      "           0       0.99      0.43      0.60       270\n",
      "           1       0.67      1.00      0.80       315\n",
      "\n",
      "    accuracy                           0.73       585\n",
      "   macro avg       0.83      0.71      0.70       585\n",
      "weighted avg       0.82      0.73      0.71       585\n",
      "\n"
     ]
    },
    {
     "name": "stderr",
     "output_type": "stream",
     "text": [
      "100%|██████████| 147/147 [02:06<00:00,  1.16it/s]\n",
      "100%|██████████| 37/37 [00:29<00:00,  1.26it/s]\n"
     ]
    },
    {
     "name": "stdout",
     "output_type": "stream",
     "text": [
      "Epoch [5], Train Loss : [0.14503] Val Loss : [0.12875] Val accuracy score : [0.79829] Val recall score : [0.78148] Val f1 score : [0.78600]\n",
      "              precision    recall  f1-score   support\n",
      "\n",
      "           0       1.00      0.56      0.72       270\n",
      "           1       0.73      1.00      0.84       315\n",
      "\n",
      "    accuracy                           0.80       585\n",
      "   macro avg       0.86      0.78      0.78       585\n",
      "weighted avg       0.85      0.80      0.79       585\n",
      "\n"
     ]
    },
    {
     "name": "stderr",
     "output_type": "stream",
     "text": [
      "100%|██████████| 147/147 [02:07<00:00,  1.15it/s]\n",
      "100%|██████████| 37/37 [00:29<00:00,  1.27it/s]\n"
     ]
    },
    {
     "name": "stdout",
     "output_type": "stream",
     "text": [
      "Epoch [6], Train Loss : [0.10361] Val Loss : [0.06206] Val accuracy score : [0.96239] Val recall score : [0.95952] Val f1 score : [0.96225]\n",
      "              precision    recall  f1-score   support\n",
      "\n",
      "           0       1.00      0.92      0.96       270\n",
      "           1       0.94      1.00      0.97       315\n",
      "\n",
      "    accuracy                           0.96       585\n",
      "   macro avg       0.97      0.96      0.96       585\n",
      "weighted avg       0.96      0.96      0.96       585\n",
      "\n"
     ]
    },
    {
     "name": "stderr",
     "output_type": "stream",
     "text": [
      "100%|██████████| 147/147 [02:06<00:00,  1.16it/s]\n",
      "100%|██████████| 37/37 [00:29<00:00,  1.27it/s]\n"
     ]
    },
    {
     "name": "stdout",
     "output_type": "stream",
     "text": [
      "Epoch [7], Train Loss : [0.06326] Val Loss : [0.04474] Val accuracy score : [0.96410] Val recall score : [0.96111] Val f1 score : [0.96396]\n",
      "              precision    recall  f1-score   support\n",
      "\n",
      "           0       1.00      0.92      0.96       270\n",
      "           1       0.94      1.00      0.97       315\n",
      "\n",
      "    accuracy                           0.96       585\n",
      "   macro avg       0.97      0.96      0.96       585\n",
      "weighted avg       0.97      0.96      0.96       585\n",
      "\n"
     ]
    },
    {
     "name": "stderr",
     "output_type": "stream",
     "text": [
      "100%|██████████| 147/147 [02:07<00:00,  1.15it/s]\n",
      "100%|██████████| 37/37 [00:29<00:00,  1.26it/s]\n"
     ]
    },
    {
     "name": "stdout",
     "output_type": "stream",
     "text": [
      "Epoch [8], Train Loss : [0.02773] Val Loss : [0.09453] Val accuracy score : [0.98632] Val recall score : [0.98571] Val f1 score : [0.98632]\n",
      "              precision    recall  f1-score   support\n",
      "\n",
      "           0       0.99      0.98      0.99       270\n",
      "           1       0.98      0.99      0.99       315\n",
      "\n",
      "    accuracy                           0.99       585\n",
      "   macro avg       0.99      0.99      0.99       585\n",
      "weighted avg       0.99      0.99      0.99       585\n",
      "\n"
     ]
    },
    {
     "name": "stderr",
     "output_type": "stream",
     "text": [
      "100%|██████████| 147/147 [02:06<00:00,  1.16it/s]\n",
      "100%|██████████| 37/37 [00:29<00:00,  1.25it/s]\n"
     ]
    },
    {
     "name": "stdout",
     "output_type": "stream",
     "text": [
      "Epoch [9], Train Loss : [0.07216] Val Loss : [0.45018] Val accuracy score : [0.88718] Val recall score : [0.87989] Val f1 score : [0.88557]\n",
      "              precision    recall  f1-score   support\n",
      "\n",
      "           0       0.96      0.79      0.87       270\n",
      "           1       0.84      0.97      0.90       315\n",
      "\n",
      "    accuracy                           0.89       585\n",
      "   macro avg       0.90      0.88      0.88       585\n",
      "weighted avg       0.90      0.89      0.89       585\n",
      "\n"
     ]
    },
    {
     "name": "stderr",
     "output_type": "stream",
     "text": [
      "100%|██████████| 147/147 [02:07<00:00,  1.15it/s]\n",
      "100%|██████████| 37/37 [00:31<00:00,  1.17it/s]\n"
     ]
    },
    {
     "name": "stdout",
     "output_type": "stream",
     "text": [
      "Epoch [10], Train Loss : [0.15592] Val Loss : [0.06421] Val accuracy score : [0.97778] Val recall score : [0.97619] Val f1 score : [0.97774]\n",
      "              precision    recall  f1-score   support\n",
      "\n",
      "           0       1.00      0.96      0.98       270\n",
      "           1       0.96      1.00      0.98       315\n",
      "\n",
      "    accuracy                           0.98       585\n",
      "   macro avg       0.98      0.98      0.98       585\n",
      "weighted avg       0.98      0.98      0.98       585\n",
      "\n"
     ]
    },
    {
     "name": "stderr",
     "output_type": "stream",
     "text": [
      "100%|██████████| 147/147 [02:15<00:00,  1.09it/s]\n",
      "100%|██████████| 37/37 [00:30<00:00,  1.22it/s]\n"
     ]
    },
    {
     "name": "stdout",
     "output_type": "stream",
     "text": [
      "Epoch [11], Train Loss : [0.06842] Val Loss : [0.05497] Val accuracy score : [0.95385] Val recall score : [0.95000] Val f1 score : [0.95358]\n",
      "              precision    recall  f1-score   support\n",
      "\n",
      "           0       1.00      0.90      0.95       270\n",
      "           1       0.92      1.00      0.96       315\n",
      "\n",
      "    accuracy                           0.95       585\n",
      "   macro avg       0.96      0.95      0.95       585\n",
      "weighted avg       0.96      0.95      0.95       585\n",
      "\n",
      "Epoch 00012: reducing learning rate of group 0 to 1.5000e-04.\n"
     ]
    },
    {
     "name": "stderr",
     "output_type": "stream",
     "text": [
      "100%|██████████| 147/147 [02:16<00:00,  1.08it/s]\n",
      "100%|██████████| 37/37 [00:31<00:00,  1.16it/s]\n"
     ]
    },
    {
     "name": "stdout",
     "output_type": "stream",
     "text": [
      "Epoch [12], Train Loss : [0.04109] Val Loss : [0.13108] Val accuracy score : [0.98632] Val recall score : [0.98571] Val f1 score : [0.98632]\n",
      "              precision    recall  f1-score   support\n",
      "\n",
      "           0       0.99      0.98      0.99       270\n",
      "           1       0.98      0.99      0.99       315\n",
      "\n",
      "    accuracy                           0.99       585\n",
      "   macro avg       0.99      0.99      0.99       585\n",
      "weighted avg       0.99      0.99      0.99       585\n",
      "\n"
     ]
    },
    {
     "name": "stderr",
     "output_type": "stream",
     "text": [
      "100%|██████████| 147/147 [02:12<00:00,  1.11it/s]\n",
      "100%|██████████| 37/37 [00:30<00:00,  1.20it/s]\n"
     ]
    },
    {
     "name": "stdout",
     "output_type": "stream",
     "text": [
      "Epoch [13], Train Loss : [0.02226] Val Loss : [0.08668] Val accuracy score : [0.97949] Val recall score : [0.97831] Val f1 score : [0.97946]\n",
      "              precision    recall  f1-score   support\n",
      "\n",
      "           0       0.99      0.96      0.98       270\n",
      "           1       0.97      0.99      0.98       315\n",
      "\n",
      "    accuracy                           0.98       585\n",
      "   macro avg       0.98      0.98      0.98       585\n",
      "weighted avg       0.98      0.98      0.98       585\n",
      "\n"
     ]
    },
    {
     "name": "stderr",
     "output_type": "stream",
     "text": [
      "100%|██████████| 147/147 [02:19<00:00,  1.06it/s]\n",
      "100%|██████████| 37/37 [00:32<00:00,  1.13it/s]\n"
     ]
    },
    {
     "name": "stdout",
     "output_type": "stream",
     "text": [
      "Epoch [14], Train Loss : [0.01814] Val Loss : [0.06098] Val accuracy score : [0.92308] Val recall score : [0.91667] Val f1 score : [0.92214]\n",
      "              precision    recall  f1-score   support\n",
      "\n",
      "           0       1.00      0.83      0.91       270\n",
      "           1       0.88      1.00      0.93       315\n",
      "\n",
      "    accuracy                           0.92       585\n",
      "   macro avg       0.94      0.92      0.92       585\n",
      "weighted avg       0.93      0.92      0.92       585\n",
      "\n",
      "Epoch 00015: reducing learning rate of group 0 to 7.5000e-05.\n"
     ]
    },
    {
     "name": "stderr",
     "output_type": "stream",
     "text": [
      "100%|██████████| 147/147 [02:19<00:00,  1.05it/s]\n",
      "100%|██████████| 37/37 [00:31<00:00,  1.17it/s]\n"
     ]
    },
    {
     "name": "stdout",
     "output_type": "stream",
     "text": [
      "Epoch [15], Train Loss : [0.03280] Val Loss : [0.04569] Val accuracy score : [0.97436] Val recall score : [0.97249] Val f1 score : [0.97430]\n",
      "              precision    recall  f1-score   support\n",
      "\n",
      "           0       1.00      0.95      0.97       270\n",
      "           1       0.96      1.00      0.98       315\n",
      "\n",
      "    accuracy                           0.97       585\n",
      "   macro avg       0.98      0.97      0.97       585\n",
      "weighted avg       0.98      0.97      0.97       585\n",
      "\n"
     ]
    },
    {
     "name": "stderr",
     "output_type": "stream",
     "text": [
      "100%|██████████| 147/147 [02:13<00:00,  1.10it/s]\n",
      "100%|██████████| 37/37 [00:31<00:00,  1.17it/s]\n"
     ]
    },
    {
     "name": "stdout",
     "output_type": "stream",
     "text": [
      "Epoch [16], Train Loss : [0.01234] Val Loss : [0.06795] Val accuracy score : [0.98462] Val recall score : [0.98360] Val f1 score : [0.98460]\n",
      "              precision    recall  f1-score   support\n",
      "\n",
      "           0       1.00      0.97      0.98       270\n",
      "           1       0.98      1.00      0.99       315\n",
      "\n",
      "    accuracy                           0.98       585\n",
      "   macro avg       0.99      0.98      0.98       585\n",
      "weighted avg       0.98      0.98      0.98       585\n",
      "\n"
     ]
    },
    {
     "name": "stderr",
     "output_type": "stream",
     "text": [
      "100%|██████████| 147/147 [02:16<00:00,  1.08it/s]\n",
      "100%|██████████| 37/37 [00:31<00:00,  1.18it/s]\n"
     ]
    },
    {
     "name": "stdout",
     "output_type": "stream",
     "text": [
      "Epoch [17], Train Loss : [0.00988] Val Loss : [0.17810] Val accuracy score : [0.98974] Val recall score : [0.98942] Val f1 score : [0.98974]\n",
      "              precision    recall  f1-score   support\n",
      "\n",
      "           0       0.99      0.99      0.99       270\n",
      "           1       0.99      0.99      0.99       315\n",
      "\n",
      "    accuracy                           0.99       585\n",
      "   macro avg       0.99      0.99      0.99       585\n",
      "weighted avg       0.99      0.99      0.99       585\n",
      "\n"
     ]
    },
    {
     "name": "stderr",
     "output_type": "stream",
     "text": [
      "100%|██████████| 147/147 [02:13<00:00,  1.10it/s]\n",
      "100%|██████████| 37/37 [00:30<00:00,  1.21it/s]\n"
     ]
    },
    {
     "name": "stdout",
     "output_type": "stream",
     "text": [
      "Epoch [18], Train Loss : [0.00448] Val Loss : [0.10274] Val accuracy score : [0.98974] Val recall score : [0.98915] Val f1 score : [0.98974]\n",
      "              precision    recall  f1-score   support\n",
      "\n",
      "           0       1.00      0.98      0.99       270\n",
      "           1       0.98      1.00      0.99       315\n",
      "\n",
      "    accuracy                           0.99       585\n",
      "   macro avg       0.99      0.99      0.99       585\n",
      "weighted avg       0.99      0.99      0.99       585\n",
      "\n"
     ]
    },
    {
     "name": "stderr",
     "output_type": "stream",
     "text": [
      "100%|██████████| 147/147 [02:11<00:00,  1.12it/s]\n",
      "100%|██████████| 37/37 [00:30<00:00,  1.22it/s]"
     ]
    },
    {
     "name": "stdout",
     "output_type": "stream",
     "text": [
      "Epoch [19], Train Loss : [0.00270] Val Loss : [0.13165] Val accuracy score : [0.98632] Val recall score : [0.98545] Val f1 score : [0.98631]\n",
      "              precision    recall  f1-score   support\n",
      "\n",
      "           0       1.00      0.97      0.99       270\n",
      "           1       0.98      1.00      0.99       315\n",
      "\n",
      "    accuracy                           0.99       585\n",
      "   macro avg       0.99      0.99      0.99       585\n",
      "weighted avg       0.99      0.99      0.99       585\n",
      "\n"
     ]
    },
    {
     "name": "stderr",
     "output_type": "stream",
     "text": [
      "\n"
     ]
    }
   ],
   "source": [
    "optimizer = torch.optim.Adam(params = model.parameters(), lr = CFG[\"LEARNING_RATE\"])\n",
    "scheduler = torch.optim.lr_scheduler.ReduceLROnPlateau(optimizer, mode='max', factor=0.5, patience=2, threshold_mode='abs', min_lr=1e-8, verbose=True)\n",
    "\n",
    "infer_model = train(model, optimizer, train_loader, val_loader, scheduler, device)"
   ]
  },
  {
   "cell_type": "code",
   "execution_count": 36,
   "metadata": {},
   "outputs": [
    {
     "name": "stdout",
     "output_type": "stream",
     "text": [
      "['../Data/test_image\\\\TEST_0000.png', '../Data/test_image\\\\TEST_0001.png', '../Data/test_image\\\\TEST_0002.png', '../Data/test_image\\\\TEST_0003.png', '../Data/test_image\\\\TEST_0004.png', '../Data/test_image\\\\TEST_0005.png', '../Data/test_image\\\\TEST_0006.png', '../Data/test_image\\\\TEST_0007.png', '../Data/test_image\\\\TEST_0008.png', '../Data/test_image\\\\TEST_0009.png', '../Data/test_image\\\\TEST_0010.png', '../Data/test_image\\\\TEST_0011.png', '../Data/test_image\\\\TEST_0012.png', '../Data/test_image\\\\TEST_0013.png', '../Data/test_image\\\\TEST_0014.png', '../Data/test_image\\\\TEST_0015.png', '../Data/test_image\\\\TEST_0016.png', '../Data/test_image\\\\TEST_0017.png', '../Data/test_image\\\\TEST_0018.png', '../Data/test_image\\\\TEST_0019.png', '../Data/test_image\\\\TEST_0020.png', '../Data/test_image\\\\TEST_0021.png', '../Data/test_image\\\\TEST_0022.png', '../Data/test_image\\\\TEST_0023.png', '../Data/test_image\\\\TEST_0024.png', '../Data/test_image\\\\TEST_0025.png', '../Data/test_image\\\\TEST_0026.png', '../Data/test_image\\\\TEST_0027.png', '../Data/test_image\\\\TEST_0028.png', '../Data/test_image\\\\TEST_0029.png', '../Data/test_image\\\\TEST_0030.png', '../Data/test_image\\\\TEST_0031.png', '../Data/test_image\\\\TEST_0032.png', '../Data/test_image\\\\TEST_0033.png', '../Data/test_image\\\\TEST_0034.png', '../Data/test_image\\\\TEST_0035.png', '../Data/test_image\\\\TEST_0036.png', '../Data/test_image\\\\TEST_0037.png', '../Data/test_image\\\\TEST_0038.png', '../Data/test_image\\\\TEST_0039.png', '../Data/test_image\\\\TEST_0040.png', '../Data/test_image\\\\TEST_0041.png', '../Data/test_image\\\\TEST_0042.png', '../Data/test_image\\\\TEST_0043.png', '../Data/test_image\\\\TEST_0044.png', '../Data/test_image\\\\TEST_0045.png', '../Data/test_image\\\\TEST_0046.png', '../Data/test_image\\\\TEST_0047.png', '../Data/test_image\\\\TEST_0048.png', '../Data/test_image\\\\TEST_0049.png', '../Data/test_image\\\\TEST_0050.png', '../Data/test_image\\\\TEST_0051.png', '../Data/test_image\\\\TEST_0052.png', '../Data/test_image\\\\TEST_0053.png', '../Data/test_image\\\\TEST_0054.png', '../Data/test_image\\\\TEST_0055.png', '../Data/test_image\\\\TEST_0056.png', '../Data/test_image\\\\TEST_0057.png', '../Data/test_image\\\\TEST_0058.png', '../Data/test_image\\\\TEST_0059.png', '../Data/test_image\\\\TEST_0060.png', '../Data/test_image\\\\TEST_0061.png', '../Data/test_image\\\\TEST_0062.png', '../Data/test_image\\\\TEST_0063.png', '../Data/test_image\\\\TEST_0064.png', '../Data/test_image\\\\TEST_0065.png', '../Data/test_image\\\\TEST_0066.png', '../Data/test_image\\\\TEST_0067.png', '../Data/test_image\\\\TEST_0068.png', '../Data/test_image\\\\TEST_0069.png', '../Data/test_image\\\\TEST_0070.png', '../Data/test_image\\\\TEST_0071.png', '../Data/test_image\\\\TEST_0072.png', '../Data/test_image\\\\TEST_0073.png', '../Data/test_image\\\\TEST_0074.png', '../Data/test_image\\\\TEST_0075.png', '../Data/test_image\\\\TEST_0076.png', '../Data/test_image\\\\TEST_0077.png', '../Data/test_image\\\\TEST_0078.png', '../Data/test_image\\\\TEST_0079.png', '../Data/test_image\\\\TEST_0080.png', '../Data/test_image\\\\TEST_0081.png', '../Data/test_image\\\\TEST_0082.png', '../Data/test_image\\\\TEST_0083.png', '../Data/test_image\\\\TEST_0084.png', '../Data/test_image\\\\TEST_0085.png', '../Data/test_image\\\\TEST_0086.png', '../Data/test_image\\\\TEST_0087.png', '../Data/test_image\\\\TEST_0088.png', '../Data/test_image\\\\TEST_0089.png', '../Data/test_image\\\\TEST_0090.png', '../Data/test_image\\\\TEST_0091.png', '../Data/test_image\\\\TEST_0092.png', '../Data/test_image\\\\TEST_0093.png', '../Data/test_image\\\\TEST_0094.png', '../Data/test_image\\\\TEST_0095.png', '../Data/test_image\\\\TEST_0096.png', '../Data/test_image\\\\TEST_0097.png', '../Data/test_image\\\\TEST_0098.png', '../Data/test_image\\\\TEST_0099.png', '../Data/test_image\\\\TEST_0100.png', '../Data/test_image\\\\TEST_0101.png', '../Data/test_image\\\\TEST_0102.png', '../Data/test_image\\\\TEST_0103.png', '../Data/test_image\\\\TEST_0104.png', '../Data/test_image\\\\TEST_0105.png', '../Data/test_image\\\\TEST_0106.png', '../Data/test_image\\\\TEST_0107.png', '../Data/test_image\\\\TEST_0108.png', '../Data/test_image\\\\TEST_0109.png', '../Data/test_image\\\\TEST_0110.png', '../Data/test_image\\\\TEST_0111.png', '../Data/test_image\\\\TEST_0112.png', '../Data/test_image\\\\TEST_0113.png', '../Data/test_image\\\\TEST_0114.png', '../Data/test_image\\\\TEST_0115.png', '../Data/test_image\\\\TEST_0116.png', '../Data/test_image\\\\TEST_0117.png', '../Data/test_image\\\\TEST_0118.png', '../Data/test_image\\\\TEST_0119.png', '../Data/test_image\\\\TEST_0120.png', '../Data/test_image\\\\TEST_0121.png', '../Data/test_image\\\\TEST_0122.png', '../Data/test_image\\\\TEST_0123.png', '../Data/test_image\\\\TEST_0124.png', '../Data/test_image\\\\TEST_0125.png', '../Data/test_image\\\\TEST_0126.png', '../Data/test_image\\\\TEST_0127.png', '../Data/test_image\\\\TEST_0128.png', '../Data/test_image\\\\TEST_0129.png', '../Data/test_image\\\\TEST_0130.png', '../Data/test_image\\\\TEST_0131.png', '../Data/test_image\\\\TEST_0132.png', '../Data/test_image\\\\TEST_0133.png', '../Data/test_image\\\\TEST_0134.png', '../Data/test_image\\\\TEST_0135.png', '../Data/test_image\\\\TEST_0136.png', '../Data/test_image\\\\TEST_0137.png', '../Data/test_image\\\\TEST_0138.png', '../Data/test_image\\\\TEST_0139.png', '../Data/test_image\\\\TEST_0140.png', '../Data/test_image\\\\TEST_0141.png', '../Data/test_image\\\\TEST_0142.png', '../Data/test_image\\\\TEST_0143.png', '../Data/test_image\\\\TEST_0144.png', '../Data/test_image\\\\TEST_0145.png', '../Data/test_image\\\\TEST_0146.png', '../Data/test_image\\\\TEST_0147.png', '../Data/test_image\\\\TEST_0148.png', '../Data/test_image\\\\TEST_0149.png', '../Data/test_image\\\\TEST_0150.png', '../Data/test_image\\\\TEST_0151.png', '../Data/test_image\\\\TEST_0152.png', '../Data/test_image\\\\TEST_0153.png', '../Data/test_image\\\\TEST_0154.png', '../Data/test_image\\\\TEST_0155.png', '../Data/test_image\\\\TEST_0156.png', '../Data/test_image\\\\TEST_0157.png', '../Data/test_image\\\\TEST_0158.png', '../Data/test_image\\\\TEST_0159.png', '../Data/test_image\\\\TEST_0160.png', '../Data/test_image\\\\TEST_0161.png', '../Data/test_image\\\\TEST_0162.png', '../Data/test_image\\\\TEST_0163.png', '../Data/test_image\\\\TEST_0164.png', '../Data/test_image\\\\TEST_0165.png', '../Data/test_image\\\\TEST_0166.png', '../Data/test_image\\\\TEST_0167.png', '../Data/test_image\\\\TEST_0168.png', '../Data/test_image\\\\TEST_0169.png', '../Data/test_image\\\\TEST_0170.png', '../Data/test_image\\\\TEST_0171.png', '../Data/test_image\\\\TEST_0172.png', '../Data/test_image\\\\TEST_0173.png', '../Data/test_image\\\\TEST_0174.png', '../Data/test_image\\\\TEST_0175.png', '../Data/test_image\\\\TEST_0176.png', '../Data/test_image\\\\TEST_0177.png', '../Data/test_image\\\\TEST_0178.png', '../Data/test_image\\\\TEST_0179.png', '../Data/test_image\\\\TEST_0180.png', '../Data/test_image\\\\TEST_0181.png', '../Data/test_image\\\\TEST_0182.png', '../Data/test_image\\\\TEST_0183.png', '../Data/test_image\\\\TEST_0184.png', '../Data/test_image\\\\TEST_0185.png', '../Data/test_image\\\\TEST_0186.png', '../Data/test_image\\\\TEST_0187.png', '../Data/test_image\\\\TEST_0188.png', '../Data/test_image\\\\TEST_0189.png', '../Data/test_image\\\\TEST_0190.png', '../Data/test_image\\\\TEST_0191.png', '../Data/test_image\\\\TEST_0192.png', '../Data/test_image\\\\TEST_0193.png', '../Data/test_image\\\\TEST_0194.png', '../Data/test_image\\\\TEST_0195.png', '../Data/test_image\\\\TEST_0196.png', '../Data/test_image\\\\TEST_0197.png', '../Data/test_image\\\\TEST_0198.png', '../Data/test_image\\\\TEST_0199.png', '../Data/test_image\\\\TEST_0200.png', '../Data/test_image\\\\TEST_0201.png', '../Data/test_image\\\\TEST_0202.png', '../Data/test_image\\\\TEST_0203.png', '../Data/test_image\\\\TEST_0204.png', '../Data/test_image\\\\TEST_0205.png', '../Data/test_image\\\\TEST_0206.png', '../Data/test_image\\\\TEST_0207.png', '../Data/test_image\\\\TEST_0208.png', '../Data/test_image\\\\TEST_0209.png', '../Data/test_image\\\\TEST_0210.png', '../Data/test_image\\\\TEST_0211.png', '../Data/test_image\\\\TEST_0212.png', '../Data/test_image\\\\TEST_0213.png', '../Data/test_image\\\\TEST_0214.png', '../Data/test_image\\\\TEST_0215.png', '../Data/test_image\\\\TEST_0216.png', '../Data/test_image\\\\TEST_0217.png', '../Data/test_image\\\\TEST_0218.png', '../Data/test_image\\\\TEST_0219.png', '../Data/test_image\\\\TEST_0220.png', '../Data/test_image\\\\TEST_0221.png', '../Data/test_image\\\\TEST_0222.png', '../Data/test_image\\\\TEST_0223.png', '../Data/test_image\\\\TEST_0224.png', '../Data/test_image\\\\TEST_0225.png', '../Data/test_image\\\\TEST_0226.png', '../Data/test_image\\\\TEST_0227.png', '../Data/test_image\\\\TEST_0228.png', '../Data/test_image\\\\TEST_0229.png', '../Data/test_image\\\\TEST_0230.png', '../Data/test_image\\\\TEST_0231.png', '../Data/test_image\\\\TEST_0232.png', '../Data/test_image\\\\TEST_0233.png', '../Data/test_image\\\\TEST_0234.png', '../Data/test_image\\\\TEST_0235.png', '../Data/test_image\\\\TEST_0236.png', '../Data/test_image\\\\TEST_0237.png', '../Data/test_image\\\\TEST_0238.png', '../Data/test_image\\\\TEST_0239.png', '../Data/test_image\\\\TEST_0240.png', '../Data/test_image\\\\TEST_0241.png', '../Data/test_image\\\\TEST_0242.png', '../Data/test_image\\\\TEST_0243.png', '../Data/test_image\\\\TEST_0244.png', '../Data/test_image\\\\TEST_0245.png', '../Data/test_image\\\\TEST_0246.png', '../Data/test_image\\\\TEST_0247.png', '../Data/test_image\\\\TEST_0248.png', '../Data/test_image\\\\TEST_0249.png', '../Data/test_image\\\\TEST_0250.png', '../Data/test_image\\\\TEST_0251.png', '../Data/test_image\\\\TEST_0252.png', '../Data/test_image\\\\TEST_0253.png', '../Data/test_image\\\\TEST_0254.png', '../Data/test_image\\\\TEST_0255.png', '../Data/test_image\\\\TEST_0256.png', '../Data/test_image\\\\TEST_0257.png', '../Data/test_image\\\\TEST_0258.png', '../Data/test_image\\\\TEST_0259.png', '../Data/test_image\\\\TEST_0260.png', '../Data/test_image\\\\TEST_0261.png', '../Data/test_image\\\\TEST_0262.png', '../Data/test_image\\\\TEST_0263.png', '../Data/test_image\\\\TEST_0264.png', '../Data/test_image\\\\TEST_0265.png', '../Data/test_image\\\\TEST_0266.png', '../Data/test_image\\\\TEST_0267.png', '../Data/test_image\\\\TEST_0268.png', '../Data/test_image\\\\TEST_0269.png', '../Data/test_image\\\\TEST_0270.png', '../Data/test_image\\\\TEST_0271.png', '../Data/test_image\\\\TEST_0272.png', '../Data/test_image\\\\TEST_0273.png', '../Data/test_image\\\\TEST_0274.png', '../Data/test_image\\\\TEST_0275.png', '../Data/test_image\\\\TEST_0276.png', '../Data/test_image\\\\TEST_0277.png', '../Data/test_image\\\\TEST_0278.png', '../Data/test_image\\\\TEST_0279.png', '../Data/test_image\\\\TEST_0280.png', '../Data/test_image\\\\TEST_0281.png', '../Data/test_image\\\\TEST_0282.png', '../Data/test_image\\\\TEST_0283.png', '../Data/test_image\\\\TEST_0284.png', '../Data/test_image\\\\TEST_0285.png', '../Data/test_image\\\\TEST_0286.png', '../Data/test_image\\\\TEST_0287.png', '../Data/test_image\\\\TEST_0288.png', '../Data/test_image\\\\TEST_0289.png', '../Data/test_image\\\\TEST_0290.png', '../Data/test_image\\\\TEST_0291.png', '../Data/test_image\\\\TEST_0292.png', '../Data/test_image\\\\TEST_0293.png', '../Data/test_image\\\\TEST_0294.png', '../Data/test_image\\\\TEST_0295.png', '../Data/test_image\\\\TEST_0296.png', '../Data/test_image\\\\TEST_0297.png', '../Data/test_image\\\\TEST_0298.png', '../Data/test_image\\\\TEST_0299.png', '../Data/test_image\\\\TEST_0300.png', '../Data/test_image\\\\TEST_0301.png', '../Data/test_image\\\\TEST_0302.png', '../Data/test_image\\\\TEST_0303.png', '../Data/test_image\\\\TEST_0304.png', '../Data/test_image\\\\TEST_0305.png', '../Data/test_image\\\\TEST_0306.png', '../Data/test_image\\\\TEST_0307.png', '../Data/test_image\\\\TEST_0308.png', '../Data/test_image\\\\TEST_0309.png', '../Data/test_image\\\\TEST_0310.png', '../Data/test_image\\\\TEST_0311.png', '../Data/test_image\\\\TEST_0312.png', '../Data/test_image\\\\TEST_0313.png', '../Data/test_image\\\\TEST_0314.png', '../Data/test_image\\\\TEST_0315.png', '../Data/test_image\\\\TEST_0316.png', '../Data/test_image\\\\TEST_0317.png', '../Data/test_image\\\\TEST_0318.png', '../Data/test_image\\\\TEST_0319.png', '../Data/test_image\\\\TEST_0320.png', '../Data/test_image\\\\TEST_0321.png', '../Data/test_image\\\\TEST_0322.png', '../Data/test_image\\\\TEST_0323.png', '../Data/test_image\\\\TEST_0324.png', '../Data/test_image\\\\TEST_0325.png', '../Data/test_image\\\\TEST_0326.png', '../Data/test_image\\\\TEST_0327.png', '../Data/test_image\\\\TEST_0328.png', '../Data/test_image\\\\TEST_0329.png', '../Data/test_image\\\\TEST_0330.png', '../Data/test_image\\\\TEST_0331.png', '../Data/test_image\\\\TEST_0332.png', '../Data/test_image\\\\TEST_0333.png', '../Data/test_image\\\\TEST_0334.png', '../Data/test_image\\\\TEST_0335.png', '../Data/test_image\\\\TEST_0336.png', '../Data/test_image\\\\TEST_0337.png', '../Data/test_image\\\\TEST_0338.png', '../Data/test_image\\\\TEST_0339.png', '../Data/test_image\\\\TEST_0340.png', '../Data/test_image\\\\TEST_0341.png', '../Data/test_image\\\\TEST_0342.png', '../Data/test_image\\\\TEST_0343.png', '../Data/test_image\\\\TEST_0344.png', '../Data/test_image\\\\TEST_0345.png', '../Data/test_image\\\\TEST_0346.png', '../Data/test_image\\\\TEST_0347.png', '../Data/test_image\\\\TEST_0348.png', '../Data/test_image\\\\TEST_0349.png', '../Data/test_image\\\\TEST_0350.png', '../Data/test_image\\\\TEST_0351.png', '../Data/test_image\\\\TEST_0352.png', '../Data/test_image\\\\TEST_0353.png', '../Data/test_image\\\\TEST_0354.png', '../Data/test_image\\\\TEST_0355.png', '../Data/test_image\\\\TEST_0356.png', '../Data/test_image\\\\TEST_0357.png', '../Data/test_image\\\\TEST_0358.png', '../Data/test_image\\\\TEST_0359.png', '../Data/test_image\\\\TEST_0360.png', '../Data/test_image\\\\TEST_0361.png', '../Data/test_image\\\\TEST_0362.png', '../Data/test_image\\\\TEST_0363.png', '../Data/test_image\\\\TEST_0364.png', '../Data/test_image\\\\TEST_0365.png', '../Data/test_image\\\\TEST_0366.png', '../Data/test_image\\\\TEST_0367.png', '../Data/test_image\\\\TEST_0368.png', '../Data/test_image\\\\TEST_0369.png', '../Data/test_image\\\\TEST_0370.png', '../Data/test_image\\\\TEST_0371.png', '../Data/test_image\\\\TEST_0372.png', '../Data/test_image\\\\TEST_0373.png', '../Data/test_image\\\\TEST_0374.png', '../Data/test_image\\\\TEST_0375.png', '../Data/test_image\\\\TEST_0376.png', '../Data/test_image\\\\TEST_0377.png', '../Data/test_image\\\\TEST_0378.png', '../Data/test_image\\\\TEST_0379.png', '../Data/test_image\\\\TEST_0380.png', '../Data/test_image\\\\TEST_0381.png', '../Data/test_image\\\\TEST_0382.png', '../Data/test_image\\\\TEST_0383.png', '../Data/test_image\\\\TEST_0384.png', '../Data/test_image\\\\TEST_0385.png', '../Data/test_image\\\\TEST_0386.png', '../Data/test_image\\\\TEST_0387.png', '../Data/test_image\\\\TEST_0388.png', '../Data/test_image\\\\TEST_0389.png', '../Data/test_image\\\\TEST_0390.png', '../Data/test_image\\\\TEST_0391.png', '../Data/test_image\\\\TEST_0392.png', '../Data/test_image\\\\TEST_0393.png', '../Data/test_image\\\\TEST_0394.png', '../Data/test_image\\\\TEST_0395.png', '../Data/test_image\\\\TEST_0396.png', '../Data/test_image\\\\TEST_0397.png', '../Data/test_image\\\\TEST_0398.png', '../Data/test_image\\\\TEST_0399.png', '../Data/test_image\\\\TEST_0400.png', '../Data/test_image\\\\TEST_0401.png', '../Data/test_image\\\\TEST_0402.png', '../Data/test_image\\\\TEST_0403.png', '../Data/test_image\\\\TEST_0404.png', '../Data/test_image\\\\TEST_0405.png', '../Data/test_image\\\\TEST_0406.png', '../Data/test_image\\\\TEST_0407.png', '../Data/test_image\\\\TEST_0408.png', '../Data/test_image\\\\TEST_0409.png', '../Data/test_image\\\\TEST_0410.png', '../Data/test_image\\\\TEST_0411.png', '../Data/test_image\\\\TEST_0412.png', '../Data/test_image\\\\TEST_0413.png', '../Data/test_image\\\\TEST_0414.png', '../Data/test_image\\\\TEST_0415.png', '../Data/test_image\\\\TEST_0416.png', '../Data/test_image\\\\TEST_0417.png', '../Data/test_image\\\\TEST_0418.png', '../Data/test_image\\\\TEST_0419.png', '../Data/test_image\\\\TEST_0420.png', '../Data/test_image\\\\TEST_0421.png', '../Data/test_image\\\\TEST_0422.png', '../Data/test_image\\\\TEST_0423.png', '../Data/test_image\\\\TEST_0424.png', '../Data/test_image\\\\TEST_0425.png', '../Data/test_image\\\\TEST_0426.png', '../Data/test_image\\\\TEST_0427.png', '../Data/test_image\\\\TEST_0428.png', '../Data/test_image\\\\TEST_0429.png', '../Data/test_image\\\\TEST_0430.png', '../Data/test_image\\\\TEST_0431.png', '../Data/test_image\\\\TEST_0432.png', '../Data/test_image\\\\TEST_0433.png', '../Data/test_image\\\\TEST_0434.png', '../Data/test_image\\\\TEST_0435.png', '../Data/test_image\\\\TEST_0436.png', '../Data/test_image\\\\TEST_0437.png', '../Data/test_image\\\\TEST_0438.png', '../Data/test_image\\\\TEST_0439.png', '../Data/test_image\\\\TEST_0440.png', '../Data/test_image\\\\TEST_0441.png', '../Data/test_image\\\\TEST_0442.png', '../Data/test_image\\\\TEST_0443.png', '../Data/test_image\\\\TEST_0444.png', '../Data/test_image\\\\TEST_0445.png', '../Data/test_image\\\\TEST_0446.png', '../Data/test_image\\\\TEST_0447.png', '../Data/test_image\\\\TEST_0448.png', '../Data/test_image\\\\TEST_0449.png', '../Data/test_image\\\\TEST_0450.png', '../Data/test_image\\\\TEST_0451.png', '../Data/test_image\\\\TEST_0452.png', '../Data/test_image\\\\TEST_0453.png', '../Data/test_image\\\\TEST_0454.png', '../Data/test_image\\\\TEST_0455.png', '../Data/test_image\\\\TEST_0456.png', '../Data/test_image\\\\TEST_0457.png', '../Data/test_image\\\\TEST_0458.png', '../Data/test_image\\\\TEST_0459.png', '../Data/test_image\\\\TEST_0460.png', '../Data/test_image\\\\TEST_0461.png', '../Data/test_image\\\\TEST_0462.png', '../Data/test_image\\\\TEST_0463.png', '../Data/test_image\\\\TEST_0464.png', '../Data/test_image\\\\TEST_0465.png', '../Data/test_image\\\\TEST_0466.png', '../Data/test_image\\\\TEST_0467.png', '../Data/test_image\\\\TEST_0468.png', '../Data/test_image\\\\TEST_0469.png', '../Data/test_image\\\\TEST_0470.png', '../Data/test_image\\\\TEST_0471.png', '../Data/test_image\\\\TEST_0472.png', '../Data/test_image\\\\TEST_0473.png', '../Data/test_image\\\\TEST_0474.png', '../Data/test_image\\\\TEST_0475.png', '../Data/test_image\\\\TEST_0476.png', '../Data/test_image\\\\TEST_0477.png', '../Data/test_image\\\\TEST_0478.png', '../Data/test_image\\\\TEST_0479.png', '../Data/test_image\\\\TEST_0480.png', '../Data/test_image\\\\TEST_0481.png', '../Data/test_image\\\\TEST_0482.png', '../Data/test_image\\\\TEST_0483.png', '../Data/test_image\\\\TEST_0484.png', '../Data/test_image\\\\TEST_0485.png', '../Data/test_image\\\\TEST_0486.png', '../Data/test_image\\\\TEST_0487.png', '../Data/test_image\\\\TEST_0488.png', '../Data/test_image\\\\TEST_0489.png', '../Data/test_image\\\\TEST_0490.png', '../Data/test_image\\\\TEST_0491.png', '../Data/test_image\\\\TEST_0492.png', '../Data/test_image\\\\TEST_0493.png', '../Data/test_image\\\\TEST_0494.png', '../Data/test_image\\\\TEST_0495.png', '../Data/test_image\\\\TEST_0496.png', '../Data/test_image\\\\TEST_0497.png', '../Data/test_image\\\\TEST_0498.png', '../Data/test_image\\\\TEST_0499.png', '../Data/test_image\\\\TEST_0500.png', '../Data/test_image\\\\TEST_0501.png', '../Data/test_image\\\\TEST_0502.png', '../Data/test_image\\\\TEST_0503.png', '../Data/test_image\\\\TEST_0504.png', '../Data/test_image\\\\TEST_0505.png', '../Data/test_image\\\\TEST_0506.png', '../Data/test_image\\\\TEST_0507.png', '../Data/test_image\\\\TEST_0508.png', '../Data/test_image\\\\TEST_0509.png', '../Data/test_image\\\\TEST_0510.png', '../Data/test_image\\\\TEST_0511.png', '../Data/test_image\\\\TEST_0512.png', '../Data/test_image\\\\TEST_0513.png', '../Data/test_image\\\\TEST_0514.png', '../Data/test_image\\\\TEST_0515.png', '../Data/test_image\\\\TEST_0516.png', '../Data/test_image\\\\TEST_0517.png', '../Data/test_image\\\\TEST_0518.png', '../Data/test_image\\\\TEST_0519.png', '../Data/test_image\\\\TEST_0520.png', '../Data/test_image\\\\TEST_0521.png', '../Data/test_image\\\\TEST_0522.png', '../Data/test_image\\\\TEST_0523.png', '../Data/test_image\\\\TEST_0524.png', '../Data/test_image\\\\TEST_0525.png', '../Data/test_image\\\\TEST_0526.png', '../Data/test_image\\\\TEST_0527.png', '../Data/test_image\\\\TEST_0528.png', '../Data/test_image\\\\TEST_0529.png', '../Data/test_image\\\\TEST_0530.png', '../Data/test_image\\\\TEST_0531.png', '../Data/test_image\\\\TEST_0532.png', '../Data/test_image\\\\TEST_0533.png', '../Data/test_image\\\\TEST_0534.png', '../Data/test_image\\\\TEST_0535.png', '../Data/test_image\\\\TEST_0536.png', '../Data/test_image\\\\TEST_0537.png', '../Data/test_image\\\\TEST_0538.png', '../Data/test_image\\\\TEST_0539.png', '../Data/test_image\\\\TEST_0540.png', '../Data/test_image\\\\TEST_0541.png', '../Data/test_image\\\\TEST_0542.png', '../Data/test_image\\\\TEST_0543.png', '../Data/test_image\\\\TEST_0544.png', '../Data/test_image\\\\TEST_0545.png', '../Data/test_image\\\\TEST_0546.png', '../Data/test_image\\\\TEST_0547.png', '../Data/test_image\\\\TEST_0548.png', '../Data/test_image\\\\TEST_0549.png', '../Data/test_image\\\\TEST_0550.png', '../Data/test_image\\\\TEST_0551.png', '../Data/test_image\\\\TEST_0552.png', '../Data/test_image\\\\TEST_0553.png', '../Data/test_image\\\\TEST_0554.png', '../Data/test_image\\\\TEST_0555.png', '../Data/test_image\\\\TEST_0556.png', '../Data/test_image\\\\TEST_0557.png', '../Data/test_image\\\\TEST_0558.png', '../Data/test_image\\\\TEST_0559.png', '../Data/test_image\\\\TEST_0560.png', '../Data/test_image\\\\TEST_0561.png', '../Data/test_image\\\\TEST_0562.png', '../Data/test_image\\\\TEST_0563.png', '../Data/test_image\\\\TEST_0564.png', '../Data/test_image\\\\TEST_0565.png', '../Data/test_image\\\\TEST_0566.png', '../Data/test_image\\\\TEST_0567.png', '../Data/test_image\\\\TEST_0568.png', '../Data/test_image\\\\TEST_0569.png', '../Data/test_image\\\\TEST_0570.png', '../Data/test_image\\\\TEST_0571.png', '../Data/test_image\\\\TEST_0572.png', '../Data/test_image\\\\TEST_0573.png', '../Data/test_image\\\\TEST_0574.png', '../Data/test_image\\\\TEST_0575.png', '../Data/test_image\\\\TEST_0576.png', '../Data/test_image\\\\TEST_0577.png', '../Data/test_image\\\\TEST_0578.png', '../Data/test_image\\\\TEST_0579.png', '../Data/test_image\\\\TEST_0580.png', '../Data/test_image\\\\TEST_0581.png', '../Data/test_image\\\\TEST_0582.png', '../Data/test_image\\\\TEST_0583.png', '../Data/test_image\\\\TEST_0584.png', '../Data/test_image\\\\TEST_0585.png', '../Data/test_image\\\\TEST_0586.png', '../Data/test_image\\\\TEST_0587.png', '../Data/test_image\\\\TEST_0588.png', '../Data/test_image\\\\TEST_0589.png', '../Data/test_image\\\\TEST_0590.png', '../Data/test_image\\\\TEST_0591.png', '../Data/test_image\\\\TEST_0592.png', '../Data/test_image\\\\TEST_0593.png', '../Data/test_image\\\\TEST_0594.png', '../Data/test_image\\\\TEST_0595.png', '../Data/test_image\\\\TEST_0596.png', '../Data/test_image\\\\TEST_0597.png', '../Data/test_image\\\\TEST_0598.png', '../Data/test_image\\\\TEST_0599.png', '../Data/test_image\\\\TEST_0600.png', '../Data/test_image\\\\TEST_0601.png', '../Data/test_image\\\\TEST_0602.png', '../Data/test_image\\\\TEST_0603.png', '../Data/test_image\\\\TEST_0604.png', '../Data/test_image\\\\TEST_0605.png', '../Data/test_image\\\\TEST_0606.png', '../Data/test_image\\\\TEST_0607.png', '../Data/test_image\\\\TEST_0608.png', '../Data/test_image\\\\TEST_0609.png', '../Data/test_image\\\\TEST_0610.png', '../Data/test_image\\\\TEST_0611.png', '../Data/test_image\\\\TEST_0612.png', '../Data/test_image\\\\TEST_0613.png', '../Data/test_image\\\\TEST_0614.png', '../Data/test_image\\\\TEST_0615.png', '../Data/test_image\\\\TEST_0616.png', '../Data/test_image\\\\TEST_0617.png', '../Data/test_image\\\\TEST_0618.png', '../Data/test_image\\\\TEST_0619.png', '../Data/test_image\\\\TEST_0620.png', '../Data/test_image\\\\TEST_0621.png', '../Data/test_image\\\\TEST_0622.png', '../Data/test_image\\\\TEST_0623.png', '../Data/test_image\\\\TEST_0624.png', '../Data/test_image\\\\TEST_0625.png', '../Data/test_image\\\\TEST_0626.png', '../Data/test_image\\\\TEST_0627.png', '../Data/test_image\\\\TEST_0628.png', '../Data/test_image\\\\TEST_0629.png', '../Data/test_image\\\\TEST_0630.png', '../Data/test_image\\\\TEST_0631.png', '../Data/test_image\\\\TEST_0632.png', '../Data/test_image\\\\TEST_0633.png', '../Data/test_image\\\\TEST_0634.png', '../Data/test_image\\\\TEST_0635.png', '../Data/test_image\\\\TEST_0636.png', '../Data/test_image\\\\TEST_0637.png', '../Data/test_image\\\\TEST_0638.png', '../Data/test_image\\\\TEST_0639.png', '../Data/test_image\\\\TEST_0640.png', '../Data/test_image\\\\TEST_0641.png', '../Data/test_image\\\\TEST_0642.png', '../Data/test_image\\\\TEST_0643.png', '../Data/test_image\\\\TEST_0644.png', '../Data/test_image\\\\TEST_0645.png', '../Data/test_image\\\\TEST_0646.png', '../Data/test_image\\\\TEST_0647.png', '../Data/test_image\\\\TEST_0648.png', '../Data/test_image\\\\TEST_0649.png', '../Data/test_image\\\\TEST_0650.png', '../Data/test_image\\\\TEST_0651.png', '../Data/test_image\\\\TEST_0652.png', '../Data/test_image\\\\TEST_0653.png', '../Data/test_image\\\\TEST_0654.png', '../Data/test_image\\\\TEST_0655.png', '../Data/test_image\\\\TEST_0656.png', '../Data/test_image\\\\TEST_0657.png', '../Data/test_image\\\\TEST_0658.png', '../Data/test_image\\\\TEST_0659.png', '../Data/test_image\\\\TEST_0660.png', '../Data/test_image\\\\TEST_0661.png', '../Data/test_image\\\\TEST_0662.png', '../Data/test_image\\\\TEST_0663.png', '../Data/test_image\\\\TEST_0664.png', '../Data/test_image\\\\TEST_0665.png', '../Data/test_image\\\\TEST_0666.png', '../Data/test_image\\\\TEST_0667.png', '../Data/test_image\\\\TEST_0668.png', '../Data/test_image\\\\TEST_0669.png', '../Data/test_image\\\\TEST_0670.png', '../Data/test_image\\\\TEST_0671.png', '../Data/test_image\\\\TEST_0672.png', '../Data/test_image\\\\TEST_0673.png', '../Data/test_image\\\\TEST_0674.png', '../Data/test_image\\\\TEST_0675.png', '../Data/test_image\\\\TEST_0676.png', '../Data/test_image\\\\TEST_0677.png', '../Data/test_image\\\\TEST_0678.png', '../Data/test_image\\\\TEST_0679.png', '../Data/test_image\\\\TEST_0680.png', '../Data/test_image\\\\TEST_0681.png', '../Data/test_image\\\\TEST_0682.png', '../Data/test_image\\\\TEST_0683.png', '../Data/test_image\\\\TEST_0684.png', '../Data/test_image\\\\TEST_0685.png', '../Data/test_image\\\\TEST_0686.png', '../Data/test_image\\\\TEST_0687.png', '../Data/test_image\\\\TEST_0688.png', '../Data/test_image\\\\TEST_0689.png', '../Data/test_image\\\\TEST_0690.png', '../Data/test_image\\\\TEST_0691.png', '../Data/test_image\\\\TEST_0692.png', '../Data/test_image\\\\TEST_0693.png', '../Data/test_image\\\\TEST_0694.png', '../Data/test_image\\\\TEST_0695.png', '../Data/test_image\\\\TEST_0696.png', '../Data/test_image\\\\TEST_0697.png', '../Data/test_image\\\\TEST_0698.png', '../Data/test_image\\\\TEST_0699.png', '../Data/test_image\\\\TEST_0700.png', '../Data/test_image\\\\TEST_0701.png', '../Data/test_image\\\\TEST_0702.png', '../Data/test_image\\\\TEST_0703.png', '../Data/test_image\\\\TEST_0704.png', '../Data/test_image\\\\TEST_0705.png', '../Data/test_image\\\\TEST_0706.png', '../Data/test_image\\\\TEST_0707.png', '../Data/test_image\\\\TEST_0708.png', '../Data/test_image\\\\TEST_0709.png', '../Data/test_image\\\\TEST_0710.png', '../Data/test_image\\\\TEST_0711.png', '../Data/test_image\\\\TEST_0712.png', '../Data/test_image\\\\TEST_0713.png', '../Data/test_image\\\\TEST_0714.png', '../Data/test_image\\\\TEST_0715.png', '../Data/test_image\\\\TEST_0716.png', '../Data/test_image\\\\TEST_0717.png', '../Data/test_image\\\\TEST_0718.png', '../Data/test_image\\\\TEST_0719.png', '../Data/test_image\\\\TEST_0720.png', '../Data/test_image\\\\TEST_0721.png', '../Data/test_image\\\\TEST_0722.png', '../Data/test_image\\\\TEST_0723.png', '../Data/test_image\\\\TEST_0724.png', '../Data/test_image\\\\TEST_0725.png', '../Data/test_image\\\\TEST_0726.png', '../Data/test_image\\\\TEST_0727.png', '../Data/test_image\\\\TEST_0728.png', '../Data/test_image\\\\TEST_0729.png', '../Data/test_image\\\\TEST_0730.png', '../Data/test_image\\\\TEST_0731.png', '../Data/test_image\\\\TEST_0732.png', '../Data/test_image\\\\TEST_0733.png', '../Data/test_image\\\\TEST_0734.png', '../Data/test_image\\\\TEST_0735.png', '../Data/test_image\\\\TEST_0736.png', '../Data/test_image\\\\TEST_0737.png', '../Data/test_image\\\\TEST_0738.png', '../Data/test_image\\\\TEST_0739.png', '../Data/test_image\\\\TEST_0740.png', '../Data/test_image\\\\TEST_0741.png', '../Data/test_image\\\\TEST_0742.png', '../Data/test_image\\\\TEST_0743.png', '../Data/test_image\\\\TEST_0744.png', '../Data/test_image\\\\TEST_0745.png', '../Data/test_image\\\\TEST_0746.png', '../Data/test_image\\\\TEST_0747.png', '../Data/test_image\\\\TEST_0748.png', '../Data/test_image\\\\TEST_0749.png', '../Data/test_image\\\\TEST_0750.png', '../Data/test_image\\\\TEST_0751.png', '../Data/test_image\\\\TEST_0752.png', '../Data/test_image\\\\TEST_0753.png', '../Data/test_image\\\\TEST_0754.png', '../Data/test_image\\\\TEST_0755.png', '../Data/test_image\\\\TEST_0756.png', '../Data/test_image\\\\TEST_0757.png', '../Data/test_image\\\\TEST_0758.png', '../Data/test_image\\\\TEST_0759.png', '../Data/test_image\\\\TEST_0760.png', '../Data/test_image\\\\TEST_0761.png', '../Data/test_image\\\\TEST_0762.png', '../Data/test_image\\\\TEST_0763.png', '../Data/test_image\\\\TEST_0764.png', '../Data/test_image\\\\TEST_0765.png', '../Data/test_image\\\\TEST_0766.png', '../Data/test_image\\\\TEST_0767.png', '../Data/test_image\\\\TEST_0768.png', '../Data/test_image\\\\TEST_0769.png', '../Data/test_image\\\\TEST_0770.png', '../Data/test_image\\\\TEST_0771.png', '../Data/test_image\\\\TEST_0772.png', '../Data/test_image\\\\TEST_0773.png', '../Data/test_image\\\\TEST_0774.png', '../Data/test_image\\\\TEST_0775.png', '../Data/test_image\\\\TEST_0776.png', '../Data/test_image\\\\TEST_0777.png', '../Data/test_image\\\\TEST_0778.png', '../Data/test_image\\\\TEST_0779.png', '../Data/test_image\\\\TEST_0780.png', '../Data/test_image\\\\TEST_0781.png', '../Data/test_image\\\\TEST_0782.png', '../Data/test_image\\\\TEST_0783.png', '../Data/test_image\\\\TEST_0784.png', '../Data/test_image\\\\TEST_0785.png', '../Data/test_image\\\\TEST_0786.png', '../Data/test_image\\\\TEST_0787.png', '../Data/test_image\\\\TEST_0788.png', '../Data/test_image\\\\TEST_0789.png', '../Data/test_image\\\\TEST_0790.png', '../Data/test_image\\\\TEST_0791.png', '../Data/test_image\\\\TEST_0792.png', '../Data/test_image\\\\TEST_0793.png', '../Data/test_image\\\\TEST_0794.png', '../Data/test_image\\\\TEST_0795.png', '../Data/test_image\\\\TEST_0796.png', '../Data/test_image\\\\TEST_0797.png', '../Data/test_image\\\\TEST_0798.png', '../Data/test_image\\\\TEST_0799.png', '../Data/test_image\\\\TEST_0800.png', '../Data/test_image\\\\TEST_0801.png', '../Data/test_image\\\\TEST_0802.png', '../Data/test_image\\\\TEST_0803.png', '../Data/test_image\\\\TEST_0804.png', '../Data/test_image\\\\TEST_0805.png', '../Data/test_image\\\\TEST_0806.png', '../Data/test_image\\\\TEST_0807.png', '../Data/test_image\\\\TEST_0808.png', '../Data/test_image\\\\TEST_0809.png', '../Data/test_image\\\\TEST_0810.png', '../Data/test_image\\\\TEST_0811.png', '../Data/test_image\\\\TEST_0812.png', '../Data/test_image\\\\TEST_0813.png', '../Data/test_image\\\\TEST_0814.png', '../Data/test_image\\\\TEST_0815.png', '../Data/test_image\\\\TEST_0816.png', '../Data/test_image\\\\TEST_0817.png', '../Data/test_image\\\\TEST_0818.png', '../Data/test_image\\\\TEST_0819.png', '../Data/test_image\\\\TEST_0820.png', '../Data/test_image\\\\TEST_0821.png', '../Data/test_image\\\\TEST_0822.png', '../Data/test_image\\\\TEST_0823.png', '../Data/test_image\\\\TEST_0824.png', '../Data/test_image\\\\TEST_0825.png', '../Data/test_image\\\\TEST_0826.png', '../Data/test_image\\\\TEST_0827.png', '../Data/test_image\\\\TEST_0828.png', '../Data/test_image\\\\TEST_0829.png', '../Data/test_image\\\\TEST_0830.png', '../Data/test_image\\\\TEST_0831.png', '../Data/test_image\\\\TEST_0832.png', '../Data/test_image\\\\TEST_0833.png', '../Data/test_image\\\\TEST_0834.png', '../Data/test_image\\\\TEST_0835.png', '../Data/test_image\\\\TEST_0836.png', '../Data/test_image\\\\TEST_0837.png', '../Data/test_image\\\\TEST_0838.png', '../Data/test_image\\\\TEST_0839.png', '../Data/test_image\\\\TEST_0840.png', '../Data/test_image\\\\TEST_0841.png', '../Data/test_image\\\\TEST_0842.png', '../Data/test_image\\\\TEST_0843.png', '../Data/test_image\\\\TEST_0844.png', '../Data/test_image\\\\TEST_0845.png', '../Data/test_image\\\\TEST_0846.png', '../Data/test_image\\\\TEST_0847.png', '../Data/test_image\\\\TEST_0848.png', '../Data/test_image\\\\TEST_0849.png', '../Data/test_image\\\\TEST_0850.png', '../Data/test_image\\\\TEST_0851.png', '../Data/test_image\\\\TEST_0852.png', '../Data/test_image\\\\TEST_0853.png', '../Data/test_image\\\\TEST_0854.png', '../Data/test_image\\\\TEST_0855.png', '../Data/test_image\\\\TEST_0856.png', '../Data/test_image\\\\TEST_0857.png', '../Data/test_image\\\\TEST_0858.png', '../Data/test_image\\\\TEST_0859.png', '../Data/test_image\\\\TEST_0860.png', '../Data/test_image\\\\TEST_0861.png', '../Data/test_image\\\\TEST_0862.png', '../Data/test_image\\\\TEST_0863.png', '../Data/test_image\\\\TEST_0864.png', '../Data/test_image\\\\TEST_0865.png', '../Data/test_image\\\\TEST_0866.png', '../Data/test_image\\\\TEST_0867.png', '../Data/test_image\\\\TEST_0868.png', '../Data/test_image\\\\TEST_0869.png', '../Data/test_image\\\\TEST_0870.png', '../Data/test_image\\\\TEST_0871.png', '../Data/test_image\\\\TEST_0872.png', '../Data/test_image\\\\TEST_0873.png', '../Data/test_image\\\\TEST_0874.png', '../Data/test_image\\\\TEST_0875.png', '../Data/test_image\\\\TEST_0876.png', '../Data/test_image\\\\TEST_0877.png', '../Data/test_image\\\\TEST_0878.png', '../Data/test_image\\\\TEST_0879.png', '../Data/test_image\\\\TEST_0880.png', '../Data/test_image\\\\TEST_0881.png', '../Data/test_image\\\\TEST_0882.png', '../Data/test_image\\\\TEST_0883.png', '../Data/test_image\\\\TEST_0884.png', '../Data/test_image\\\\TEST_0885.png', '../Data/test_image\\\\TEST_0886.png', '../Data/test_image\\\\TEST_0887.png', '../Data/test_image\\\\TEST_0888.png', '../Data/test_image\\\\TEST_0889.png', '../Data/test_image\\\\TEST_0890.png', '../Data/test_image\\\\TEST_0891.png', '../Data/test_image\\\\TEST_0892.png', '../Data/test_image\\\\TEST_0893.png', '../Data/test_image\\\\TEST_0894.png', '../Data/test_image\\\\TEST_0895.png', '../Data/test_image\\\\TEST_0896.png', '../Data/test_image\\\\TEST_0897.png', '../Data/test_image\\\\TEST_0898.png', '../Data/test_image\\\\TEST_0899.png', '../Data/test_image\\\\TEST_0900.png', '../Data/test_image\\\\TEST_0901.png', '../Data/test_image\\\\TEST_0902.png', '../Data/test_image\\\\TEST_0903.png', '../Data/test_image\\\\TEST_0904.png', '../Data/test_image\\\\TEST_0905.png', '../Data/test_image\\\\TEST_0906.png', '../Data/test_image\\\\TEST_0907.png', '../Data/test_image\\\\TEST_0908.png', '../Data/test_image\\\\TEST_0909.png', '../Data/test_image\\\\TEST_0910.png', '../Data/test_image\\\\TEST_0911.png', '../Data/test_image\\\\TEST_0912.png', '../Data/test_image\\\\TEST_0913.png', '../Data/test_image\\\\TEST_0914.png', '../Data/test_image\\\\TEST_0915.png', '../Data/test_image\\\\TEST_0916.png', '../Data/test_image\\\\TEST_0917.png', '../Data/test_image\\\\TEST_0918.png', '../Data/test_image\\\\TEST_0919.png', '../Data/test_image\\\\TEST_0920.png', '../Data/test_image\\\\TEST_0921.png', '../Data/test_image\\\\TEST_0922.png', '../Data/test_image\\\\TEST_0923.png', '../Data/test_image\\\\TEST_0924.png', '../Data/test_image\\\\TEST_0925.png', '../Data/test_image\\\\TEST_0926.png', '../Data/test_image\\\\TEST_0927.png', '../Data/test_image\\\\TEST_0928.png', '../Data/test_image\\\\TEST_0929.png', '../Data/test_image\\\\TEST_0930.png', '../Data/test_image\\\\TEST_0931.png', '../Data/test_image\\\\TEST_0932.png', '../Data/test_image\\\\TEST_0933.png', '../Data/test_image\\\\TEST_0934.png', '../Data/test_image\\\\TEST_0935.png', '../Data/test_image\\\\TEST_0936.png', '../Data/test_image\\\\TEST_0937.png', '../Data/test_image\\\\TEST_0938.png', '../Data/test_image\\\\TEST_0939.png', '../Data/test_image\\\\TEST_0940.png', '../Data/test_image\\\\TEST_0941.png', '../Data/test_image\\\\TEST_0942.png', '../Data/test_image\\\\TEST_0943.png', '../Data/test_image\\\\TEST_0944.png', '../Data/test_image\\\\TEST_0945.png', '../Data/test_image\\\\TEST_0946.png', '../Data/test_image\\\\TEST_0947.png', '../Data/test_image\\\\TEST_0948.png', '../Data/test_image\\\\TEST_0949.png', '../Data/test_image\\\\TEST_0950.png', '../Data/test_image\\\\TEST_0951.png', '../Data/test_image\\\\TEST_0952.png', '../Data/test_image\\\\TEST_0953.png', '../Data/test_image\\\\TEST_0954.png', '../Data/test_image\\\\TEST_0955.png', '../Data/test_image\\\\TEST_0956.png', '../Data/test_image\\\\TEST_0957.png', '../Data/test_image\\\\TEST_0958.png', '../Data/test_image\\\\TEST_0959.png', '../Data/test_image\\\\TEST_0960.png', '../Data/test_image\\\\TEST_0961.png', '../Data/test_image\\\\TEST_0962.png', '../Data/test_image\\\\TEST_0963.png', '../Data/test_image\\\\TEST_0964.png', '../Data/test_image\\\\TEST_0965.png', '../Data/test_image\\\\TEST_0966.png', '../Data/test_image\\\\TEST_0967.png', '../Data/test_image\\\\TEST_0968.png', '../Data/test_image\\\\TEST_0969.png', '../Data/test_image\\\\TEST_0970.png', '../Data/test_image\\\\TEST_0971.png', '../Data/test_image\\\\TEST_0972.png', '../Data/test_image\\\\TEST_0973.png', '../Data/test_image\\\\TEST_0974.png', '../Data/test_image\\\\TEST_0975.png', '../Data/test_image\\\\TEST_0976.png', '../Data/test_image\\\\TEST_0977.png', '../Data/test_image\\\\TEST_0978.png', '../Data/test_image\\\\TEST_0979.png', '../Data/test_image\\\\TEST_0980.png', '../Data/test_image\\\\TEST_0981.png', '../Data/test_image\\\\TEST_0982.png', '../Data/test_image\\\\TEST_0983.png', '../Data/test_image\\\\TEST_0984.png', '../Data/test_image\\\\TEST_0985.png', '../Data/test_image\\\\TEST_0986.png', '../Data/test_image\\\\TEST_0987.png', '../Data/test_image\\\\TEST_0988.png', '../Data/test_image\\\\TEST_0989.png', '../Data/test_image\\\\TEST_0990.png', '../Data/test_image\\\\TEST_0991.png', '../Data/test_image\\\\TEST_0992.png', '../Data/test_image\\\\TEST_0993.png', '../Data/test_image\\\\TEST_0994.png', '../Data/test_image\\\\TEST_0995.png', '../Data/test_image\\\\TEST_0996.png', '../Data/test_image\\\\TEST_0997.png', '../Data/test_image\\\\TEST_0998.png', '../Data/test_image\\\\TEST_0999.png', '../Data/test_image\\\\TEST_1000.png', '../Data/test_image\\\\TEST_1001.png', '../Data/test_image\\\\TEST_1002.png', '../Data/test_image\\\\TEST_1003.png', '../Data/test_image\\\\TEST_1004.png', '../Data/test_image\\\\TEST_1005.png', '../Data/test_image\\\\TEST_1006.png', '../Data/test_image\\\\TEST_1007.png', '../Data/test_image\\\\TEST_1008.png', '../Data/test_image\\\\TEST_1009.png', '../Data/test_image\\\\TEST_1010.png', '../Data/test_image\\\\TEST_1011.png', '../Data/test_image\\\\TEST_1012.png', '../Data/test_image\\\\TEST_1013.png', '../Data/test_image\\\\TEST_1014.png', '../Data/test_image\\\\TEST_1015.png', '../Data/test_image\\\\TEST_1016.png', '../Data/test_image\\\\TEST_1017.png', '../Data/test_image\\\\TEST_1018.png', '../Data/test_image\\\\TEST_1019.png', '../Data/test_image\\\\TEST_1020.png', '../Data/test_image\\\\TEST_1021.png', '../Data/test_image\\\\TEST_1022.png', '../Data/test_image\\\\TEST_1023.png', '../Data/test_image\\\\TEST_1024.png', '../Data/test_image\\\\TEST_1025.png', '../Data/test_image\\\\TEST_1026.png', '../Data/test_image\\\\TEST_1027.png', '../Data/test_image\\\\TEST_1028.png', '../Data/test_image\\\\TEST_1029.png', '../Data/test_image\\\\TEST_1030.png', '../Data/test_image\\\\TEST_1031.png', '../Data/test_image\\\\TEST_1032.png', '../Data/test_image\\\\TEST_1033.png', '../Data/test_image\\\\TEST_1034.png', '../Data/test_image\\\\TEST_1035.png', '../Data/test_image\\\\TEST_1036.png', '../Data/test_image\\\\TEST_1037.png', '../Data/test_image\\\\TEST_1038.png', '../Data/test_image\\\\TEST_1039.png', '../Data/test_image\\\\TEST_1040.png', '../Data/test_image\\\\TEST_1041.png', '../Data/test_image\\\\TEST_1042.png', '../Data/test_image\\\\TEST_1043.png', '../Data/test_image\\\\TEST_1044.png', '../Data/test_image\\\\TEST_1045.png', '../Data/test_image\\\\TEST_1046.png', '../Data/test_image\\\\TEST_1047.png', '../Data/test_image\\\\TEST_1048.png', '../Data/test_image\\\\TEST_1049.png', '../Data/test_image\\\\TEST_1050.png', '../Data/test_image\\\\TEST_1051.png', '../Data/test_image\\\\TEST_1052.png', '../Data/test_image\\\\TEST_1053.png', '../Data/test_image\\\\TEST_1054.png', '../Data/test_image\\\\TEST_1055.png', '../Data/test_image\\\\TEST_1056.png', '../Data/test_image\\\\TEST_1057.png', '../Data/test_image\\\\TEST_1058.png', '../Data/test_image\\\\TEST_1059.png', '../Data/test_image\\\\TEST_1060.png', '../Data/test_image\\\\TEST_1061.png', '../Data/test_image\\\\TEST_1062.png', '../Data/test_image\\\\TEST_1063.png', '../Data/test_image\\\\TEST_1064.png', '../Data/test_image\\\\TEST_1065.png', '../Data/test_image\\\\TEST_1066.png', '../Data/test_image\\\\TEST_1067.png', '../Data/test_image\\\\TEST_1068.png', '../Data/test_image\\\\TEST_1069.png', '../Data/test_image\\\\TEST_1070.png', '../Data/test_image\\\\TEST_1071.png', '../Data/test_image\\\\TEST_1072.png', '../Data/test_image\\\\TEST_1073.png', '../Data/test_image\\\\TEST_1074.png', '../Data/test_image\\\\TEST_1075.png', '../Data/test_image\\\\TEST_1076.png', '../Data/test_image\\\\TEST_1077.png', '../Data/test_image\\\\TEST_1078.png', '../Data/test_image\\\\TEST_1079.png', '../Data/test_image\\\\TEST_1080.png', '../Data/test_image\\\\TEST_1081.png', '../Data/test_image\\\\TEST_1082.png', '../Data/test_image\\\\TEST_1083.png', '../Data/test_image\\\\TEST_1084.png', '../Data/test_image\\\\TEST_1085.png', '../Data/test_image\\\\TEST_1086.png', '../Data/test_image\\\\TEST_1087.png', '../Data/test_image\\\\TEST_1088.png', '../Data/test_image\\\\TEST_1089.png', '../Data/test_image\\\\TEST_1090.png', '../Data/test_image\\\\TEST_1091.png', '../Data/test_image\\\\TEST_1092.png', '../Data/test_image\\\\TEST_1093.png', '../Data/test_image\\\\TEST_1094.png', '../Data/test_image\\\\TEST_1095.png', '../Data/test_image\\\\TEST_1096.png', '../Data/test_image\\\\TEST_1097.png', '../Data/test_image\\\\TEST_1098.png', '../Data/test_image\\\\TEST_1099.png', '../Data/test_image\\\\TEST_1100.png', '../Data/test_image\\\\TEST_1101.png', '../Data/test_image\\\\TEST_1102.png', '../Data/test_image\\\\TEST_1103.png', '../Data/test_image\\\\TEST_1104.png', '../Data/test_image\\\\TEST_1105.png', '../Data/test_image\\\\TEST_1106.png', '../Data/test_image\\\\TEST_1107.png', '../Data/test_image\\\\TEST_1108.png', '../Data/test_image\\\\TEST_1109.png', '../Data/test_image\\\\TEST_1110.png', '../Data/test_image\\\\TEST_1111.png', '../Data/test_image\\\\TEST_1112.png', '../Data/test_image\\\\TEST_1113.png', '../Data/test_image\\\\TEST_1114.png', '../Data/test_image\\\\TEST_1115.png', '../Data/test_image\\\\TEST_1116.png', '../Data/test_image\\\\TEST_1117.png', '../Data/test_image\\\\TEST_1118.png', '../Data/test_image\\\\TEST_1119.png', '../Data/test_image\\\\TEST_1120.png', '../Data/test_image\\\\TEST_1121.png', '../Data/test_image\\\\TEST_1122.png', '../Data/test_image\\\\TEST_1123.png', '../Data/test_image\\\\TEST_1124.png', '../Data/test_image\\\\TEST_1125.png', '../Data/test_image\\\\TEST_1126.png', '../Data/test_image\\\\TEST_1127.png', '../Data/test_image\\\\TEST_1128.png', '../Data/test_image\\\\TEST_1129.png', '../Data/test_image\\\\TEST_1130.png', '../Data/test_image\\\\TEST_1131.png', '../Data/test_image\\\\TEST_1132.png', '../Data/test_image\\\\TEST_1133.png', '../Data/test_image\\\\TEST_1134.png', '../Data/test_image\\\\TEST_1135.png', '../Data/test_image\\\\TEST_1136.png', '../Data/test_image\\\\TEST_1137.png', '../Data/test_image\\\\TEST_1138.png', '../Data/test_image\\\\TEST_1139.png', '../Data/test_image\\\\TEST_1140.png', '../Data/test_image\\\\TEST_1141.png', '../Data/test_image\\\\TEST_1142.png', '../Data/test_image\\\\TEST_1143.png', '../Data/test_image\\\\TEST_1144.png', '../Data/test_image\\\\TEST_1145.png', '../Data/test_image\\\\TEST_1146.png', '../Data/test_image\\\\TEST_1147.png', '../Data/test_image\\\\TEST_1148.png', '../Data/test_image\\\\TEST_1149.png', '../Data/test_image\\\\TEST_1150.png', '../Data/test_image\\\\TEST_1151.png', '../Data/test_image\\\\TEST_1152.png', '../Data/test_image\\\\TEST_1153.png', '../Data/test_image\\\\TEST_1154.png', '../Data/test_image\\\\TEST_1155.png', '../Data/test_image\\\\TEST_1156.png', '../Data/test_image\\\\TEST_1157.png', '../Data/test_image\\\\TEST_1158.png', '../Data/test_image\\\\TEST_1159.png', '../Data/test_image\\\\TEST_1160.png', '../Data/test_image\\\\TEST_1161.png', '../Data/test_image\\\\TEST_1162.png', '../Data/test_image\\\\TEST_1163.png', '../Data/test_image\\\\TEST_1164.png', '../Data/test_image\\\\TEST_1165.png', '../Data/test_image\\\\TEST_1166.png', '../Data/test_image\\\\TEST_1167.png', '../Data/test_image\\\\TEST_1168.png', '../Data/test_image\\\\TEST_1169.png', '../Data/test_image\\\\TEST_1170.png', '../Data/test_image\\\\TEST_1171.png', '../Data/test_image\\\\TEST_1172.png', '../Data/test_image\\\\TEST_1173.png', '../Data/test_image\\\\TEST_1174.png', '../Data/test_image\\\\TEST_1175.png', '../Data/test_image\\\\TEST_1176.png', '../Data/test_image\\\\TEST_1177.png', '../Data/test_image\\\\TEST_1178.png', '../Data/test_image\\\\TEST_1179.png', '../Data/test_image\\\\TEST_1180.png', '../Data/test_image\\\\TEST_1181.png', '../Data/test_image\\\\TEST_1182.png', '../Data/test_image\\\\TEST_1183.png', '../Data/test_image\\\\TEST_1184.png', '../Data/test_image\\\\TEST_1185.png', '../Data/test_image\\\\TEST_1186.png', '../Data/test_image\\\\TEST_1187.png', '../Data/test_image\\\\TEST_1188.png', '../Data/test_image\\\\TEST_1189.png', '../Data/test_image\\\\TEST_1190.png', '../Data/test_image\\\\TEST_1191.png', '../Data/test_image\\\\TEST_1192.png', '../Data/test_image\\\\TEST_1193.png', '../Data/test_image\\\\TEST_1194.png', '../Data/test_image\\\\TEST_1195.png', '../Data/test_image\\\\TEST_1196.png', '../Data/test_image\\\\TEST_1197.png', '../Data/test_image\\\\TEST_1198.png', '../Data/test_image\\\\TEST_1199.png', '../Data/test_image\\\\TEST_1200.png', '../Data/test_image\\\\TEST_1201.png', '../Data/test_image\\\\TEST_1202.png', '../Data/test_image\\\\TEST_1203.png', '../Data/test_image\\\\TEST_1204.png', '../Data/test_image\\\\TEST_1205.png', '../Data/test_image\\\\TEST_1206.png', '../Data/test_image\\\\TEST_1207.png', '../Data/test_image\\\\TEST_1208.png', '../Data/test_image\\\\TEST_1209.png', '../Data/test_image\\\\TEST_1210.png', '../Data/test_image\\\\TEST_1211.png', '../Data/test_image\\\\TEST_1212.png', '../Data/test_image\\\\TEST_1213.png', '../Data/test_image\\\\TEST_1214.png', '../Data/test_image\\\\TEST_1215.png', '../Data/test_image\\\\TEST_1216.png', '../Data/test_image\\\\TEST_1217.png', '../Data/test_image\\\\TEST_1218.png', '../Data/test_image\\\\TEST_1219.png', '../Data/test_image\\\\TEST_1220.png', '../Data/test_image\\\\TEST_1221.png', '../Data/test_image\\\\TEST_1222.png', '../Data/test_image\\\\TEST_1223.png', '../Data/test_image\\\\TEST_1224.png', '../Data/test_image\\\\TEST_1225.png', '../Data/test_image\\\\TEST_1226.png', '../Data/test_image\\\\TEST_1227.png', '../Data/test_image\\\\TEST_1228.png', '../Data/test_image\\\\TEST_1229.png', '../Data/test_image\\\\TEST_1230.png', '../Data/test_image\\\\TEST_1231.png', '../Data/test_image\\\\TEST_1232.png', '../Data/test_image\\\\TEST_1233.png', '../Data/test_image\\\\TEST_1234.png', '../Data/test_image\\\\TEST_1235.png', '../Data/test_image\\\\TEST_1236.png', '../Data/test_image\\\\TEST_1237.png', '../Data/test_image\\\\TEST_1238.png', '../Data/test_image\\\\TEST_1239.png', '../Data/test_image\\\\TEST_1240.png', '../Data/test_image\\\\TEST_1241.png', '../Data/test_image\\\\TEST_1242.png', '../Data/test_image\\\\TEST_1243.png', '../Data/test_image\\\\TEST_1244.png', '../Data/test_image\\\\TEST_1245.png', '../Data/test_image\\\\TEST_1246.png', '../Data/test_image\\\\TEST_1247.png', '../Data/test_image\\\\TEST_1248.png', '../Data/test_image\\\\TEST_1249.png', '../Data/test_image\\\\TEST_1250.png', '../Data/test_image\\\\TEST_1251.png', '../Data/test_image\\\\TEST_1252.png', '../Data/test_image\\\\TEST_1253.png', '../Data/test_image\\\\TEST_1254.png', '../Data/test_image\\\\TEST_1255.png', '../Data/test_image\\\\TEST_1256.png', '../Data/test_image\\\\TEST_1257.png', '../Data/test_image\\\\TEST_1258.png', '../Data/test_image\\\\TEST_1259.png', '../Data/test_image\\\\TEST_1260.png', '../Data/test_image\\\\TEST_1261.png', '../Data/test_image\\\\TEST_1262.png', '../Data/test_image\\\\TEST_1263.png', '../Data/test_image\\\\TEST_1264.png', '../Data/test_image\\\\TEST_1265.png', '../Data/test_image\\\\TEST_1266.png', '../Data/test_image\\\\TEST_1267.png', '../Data/test_image\\\\TEST_1268.png', '../Data/test_image\\\\TEST_1269.png', '../Data/test_image\\\\TEST_1270.png', '../Data/test_image\\\\TEST_1271.png', '../Data/test_image\\\\TEST_1272.png', '../Data/test_image\\\\TEST_1273.png', '../Data/test_image\\\\TEST_1274.png', '../Data/test_image\\\\TEST_1275.png', '../Data/test_image\\\\TEST_1276.png', '../Data/test_image\\\\TEST_1277.png', '../Data/test_image\\\\TEST_1278.png', '../Data/test_image\\\\TEST_1279.png', '../Data/test_image\\\\TEST_1280.png', '../Data/test_image\\\\TEST_1281.png', '../Data/test_image\\\\TEST_1282.png', '../Data/test_image\\\\TEST_1283.png', '../Data/test_image\\\\TEST_1284.png', '../Data/test_image\\\\TEST_1285.png', '../Data/test_image\\\\TEST_1286.png', '../Data/test_image\\\\TEST_1287.png', '../Data/test_image\\\\TEST_1288.png', '../Data/test_image\\\\TEST_1289.png', '../Data/test_image\\\\TEST_1290.png', '../Data/test_image\\\\TEST_1291.png', '../Data/test_image\\\\TEST_1292.png', '../Data/test_image\\\\TEST_1293.png', '../Data/test_image\\\\TEST_1294.png', '../Data/test_image\\\\TEST_1295.png', '../Data/test_image\\\\TEST_1296.png', '../Data/test_image\\\\TEST_1297.png', '../Data/test_image\\\\TEST_1298.png', '../Data/test_image\\\\TEST_1299.png', '../Data/test_image\\\\TEST_1300.png', '../Data/test_image\\\\TEST_1301.png', '../Data/test_image\\\\TEST_1302.png', '../Data/test_image\\\\TEST_1303.png', '../Data/test_image\\\\TEST_1304.png', '../Data/test_image\\\\TEST_1305.png', '../Data/test_image\\\\TEST_1306.png', '../Data/test_image\\\\TEST_1307.png', '../Data/test_image\\\\TEST_1308.png', '../Data/test_image\\\\TEST_1309.png', '../Data/test_image\\\\TEST_1310.png', '../Data/test_image\\\\TEST_1311.png', '../Data/test_image\\\\TEST_1312.png', '../Data/test_image\\\\TEST_1313.png', '../Data/test_image\\\\TEST_1314.png', '../Data/test_image\\\\TEST_1315.png', '../Data/test_image\\\\TEST_1316.png', '../Data/test_image\\\\TEST_1317.png', '../Data/test_image\\\\TEST_1318.png', '../Data/test_image\\\\TEST_1319.png', '../Data/test_image\\\\TEST_1320.png', '../Data/test_image\\\\TEST_1321.png', '../Data/test_image\\\\TEST_1322.png', '../Data/test_image\\\\TEST_1323.png', '../Data/test_image\\\\TEST_1324.png', '../Data/test_image\\\\TEST_1325.png', '../Data/test_image\\\\TEST_1326.png', '../Data/test_image\\\\TEST_1327.png', '../Data/test_image\\\\TEST_1328.png', '../Data/test_image\\\\TEST_1329.png', '../Data/test_image\\\\TEST_1330.png', '../Data/test_image\\\\TEST_1331.png', '../Data/test_image\\\\TEST_1332.png', '../Data/test_image\\\\TEST_1333.png', '../Data/test_image\\\\TEST_1334.png', '../Data/test_image\\\\TEST_1335.png', '../Data/test_image\\\\TEST_1336.png', '../Data/test_image\\\\TEST_1337.png', '../Data/test_image\\\\TEST_1338.png', '../Data/test_image\\\\TEST_1339.png', '../Data/test_image\\\\TEST_1340.png', '../Data/test_image\\\\TEST_1341.png', '../Data/test_image\\\\TEST_1342.png', '../Data/test_image\\\\TEST_1343.png', '../Data/test_image\\\\TEST_1344.png', '../Data/test_image\\\\TEST_1345.png', '../Data/test_image\\\\TEST_1346.png', '../Data/test_image\\\\TEST_1347.png', '../Data/test_image\\\\TEST_1348.png', '../Data/test_image\\\\TEST_1349.png', '../Data/test_image\\\\TEST_1350.png', '../Data/test_image\\\\TEST_1351.png', '../Data/test_image\\\\TEST_1352.png', '../Data/test_image\\\\TEST_1353.png', '../Data/test_image\\\\TEST_1354.png', '../Data/test_image\\\\TEST_1355.png', '../Data/test_image\\\\TEST_1356.png', '../Data/test_image\\\\TEST_1357.png', '../Data/test_image\\\\TEST_1358.png', '../Data/test_image\\\\TEST_1359.png', '../Data/test_image\\\\TEST_1360.png', '../Data/test_image\\\\TEST_1361.png', '../Data/test_image\\\\TEST_1362.png', '../Data/test_image\\\\TEST_1363.png', '../Data/test_image\\\\TEST_1364.png', '../Data/test_image\\\\TEST_1365.png', '../Data/test_image\\\\TEST_1366.png', '../Data/test_image\\\\TEST_1367.png', '../Data/test_image\\\\TEST_1368.png', '../Data/test_image\\\\TEST_1369.png', '../Data/test_image\\\\TEST_1370.png', '../Data/test_image\\\\TEST_1371.png', '../Data/test_image\\\\TEST_1372.png', '../Data/test_image\\\\TEST_1373.png', '../Data/test_image\\\\TEST_1374.png', '../Data/test_image\\\\TEST_1375.png', '../Data/test_image\\\\TEST_1376.png', '../Data/test_image\\\\TEST_1377.png', '../Data/test_image\\\\TEST_1378.png', '../Data/test_image\\\\TEST_1379.png', '../Data/test_image\\\\TEST_1380.png', '../Data/test_image\\\\TEST_1381.png', '../Data/test_image\\\\TEST_1382.png', '../Data/test_image\\\\TEST_1383.png', '../Data/test_image\\\\TEST_1384.png', '../Data/test_image\\\\TEST_1385.png', '../Data/test_image\\\\TEST_1386.png', '../Data/test_image\\\\TEST_1387.png', '../Data/test_image\\\\TEST_1388.png', '../Data/test_image\\\\TEST_1389.png', '../Data/test_image\\\\TEST_1390.png', '../Data/test_image\\\\TEST_1391.png', '../Data/test_image\\\\TEST_1392.png', '../Data/test_image\\\\TEST_1393.png', '../Data/test_image\\\\TEST_1394.png', '../Data/test_image\\\\TEST_1395.png', '../Data/test_image\\\\TEST_1396.png', '../Data/test_image\\\\TEST_1397.png', '../Data/test_image\\\\TEST_1398.png', '../Data/test_image\\\\TEST_1399.png', '../Data/test_image\\\\TEST_1400.png', '../Data/test_image\\\\TEST_1401.png', '../Data/test_image\\\\TEST_1402.png', '../Data/test_image\\\\TEST_1403.png', '../Data/test_image\\\\TEST_1404.png', '../Data/test_image\\\\TEST_1405.png', '../Data/test_image\\\\TEST_1406.png', '../Data/test_image\\\\TEST_1407.png', '../Data/test_image\\\\TEST_1408.png', '../Data/test_image\\\\TEST_1409.png', '../Data/test_image\\\\TEST_1410.png', '../Data/test_image\\\\TEST_1411.png', '../Data/test_image\\\\TEST_1412.png', '../Data/test_image\\\\TEST_1413.png', '../Data/test_image\\\\TEST_1414.png', '../Data/test_image\\\\TEST_1415.png', '../Data/test_image\\\\TEST_1416.png', '../Data/test_image\\\\TEST_1417.png', '../Data/test_image\\\\TEST_1418.png', '../Data/test_image\\\\TEST_1419.png', '../Data/test_image\\\\TEST_1420.png', '../Data/test_image\\\\TEST_1421.png', '../Data/test_image\\\\TEST_1422.png', '../Data/test_image\\\\TEST_1423.png', '../Data/test_image\\\\TEST_1424.png', '../Data/test_image\\\\TEST_1425.png', '../Data/test_image\\\\TEST_1426.png', '../Data/test_image\\\\TEST_1427.png', '../Data/test_image\\\\TEST_1428.png', '../Data/test_image\\\\TEST_1429.png', '../Data/test_image\\\\TEST_1430.png', '../Data/test_image\\\\TEST_1431.png', '../Data/test_image\\\\TEST_1432.png', '../Data/test_image\\\\TEST_1433.png', '../Data/test_image\\\\TEST_1434.png', '../Data/test_image\\\\TEST_1435.png', '../Data/test_image\\\\TEST_1436.png', '../Data/test_image\\\\TEST_1437.png', '../Data/test_image\\\\TEST_1438.png', '../Data/test_image\\\\TEST_1439.png', '../Data/test_image\\\\TEST_1440.png', '../Data/test_image\\\\TEST_1441.png', '../Data/test_image\\\\TEST_1442.png', '../Data/test_image\\\\TEST_1443.png', '../Data/test_image\\\\TEST_1444.png', '../Data/test_image\\\\TEST_1445.png', '../Data/test_image\\\\TEST_1446.png', '../Data/test_image\\\\TEST_1447.png', '../Data/test_image\\\\TEST_1448.png', '../Data/test_image\\\\TEST_1449.png', '../Data/test_image\\\\TEST_1450.png', '../Data/test_image\\\\TEST_1451.png', '../Data/test_image\\\\TEST_1452.png', '../Data/test_image\\\\TEST_1453.png', '../Data/test_image\\\\TEST_1454.png', '../Data/test_image\\\\TEST_1455.png', '../Data/test_image\\\\TEST_1456.png', '../Data/test_image\\\\TEST_1457.png', '../Data/test_image\\\\TEST_1458.png', '../Data/test_image\\\\TEST_1459.png', '../Data/test_image\\\\TEST_1460.png', '../Data/test_image\\\\TEST_1461.png', '../Data/test_image\\\\TEST_1462.png', '../Data/test_image\\\\TEST_1463.png', '../Data/test_image\\\\TEST_1464.png', '../Data/test_image\\\\TEST_1465.png', '../Data/test_image\\\\TEST_1466.png', '../Data/test_image\\\\TEST_1467.png', '../Data/test_image\\\\TEST_1468.png', '../Data/test_image\\\\TEST_1469.png', '../Data/test_image\\\\TEST_1470.png', '../Data/test_image\\\\TEST_1471.png', '../Data/test_image\\\\TEST_1472.png', '../Data/test_image\\\\TEST_1473.png', '../Data/test_image\\\\TEST_1474.png', '../Data/test_image\\\\TEST_1475.png', '../Data/test_image\\\\TEST_1476.png', '../Data/test_image\\\\TEST_1477.png', '../Data/test_image\\\\TEST_1478.png', '../Data/test_image\\\\TEST_1479.png', '../Data/test_image\\\\TEST_1480.png', '../Data/test_image\\\\TEST_1481.png', '../Data/test_image\\\\TEST_1482.png', '../Data/test_image\\\\TEST_1483.png', '../Data/test_image\\\\TEST_1484.png', '../Data/test_image\\\\TEST_1485.png', '../Data/test_image\\\\TEST_1486.png', '../Data/test_image\\\\TEST_1487.png', '../Data/test_image\\\\TEST_1488.png', '../Data/test_image\\\\TEST_1489.png', '../Data/test_image\\\\TEST_1490.png', '../Data/test_image\\\\TEST_1491.png', '../Data/test_image\\\\TEST_1492.png', '../Data/test_image\\\\TEST_1493.png', '../Data/test_image\\\\TEST_1494.png', '../Data/test_image\\\\TEST_1495.png', '../Data/test_image\\\\TEST_1496.png', '../Data/test_image\\\\TEST_1497.png', '../Data/test_image\\\\TEST_1498.png', '../Data/test_image\\\\TEST_1499.png', '../Data/test_image\\\\TEST_1500.png', '../Data/test_image\\\\TEST_1501.png', '../Data/test_image\\\\TEST_1502.png', '../Data/test_image\\\\TEST_1503.png', '../Data/test_image\\\\TEST_1504.png', '../Data/test_image\\\\TEST_1505.png', '../Data/test_image\\\\TEST_1506.png', '../Data/test_image\\\\TEST_1507.png', '../Data/test_image\\\\TEST_1508.png', '../Data/test_image\\\\TEST_1509.png', '../Data/test_image\\\\TEST_1510.png', '../Data/test_image\\\\TEST_1511.png', '../Data/test_image\\\\TEST_1512.png', '../Data/test_image\\\\TEST_1513.png', '../Data/test_image\\\\TEST_1514.png', '../Data/test_image\\\\TEST_1515.png', '../Data/test_image\\\\TEST_1516.png', '../Data/test_image\\\\TEST_1517.png', '../Data/test_image\\\\TEST_1518.png', '../Data/test_image\\\\TEST_1519.png', '../Data/test_image\\\\TEST_1520.png', '../Data/test_image\\\\TEST_1521.png', '../Data/test_image\\\\TEST_1522.png', '../Data/test_image\\\\TEST_1523.png', '../Data/test_image\\\\TEST_1524.png', '../Data/test_image\\\\TEST_1525.png', '../Data/test_image\\\\TEST_1526.png', '../Data/test_image\\\\TEST_1527.png', '../Data/test_image\\\\TEST_1528.png', '../Data/test_image\\\\TEST_1529.png', '../Data/test_image\\\\TEST_1530.png', '../Data/test_image\\\\TEST_1531.png', '../Data/test_image\\\\TEST_1532.png', '../Data/test_image\\\\TEST_1533.png', '../Data/test_image\\\\TEST_1534.png', '../Data/test_image\\\\TEST_1535.png', '../Data/test_image\\\\TEST_1536.png', '../Data/test_image\\\\TEST_1537.png', '../Data/test_image\\\\TEST_1538.png', '../Data/test_image\\\\TEST_1539.png', '../Data/test_image\\\\TEST_1540.png', '../Data/test_image\\\\TEST_1541.png', '../Data/test_image\\\\TEST_1542.png', '../Data/test_image\\\\TEST_1543.png', '../Data/test_image\\\\TEST_1544.png', '../Data/test_image\\\\TEST_1545.png', '../Data/test_image\\\\TEST_1546.png', '../Data/test_image\\\\TEST_1547.png', '../Data/test_image\\\\TEST_1548.png', '../Data/test_image\\\\TEST_1549.png', '../Data/test_image\\\\TEST_1550.png', '../Data/test_image\\\\TEST_1551.png', '../Data/test_image\\\\TEST_1552.png', '../Data/test_image\\\\TEST_1553.png', '../Data/test_image\\\\TEST_1554.png', '../Data/test_image\\\\TEST_1555.png', '../Data/test_image\\\\TEST_1556.png', '../Data/test_image\\\\TEST_1557.png', '../Data/test_image\\\\TEST_1558.png', '../Data/test_image\\\\TEST_1559.png', '../Data/test_image\\\\TEST_1560.png', '../Data/test_image\\\\TEST_1561.png', '../Data/test_image\\\\TEST_1562.png', '../Data/test_image\\\\TEST_1563.png', '../Data/test_image\\\\TEST_1564.png', '../Data/test_image\\\\TEST_1565.png', '../Data/test_image\\\\TEST_1566.png', '../Data/test_image\\\\TEST_1567.png', '../Data/test_image\\\\TEST_1568.png', '../Data/test_image\\\\TEST_1569.png', '../Data/test_image\\\\TEST_1570.png', '../Data/test_image\\\\TEST_1571.png', '../Data/test_image\\\\TEST_1572.png', '../Data/test_image\\\\TEST_1573.png', '../Data/test_image\\\\TEST_1574.png', '../Data/test_image\\\\TEST_1575.png', '../Data/test_image\\\\TEST_1576.png', '../Data/test_image\\\\TEST_1577.png', '../Data/test_image\\\\TEST_1578.png', '../Data/test_image\\\\TEST_1579.png', '../Data/test_image\\\\TEST_1580.png', '../Data/test_image\\\\TEST_1581.png', '../Data/test_image\\\\TEST_1582.png', '../Data/test_image\\\\TEST_1583.png', '../Data/test_image\\\\TEST_1584.png', '../Data/test_image\\\\TEST_1585.png', '../Data/test_image\\\\TEST_1586.png', '../Data/test_image\\\\TEST_1587.png', '../Data/test_image\\\\TEST_1588.png', '../Data/test_image\\\\TEST_1589.png', '../Data/test_image\\\\TEST_1590.png', '../Data/test_image\\\\TEST_1591.png', '../Data/test_image\\\\TEST_1592.png', '../Data/test_image\\\\TEST_1593.png', '../Data/test_image\\\\TEST_1594.png', '../Data/test_image\\\\TEST_1595.png', '../Data/test_image\\\\TEST_1596.png', '../Data/test_image\\\\TEST_1597.png', '../Data/test_image\\\\TEST_1598.png', '../Data/test_image\\\\TEST_1599.png', '../Data/test_image\\\\TEST_1600.png', '../Data/test_image\\\\TEST_1601.png', '../Data/test_image\\\\TEST_1602.png', '../Data/test_image\\\\TEST_1603.png', '../Data/test_image\\\\TEST_1604.png', '../Data/test_image\\\\TEST_1605.png', '../Data/test_image\\\\TEST_1606.png', '../Data/test_image\\\\TEST_1607.png', '../Data/test_image\\\\TEST_1608.png', '../Data/test_image\\\\TEST_1609.png', '../Data/test_image\\\\TEST_1610.png', '../Data/test_image\\\\TEST_1611.png', '../Data/test_image\\\\TEST_1612.png', '../Data/test_image\\\\TEST_1613.png', '../Data/test_image\\\\TEST_1614.png', '../Data/test_image\\\\TEST_1615.png', '../Data/test_image\\\\TEST_1616.png', '../Data/test_image\\\\TEST_1617.png', '../Data/test_image\\\\TEST_1618.png', '../Data/test_image\\\\TEST_1619.png', '../Data/test_image\\\\TEST_1620.png', '../Data/test_image\\\\TEST_1621.png', '../Data/test_image\\\\TEST_1622.png', '../Data/test_image\\\\TEST_1623.png', '../Data/test_image\\\\TEST_1624.png', '../Data/test_image\\\\TEST_1625.png', '../Data/test_image\\\\TEST_1626.png', '../Data/test_image\\\\TEST_1627.png', '../Data/test_image\\\\TEST_1628.png', '../Data/test_image\\\\TEST_1629.png', '../Data/test_image\\\\TEST_1630.png', '../Data/test_image\\\\TEST_1631.png', '../Data/test_image\\\\TEST_1632.png', '../Data/test_image\\\\TEST_1633.png', '../Data/test_image\\\\TEST_1634.png', '../Data/test_image\\\\TEST_1635.png', '../Data/test_image\\\\TEST_1636.png', '../Data/test_image\\\\TEST_1637.png', '../Data/test_image\\\\TEST_1638.png', '../Data/test_image\\\\TEST_1639.png', '../Data/test_image\\\\TEST_1640.png', '../Data/test_image\\\\TEST_1641.png', '../Data/test_image\\\\TEST_1642.png', '../Data/test_image\\\\TEST_1643.png', '../Data/test_image\\\\TEST_1644.png', '../Data/test_image\\\\TEST_1645.png', '../Data/test_image\\\\TEST_1646.png', '../Data/test_image\\\\TEST_1647.png', '../Data/test_image\\\\TEST_1648.png', '../Data/test_image\\\\TEST_1649.png', '../Data/test_image\\\\TEST_1650.png', '../Data/test_image\\\\TEST_1651.png', '../Data/test_image\\\\TEST_1652.png', '../Data/test_image\\\\TEST_1653.png', '../Data/test_image\\\\TEST_1654.png', '../Data/test_image\\\\TEST_1655.png', '../Data/test_image\\\\TEST_1656.png', '../Data/test_image\\\\TEST_1657.png', '../Data/test_image\\\\TEST_1658.png', '../Data/test_image\\\\TEST_1659.png', '../Data/test_image\\\\TEST_1660.png', '../Data/test_image\\\\TEST_1661.png', '../Data/test_image\\\\TEST_1662.png', '../Data/test_image\\\\TEST_1663.png', '../Data/test_image\\\\TEST_1664.png', '../Data/test_image\\\\TEST_1665.png', '../Data/test_image\\\\TEST_1666.png', '../Data/test_image\\\\TEST_1667.png', '../Data/test_image\\\\TEST_1668.png', '../Data/test_image\\\\TEST_1669.png', '../Data/test_image\\\\TEST_1670.png', '../Data/test_image\\\\TEST_1671.png', '../Data/test_image\\\\TEST_1672.png', '../Data/test_image\\\\TEST_1673.png', '../Data/test_image\\\\TEST_1674.png', '../Data/test_image\\\\TEST_1675.png', '../Data/test_image\\\\TEST_1676.png', '../Data/test_image\\\\TEST_1677.png', '../Data/test_image\\\\TEST_1678.png', '../Data/test_image\\\\TEST_1679.png', '../Data/test_image\\\\TEST_1680.png', '../Data/test_image\\\\TEST_1681.png', '../Data/test_image\\\\TEST_1682.png', '../Data/test_image\\\\TEST_1683.png', '../Data/test_image\\\\TEST_1684.png', '../Data/test_image\\\\TEST_1685.png', '../Data/test_image\\\\TEST_1686.png', '../Data/test_image\\\\TEST_1687.png', '../Data/test_image\\\\TEST_1688.png', '../Data/test_image\\\\TEST_1689.png', '../Data/test_image\\\\TEST_1690.png', '../Data/test_image\\\\TEST_1691.png', '../Data/test_image\\\\TEST_1692.png', '../Data/test_image\\\\TEST_1693.png', '../Data/test_image\\\\TEST_1694.png', '../Data/test_image\\\\TEST_1695.png', '../Data/test_image\\\\TEST_1696.png', '../Data/test_image\\\\TEST_1697.png', '../Data/test_image\\\\TEST_1698.png', '../Data/test_image\\\\TEST_1699.png', '../Data/test_image\\\\TEST_1700.png', '../Data/test_image\\\\TEST_1701.png', '../Data/test_image\\\\TEST_1702.png', '../Data/test_image\\\\TEST_1703.png', '../Data/test_image\\\\TEST_1704.png', '../Data/test_image\\\\TEST_1705.png', '../Data/test_image\\\\TEST_1706.png', '../Data/test_image\\\\TEST_1707.png', '../Data/test_image\\\\TEST_1708.png', '../Data/test_image\\\\TEST_1709.png', '../Data/test_image\\\\TEST_1710.png', '../Data/test_image\\\\TEST_1711.png', '../Data/test_image\\\\TEST_1712.png', '../Data/test_image\\\\TEST_1713.png', '../Data/test_image\\\\TEST_1714.png', '../Data/test_image\\\\TEST_1715.png', '../Data/test_image\\\\TEST_1716.png', '../Data/test_image\\\\TEST_1717.png', '../Data/test_image\\\\TEST_1718.png', '../Data/test_image\\\\TEST_1719.png', '../Data/test_image\\\\TEST_1720.png', '../Data/test_image\\\\TEST_1721.png', '../Data/test_image\\\\TEST_1722.png', '../Data/test_image\\\\TEST_1723.png', '../Data/test_image\\\\TEST_1724.png', '../Data/test_image\\\\TEST_1725.png', '../Data/test_image\\\\TEST_1726.png', '../Data/test_image\\\\TEST_1727.png', '../Data/test_image\\\\TEST_1728.png', '../Data/test_image\\\\TEST_1729.png', '../Data/test_image\\\\TEST_1730.png', '../Data/test_image\\\\TEST_1731.png', '../Data/test_image\\\\TEST_1732.png', '../Data/test_image\\\\TEST_1733.png', '../Data/test_image\\\\TEST_1734.png', '../Data/test_image\\\\TEST_1735.png', '../Data/test_image\\\\TEST_1736.png', '../Data/test_image\\\\TEST_1737.png', '../Data/test_image\\\\TEST_1738.png', '../Data/test_image\\\\TEST_1739.png', '../Data/test_image\\\\TEST_1740.png', '../Data/test_image\\\\TEST_1741.png', '../Data/test_image\\\\TEST_1742.png', '../Data/test_image\\\\TEST_1743.png', '../Data/test_image\\\\TEST_1744.png', '../Data/test_image\\\\TEST_1745.png', '../Data/test_image\\\\TEST_1746.png', '../Data/test_image\\\\TEST_1747.png', '../Data/test_image\\\\TEST_1748.png', '../Data/test_image\\\\TEST_1749.png', '../Data/test_image\\\\TEST_1750.png', '../Data/test_image\\\\TEST_1751.png', '../Data/test_image\\\\TEST_1752.png', '../Data/test_image\\\\TEST_1753.png', '../Data/test_image\\\\TEST_1754.png', '../Data/test_image\\\\TEST_1755.png', '../Data/test_image\\\\TEST_1756.png', '../Data/test_image\\\\TEST_1757.png', '../Data/test_image\\\\TEST_1758.png', '../Data/test_image\\\\TEST_1759.png', '../Data/test_image\\\\TEST_1760.png', '../Data/test_image\\\\TEST_1761.png', '../Data/test_image\\\\TEST_1762.png', '../Data/test_image\\\\TEST_1763.png', '../Data/test_image\\\\TEST_1764.png', '../Data/test_image\\\\TEST_1765.png', '../Data/test_image\\\\TEST_1766.png', '../Data/test_image\\\\TEST_1767.png', '../Data/test_image\\\\TEST_1768.png', '../Data/test_image\\\\TEST_1769.png', '../Data/test_image\\\\TEST_1770.png', '../Data/test_image\\\\TEST_1771.png', '../Data/test_image\\\\TEST_1772.png', '../Data/test_image\\\\TEST_1773.png', '../Data/test_image\\\\TEST_1774.png', '../Data/test_image\\\\TEST_1775.png', '../Data/test_image\\\\TEST_1776.png', '../Data/test_image\\\\TEST_1777.png', '../Data/test_image\\\\TEST_1778.png', '../Data/test_image\\\\TEST_1779.png', '../Data/test_image\\\\TEST_1780.png', '../Data/test_image\\\\TEST_1781.png', '../Data/test_image\\\\TEST_1782.png', '../Data/test_image\\\\TEST_1783.png', '../Data/test_image\\\\TEST_1784.png', '../Data/test_image\\\\TEST_1785.png', '../Data/test_image\\\\TEST_1786.png', '../Data/test_image\\\\TEST_1787.png', '../Data/test_image\\\\TEST_1788.png', '../Data/test_image\\\\TEST_1789.png', '../Data/test_image\\\\TEST_1790.png', '../Data/test_image\\\\TEST_1791.png', '../Data/test_image\\\\TEST_1792.png', '../Data/test_image\\\\TEST_1793.png', '../Data/test_image\\\\TEST_1794.png', '../Data/test_image\\\\TEST_1795.png', '../Data/test_image\\\\TEST_1796.png', '../Data/test_image\\\\TEST_1797.png', '../Data/test_image\\\\TEST_1798.png', '../Data/test_image\\\\TEST_1799.png', '../Data/test_image\\\\TEST_1800.png', '../Data/test_image\\\\TEST_1801.png', '../Data/test_image\\\\TEST_1802.png', '../Data/test_image\\\\TEST_1803.png', '../Data/test_image\\\\TEST_1804.png', '../Data/test_image\\\\TEST_1805.png', '../Data/test_image\\\\TEST_1806.png', '../Data/test_image\\\\TEST_1807.png', '../Data/test_image\\\\TEST_1808.png', '../Data/test_image\\\\TEST_1809.png', '../Data/test_image\\\\TEST_1810.png', '../Data/test_image\\\\TEST_1811.png', '../Data/test_image\\\\TEST_1812.png', '../Data/test_image\\\\TEST_1813.png', '../Data/test_image\\\\TEST_1814.png', '../Data/test_image\\\\TEST_1815.png', '../Data/test_image\\\\TEST_1816.png', '../Data/test_image\\\\TEST_1817.png', '../Data/test_image\\\\TEST_1818.png', '../Data/test_image\\\\TEST_1819.png', '../Data/test_image\\\\TEST_1820.png', '../Data/test_image\\\\TEST_1821.png', '../Data/test_image\\\\TEST_1822.png', '../Data/test_image\\\\TEST_1823.png', '../Data/test_image\\\\TEST_1824.png', '../Data/test_image\\\\TEST_1825.png', '../Data/test_image\\\\TEST_1826.png', '../Data/test_image\\\\TEST_1827.png', '../Data/test_image\\\\TEST_1828.png', '../Data/test_image\\\\TEST_1829.png', '../Data/test_image\\\\TEST_1830.png', '../Data/test_image\\\\TEST_1831.png', '../Data/test_image\\\\TEST_1832.png', '../Data/test_image\\\\TEST_1833.png', '../Data/test_image\\\\TEST_1834.png', '../Data/test_image\\\\TEST_1835.png', '../Data/test_image\\\\TEST_1836.png', '../Data/test_image\\\\TEST_1837.png', '../Data/test_image\\\\TEST_1838.png', '../Data/test_image\\\\TEST_1839.png', '../Data/test_image\\\\TEST_1840.png', '../Data/test_image\\\\TEST_1841.png', '../Data/test_image\\\\TEST_1842.png', '../Data/test_image\\\\TEST_1843.png', '../Data/test_image\\\\TEST_1844.png', '../Data/test_image\\\\TEST_1845.png', '../Data/test_image\\\\TEST_1846.png', '../Data/test_image\\\\TEST_1847.png', '../Data/test_image\\\\TEST_1848.png', '../Data/test_image\\\\TEST_1849.png', '../Data/test_image\\\\TEST_1850.png', '../Data/test_image\\\\TEST_1851.png', '../Data/test_image\\\\TEST_1852.png', '../Data/test_image\\\\TEST_1853.png', '../Data/test_image\\\\TEST_1854.png', '../Data/test_image\\\\TEST_1855.png', '../Data/test_image\\\\TEST_1856.png', '../Data/test_image\\\\TEST_1857.png', '../Data/test_image\\\\TEST_1858.png', '../Data/test_image\\\\TEST_1859.png', '../Data/test_image\\\\TEST_1860.png', '../Data/test_image\\\\TEST_1861.png', '../Data/test_image\\\\TEST_1862.png', '../Data/test_image\\\\TEST_1863.png', '../Data/test_image\\\\TEST_1864.png', '../Data/test_image\\\\TEST_1865.png', '../Data/test_image\\\\TEST_1866.png', '../Data/test_image\\\\TEST_1867.png', '../Data/test_image\\\\TEST_1868.png', '../Data/test_image\\\\TEST_1869.png', '../Data/test_image\\\\TEST_1870.png', '../Data/test_image\\\\TEST_1871.png', '../Data/test_image\\\\TEST_1872.png', '../Data/test_image\\\\TEST_1873.png', '../Data/test_image\\\\TEST_1874.png', '../Data/test_image\\\\TEST_1875.png', '../Data/test_image\\\\TEST_1876.png', '../Data/test_image\\\\TEST_1877.png', '../Data/test_image\\\\TEST_1878.png', '../Data/test_image\\\\TEST_1879.png', '../Data/test_image\\\\TEST_1880.png', '../Data/test_image\\\\TEST_1881.png', '../Data/test_image\\\\TEST_1882.png', '../Data/test_image\\\\TEST_1883.png', '../Data/test_image\\\\TEST_1884.png', '../Data/test_image\\\\TEST_1885.png', '../Data/test_image\\\\TEST_1886.png', '../Data/test_image\\\\TEST_1887.png', '../Data/test_image\\\\TEST_1888.png', '../Data/test_image\\\\TEST_1889.png', '../Data/test_image\\\\TEST_1890.png', '../Data/test_image\\\\TEST_1891.png', '../Data/test_image\\\\TEST_1892.png', '../Data/test_image\\\\TEST_1893.png', '../Data/test_image\\\\TEST_1894.png', '../Data/test_image\\\\TEST_1895.png', '../Data/test_image\\\\TEST_1896.png', '../Data/test_image\\\\TEST_1897.png']\n"
     ]
    }
   ],
   "source": [
    "#폴더 이동시 경로 수정이 필요할 수 있음 \n",
    "test_dataset = glob.glob(\"../Data/test_image/*\")\n",
    "\n",
    "# glob 이후에 정렬이 안되어 있기 때문에, source - gt matching을 위해 정렬\n",
    "test_dataset.sort()\n",
    "\n",
    "print(test_dataset)"
   ]
  },
  {
   "cell_type": "code",
   "execution_count": 25,
   "metadata": {},
   "outputs": [
    {
     "data": {
      "text/html": [
       "<div>\n",
       "<style scoped>\n",
       "    .dataframe tbody tr th:only-of-type {\n",
       "        vertical-align: middle;\n",
       "    }\n",
       "\n",
       "    .dataframe tbody tr th {\n",
       "        vertical-align: top;\n",
       "    }\n",
       "\n",
       "    .dataframe thead th {\n",
       "        text-align: right;\n",
       "    }\n",
       "</style>\n",
       "<table border=\"1\" class=\"dataframe\">\n",
       "  <thead>\n",
       "    <tr style=\"text-align: right;\">\n",
       "      <th></th>\n",
       "      <th>test</th>\n",
       "    </tr>\n",
       "  </thead>\n",
       "  <tbody>\n",
       "    <tr>\n",
       "      <th>0</th>\n",
       "      <td>../Data/test_image\\TEST_0000.png</td>\n",
       "    </tr>\n",
       "    <tr>\n",
       "      <th>1</th>\n",
       "      <td>../Data/test_image\\TEST_0001.png</td>\n",
       "    </tr>\n",
       "    <tr>\n",
       "      <th>2</th>\n",
       "      <td>../Data/test_image\\TEST_0002.png</td>\n",
       "    </tr>\n",
       "    <tr>\n",
       "      <th>3</th>\n",
       "      <td>../Data/test_image\\TEST_0003.png</td>\n",
       "    </tr>\n",
       "    <tr>\n",
       "      <th>4</th>\n",
       "      <td>../Data/test_image\\TEST_0004.png</td>\n",
       "    </tr>\n",
       "    <tr>\n",
       "      <th>...</th>\n",
       "      <td>...</td>\n",
       "    </tr>\n",
       "    <tr>\n",
       "      <th>1893</th>\n",
       "      <td>../Data/test_image\\TEST_1893.png</td>\n",
       "    </tr>\n",
       "    <tr>\n",
       "      <th>1894</th>\n",
       "      <td>../Data/test_image\\TEST_1894.png</td>\n",
       "    </tr>\n",
       "    <tr>\n",
       "      <th>1895</th>\n",
       "      <td>../Data/test_image\\TEST_1895.png</td>\n",
       "    </tr>\n",
       "    <tr>\n",
       "      <th>1896</th>\n",
       "      <td>../Data/test_image\\TEST_1896.png</td>\n",
       "    </tr>\n",
       "    <tr>\n",
       "      <th>1897</th>\n",
       "      <td>../Data/test_image\\TEST_1897.png</td>\n",
       "    </tr>\n",
       "  </tbody>\n",
       "</table>\n",
       "<p>1898 rows × 1 columns</p>\n",
       "</div>"
      ],
      "text/plain": [
       "                                  test\n",
       "0     ../Data/test_image\\TEST_0000.png\n",
       "1     ../Data/test_image\\TEST_0001.png\n",
       "2     ../Data/test_image\\TEST_0002.png\n",
       "3     ../Data/test_image\\TEST_0003.png\n",
       "4     ../Data/test_image\\TEST_0004.png\n",
       "...                                ...\n",
       "1893  ../Data/test_image\\TEST_1893.png\n",
       "1894  ../Data/test_image\\TEST_1894.png\n",
       "1895  ../Data/test_image\\TEST_1895.png\n",
       "1896  ../Data/test_image\\TEST_1896.png\n",
       "1897  ../Data/test_image\\TEST_1897.png\n",
       "\n",
       "[1898 rows x 1 columns]"
      ]
     },
     "execution_count": 25,
     "metadata": {},
     "output_type": "execute_result"
    }
   ],
   "source": [
    "df_test = pd.DataFrame(columns=['test'])\n",
    "df_test['test'] = test_dataset\n",
    "\n",
    "df_test"
   ]
  },
  {
   "cell_type": "code",
   "execution_count": 27,
   "metadata": {},
   "outputs": [],
   "source": [
    "test_dataset = CustomDataset(image = df_test['test'].values ,label = _ , transform=transform, infer=True)\n",
    "test_loader = DataLoader(test_dataset, batch_size=16, shuffle=False, num_workers=0 )"
   ]
  },
  {
   "cell_type": "code",
   "execution_count": 33,
   "metadata": {},
   "outputs": [
    {
     "name": "stderr",
     "output_type": "stream",
     "text": [
      "100%|██████████| 119/119 [01:38<00:00,  1.21it/s]\n"
     ]
    }
   ],
   "source": [
    "with torch.no_grad():\n",
    "    infer_model.eval()\n",
    "    result = []\n",
    "    for images in tqdm(test_loader):\n",
    "        images = images.float().to(device)\n",
    "        pred = infer_model(images)\n",
    "        result += pred.detach().argmax(1).cpu().numpy().tolist()\n",
    "            "
   ]
  },
  {
   "cell_type": "code",
   "execution_count": 37,
   "metadata": {},
   "outputs": [
    {
     "data": {
      "text/html": [
       "<div>\n",
       "<style scoped>\n",
       "    .dataframe tbody tr th:only-of-type {\n",
       "        vertical-align: middle;\n",
       "    }\n",
       "\n",
       "    .dataframe tbody tr th {\n",
       "        vertical-align: top;\n",
       "    }\n",
       "\n",
       "    .dataframe thead th {\n",
       "        text-align: right;\n",
       "    }\n",
       "</style>\n",
       "<table border=\"1\" class=\"dataframe\">\n",
       "  <thead>\n",
       "    <tr style=\"text-align: right;\">\n",
       "      <th></th>\n",
       "      <th>source</th>\n",
       "      <th>label</th>\n",
       "    </tr>\n",
       "  </thead>\n",
       "  <tbody>\n",
       "    <tr>\n",
       "      <th>0</th>\n",
       "      <td>../Data/test_image\\TEST_0000.png</td>\n",
       "      <td>1</td>\n",
       "    </tr>\n",
       "    <tr>\n",
       "      <th>1</th>\n",
       "      <td>../Data/test_image\\TEST_0001.png</td>\n",
       "      <td>1</td>\n",
       "    </tr>\n",
       "    <tr>\n",
       "      <th>2</th>\n",
       "      <td>../Data/test_image\\TEST_0002.png</td>\n",
       "      <td>1</td>\n",
       "    </tr>\n",
       "    <tr>\n",
       "      <th>3</th>\n",
       "      <td>../Data/test_image\\TEST_0003.png</td>\n",
       "      <td>1</td>\n",
       "    </tr>\n",
       "    <tr>\n",
       "      <th>4</th>\n",
       "      <td>../Data/test_image\\TEST_0004.png</td>\n",
       "      <td>1</td>\n",
       "    </tr>\n",
       "    <tr>\n",
       "      <th>...</th>\n",
       "      <td>...</td>\n",
       "      <td>...</td>\n",
       "    </tr>\n",
       "    <tr>\n",
       "      <th>1893</th>\n",
       "      <td>../Data/test_image\\TEST_1893.png</td>\n",
       "      <td>0</td>\n",
       "    </tr>\n",
       "    <tr>\n",
       "      <th>1894</th>\n",
       "      <td>../Data/test_image\\TEST_1894.png</td>\n",
       "      <td>0</td>\n",
       "    </tr>\n",
       "    <tr>\n",
       "      <th>1895</th>\n",
       "      <td>../Data/test_image\\TEST_1895.png</td>\n",
       "      <td>1</td>\n",
       "    </tr>\n",
       "    <tr>\n",
       "      <th>1896</th>\n",
       "      <td>../Data/test_image\\TEST_1896.png</td>\n",
       "      <td>0</td>\n",
       "    </tr>\n",
       "    <tr>\n",
       "      <th>1897</th>\n",
       "      <td>../Data/test_image\\TEST_1897.png</td>\n",
       "      <td>1</td>\n",
       "    </tr>\n",
       "  </tbody>\n",
       "</table>\n",
       "<p>1898 rows × 2 columns</p>\n",
       "</div>"
      ],
      "text/plain": [
       "                                source  label\n",
       "0     ../Data/test_image\\TEST_0000.png      1\n",
       "1     ../Data/test_image\\TEST_0001.png      1\n",
       "2     ../Data/test_image\\TEST_0002.png      1\n",
       "3     ../Data/test_image\\TEST_0003.png      1\n",
       "4     ../Data/test_image\\TEST_0004.png      1\n",
       "...                                ...    ...\n",
       "1893  ../Data/test_image\\TEST_1893.png      0\n",
       "1894  ../Data/test_image\\TEST_1894.png      0\n",
       "1895  ../Data/test_image\\TEST_1895.png      1\n",
       "1896  ../Data/test_image\\TEST_1896.png      0\n",
       "1897  ../Data/test_image\\TEST_1897.png      1\n",
       "\n",
       "[1898 rows x 2 columns]"
      ]
     },
     "execution_count": 37,
     "metadata": {},
     "output_type": "execute_result"
    }
   ],
   "source": [
    "df = pd.DataFrame(columns=['source','label'])\n",
    "df['source'] =  test_dataset\n",
    "df['label'] = result\n",
    "df"
   ]
  },
  {
   "cell_type": "code",
   "execution_count": 38,
   "metadata": {},
   "outputs": [],
   "source": [
    "df.to_csv('./front_OR_back.csv', index=False)\n",
    "# 0 이 back 1이 front"
   ]
  },
  {
   "cell_type": "code",
   "execution_count": null,
   "metadata": {},
   "outputs": [],
   "source": []
  }
 ],
 "metadata": {
  "kernelspec": {
   "display_name": "EHmin",
   "language": "python",
   "name": "python3"
  },
  "language_info": {
   "codemirror_mode": {
    "name": "ipython",
    "version": 3
   },
   "file_extension": ".py",
   "mimetype": "text/x-python",
   "name": "python",
   "nbconvert_exporter": "python",
   "pygments_lexer": "ipython3",
   "version": "3.10.11"
  },
  "orig_nbformat": 4
 },
 "nbformat": 4,
 "nbformat_minor": 2
}
