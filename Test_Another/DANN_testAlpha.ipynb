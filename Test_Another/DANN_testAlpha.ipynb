{
 "cells": [
  {
   "cell_type": "markdown",
   "metadata": {},
   "source": [
    "# Import"
   ]
  },
  {
   "cell_type": "code",
   "execution_count": 1,
   "metadata": {},
   "outputs": [],
   "source": [
    "import pandas as pd \n",
    "import glob\n",
    "import cv2 as cv\n",
    "import random\n",
    "import os\n",
    "\n",
    "import matplotlib.pyplot as plt\n",
    "import numpy as np\n",
    "import random\n",
    "from PIL import Image\n",
    "import PIL.ImageOps    \n",
    "\n",
    "import torchvision\n",
    "import torchvision.datasets as datasets\n",
    "import torchvision.transforms as transforms\n",
    "from torch.utils.data import DataLoader, Dataset\n",
    "import torchvision.utils\n",
    "import torch\n",
    "from torch.autograd import Variable\n",
    "import torch.nn as nn\n",
    "from torch import optim\n",
    "import torch.nn.functional as F\n",
    "import albumentations as A\n",
    "from albumentations.pytorch.transforms import ToTensorV2\n",
    "from sklearn.metrics import f1_score, accuracy_score\n",
    "\n",
    "from tqdm.auto import tqdm\n",
    "import timm\n",
    "import math\n",
    "from sklearn.model_selection import train_test_split\n",
    "\n",
    "import segmentation_models_pytorch as smp\n",
    "device = torch.device('cuda' if torch.cuda.is_available() else 'cpu')\n"
   ]
  },
  {
   "cell_type": "markdown",
   "metadata": {},
   "source": [
    "# Utils"
   ]
  },
  {
   "cell_type": "code",
   "execution_count": 2,
   "metadata": {},
   "outputs": [],
   "source": [
    "# RLE 인코딩 함수\n",
    "def rle_encode(mask):\n",
    "    pixels = mask.flatten()\n",
    "    pixels = np.concatenate([[0], pixels, [0]])\n",
    "    runs = np.where(pixels[1:] != pixels[:-1])[0] + 1\n",
    "    runs[1::2] -= runs[::2]\n",
    "    return ' '.join(str(x) for x in runs)\n",
    "\n",
    "def seed_everything(seed):\n",
    "    random.seed(seed)\n",
    "    os.environ['PYTHONHASHSEED'] = 'a'\n",
    "    np.random.seed(seed)\n",
    "    torch.manual_seed(seed)\n",
    "    torch.cuda.manual_seed(seed)\n",
    "    torch.backends.cudnn.deterministic = True\n",
    "    torch.backends.cudnn.benchmark = True\n",
    "    \n",
    "CFG = {\n",
    "    'IMG_SIZE':224,\n",
    "    'EPOCHS':300,\n",
    "    'LEARNING_RATE':3e-4,\n",
    "    # 'LEARNING_RATE':10,\n",
    "    'BATCH_SIZE':8,\n",
    "    'SEED':41\n",
    "}\n",
    "\n",
    "seed_everything(CFG['SEED']) # Seed 고정"
   ]
  },
  {
   "cell_type": "code",
   "execution_count": 3,
   "metadata": {},
   "outputs": [
    {
     "name": "stdout",
     "output_type": "stream",
     "text": [
      "['../Data/train_source_image\\\\TRAIN_SOURCE_0000.png', '../Data/train_source_image\\\\TRAIN_SOURCE_0001.png', '../Data/train_source_image\\\\TRAIN_SOURCE_0002.png', '../Data/train_source_image\\\\TRAIN_SOURCE_0003.png', '../Data/train_source_image\\\\TRAIN_SOURCE_0004.png', '../Data/train_source_image\\\\TRAIN_SOURCE_0005.png', '../Data/train_source_image\\\\TRAIN_SOURCE_0006.png', '../Data/train_source_image\\\\TRAIN_SOURCE_0007.png', '../Data/train_source_image\\\\TRAIN_SOURCE_0008.png', '../Data/train_source_image\\\\TRAIN_SOURCE_0009.png', '../Data/train_source_image\\\\TRAIN_SOURCE_0010.png', '../Data/train_source_image\\\\TRAIN_SOURCE_0011.png', '../Data/train_source_image\\\\TRAIN_SOURCE_0012.png', '../Data/train_source_image\\\\TRAIN_SOURCE_0013.png', '../Data/train_source_image\\\\TRAIN_SOURCE_0014.png', '../Data/train_source_image\\\\TRAIN_SOURCE_0015.png', '../Data/train_source_image\\\\TRAIN_SOURCE_0016.png', '../Data/train_source_image\\\\TRAIN_SOURCE_0017.png', '../Data/train_source_image\\\\TRAIN_SOURCE_0018.png', '../Data/train_source_image\\\\TRAIN_SOURCE_0019.png', '../Data/train_source_image\\\\TRAIN_SOURCE_0020.png', '../Data/train_source_image\\\\TRAIN_SOURCE_0021.png', '../Data/train_source_image\\\\TRAIN_SOURCE_0022.png', '../Data/train_source_image\\\\TRAIN_SOURCE_0023.png', '../Data/train_source_image\\\\TRAIN_SOURCE_0024.png', '../Data/train_source_image\\\\TRAIN_SOURCE_0025.png', '../Data/train_source_image\\\\TRAIN_SOURCE_0026.png', '../Data/train_source_image\\\\TRAIN_SOURCE_0027.png', '../Data/train_source_image\\\\TRAIN_SOURCE_0028.png', '../Data/train_source_image\\\\TRAIN_SOURCE_0029.png', '../Data/train_source_image\\\\TRAIN_SOURCE_0030.png', '../Data/train_source_image\\\\TRAIN_SOURCE_0031.png', '../Data/train_source_image\\\\TRAIN_SOURCE_0032.png', '../Data/train_source_image\\\\TRAIN_SOURCE_0033.png', '../Data/train_source_image\\\\TRAIN_SOURCE_0034.png', '../Data/train_source_image\\\\TRAIN_SOURCE_0035.png', '../Data/train_source_image\\\\TRAIN_SOURCE_0036.png', '../Data/train_source_image\\\\TRAIN_SOURCE_0037.png', '../Data/train_source_image\\\\TRAIN_SOURCE_0038.png', '../Data/train_source_image\\\\TRAIN_SOURCE_0039.png', '../Data/train_source_image\\\\TRAIN_SOURCE_0040.png', '../Data/train_source_image\\\\TRAIN_SOURCE_0041.png', '../Data/train_source_image\\\\TRAIN_SOURCE_0042.png', '../Data/train_source_image\\\\TRAIN_SOURCE_0043.png', '../Data/train_source_image\\\\TRAIN_SOURCE_0044.png', '../Data/train_source_image\\\\TRAIN_SOURCE_0045.png', '../Data/train_source_image\\\\TRAIN_SOURCE_0046.png', '../Data/train_source_image\\\\TRAIN_SOURCE_0047.png', '../Data/train_source_image\\\\TRAIN_SOURCE_0048.png', '../Data/train_source_image\\\\TRAIN_SOURCE_0049.png', '../Data/train_source_image\\\\TRAIN_SOURCE_0050.png', '../Data/train_source_image\\\\TRAIN_SOURCE_0051.png', '../Data/train_source_image\\\\TRAIN_SOURCE_0052.png', '../Data/train_source_image\\\\TRAIN_SOURCE_0053.png', '../Data/train_source_image\\\\TRAIN_SOURCE_0054.png', '../Data/train_source_image\\\\TRAIN_SOURCE_0055.png', '../Data/train_source_image\\\\TRAIN_SOURCE_0056.png', '../Data/train_source_image\\\\TRAIN_SOURCE_0057.png', '../Data/train_source_image\\\\TRAIN_SOURCE_0058.png', '../Data/train_source_image\\\\TRAIN_SOURCE_0059.png', '../Data/train_source_image\\\\TRAIN_SOURCE_0060.png', '../Data/train_source_image\\\\TRAIN_SOURCE_0061.png', '../Data/train_source_image\\\\TRAIN_SOURCE_0062.png', '../Data/train_source_image\\\\TRAIN_SOURCE_0063.png', '../Data/train_source_image\\\\TRAIN_SOURCE_0064.png', '../Data/train_source_image\\\\TRAIN_SOURCE_0065.png', '../Data/train_source_image\\\\TRAIN_SOURCE_0066.png', '../Data/train_source_image\\\\TRAIN_SOURCE_0067.png', '../Data/train_source_image\\\\TRAIN_SOURCE_0068.png', '../Data/train_source_image\\\\TRAIN_SOURCE_0069.png', '../Data/train_source_image\\\\TRAIN_SOURCE_0070.png', '../Data/train_source_image\\\\TRAIN_SOURCE_0071.png', '../Data/train_source_image\\\\TRAIN_SOURCE_0072.png', '../Data/train_source_image\\\\TRAIN_SOURCE_0073.png', '../Data/train_source_image\\\\TRAIN_SOURCE_0074.png', '../Data/train_source_image\\\\TRAIN_SOURCE_0075.png', '../Data/train_source_image\\\\TRAIN_SOURCE_0076.png', '../Data/train_source_image\\\\TRAIN_SOURCE_0077.png', '../Data/train_source_image\\\\TRAIN_SOURCE_0078.png', '../Data/train_source_image\\\\TRAIN_SOURCE_0079.png', '../Data/train_source_image\\\\TRAIN_SOURCE_0080.png', '../Data/train_source_image\\\\TRAIN_SOURCE_0081.png', '../Data/train_source_image\\\\TRAIN_SOURCE_0082.png', '../Data/train_source_image\\\\TRAIN_SOURCE_0083.png', '../Data/train_source_image\\\\TRAIN_SOURCE_0084.png', '../Data/train_source_image\\\\TRAIN_SOURCE_0085.png', '../Data/train_source_image\\\\TRAIN_SOURCE_0086.png', '../Data/train_source_image\\\\TRAIN_SOURCE_0087.png', '../Data/train_source_image\\\\TRAIN_SOURCE_0088.png', '../Data/train_source_image\\\\TRAIN_SOURCE_0089.png', '../Data/train_source_image\\\\TRAIN_SOURCE_0090.png', '../Data/train_source_image\\\\TRAIN_SOURCE_0091.png', '../Data/train_source_image\\\\TRAIN_SOURCE_0092.png', '../Data/train_source_image\\\\TRAIN_SOURCE_0093.png', '../Data/train_source_image\\\\TRAIN_SOURCE_0094.png', '../Data/train_source_image\\\\TRAIN_SOURCE_0095.png', '../Data/train_source_image\\\\TRAIN_SOURCE_0096.png', '../Data/train_source_image\\\\TRAIN_SOURCE_0097.png', '../Data/train_source_image\\\\TRAIN_SOURCE_0098.png', '../Data/train_source_image\\\\TRAIN_SOURCE_0099.png', '../Data/train_source_image\\\\TRAIN_SOURCE_0100.png', '../Data/train_source_image\\\\TRAIN_SOURCE_0101.png', '../Data/train_source_image\\\\TRAIN_SOURCE_0102.png', '../Data/train_source_image\\\\TRAIN_SOURCE_0103.png', '../Data/train_source_image\\\\TRAIN_SOURCE_0104.png', '../Data/train_source_image\\\\TRAIN_SOURCE_0105.png', '../Data/train_source_image\\\\TRAIN_SOURCE_0106.png', '../Data/train_source_image\\\\TRAIN_SOURCE_0107.png', '../Data/train_source_image\\\\TRAIN_SOURCE_0108.png', '../Data/train_source_image\\\\TRAIN_SOURCE_0109.png', '../Data/train_source_image\\\\TRAIN_SOURCE_0110.png', '../Data/train_source_image\\\\TRAIN_SOURCE_0111.png', '../Data/train_source_image\\\\TRAIN_SOURCE_0112.png', '../Data/train_source_image\\\\TRAIN_SOURCE_0113.png', '../Data/train_source_image\\\\TRAIN_SOURCE_0114.png', '../Data/train_source_image\\\\TRAIN_SOURCE_0115.png', '../Data/train_source_image\\\\TRAIN_SOURCE_0116.png', '../Data/train_source_image\\\\TRAIN_SOURCE_0117.png', '../Data/train_source_image\\\\TRAIN_SOURCE_0118.png', '../Data/train_source_image\\\\TRAIN_SOURCE_0119.png', '../Data/train_source_image\\\\TRAIN_SOURCE_0120.png', '../Data/train_source_image\\\\TRAIN_SOURCE_0121.png', '../Data/train_source_image\\\\TRAIN_SOURCE_0122.png', '../Data/train_source_image\\\\TRAIN_SOURCE_0123.png', '../Data/train_source_image\\\\TRAIN_SOURCE_0124.png', '../Data/train_source_image\\\\TRAIN_SOURCE_0125.png', '../Data/train_source_image\\\\TRAIN_SOURCE_0126.png', '../Data/train_source_image\\\\TRAIN_SOURCE_0127.png', '../Data/train_source_image\\\\TRAIN_SOURCE_0128.png', '../Data/train_source_image\\\\TRAIN_SOURCE_0129.png', '../Data/train_source_image\\\\TRAIN_SOURCE_0130.png', '../Data/train_source_image\\\\TRAIN_SOURCE_0131.png', '../Data/train_source_image\\\\TRAIN_SOURCE_0132.png', '../Data/train_source_image\\\\TRAIN_SOURCE_0133.png', '../Data/train_source_image\\\\TRAIN_SOURCE_0134.png', '../Data/train_source_image\\\\TRAIN_SOURCE_0135.png', '../Data/train_source_image\\\\TRAIN_SOURCE_0136.png', '../Data/train_source_image\\\\TRAIN_SOURCE_0137.png', '../Data/train_source_image\\\\TRAIN_SOURCE_0138.png', '../Data/train_source_image\\\\TRAIN_SOURCE_0139.png', '../Data/train_source_image\\\\TRAIN_SOURCE_0140.png', '../Data/train_source_image\\\\TRAIN_SOURCE_0141.png', '../Data/train_source_image\\\\TRAIN_SOURCE_0142.png', '../Data/train_source_image\\\\TRAIN_SOURCE_0143.png', '../Data/train_source_image\\\\TRAIN_SOURCE_0144.png', '../Data/train_source_image\\\\TRAIN_SOURCE_0145.png', '../Data/train_source_image\\\\TRAIN_SOURCE_0146.png', '../Data/train_source_image\\\\TRAIN_SOURCE_0147.png', '../Data/train_source_image\\\\TRAIN_SOURCE_0148.png', '../Data/train_source_image\\\\TRAIN_SOURCE_0149.png', '../Data/train_source_image\\\\TRAIN_SOURCE_0150.png', '../Data/train_source_image\\\\TRAIN_SOURCE_0151.png', '../Data/train_source_image\\\\TRAIN_SOURCE_0152.png', '../Data/train_source_image\\\\TRAIN_SOURCE_0153.png', '../Data/train_source_image\\\\TRAIN_SOURCE_0154.png', '../Data/train_source_image\\\\TRAIN_SOURCE_0155.png', '../Data/train_source_image\\\\TRAIN_SOURCE_0156.png', '../Data/train_source_image\\\\TRAIN_SOURCE_0157.png', '../Data/train_source_image\\\\TRAIN_SOURCE_0158.png', '../Data/train_source_image\\\\TRAIN_SOURCE_0159.png', '../Data/train_source_image\\\\TRAIN_SOURCE_0160.png', '../Data/train_source_image\\\\TRAIN_SOURCE_0161.png', '../Data/train_source_image\\\\TRAIN_SOURCE_0162.png', '../Data/train_source_image\\\\TRAIN_SOURCE_0163.png', '../Data/train_source_image\\\\TRAIN_SOURCE_0164.png', '../Data/train_source_image\\\\TRAIN_SOURCE_0165.png', '../Data/train_source_image\\\\TRAIN_SOURCE_0166.png', '../Data/train_source_image\\\\TRAIN_SOURCE_0167.png', '../Data/train_source_image\\\\TRAIN_SOURCE_0168.png', '../Data/train_source_image\\\\TRAIN_SOURCE_0169.png', '../Data/train_source_image\\\\TRAIN_SOURCE_0170.png', '../Data/train_source_image\\\\TRAIN_SOURCE_0171.png', '../Data/train_source_image\\\\TRAIN_SOURCE_0172.png', '../Data/train_source_image\\\\TRAIN_SOURCE_0173.png', '../Data/train_source_image\\\\TRAIN_SOURCE_0174.png', '../Data/train_source_image\\\\TRAIN_SOURCE_0175.png', '../Data/train_source_image\\\\TRAIN_SOURCE_0176.png', '../Data/train_source_image\\\\TRAIN_SOURCE_0177.png', '../Data/train_source_image\\\\TRAIN_SOURCE_0178.png', '../Data/train_source_image\\\\TRAIN_SOURCE_0179.png', '../Data/train_source_image\\\\TRAIN_SOURCE_0180.png', '../Data/train_source_image\\\\TRAIN_SOURCE_0181.png', '../Data/train_source_image\\\\TRAIN_SOURCE_0182.png', '../Data/train_source_image\\\\TRAIN_SOURCE_0183.png', '../Data/train_source_image\\\\TRAIN_SOURCE_0184.png', '../Data/train_source_image\\\\TRAIN_SOURCE_0185.png', '../Data/train_source_image\\\\TRAIN_SOURCE_0186.png', '../Data/train_source_image\\\\TRAIN_SOURCE_0187.png', '../Data/train_source_image\\\\TRAIN_SOURCE_0188.png', '../Data/train_source_image\\\\TRAIN_SOURCE_0189.png', '../Data/train_source_image\\\\TRAIN_SOURCE_0190.png', '../Data/train_source_image\\\\TRAIN_SOURCE_0191.png', '../Data/train_source_image\\\\TRAIN_SOURCE_0192.png', '../Data/train_source_image\\\\TRAIN_SOURCE_0193.png', '../Data/train_source_image\\\\TRAIN_SOURCE_0194.png', '../Data/train_source_image\\\\TRAIN_SOURCE_0195.png', '../Data/train_source_image\\\\TRAIN_SOURCE_0196.png', '../Data/train_source_image\\\\TRAIN_SOURCE_0197.png', '../Data/train_source_image\\\\TRAIN_SOURCE_0198.png', '../Data/train_source_image\\\\TRAIN_SOURCE_0199.png', '../Data/train_source_image\\\\TRAIN_SOURCE_0200.png', '../Data/train_source_image\\\\TRAIN_SOURCE_0201.png', '../Data/train_source_image\\\\TRAIN_SOURCE_0202.png', '../Data/train_source_image\\\\TRAIN_SOURCE_0203.png', '../Data/train_source_image\\\\TRAIN_SOURCE_0204.png', '../Data/train_source_image\\\\TRAIN_SOURCE_0205.png', '../Data/train_source_image\\\\TRAIN_SOURCE_0206.png', '../Data/train_source_image\\\\TRAIN_SOURCE_0207.png', '../Data/train_source_image\\\\TRAIN_SOURCE_0208.png', '../Data/train_source_image\\\\TRAIN_SOURCE_0209.png', '../Data/train_source_image\\\\TRAIN_SOURCE_0210.png', '../Data/train_source_image\\\\TRAIN_SOURCE_0211.png', '../Data/train_source_image\\\\TRAIN_SOURCE_0212.png', '../Data/train_source_image\\\\TRAIN_SOURCE_0213.png', '../Data/train_source_image\\\\TRAIN_SOURCE_0214.png', '../Data/train_source_image\\\\TRAIN_SOURCE_0215.png', '../Data/train_source_image\\\\TRAIN_SOURCE_0216.png', '../Data/train_source_image\\\\TRAIN_SOURCE_0217.png', '../Data/train_source_image\\\\TRAIN_SOURCE_0218.png', '../Data/train_source_image\\\\TRAIN_SOURCE_0219.png', '../Data/train_source_image\\\\TRAIN_SOURCE_0220.png', '../Data/train_source_image\\\\TRAIN_SOURCE_0221.png', '../Data/train_source_image\\\\TRAIN_SOURCE_0222.png', '../Data/train_source_image\\\\TRAIN_SOURCE_0223.png', '../Data/train_source_image\\\\TRAIN_SOURCE_0224.png', '../Data/train_source_image\\\\TRAIN_SOURCE_0225.png', '../Data/train_source_image\\\\TRAIN_SOURCE_0226.png', '../Data/train_source_image\\\\TRAIN_SOURCE_0227.png', '../Data/train_source_image\\\\TRAIN_SOURCE_0228.png', '../Data/train_source_image\\\\TRAIN_SOURCE_0229.png', '../Data/train_source_image\\\\TRAIN_SOURCE_0230.png', '../Data/train_source_image\\\\TRAIN_SOURCE_0231.png', '../Data/train_source_image\\\\TRAIN_SOURCE_0232.png', '../Data/train_source_image\\\\TRAIN_SOURCE_0233.png', '../Data/train_source_image\\\\TRAIN_SOURCE_0234.png', '../Data/train_source_image\\\\TRAIN_SOURCE_0235.png', '../Data/train_source_image\\\\TRAIN_SOURCE_0236.png', '../Data/train_source_image\\\\TRAIN_SOURCE_0237.png', '../Data/train_source_image\\\\TRAIN_SOURCE_0238.png', '../Data/train_source_image\\\\TRAIN_SOURCE_0239.png', '../Data/train_source_image\\\\TRAIN_SOURCE_0240.png', '../Data/train_source_image\\\\TRAIN_SOURCE_0241.png', '../Data/train_source_image\\\\TRAIN_SOURCE_0242.png', '../Data/train_source_image\\\\TRAIN_SOURCE_0243.png', '../Data/train_source_image\\\\TRAIN_SOURCE_0244.png', '../Data/train_source_image\\\\TRAIN_SOURCE_0245.png', '../Data/train_source_image\\\\TRAIN_SOURCE_0246.png', '../Data/train_source_image\\\\TRAIN_SOURCE_0247.png', '../Data/train_source_image\\\\TRAIN_SOURCE_0248.png', '../Data/train_source_image\\\\TRAIN_SOURCE_0249.png', '../Data/train_source_image\\\\TRAIN_SOURCE_0250.png', '../Data/train_source_image\\\\TRAIN_SOURCE_0251.png', '../Data/train_source_image\\\\TRAIN_SOURCE_0252.png', '../Data/train_source_image\\\\TRAIN_SOURCE_0253.png', '../Data/train_source_image\\\\TRAIN_SOURCE_0254.png', '../Data/train_source_image\\\\TRAIN_SOURCE_0255.png', '../Data/train_source_image\\\\TRAIN_SOURCE_0256.png', '../Data/train_source_image\\\\TRAIN_SOURCE_0257.png', '../Data/train_source_image\\\\TRAIN_SOURCE_0258.png', '../Data/train_source_image\\\\TRAIN_SOURCE_0259.png', '../Data/train_source_image\\\\TRAIN_SOURCE_0260.png', '../Data/train_source_image\\\\TRAIN_SOURCE_0261.png', '../Data/train_source_image\\\\TRAIN_SOURCE_0262.png', '../Data/train_source_image\\\\TRAIN_SOURCE_0263.png', '../Data/train_source_image\\\\TRAIN_SOURCE_0264.png', '../Data/train_source_image\\\\TRAIN_SOURCE_0265.png', '../Data/train_source_image\\\\TRAIN_SOURCE_0266.png', '../Data/train_source_image\\\\TRAIN_SOURCE_0267.png', '../Data/train_source_image\\\\TRAIN_SOURCE_0268.png', '../Data/train_source_image\\\\TRAIN_SOURCE_0269.png', '../Data/train_source_image\\\\TRAIN_SOURCE_0270.png', '../Data/train_source_image\\\\TRAIN_SOURCE_0271.png', '../Data/train_source_image\\\\TRAIN_SOURCE_0272.png', '../Data/train_source_image\\\\TRAIN_SOURCE_0273.png', '../Data/train_source_image\\\\TRAIN_SOURCE_0274.png', '../Data/train_source_image\\\\TRAIN_SOURCE_0275.png', '../Data/train_source_image\\\\TRAIN_SOURCE_0276.png', '../Data/train_source_image\\\\TRAIN_SOURCE_0277.png', '../Data/train_source_image\\\\TRAIN_SOURCE_0278.png', '../Data/train_source_image\\\\TRAIN_SOURCE_0279.png', '../Data/train_source_image\\\\TRAIN_SOURCE_0280.png', '../Data/train_source_image\\\\TRAIN_SOURCE_0281.png', '../Data/train_source_image\\\\TRAIN_SOURCE_0282.png', '../Data/train_source_image\\\\TRAIN_SOURCE_0283.png', '../Data/train_source_image\\\\TRAIN_SOURCE_0284.png', '../Data/train_source_image\\\\TRAIN_SOURCE_0285.png', '../Data/train_source_image\\\\TRAIN_SOURCE_0286.png', '../Data/train_source_image\\\\TRAIN_SOURCE_0287.png', '../Data/train_source_image\\\\TRAIN_SOURCE_0288.png', '../Data/train_source_image\\\\TRAIN_SOURCE_0289.png', '../Data/train_source_image\\\\TRAIN_SOURCE_0290.png', '../Data/train_source_image\\\\TRAIN_SOURCE_0291.png', '../Data/train_source_image\\\\TRAIN_SOURCE_0292.png', '../Data/train_source_image\\\\TRAIN_SOURCE_0293.png', '../Data/train_source_image\\\\TRAIN_SOURCE_0294.png', '../Data/train_source_image\\\\TRAIN_SOURCE_0295.png', '../Data/train_source_image\\\\TRAIN_SOURCE_0296.png', '../Data/train_source_image\\\\TRAIN_SOURCE_0297.png', '../Data/train_source_image\\\\TRAIN_SOURCE_0298.png', '../Data/train_source_image\\\\TRAIN_SOURCE_0299.png', '../Data/train_source_image\\\\TRAIN_SOURCE_0300.png', '../Data/train_source_image\\\\TRAIN_SOURCE_0301.png', '../Data/train_source_image\\\\TRAIN_SOURCE_0302.png', '../Data/train_source_image\\\\TRAIN_SOURCE_0303.png', '../Data/train_source_image\\\\TRAIN_SOURCE_0304.png', '../Data/train_source_image\\\\TRAIN_SOURCE_0305.png', '../Data/train_source_image\\\\TRAIN_SOURCE_0306.png', '../Data/train_source_image\\\\TRAIN_SOURCE_0307.png', '../Data/train_source_image\\\\TRAIN_SOURCE_0308.png', '../Data/train_source_image\\\\TRAIN_SOURCE_0309.png', '../Data/train_source_image\\\\TRAIN_SOURCE_0310.png', '../Data/train_source_image\\\\TRAIN_SOURCE_0311.png', '../Data/train_source_image\\\\TRAIN_SOURCE_0312.png', '../Data/train_source_image\\\\TRAIN_SOURCE_0313.png', '../Data/train_source_image\\\\TRAIN_SOURCE_0314.png', '../Data/train_source_image\\\\TRAIN_SOURCE_0315.png', '../Data/train_source_image\\\\TRAIN_SOURCE_0316.png', '../Data/train_source_image\\\\TRAIN_SOURCE_0317.png', '../Data/train_source_image\\\\TRAIN_SOURCE_0318.png', '../Data/train_source_image\\\\TRAIN_SOURCE_0319.png', '../Data/train_source_image\\\\TRAIN_SOURCE_0320.png', '../Data/train_source_image\\\\TRAIN_SOURCE_0321.png', '../Data/train_source_image\\\\TRAIN_SOURCE_0322.png', '../Data/train_source_image\\\\TRAIN_SOURCE_0323.png', '../Data/train_source_image\\\\TRAIN_SOURCE_0324.png', '../Data/train_source_image\\\\TRAIN_SOURCE_0325.png', '../Data/train_source_image\\\\TRAIN_SOURCE_0326.png', '../Data/train_source_image\\\\TRAIN_SOURCE_0327.png', '../Data/train_source_image\\\\TRAIN_SOURCE_0328.png', '../Data/train_source_image\\\\TRAIN_SOURCE_0329.png', '../Data/train_source_image\\\\TRAIN_SOURCE_0330.png', '../Data/train_source_image\\\\TRAIN_SOURCE_0331.png', '../Data/train_source_image\\\\TRAIN_SOURCE_0332.png', '../Data/train_source_image\\\\TRAIN_SOURCE_0333.png', '../Data/train_source_image\\\\TRAIN_SOURCE_0334.png', '../Data/train_source_image\\\\TRAIN_SOURCE_0335.png', '../Data/train_source_image\\\\TRAIN_SOURCE_0336.png', '../Data/train_source_image\\\\TRAIN_SOURCE_0337.png', '../Data/train_source_image\\\\TRAIN_SOURCE_0338.png', '../Data/train_source_image\\\\TRAIN_SOURCE_0339.png', '../Data/train_source_image\\\\TRAIN_SOURCE_0340.png', '../Data/train_source_image\\\\TRAIN_SOURCE_0341.png', '../Data/train_source_image\\\\TRAIN_SOURCE_0342.png', '../Data/train_source_image\\\\TRAIN_SOURCE_0343.png', '../Data/train_source_image\\\\TRAIN_SOURCE_0344.png', '../Data/train_source_image\\\\TRAIN_SOURCE_0345.png', '../Data/train_source_image\\\\TRAIN_SOURCE_0346.png', '../Data/train_source_image\\\\TRAIN_SOURCE_0347.png', '../Data/train_source_image\\\\TRAIN_SOURCE_0348.png', '../Data/train_source_image\\\\TRAIN_SOURCE_0349.png', '../Data/train_source_image\\\\TRAIN_SOURCE_0350.png', '../Data/train_source_image\\\\TRAIN_SOURCE_0351.png', '../Data/train_source_image\\\\TRAIN_SOURCE_0352.png', '../Data/train_source_image\\\\TRAIN_SOURCE_0353.png', '../Data/train_source_image\\\\TRAIN_SOURCE_0354.png', '../Data/train_source_image\\\\TRAIN_SOURCE_0355.png', '../Data/train_source_image\\\\TRAIN_SOURCE_0356.png', '../Data/train_source_image\\\\TRAIN_SOURCE_0357.png', '../Data/train_source_image\\\\TRAIN_SOURCE_0358.png', '../Data/train_source_image\\\\TRAIN_SOURCE_0359.png', '../Data/train_source_image\\\\TRAIN_SOURCE_0360.png', '../Data/train_source_image\\\\TRAIN_SOURCE_0361.png', '../Data/train_source_image\\\\TRAIN_SOURCE_0362.png', '../Data/train_source_image\\\\TRAIN_SOURCE_0363.png', '../Data/train_source_image\\\\TRAIN_SOURCE_0364.png', '../Data/train_source_image\\\\TRAIN_SOURCE_0365.png', '../Data/train_source_image\\\\TRAIN_SOURCE_0366.png', '../Data/train_source_image\\\\TRAIN_SOURCE_0367.png', '../Data/train_source_image\\\\TRAIN_SOURCE_0368.png', '../Data/train_source_image\\\\TRAIN_SOURCE_0369.png', '../Data/train_source_image\\\\TRAIN_SOURCE_0370.png', '../Data/train_source_image\\\\TRAIN_SOURCE_0371.png', '../Data/train_source_image\\\\TRAIN_SOURCE_0372.png', '../Data/train_source_image\\\\TRAIN_SOURCE_0373.png', '../Data/train_source_image\\\\TRAIN_SOURCE_0374.png', '../Data/train_source_image\\\\TRAIN_SOURCE_0375.png', '../Data/train_source_image\\\\TRAIN_SOURCE_0376.png', '../Data/train_source_image\\\\TRAIN_SOURCE_0377.png', '../Data/train_source_image\\\\TRAIN_SOURCE_0378.png', '../Data/train_source_image\\\\TRAIN_SOURCE_0379.png', '../Data/train_source_image\\\\TRAIN_SOURCE_0380.png', '../Data/train_source_image\\\\TRAIN_SOURCE_0381.png', '../Data/train_source_image\\\\TRAIN_SOURCE_0382.png', '../Data/train_source_image\\\\TRAIN_SOURCE_0383.png', '../Data/train_source_image\\\\TRAIN_SOURCE_0384.png', '../Data/train_source_image\\\\TRAIN_SOURCE_0385.png', '../Data/train_source_image\\\\TRAIN_SOURCE_0386.png', '../Data/train_source_image\\\\TRAIN_SOURCE_0387.png', '../Data/train_source_image\\\\TRAIN_SOURCE_0388.png', '../Data/train_source_image\\\\TRAIN_SOURCE_0389.png', '../Data/train_source_image\\\\TRAIN_SOURCE_0390.png', '../Data/train_source_image\\\\TRAIN_SOURCE_0391.png', '../Data/train_source_image\\\\TRAIN_SOURCE_0392.png', '../Data/train_source_image\\\\TRAIN_SOURCE_0393.png', '../Data/train_source_image\\\\TRAIN_SOURCE_0394.png', '../Data/train_source_image\\\\TRAIN_SOURCE_0395.png', '../Data/train_source_image\\\\TRAIN_SOURCE_0396.png', '../Data/train_source_image\\\\TRAIN_SOURCE_0397.png', '../Data/train_source_image\\\\TRAIN_SOURCE_0398.png', '../Data/train_source_image\\\\TRAIN_SOURCE_0399.png', '../Data/train_source_image\\\\TRAIN_SOURCE_0400.png', '../Data/train_source_image\\\\TRAIN_SOURCE_0401.png', '../Data/train_source_image\\\\TRAIN_SOURCE_0402.png', '../Data/train_source_image\\\\TRAIN_SOURCE_0403.png', '../Data/train_source_image\\\\TRAIN_SOURCE_0404.png', '../Data/train_source_image\\\\TRAIN_SOURCE_0405.png', '../Data/train_source_image\\\\TRAIN_SOURCE_0406.png', '../Data/train_source_image\\\\TRAIN_SOURCE_0407.png', '../Data/train_source_image\\\\TRAIN_SOURCE_0408.png', '../Data/train_source_image\\\\TRAIN_SOURCE_0409.png', '../Data/train_source_image\\\\TRAIN_SOURCE_0410.png', '../Data/train_source_image\\\\TRAIN_SOURCE_0411.png', '../Data/train_source_image\\\\TRAIN_SOURCE_0412.png', '../Data/train_source_image\\\\TRAIN_SOURCE_0413.png', '../Data/train_source_image\\\\TRAIN_SOURCE_0414.png', '../Data/train_source_image\\\\TRAIN_SOURCE_0415.png', '../Data/train_source_image\\\\TRAIN_SOURCE_0416.png', '../Data/train_source_image\\\\TRAIN_SOURCE_0417.png', '../Data/train_source_image\\\\TRAIN_SOURCE_0418.png', '../Data/train_source_image\\\\TRAIN_SOURCE_0419.png', '../Data/train_source_image\\\\TRAIN_SOURCE_0420.png', '../Data/train_source_image\\\\TRAIN_SOURCE_0421.png', '../Data/train_source_image\\\\TRAIN_SOURCE_0422.png', '../Data/train_source_image\\\\TRAIN_SOURCE_0423.png', '../Data/train_source_image\\\\TRAIN_SOURCE_0424.png', '../Data/train_source_image\\\\TRAIN_SOURCE_0425.png', '../Data/train_source_image\\\\TRAIN_SOURCE_0426.png', '../Data/train_source_image\\\\TRAIN_SOURCE_0427.png', '../Data/train_source_image\\\\TRAIN_SOURCE_0428.png', '../Data/train_source_image\\\\TRAIN_SOURCE_0429.png', '../Data/train_source_image\\\\TRAIN_SOURCE_0430.png', '../Data/train_source_image\\\\TRAIN_SOURCE_0431.png', '../Data/train_source_image\\\\TRAIN_SOURCE_0432.png', '../Data/train_source_image\\\\TRAIN_SOURCE_0433.png', '../Data/train_source_image\\\\TRAIN_SOURCE_0434.png', '../Data/train_source_image\\\\TRAIN_SOURCE_0435.png', '../Data/train_source_image\\\\TRAIN_SOURCE_0436.png', '../Data/train_source_image\\\\TRAIN_SOURCE_0437.png', '../Data/train_source_image\\\\TRAIN_SOURCE_0438.png', '../Data/train_source_image\\\\TRAIN_SOURCE_0439.png', '../Data/train_source_image\\\\TRAIN_SOURCE_0440.png', '../Data/train_source_image\\\\TRAIN_SOURCE_0441.png', '../Data/train_source_image\\\\TRAIN_SOURCE_0442.png', '../Data/train_source_image\\\\TRAIN_SOURCE_0443.png', '../Data/train_source_image\\\\TRAIN_SOURCE_0444.png', '../Data/train_source_image\\\\TRAIN_SOURCE_0445.png', '../Data/train_source_image\\\\TRAIN_SOURCE_0446.png', '../Data/train_source_image\\\\TRAIN_SOURCE_0447.png', '../Data/train_source_image\\\\TRAIN_SOURCE_0448.png', '../Data/train_source_image\\\\TRAIN_SOURCE_0449.png', '../Data/train_source_image\\\\TRAIN_SOURCE_0450.png', '../Data/train_source_image\\\\TRAIN_SOURCE_0451.png', '../Data/train_source_image\\\\TRAIN_SOURCE_0452.png', '../Data/train_source_image\\\\TRAIN_SOURCE_0453.png', '../Data/train_source_image\\\\TRAIN_SOURCE_0454.png', '../Data/train_source_image\\\\TRAIN_SOURCE_0455.png', '../Data/train_source_image\\\\TRAIN_SOURCE_0456.png', '../Data/train_source_image\\\\TRAIN_SOURCE_0457.png', '../Data/train_source_image\\\\TRAIN_SOURCE_0458.png', '../Data/train_source_image\\\\TRAIN_SOURCE_0459.png', '../Data/train_source_image\\\\TRAIN_SOURCE_0460.png', '../Data/train_source_image\\\\TRAIN_SOURCE_0461.png', '../Data/train_source_image\\\\TRAIN_SOURCE_0462.png', '../Data/train_source_image\\\\TRAIN_SOURCE_0463.png', '../Data/train_source_image\\\\TRAIN_SOURCE_0464.png', '../Data/train_source_image\\\\TRAIN_SOURCE_0465.png', '../Data/train_source_image\\\\TRAIN_SOURCE_0466.png', '../Data/train_source_image\\\\TRAIN_SOURCE_0467.png', '../Data/train_source_image\\\\TRAIN_SOURCE_0468.png', '../Data/train_source_image\\\\TRAIN_SOURCE_0469.png', '../Data/train_source_image\\\\TRAIN_SOURCE_0470.png', '../Data/train_source_image\\\\TRAIN_SOURCE_0471.png', '../Data/train_source_image\\\\TRAIN_SOURCE_0472.png', '../Data/train_source_image\\\\TRAIN_SOURCE_0473.png', '../Data/train_source_image\\\\TRAIN_SOURCE_0474.png', '../Data/train_source_image\\\\TRAIN_SOURCE_0475.png', '../Data/train_source_image\\\\TRAIN_SOURCE_0476.png', '../Data/train_source_image\\\\TRAIN_SOURCE_0477.png', '../Data/train_source_image\\\\TRAIN_SOURCE_0478.png', '../Data/train_source_image\\\\TRAIN_SOURCE_0479.png', '../Data/train_source_image\\\\TRAIN_SOURCE_0480.png', '../Data/train_source_image\\\\TRAIN_SOURCE_0481.png', '../Data/train_source_image\\\\TRAIN_SOURCE_0482.png', '../Data/train_source_image\\\\TRAIN_SOURCE_0483.png', '../Data/train_source_image\\\\TRAIN_SOURCE_0484.png', '../Data/train_source_image\\\\TRAIN_SOURCE_0485.png', '../Data/train_source_image\\\\TRAIN_SOURCE_0486.png', '../Data/train_source_image\\\\TRAIN_SOURCE_0487.png', '../Data/train_source_image\\\\TRAIN_SOURCE_0488.png', '../Data/train_source_image\\\\TRAIN_SOURCE_0489.png', '../Data/train_source_image\\\\TRAIN_SOURCE_0490.png', '../Data/train_source_image\\\\TRAIN_SOURCE_0491.png', '../Data/train_source_image\\\\TRAIN_SOURCE_0492.png', '../Data/train_source_image\\\\TRAIN_SOURCE_0493.png', '../Data/train_source_image\\\\TRAIN_SOURCE_0494.png', '../Data/train_source_image\\\\TRAIN_SOURCE_0495.png', '../Data/train_source_image\\\\TRAIN_SOURCE_0496.png', '../Data/train_source_image\\\\TRAIN_SOURCE_0497.png', '../Data/train_source_image\\\\TRAIN_SOURCE_0498.png', '../Data/train_source_image\\\\TRAIN_SOURCE_0499.png', '../Data/train_source_image\\\\TRAIN_SOURCE_0500.png', '../Data/train_source_image\\\\TRAIN_SOURCE_0501.png', '../Data/train_source_image\\\\TRAIN_SOURCE_0502.png', '../Data/train_source_image\\\\TRAIN_SOURCE_0503.png', '../Data/train_source_image\\\\TRAIN_SOURCE_0504.png', '../Data/train_source_image\\\\TRAIN_SOURCE_0505.png', '../Data/train_source_image\\\\TRAIN_SOURCE_0506.png', '../Data/train_source_image\\\\TRAIN_SOURCE_0507.png', '../Data/train_source_image\\\\TRAIN_SOURCE_0508.png', '../Data/train_source_image\\\\TRAIN_SOURCE_0509.png', '../Data/train_source_image\\\\TRAIN_SOURCE_0510.png', '../Data/train_source_image\\\\TRAIN_SOURCE_0511.png', '../Data/train_source_image\\\\TRAIN_SOURCE_0512.png', '../Data/train_source_image\\\\TRAIN_SOURCE_0513.png', '../Data/train_source_image\\\\TRAIN_SOURCE_0514.png', '../Data/train_source_image\\\\TRAIN_SOURCE_0515.png', '../Data/train_source_image\\\\TRAIN_SOURCE_0516.png', '../Data/train_source_image\\\\TRAIN_SOURCE_0517.png', '../Data/train_source_image\\\\TRAIN_SOURCE_0518.png', '../Data/train_source_image\\\\TRAIN_SOURCE_0519.png', '../Data/train_source_image\\\\TRAIN_SOURCE_0520.png', '../Data/train_source_image\\\\TRAIN_SOURCE_0521.png', '../Data/train_source_image\\\\TRAIN_SOURCE_0522.png', '../Data/train_source_image\\\\TRAIN_SOURCE_0523.png', '../Data/train_source_image\\\\TRAIN_SOURCE_0524.png', '../Data/train_source_image\\\\TRAIN_SOURCE_0525.png', '../Data/train_source_image\\\\TRAIN_SOURCE_0526.png', '../Data/train_source_image\\\\TRAIN_SOURCE_0527.png', '../Data/train_source_image\\\\TRAIN_SOURCE_0528.png', '../Data/train_source_image\\\\TRAIN_SOURCE_0529.png', '../Data/train_source_image\\\\TRAIN_SOURCE_0530.png', '../Data/train_source_image\\\\TRAIN_SOURCE_0531.png', '../Data/train_source_image\\\\TRAIN_SOURCE_0532.png', '../Data/train_source_image\\\\TRAIN_SOURCE_0533.png', '../Data/train_source_image\\\\TRAIN_SOURCE_0534.png', '../Data/train_source_image\\\\TRAIN_SOURCE_0535.png', '../Data/train_source_image\\\\TRAIN_SOURCE_0536.png', '../Data/train_source_image\\\\TRAIN_SOURCE_0537.png', '../Data/train_source_image\\\\TRAIN_SOURCE_0538.png', '../Data/train_source_image\\\\TRAIN_SOURCE_0539.png', '../Data/train_source_image\\\\TRAIN_SOURCE_0540.png', '../Data/train_source_image\\\\TRAIN_SOURCE_0541.png', '../Data/train_source_image\\\\TRAIN_SOURCE_0542.png', '../Data/train_source_image\\\\TRAIN_SOURCE_0543.png', '../Data/train_source_image\\\\TRAIN_SOURCE_0544.png', '../Data/train_source_image\\\\TRAIN_SOURCE_0545.png', '../Data/train_source_image\\\\TRAIN_SOURCE_0546.png', '../Data/train_source_image\\\\TRAIN_SOURCE_0547.png', '../Data/train_source_image\\\\TRAIN_SOURCE_0548.png', '../Data/train_source_image\\\\TRAIN_SOURCE_0549.png', '../Data/train_source_image\\\\TRAIN_SOURCE_0550.png', '../Data/train_source_image\\\\TRAIN_SOURCE_0551.png', '../Data/train_source_image\\\\TRAIN_SOURCE_0552.png', '../Data/train_source_image\\\\TRAIN_SOURCE_0553.png', '../Data/train_source_image\\\\TRAIN_SOURCE_0554.png', '../Data/train_source_image\\\\TRAIN_SOURCE_0555.png', '../Data/train_source_image\\\\TRAIN_SOURCE_0556.png', '../Data/train_source_image\\\\TRAIN_SOURCE_0557.png', '../Data/train_source_image\\\\TRAIN_SOURCE_0558.png', '../Data/train_source_image\\\\TRAIN_SOURCE_0559.png', '../Data/train_source_image\\\\TRAIN_SOURCE_0560.png', '../Data/train_source_image\\\\TRAIN_SOURCE_0561.png', '../Data/train_source_image\\\\TRAIN_SOURCE_0562.png', '../Data/train_source_image\\\\TRAIN_SOURCE_0563.png', '../Data/train_source_image\\\\TRAIN_SOURCE_0564.png', '../Data/train_source_image\\\\TRAIN_SOURCE_0565.png', '../Data/train_source_image\\\\TRAIN_SOURCE_0566.png', '../Data/train_source_image\\\\TRAIN_SOURCE_0567.png', '../Data/train_source_image\\\\TRAIN_SOURCE_0568.png', '../Data/train_source_image\\\\TRAIN_SOURCE_0569.png', '../Data/train_source_image\\\\TRAIN_SOURCE_0570.png', '../Data/train_source_image\\\\TRAIN_SOURCE_0571.png', '../Data/train_source_image\\\\TRAIN_SOURCE_0572.png', '../Data/train_source_image\\\\TRAIN_SOURCE_0573.png', '../Data/train_source_image\\\\TRAIN_SOURCE_0574.png', '../Data/train_source_image\\\\TRAIN_SOURCE_0575.png', '../Data/train_source_image\\\\TRAIN_SOURCE_0576.png', '../Data/train_source_image\\\\TRAIN_SOURCE_0577.png', '../Data/train_source_image\\\\TRAIN_SOURCE_0578.png', '../Data/train_source_image\\\\TRAIN_SOURCE_0579.png', '../Data/train_source_image\\\\TRAIN_SOURCE_0580.png', '../Data/train_source_image\\\\TRAIN_SOURCE_0581.png', '../Data/train_source_image\\\\TRAIN_SOURCE_0582.png', '../Data/train_source_image\\\\TRAIN_SOURCE_0583.png', '../Data/train_source_image\\\\TRAIN_SOURCE_0584.png', '../Data/train_source_image\\\\TRAIN_SOURCE_0585.png', '../Data/train_source_image\\\\TRAIN_SOURCE_0586.png', '../Data/train_source_image\\\\TRAIN_SOURCE_0587.png', '../Data/train_source_image\\\\TRAIN_SOURCE_0588.png', '../Data/train_source_image\\\\TRAIN_SOURCE_0589.png', '../Data/train_source_image\\\\TRAIN_SOURCE_0590.png', '../Data/train_source_image\\\\TRAIN_SOURCE_0591.png', '../Data/train_source_image\\\\TRAIN_SOURCE_0592.png', '../Data/train_source_image\\\\TRAIN_SOURCE_0593.png', '../Data/train_source_image\\\\TRAIN_SOURCE_0594.png', '../Data/train_source_image\\\\TRAIN_SOURCE_0595.png', '../Data/train_source_image\\\\TRAIN_SOURCE_0596.png', '../Data/train_source_image\\\\TRAIN_SOURCE_0597.png', '../Data/train_source_image\\\\TRAIN_SOURCE_0598.png', '../Data/train_source_image\\\\TRAIN_SOURCE_0599.png', '../Data/train_source_image\\\\TRAIN_SOURCE_0600.png', '../Data/train_source_image\\\\TRAIN_SOURCE_0601.png', '../Data/train_source_image\\\\TRAIN_SOURCE_0602.png', '../Data/train_source_image\\\\TRAIN_SOURCE_0603.png', '../Data/train_source_image\\\\TRAIN_SOURCE_0604.png', '../Data/train_source_image\\\\TRAIN_SOURCE_0605.png', '../Data/train_source_image\\\\TRAIN_SOURCE_0606.png', '../Data/train_source_image\\\\TRAIN_SOURCE_0607.png', '../Data/train_source_image\\\\TRAIN_SOURCE_0608.png', '../Data/train_source_image\\\\TRAIN_SOURCE_0609.png', '../Data/train_source_image\\\\TRAIN_SOURCE_0610.png', '../Data/train_source_image\\\\TRAIN_SOURCE_0611.png', '../Data/train_source_image\\\\TRAIN_SOURCE_0612.png', '../Data/train_source_image\\\\TRAIN_SOURCE_0613.png', '../Data/train_source_image\\\\TRAIN_SOURCE_0614.png', '../Data/train_source_image\\\\TRAIN_SOURCE_0615.png', '../Data/train_source_image\\\\TRAIN_SOURCE_0616.png', '../Data/train_source_image\\\\TRAIN_SOURCE_0617.png', '../Data/train_source_image\\\\TRAIN_SOURCE_0618.png', '../Data/train_source_image\\\\TRAIN_SOURCE_0619.png', '../Data/train_source_image\\\\TRAIN_SOURCE_0620.png', '../Data/train_source_image\\\\TRAIN_SOURCE_0621.png', '../Data/train_source_image\\\\TRAIN_SOURCE_0622.png', '../Data/train_source_image\\\\TRAIN_SOURCE_0623.png', '../Data/train_source_image\\\\TRAIN_SOURCE_0624.png', '../Data/train_source_image\\\\TRAIN_SOURCE_0625.png', '../Data/train_source_image\\\\TRAIN_SOURCE_0626.png', '../Data/train_source_image\\\\TRAIN_SOURCE_0627.png', '../Data/train_source_image\\\\TRAIN_SOURCE_0628.png', '../Data/train_source_image\\\\TRAIN_SOURCE_0629.png', '../Data/train_source_image\\\\TRAIN_SOURCE_0630.png', '../Data/train_source_image\\\\TRAIN_SOURCE_0631.png', '../Data/train_source_image\\\\TRAIN_SOURCE_0632.png', '../Data/train_source_image\\\\TRAIN_SOURCE_0633.png', '../Data/train_source_image\\\\TRAIN_SOURCE_0634.png', '../Data/train_source_image\\\\TRAIN_SOURCE_0635.png', '../Data/train_source_image\\\\TRAIN_SOURCE_0636.png', '../Data/train_source_image\\\\TRAIN_SOURCE_0637.png', '../Data/train_source_image\\\\TRAIN_SOURCE_0638.png', '../Data/train_source_image\\\\TRAIN_SOURCE_0639.png', '../Data/train_source_image\\\\TRAIN_SOURCE_0640.png', '../Data/train_source_image\\\\TRAIN_SOURCE_0641.png', '../Data/train_source_image\\\\TRAIN_SOURCE_0642.png', '../Data/train_source_image\\\\TRAIN_SOURCE_0643.png', '../Data/train_source_image\\\\TRAIN_SOURCE_0644.png', '../Data/train_source_image\\\\TRAIN_SOURCE_0645.png', '../Data/train_source_image\\\\TRAIN_SOURCE_0646.png', '../Data/train_source_image\\\\TRAIN_SOURCE_0647.png', '../Data/train_source_image\\\\TRAIN_SOURCE_0648.png', '../Data/train_source_image\\\\TRAIN_SOURCE_0649.png', '../Data/train_source_image\\\\TRAIN_SOURCE_0650.png', '../Data/train_source_image\\\\TRAIN_SOURCE_0651.png', '../Data/train_source_image\\\\TRAIN_SOURCE_0652.png', '../Data/train_source_image\\\\TRAIN_SOURCE_0653.png', '../Data/train_source_image\\\\TRAIN_SOURCE_0654.png', '../Data/train_source_image\\\\TRAIN_SOURCE_0655.png', '../Data/train_source_image\\\\TRAIN_SOURCE_0656.png', '../Data/train_source_image\\\\TRAIN_SOURCE_0657.png', '../Data/train_source_image\\\\TRAIN_SOURCE_0658.png', '../Data/train_source_image\\\\TRAIN_SOURCE_0659.png', '../Data/train_source_image\\\\TRAIN_SOURCE_0660.png', '../Data/train_source_image\\\\TRAIN_SOURCE_0661.png', '../Data/train_source_image\\\\TRAIN_SOURCE_0662.png', '../Data/train_source_image\\\\TRAIN_SOURCE_0663.png', '../Data/train_source_image\\\\TRAIN_SOURCE_0664.png', '../Data/train_source_image\\\\TRAIN_SOURCE_0665.png', '../Data/train_source_image\\\\TRAIN_SOURCE_0666.png', '../Data/train_source_image\\\\TRAIN_SOURCE_0667.png', '../Data/train_source_image\\\\TRAIN_SOURCE_0668.png', '../Data/train_source_image\\\\TRAIN_SOURCE_0669.png', '../Data/train_source_image\\\\TRAIN_SOURCE_0670.png', '../Data/train_source_image\\\\TRAIN_SOURCE_0671.png', '../Data/train_source_image\\\\TRAIN_SOURCE_0672.png', '../Data/train_source_image\\\\TRAIN_SOURCE_0673.png', '../Data/train_source_image\\\\TRAIN_SOURCE_0674.png', '../Data/train_source_image\\\\TRAIN_SOURCE_0675.png', '../Data/train_source_image\\\\TRAIN_SOURCE_0676.png', '../Data/train_source_image\\\\TRAIN_SOURCE_0677.png', '../Data/train_source_image\\\\TRAIN_SOURCE_0678.png', '../Data/train_source_image\\\\TRAIN_SOURCE_0679.png', '../Data/train_source_image\\\\TRAIN_SOURCE_0680.png', '../Data/train_source_image\\\\TRAIN_SOURCE_0681.png', '../Data/train_source_image\\\\TRAIN_SOURCE_0682.png', '../Data/train_source_image\\\\TRAIN_SOURCE_0683.png', '../Data/train_source_image\\\\TRAIN_SOURCE_0684.png', '../Data/train_source_image\\\\TRAIN_SOURCE_0685.png', '../Data/train_source_image\\\\TRAIN_SOURCE_0686.png', '../Data/train_source_image\\\\TRAIN_SOURCE_0687.png', '../Data/train_source_image\\\\TRAIN_SOURCE_0688.png', '../Data/train_source_image\\\\TRAIN_SOURCE_0689.png', '../Data/train_source_image\\\\TRAIN_SOURCE_0690.png', '../Data/train_source_image\\\\TRAIN_SOURCE_0691.png', '../Data/train_source_image\\\\TRAIN_SOURCE_0692.png', '../Data/train_source_image\\\\TRAIN_SOURCE_0693.png', '../Data/train_source_image\\\\TRAIN_SOURCE_0694.png', '../Data/train_source_image\\\\TRAIN_SOURCE_0695.png', '../Data/train_source_image\\\\TRAIN_SOURCE_0696.png', '../Data/train_source_image\\\\TRAIN_SOURCE_0697.png', '../Data/train_source_image\\\\TRAIN_SOURCE_0698.png', '../Data/train_source_image\\\\TRAIN_SOURCE_0699.png', '../Data/train_source_image\\\\TRAIN_SOURCE_0700.png', '../Data/train_source_image\\\\TRAIN_SOURCE_0701.png', '../Data/train_source_image\\\\TRAIN_SOURCE_0702.png', '../Data/train_source_image\\\\TRAIN_SOURCE_0703.png', '../Data/train_source_image\\\\TRAIN_SOURCE_0704.png', '../Data/train_source_image\\\\TRAIN_SOURCE_0705.png', '../Data/train_source_image\\\\TRAIN_SOURCE_0706.png', '../Data/train_source_image\\\\TRAIN_SOURCE_0707.png', '../Data/train_source_image\\\\TRAIN_SOURCE_0708.png', '../Data/train_source_image\\\\TRAIN_SOURCE_0709.png', '../Data/train_source_image\\\\TRAIN_SOURCE_0710.png', '../Data/train_source_image\\\\TRAIN_SOURCE_0711.png', '../Data/train_source_image\\\\TRAIN_SOURCE_0712.png', '../Data/train_source_image\\\\TRAIN_SOURCE_0713.png', '../Data/train_source_image\\\\TRAIN_SOURCE_0714.png', '../Data/train_source_image\\\\TRAIN_SOURCE_0715.png', '../Data/train_source_image\\\\TRAIN_SOURCE_0716.png', '../Data/train_source_image\\\\TRAIN_SOURCE_0717.png', '../Data/train_source_image\\\\TRAIN_SOURCE_0718.png', '../Data/train_source_image\\\\TRAIN_SOURCE_0719.png', '../Data/train_source_image\\\\TRAIN_SOURCE_0720.png', '../Data/train_source_image\\\\TRAIN_SOURCE_0721.png', '../Data/train_source_image\\\\TRAIN_SOURCE_0722.png', '../Data/train_source_image\\\\TRAIN_SOURCE_0723.png', '../Data/train_source_image\\\\TRAIN_SOURCE_0724.png', '../Data/train_source_image\\\\TRAIN_SOURCE_0725.png', '../Data/train_source_image\\\\TRAIN_SOURCE_0726.png', '../Data/train_source_image\\\\TRAIN_SOURCE_0727.png', '../Data/train_source_image\\\\TRAIN_SOURCE_0728.png', '../Data/train_source_image\\\\TRAIN_SOURCE_0729.png', '../Data/train_source_image\\\\TRAIN_SOURCE_0730.png', '../Data/train_source_image\\\\TRAIN_SOURCE_0731.png', '../Data/train_source_image\\\\TRAIN_SOURCE_0732.png', '../Data/train_source_image\\\\TRAIN_SOURCE_0733.png', '../Data/train_source_image\\\\TRAIN_SOURCE_0734.png', '../Data/train_source_image\\\\TRAIN_SOURCE_0735.png', '../Data/train_source_image\\\\TRAIN_SOURCE_0736.png', '../Data/train_source_image\\\\TRAIN_SOURCE_0737.png', '../Data/train_source_image\\\\TRAIN_SOURCE_0738.png', '../Data/train_source_image\\\\TRAIN_SOURCE_0739.png', '../Data/train_source_image\\\\TRAIN_SOURCE_0740.png', '../Data/train_source_image\\\\TRAIN_SOURCE_0741.png', '../Data/train_source_image\\\\TRAIN_SOURCE_0742.png', '../Data/train_source_image\\\\TRAIN_SOURCE_0743.png', '../Data/train_source_image\\\\TRAIN_SOURCE_0744.png', '../Data/train_source_image\\\\TRAIN_SOURCE_0745.png', '../Data/train_source_image\\\\TRAIN_SOURCE_0746.png', '../Data/train_source_image\\\\TRAIN_SOURCE_0747.png', '../Data/train_source_image\\\\TRAIN_SOURCE_0748.png', '../Data/train_source_image\\\\TRAIN_SOURCE_0749.png', '../Data/train_source_image\\\\TRAIN_SOURCE_0750.png', '../Data/train_source_image\\\\TRAIN_SOURCE_0751.png', '../Data/train_source_image\\\\TRAIN_SOURCE_0752.png', '../Data/train_source_image\\\\TRAIN_SOURCE_0753.png', '../Data/train_source_image\\\\TRAIN_SOURCE_0754.png', '../Data/train_source_image\\\\TRAIN_SOURCE_0755.png', '../Data/train_source_image\\\\TRAIN_SOURCE_0756.png', '../Data/train_source_image\\\\TRAIN_SOURCE_0757.png', '../Data/train_source_image\\\\TRAIN_SOURCE_0758.png', '../Data/train_source_image\\\\TRAIN_SOURCE_0759.png', '../Data/train_source_image\\\\TRAIN_SOURCE_0760.png', '../Data/train_source_image\\\\TRAIN_SOURCE_0761.png', '../Data/train_source_image\\\\TRAIN_SOURCE_0762.png', '../Data/train_source_image\\\\TRAIN_SOURCE_0763.png', '../Data/train_source_image\\\\TRAIN_SOURCE_0764.png', '../Data/train_source_image\\\\TRAIN_SOURCE_0765.png', '../Data/train_source_image\\\\TRAIN_SOURCE_0766.png', '../Data/train_source_image\\\\TRAIN_SOURCE_0767.png', '../Data/train_source_image\\\\TRAIN_SOURCE_0768.png', '../Data/train_source_image\\\\TRAIN_SOURCE_0769.png', '../Data/train_source_image\\\\TRAIN_SOURCE_0770.png', '../Data/train_source_image\\\\TRAIN_SOURCE_0771.png', '../Data/train_source_image\\\\TRAIN_SOURCE_0772.png', '../Data/train_source_image\\\\TRAIN_SOURCE_0773.png', '../Data/train_source_image\\\\TRAIN_SOURCE_0774.png', '../Data/train_source_image\\\\TRAIN_SOURCE_0775.png', '../Data/train_source_image\\\\TRAIN_SOURCE_0776.png', '../Data/train_source_image\\\\TRAIN_SOURCE_0777.png', '../Data/train_source_image\\\\TRAIN_SOURCE_0778.png', '../Data/train_source_image\\\\TRAIN_SOURCE_0779.png', '../Data/train_source_image\\\\TRAIN_SOURCE_0780.png', '../Data/train_source_image\\\\TRAIN_SOURCE_0781.png', '../Data/train_source_image\\\\TRAIN_SOURCE_0782.png', '../Data/train_source_image\\\\TRAIN_SOURCE_0783.png', '../Data/train_source_image\\\\TRAIN_SOURCE_0784.png', '../Data/train_source_image\\\\TRAIN_SOURCE_0785.png', '../Data/train_source_image\\\\TRAIN_SOURCE_0786.png', '../Data/train_source_image\\\\TRAIN_SOURCE_0787.png', '../Data/train_source_image\\\\TRAIN_SOURCE_0788.png', '../Data/train_source_image\\\\TRAIN_SOURCE_0789.png', '../Data/train_source_image\\\\TRAIN_SOURCE_0790.png', '../Data/train_source_image\\\\TRAIN_SOURCE_0791.png', '../Data/train_source_image\\\\TRAIN_SOURCE_0792.png', '../Data/train_source_image\\\\TRAIN_SOURCE_0793.png', '../Data/train_source_image\\\\TRAIN_SOURCE_0794.png', '../Data/train_source_image\\\\TRAIN_SOURCE_0795.png', '../Data/train_source_image\\\\TRAIN_SOURCE_0796.png', '../Data/train_source_image\\\\TRAIN_SOURCE_0797.png', '../Data/train_source_image\\\\TRAIN_SOURCE_0798.png', '../Data/train_source_image\\\\TRAIN_SOURCE_0799.png', '../Data/train_source_image\\\\TRAIN_SOURCE_0800.png', '../Data/train_source_image\\\\TRAIN_SOURCE_0801.png', '../Data/train_source_image\\\\TRAIN_SOURCE_0802.png', '../Data/train_source_image\\\\TRAIN_SOURCE_0803.png', '../Data/train_source_image\\\\TRAIN_SOURCE_0804.png', '../Data/train_source_image\\\\TRAIN_SOURCE_0805.png', '../Data/train_source_image\\\\TRAIN_SOURCE_0806.png', '../Data/train_source_image\\\\TRAIN_SOURCE_0807.png', '../Data/train_source_image\\\\TRAIN_SOURCE_0808.png', '../Data/train_source_image\\\\TRAIN_SOURCE_0809.png', '../Data/train_source_image\\\\TRAIN_SOURCE_0810.png', '../Data/train_source_image\\\\TRAIN_SOURCE_0811.png', '../Data/train_source_image\\\\TRAIN_SOURCE_0812.png', '../Data/train_source_image\\\\TRAIN_SOURCE_0813.png', '../Data/train_source_image\\\\TRAIN_SOURCE_0814.png', '../Data/train_source_image\\\\TRAIN_SOURCE_0815.png', '../Data/train_source_image\\\\TRAIN_SOURCE_0816.png', '../Data/train_source_image\\\\TRAIN_SOURCE_0817.png', '../Data/train_source_image\\\\TRAIN_SOURCE_0818.png', '../Data/train_source_image\\\\TRAIN_SOURCE_0819.png', '../Data/train_source_image\\\\TRAIN_SOURCE_0820.png', '../Data/train_source_image\\\\TRAIN_SOURCE_0821.png', '../Data/train_source_image\\\\TRAIN_SOURCE_0822.png', '../Data/train_source_image\\\\TRAIN_SOURCE_0823.png', '../Data/train_source_image\\\\TRAIN_SOURCE_0824.png', '../Data/train_source_image\\\\TRAIN_SOURCE_0825.png', '../Data/train_source_image\\\\TRAIN_SOURCE_0826.png', '../Data/train_source_image\\\\TRAIN_SOURCE_0827.png', '../Data/train_source_image\\\\TRAIN_SOURCE_0828.png', '../Data/train_source_image\\\\TRAIN_SOURCE_0829.png', '../Data/train_source_image\\\\TRAIN_SOURCE_0830.png', '../Data/train_source_image\\\\TRAIN_SOURCE_0831.png', '../Data/train_source_image\\\\TRAIN_SOURCE_0832.png', '../Data/train_source_image\\\\TRAIN_SOURCE_0833.png', '../Data/train_source_image\\\\TRAIN_SOURCE_0834.png', '../Data/train_source_image\\\\TRAIN_SOURCE_0835.png', '../Data/train_source_image\\\\TRAIN_SOURCE_0836.png', '../Data/train_source_image\\\\TRAIN_SOURCE_0837.png', '../Data/train_source_image\\\\TRAIN_SOURCE_0838.png', '../Data/train_source_image\\\\TRAIN_SOURCE_0839.png', '../Data/train_source_image\\\\TRAIN_SOURCE_0840.png', '../Data/train_source_image\\\\TRAIN_SOURCE_0841.png', '../Data/train_source_image\\\\TRAIN_SOURCE_0842.png', '../Data/train_source_image\\\\TRAIN_SOURCE_0843.png', '../Data/train_source_image\\\\TRAIN_SOURCE_0844.png', '../Data/train_source_image\\\\TRAIN_SOURCE_0845.png', '../Data/train_source_image\\\\TRAIN_SOURCE_0846.png', '../Data/train_source_image\\\\TRAIN_SOURCE_0847.png', '../Data/train_source_image\\\\TRAIN_SOURCE_0848.png', '../Data/train_source_image\\\\TRAIN_SOURCE_0849.png', '../Data/train_source_image\\\\TRAIN_SOURCE_0850.png', '../Data/train_source_image\\\\TRAIN_SOURCE_0851.png', '../Data/train_source_image\\\\TRAIN_SOURCE_0852.png', '../Data/train_source_image\\\\TRAIN_SOURCE_0853.png', '../Data/train_source_image\\\\TRAIN_SOURCE_0854.png', '../Data/train_source_image\\\\TRAIN_SOURCE_0855.png', '../Data/train_source_image\\\\TRAIN_SOURCE_0856.png', '../Data/train_source_image\\\\TRAIN_SOURCE_0857.png', '../Data/train_source_image\\\\TRAIN_SOURCE_0858.png', '../Data/train_source_image\\\\TRAIN_SOURCE_0859.png', '../Data/train_source_image\\\\TRAIN_SOURCE_0860.png', '../Data/train_source_image\\\\TRAIN_SOURCE_0861.png', '../Data/train_source_image\\\\TRAIN_SOURCE_0862.png', '../Data/train_source_image\\\\TRAIN_SOURCE_0863.png', '../Data/train_source_image\\\\TRAIN_SOURCE_0864.png', '../Data/train_source_image\\\\TRAIN_SOURCE_0865.png', '../Data/train_source_image\\\\TRAIN_SOURCE_0866.png', '../Data/train_source_image\\\\TRAIN_SOURCE_0867.png', '../Data/train_source_image\\\\TRAIN_SOURCE_0868.png', '../Data/train_source_image\\\\TRAIN_SOURCE_0869.png', '../Data/train_source_image\\\\TRAIN_SOURCE_0870.png', '../Data/train_source_image\\\\TRAIN_SOURCE_0871.png', '../Data/train_source_image\\\\TRAIN_SOURCE_0872.png', '../Data/train_source_image\\\\TRAIN_SOURCE_0873.png', '../Data/train_source_image\\\\TRAIN_SOURCE_0874.png', '../Data/train_source_image\\\\TRAIN_SOURCE_0875.png', '../Data/train_source_image\\\\TRAIN_SOURCE_0876.png', '../Data/train_source_image\\\\TRAIN_SOURCE_0877.png', '../Data/train_source_image\\\\TRAIN_SOURCE_0878.png', '../Data/train_source_image\\\\TRAIN_SOURCE_0879.png', '../Data/train_source_image\\\\TRAIN_SOURCE_0880.png', '../Data/train_source_image\\\\TRAIN_SOURCE_0881.png', '../Data/train_source_image\\\\TRAIN_SOURCE_0882.png', '../Data/train_source_image\\\\TRAIN_SOURCE_0883.png', '../Data/train_source_image\\\\TRAIN_SOURCE_0884.png', '../Data/train_source_image\\\\TRAIN_SOURCE_0885.png', '../Data/train_source_image\\\\TRAIN_SOURCE_0886.png', '../Data/train_source_image\\\\TRAIN_SOURCE_0887.png', '../Data/train_source_image\\\\TRAIN_SOURCE_0888.png', '../Data/train_source_image\\\\TRAIN_SOURCE_0889.png', '../Data/train_source_image\\\\TRAIN_SOURCE_0890.png', '../Data/train_source_image\\\\TRAIN_SOURCE_0891.png', '../Data/train_source_image\\\\TRAIN_SOURCE_0892.png', '../Data/train_source_image\\\\TRAIN_SOURCE_0893.png', '../Data/train_source_image\\\\TRAIN_SOURCE_0894.png', '../Data/train_source_image\\\\TRAIN_SOURCE_0895.png', '../Data/train_source_image\\\\TRAIN_SOURCE_0896.png', '../Data/train_source_image\\\\TRAIN_SOURCE_0897.png', '../Data/train_source_image\\\\TRAIN_SOURCE_0898.png', '../Data/train_source_image\\\\TRAIN_SOURCE_0899.png', '../Data/train_source_image\\\\TRAIN_SOURCE_0900.png', '../Data/train_source_image\\\\TRAIN_SOURCE_0901.png', '../Data/train_source_image\\\\TRAIN_SOURCE_0902.png', '../Data/train_source_image\\\\TRAIN_SOURCE_0903.png', '../Data/train_source_image\\\\TRAIN_SOURCE_0904.png', '../Data/train_source_image\\\\TRAIN_SOURCE_0905.png', '../Data/train_source_image\\\\TRAIN_SOURCE_0906.png', '../Data/train_source_image\\\\TRAIN_SOURCE_0907.png', '../Data/train_source_image\\\\TRAIN_SOURCE_0908.png', '../Data/train_source_image\\\\TRAIN_SOURCE_0909.png', '../Data/train_source_image\\\\TRAIN_SOURCE_0910.png', '../Data/train_source_image\\\\TRAIN_SOURCE_0911.png', '../Data/train_source_image\\\\TRAIN_SOURCE_0912.png', '../Data/train_source_image\\\\TRAIN_SOURCE_0913.png', '../Data/train_source_image\\\\TRAIN_SOURCE_0914.png', '../Data/train_source_image\\\\TRAIN_SOURCE_0915.png', '../Data/train_source_image\\\\TRAIN_SOURCE_0916.png', '../Data/train_source_image\\\\TRAIN_SOURCE_0917.png', '../Data/train_source_image\\\\TRAIN_SOURCE_0918.png', '../Data/train_source_image\\\\TRAIN_SOURCE_0919.png', '../Data/train_source_image\\\\TRAIN_SOURCE_0920.png', '../Data/train_source_image\\\\TRAIN_SOURCE_0921.png', '../Data/train_source_image\\\\TRAIN_SOURCE_0922.png', '../Data/train_source_image\\\\TRAIN_SOURCE_0923.png', '../Data/train_source_image\\\\TRAIN_SOURCE_0924.png', '../Data/train_source_image\\\\TRAIN_SOURCE_0925.png', '../Data/train_source_image\\\\TRAIN_SOURCE_0926.png', '../Data/train_source_image\\\\TRAIN_SOURCE_0927.png', '../Data/train_source_image\\\\TRAIN_SOURCE_0928.png', '../Data/train_source_image\\\\TRAIN_SOURCE_0929.png', '../Data/train_source_image\\\\TRAIN_SOURCE_0930.png', '../Data/train_source_image\\\\TRAIN_SOURCE_0931.png', '../Data/train_source_image\\\\TRAIN_SOURCE_0932.png', '../Data/train_source_image\\\\TRAIN_SOURCE_0933.png', '../Data/train_source_image\\\\TRAIN_SOURCE_0934.png', '../Data/train_source_image\\\\TRAIN_SOURCE_0935.png', '../Data/train_source_image\\\\TRAIN_SOURCE_0936.png', '../Data/train_source_image\\\\TRAIN_SOURCE_0937.png', '../Data/train_source_image\\\\TRAIN_SOURCE_0938.png', '../Data/train_source_image\\\\TRAIN_SOURCE_0939.png', '../Data/train_source_image\\\\TRAIN_SOURCE_0940.png', '../Data/train_source_image\\\\TRAIN_SOURCE_0941.png', '../Data/train_source_image\\\\TRAIN_SOURCE_0942.png', '../Data/train_source_image\\\\TRAIN_SOURCE_0943.png', '../Data/train_source_image\\\\TRAIN_SOURCE_0944.png', '../Data/train_source_image\\\\TRAIN_SOURCE_0945.png', '../Data/train_source_image\\\\TRAIN_SOURCE_0946.png', '../Data/train_source_image\\\\TRAIN_SOURCE_0947.png', '../Data/train_source_image\\\\TRAIN_SOURCE_0948.png', '../Data/train_source_image\\\\TRAIN_SOURCE_0949.png', '../Data/train_source_image\\\\TRAIN_SOURCE_0950.png', '../Data/train_source_image\\\\TRAIN_SOURCE_0951.png', '../Data/train_source_image\\\\TRAIN_SOURCE_0952.png', '../Data/train_source_image\\\\TRAIN_SOURCE_0953.png', '../Data/train_source_image\\\\TRAIN_SOURCE_0954.png', '../Data/train_source_image\\\\TRAIN_SOURCE_0955.png', '../Data/train_source_image\\\\TRAIN_SOURCE_0956.png', '../Data/train_source_image\\\\TRAIN_SOURCE_0957.png', '../Data/train_source_image\\\\TRAIN_SOURCE_0958.png', '../Data/train_source_image\\\\TRAIN_SOURCE_0959.png', '../Data/train_source_image\\\\TRAIN_SOURCE_0960.png', '../Data/train_source_image\\\\TRAIN_SOURCE_0961.png', '../Data/train_source_image\\\\TRAIN_SOURCE_0962.png', '../Data/train_source_image\\\\TRAIN_SOURCE_0963.png', '../Data/train_source_image\\\\TRAIN_SOURCE_0964.png', '../Data/train_source_image\\\\TRAIN_SOURCE_0965.png', '../Data/train_source_image\\\\TRAIN_SOURCE_0966.png', '../Data/train_source_image\\\\TRAIN_SOURCE_0967.png', '../Data/train_source_image\\\\TRAIN_SOURCE_0968.png', '../Data/train_source_image\\\\TRAIN_SOURCE_0969.png', '../Data/train_source_image\\\\TRAIN_SOURCE_0970.png', '../Data/train_source_image\\\\TRAIN_SOURCE_0971.png', '../Data/train_source_image\\\\TRAIN_SOURCE_0972.png', '../Data/train_source_image\\\\TRAIN_SOURCE_0973.png', '../Data/train_source_image\\\\TRAIN_SOURCE_0974.png', '../Data/train_source_image\\\\TRAIN_SOURCE_0975.png', '../Data/train_source_image\\\\TRAIN_SOURCE_0976.png', '../Data/train_source_image\\\\TRAIN_SOURCE_0977.png', '../Data/train_source_image\\\\TRAIN_SOURCE_0978.png', '../Data/train_source_image\\\\TRAIN_SOURCE_0979.png', '../Data/train_source_image\\\\TRAIN_SOURCE_0980.png', '../Data/train_source_image\\\\TRAIN_SOURCE_0981.png', '../Data/train_source_image\\\\TRAIN_SOURCE_0982.png', '../Data/train_source_image\\\\TRAIN_SOURCE_0983.png', '../Data/train_source_image\\\\TRAIN_SOURCE_0984.png', '../Data/train_source_image\\\\TRAIN_SOURCE_0985.png', '../Data/train_source_image\\\\TRAIN_SOURCE_0986.png', '../Data/train_source_image\\\\TRAIN_SOURCE_0987.png', '../Data/train_source_image\\\\TRAIN_SOURCE_0988.png', '../Data/train_source_image\\\\TRAIN_SOURCE_0989.png', '../Data/train_source_image\\\\TRAIN_SOURCE_0990.png', '../Data/train_source_image\\\\TRAIN_SOURCE_0991.png', '../Data/train_source_image\\\\TRAIN_SOURCE_0992.png', '../Data/train_source_image\\\\TRAIN_SOURCE_0993.png', '../Data/train_source_image\\\\TRAIN_SOURCE_0994.png', '../Data/train_source_image\\\\TRAIN_SOURCE_0995.png', '../Data/train_source_image\\\\TRAIN_SOURCE_0996.png', '../Data/train_source_image\\\\TRAIN_SOURCE_0997.png', '../Data/train_source_image\\\\TRAIN_SOURCE_0998.png', '../Data/train_source_image\\\\TRAIN_SOURCE_0999.png', '../Data/train_source_image\\\\TRAIN_SOURCE_1000.png', '../Data/train_source_image\\\\TRAIN_SOURCE_1001.png', '../Data/train_source_image\\\\TRAIN_SOURCE_1002.png', '../Data/train_source_image\\\\TRAIN_SOURCE_1003.png', '../Data/train_source_image\\\\TRAIN_SOURCE_1004.png', '../Data/train_source_image\\\\TRAIN_SOURCE_1005.png', '../Data/train_source_image\\\\TRAIN_SOURCE_1006.png', '../Data/train_source_image\\\\TRAIN_SOURCE_1007.png', '../Data/train_source_image\\\\TRAIN_SOURCE_1008.png', '../Data/train_source_image\\\\TRAIN_SOURCE_1009.png', '../Data/train_source_image\\\\TRAIN_SOURCE_1010.png', '../Data/train_source_image\\\\TRAIN_SOURCE_1011.png', '../Data/train_source_image\\\\TRAIN_SOURCE_1012.png', '../Data/train_source_image\\\\TRAIN_SOURCE_1013.png', '../Data/train_source_image\\\\TRAIN_SOURCE_1014.png', '../Data/train_source_image\\\\TRAIN_SOURCE_1015.png', '../Data/train_source_image\\\\TRAIN_SOURCE_1016.png', '../Data/train_source_image\\\\TRAIN_SOURCE_1017.png', '../Data/train_source_image\\\\TRAIN_SOURCE_1018.png', '../Data/train_source_image\\\\TRAIN_SOURCE_1019.png', '../Data/train_source_image\\\\TRAIN_SOURCE_1020.png', '../Data/train_source_image\\\\TRAIN_SOURCE_1021.png', '../Data/train_source_image\\\\TRAIN_SOURCE_1022.png', '../Data/train_source_image\\\\TRAIN_SOURCE_1023.png', '../Data/train_source_image\\\\TRAIN_SOURCE_1024.png', '../Data/train_source_image\\\\TRAIN_SOURCE_1025.png', '../Data/train_source_image\\\\TRAIN_SOURCE_1026.png', '../Data/train_source_image\\\\TRAIN_SOURCE_1027.png', '../Data/train_source_image\\\\TRAIN_SOURCE_1028.png', '../Data/train_source_image\\\\TRAIN_SOURCE_1029.png', '../Data/train_source_image\\\\TRAIN_SOURCE_1030.png', '../Data/train_source_image\\\\TRAIN_SOURCE_1031.png', '../Data/train_source_image\\\\TRAIN_SOURCE_1032.png', '../Data/train_source_image\\\\TRAIN_SOURCE_1033.png', '../Data/train_source_image\\\\TRAIN_SOURCE_1034.png', '../Data/train_source_image\\\\TRAIN_SOURCE_1035.png', '../Data/train_source_image\\\\TRAIN_SOURCE_1036.png', '../Data/train_source_image\\\\TRAIN_SOURCE_1037.png', '../Data/train_source_image\\\\TRAIN_SOURCE_1038.png', '../Data/train_source_image\\\\TRAIN_SOURCE_1039.png', '../Data/train_source_image\\\\TRAIN_SOURCE_1040.png', '../Data/train_source_image\\\\TRAIN_SOURCE_1041.png', '../Data/train_source_image\\\\TRAIN_SOURCE_1042.png', '../Data/train_source_image\\\\TRAIN_SOURCE_1043.png', '../Data/train_source_image\\\\TRAIN_SOURCE_1044.png', '../Data/train_source_image\\\\TRAIN_SOURCE_1045.png', '../Data/train_source_image\\\\TRAIN_SOURCE_1046.png', '../Data/train_source_image\\\\TRAIN_SOURCE_1047.png', '../Data/train_source_image\\\\TRAIN_SOURCE_1048.png', '../Data/train_source_image\\\\TRAIN_SOURCE_1049.png', '../Data/train_source_image\\\\TRAIN_SOURCE_1050.png', '../Data/train_source_image\\\\TRAIN_SOURCE_1051.png', '../Data/train_source_image\\\\TRAIN_SOURCE_1052.png', '../Data/train_source_image\\\\TRAIN_SOURCE_1053.png', '../Data/train_source_image\\\\TRAIN_SOURCE_1054.png', '../Data/train_source_image\\\\TRAIN_SOURCE_1055.png', '../Data/train_source_image\\\\TRAIN_SOURCE_1056.png', '../Data/train_source_image\\\\TRAIN_SOURCE_1057.png', '../Data/train_source_image\\\\TRAIN_SOURCE_1058.png', '../Data/train_source_image\\\\TRAIN_SOURCE_1059.png', '../Data/train_source_image\\\\TRAIN_SOURCE_1060.png', '../Data/train_source_image\\\\TRAIN_SOURCE_1061.png', '../Data/train_source_image\\\\TRAIN_SOURCE_1062.png', '../Data/train_source_image\\\\TRAIN_SOURCE_1063.png', '../Data/train_source_image\\\\TRAIN_SOURCE_1064.png', '../Data/train_source_image\\\\TRAIN_SOURCE_1065.png', '../Data/train_source_image\\\\TRAIN_SOURCE_1066.png', '../Data/train_source_image\\\\TRAIN_SOURCE_1067.png', '../Data/train_source_image\\\\TRAIN_SOURCE_1068.png', '../Data/train_source_image\\\\TRAIN_SOURCE_1069.png', '../Data/train_source_image\\\\TRAIN_SOURCE_1070.png', '../Data/train_source_image\\\\TRAIN_SOURCE_1071.png', '../Data/train_source_image\\\\TRAIN_SOURCE_1072.png', '../Data/train_source_image\\\\TRAIN_SOURCE_1073.png', '../Data/train_source_image\\\\TRAIN_SOURCE_1074.png', '../Data/train_source_image\\\\TRAIN_SOURCE_1075.png', '../Data/train_source_image\\\\TRAIN_SOURCE_1076.png', '../Data/train_source_image\\\\TRAIN_SOURCE_1077.png', '../Data/train_source_image\\\\TRAIN_SOURCE_1078.png', '../Data/train_source_image\\\\TRAIN_SOURCE_1079.png', '../Data/train_source_image\\\\TRAIN_SOURCE_1080.png', '../Data/train_source_image\\\\TRAIN_SOURCE_1081.png', '../Data/train_source_image\\\\TRAIN_SOURCE_1082.png', '../Data/train_source_image\\\\TRAIN_SOURCE_1083.png', '../Data/train_source_image\\\\TRAIN_SOURCE_1084.png', '../Data/train_source_image\\\\TRAIN_SOURCE_1085.png', '../Data/train_source_image\\\\TRAIN_SOURCE_1086.png', '../Data/train_source_image\\\\TRAIN_SOURCE_1087.png', '../Data/train_source_image\\\\TRAIN_SOURCE_1088.png', '../Data/train_source_image\\\\TRAIN_SOURCE_1089.png', '../Data/train_source_image\\\\TRAIN_SOURCE_1090.png', '../Data/train_source_image\\\\TRAIN_SOURCE_1091.png', '../Data/train_source_image\\\\TRAIN_SOURCE_1092.png', '../Data/train_source_image\\\\TRAIN_SOURCE_1093.png', '../Data/train_source_image\\\\TRAIN_SOURCE_1094.png', '../Data/train_source_image\\\\TRAIN_SOURCE_1095.png', '../Data/train_source_image\\\\TRAIN_SOURCE_1096.png', '../Data/train_source_image\\\\TRAIN_SOURCE_1097.png', '../Data/train_source_image\\\\TRAIN_SOURCE_1098.png', '../Data/train_source_image\\\\TRAIN_SOURCE_1099.png', '../Data/train_source_image\\\\TRAIN_SOURCE_1100.png', '../Data/train_source_image\\\\TRAIN_SOURCE_1101.png', '../Data/train_source_image\\\\TRAIN_SOURCE_1102.png', '../Data/train_source_image\\\\TRAIN_SOURCE_1103.png', '../Data/train_source_image\\\\TRAIN_SOURCE_1104.png', '../Data/train_source_image\\\\TRAIN_SOURCE_1105.png', '../Data/train_source_image\\\\TRAIN_SOURCE_1106.png', '../Data/train_source_image\\\\TRAIN_SOURCE_1107.png', '../Data/train_source_image\\\\TRAIN_SOURCE_1108.png', '../Data/train_source_image\\\\TRAIN_SOURCE_1109.png', '../Data/train_source_image\\\\TRAIN_SOURCE_1110.png', '../Data/train_source_image\\\\TRAIN_SOURCE_1111.png', '../Data/train_source_image\\\\TRAIN_SOURCE_1112.png', '../Data/train_source_image\\\\TRAIN_SOURCE_1113.png', '../Data/train_source_image\\\\TRAIN_SOURCE_1114.png', '../Data/train_source_image\\\\TRAIN_SOURCE_1115.png', '../Data/train_source_image\\\\TRAIN_SOURCE_1116.png', '../Data/train_source_image\\\\TRAIN_SOURCE_1117.png', '../Data/train_source_image\\\\TRAIN_SOURCE_1118.png', '../Data/train_source_image\\\\TRAIN_SOURCE_1119.png', '../Data/train_source_image\\\\TRAIN_SOURCE_1120.png', '../Data/train_source_image\\\\TRAIN_SOURCE_1121.png', '../Data/train_source_image\\\\TRAIN_SOURCE_1122.png', '../Data/train_source_image\\\\TRAIN_SOURCE_1123.png', '../Data/train_source_image\\\\TRAIN_SOURCE_1124.png', '../Data/train_source_image\\\\TRAIN_SOURCE_1125.png', '../Data/train_source_image\\\\TRAIN_SOURCE_1126.png', '../Data/train_source_image\\\\TRAIN_SOURCE_1127.png', '../Data/train_source_image\\\\TRAIN_SOURCE_1128.png', '../Data/train_source_image\\\\TRAIN_SOURCE_1129.png', '../Data/train_source_image\\\\TRAIN_SOURCE_1130.png', '../Data/train_source_image\\\\TRAIN_SOURCE_1131.png', '../Data/train_source_image\\\\TRAIN_SOURCE_1132.png', '../Data/train_source_image\\\\TRAIN_SOURCE_1133.png', '../Data/train_source_image\\\\TRAIN_SOURCE_1134.png', '../Data/train_source_image\\\\TRAIN_SOURCE_1135.png', '../Data/train_source_image\\\\TRAIN_SOURCE_1136.png', '../Data/train_source_image\\\\TRAIN_SOURCE_1137.png', '../Data/train_source_image\\\\TRAIN_SOURCE_1138.png', '../Data/train_source_image\\\\TRAIN_SOURCE_1139.png', '../Data/train_source_image\\\\TRAIN_SOURCE_1140.png', '../Data/train_source_image\\\\TRAIN_SOURCE_1141.png', '../Data/train_source_image\\\\TRAIN_SOURCE_1142.png', '../Data/train_source_image\\\\TRAIN_SOURCE_1143.png', '../Data/train_source_image\\\\TRAIN_SOURCE_1144.png', '../Data/train_source_image\\\\TRAIN_SOURCE_1145.png', '../Data/train_source_image\\\\TRAIN_SOURCE_1146.png', '../Data/train_source_image\\\\TRAIN_SOURCE_1147.png', '../Data/train_source_image\\\\TRAIN_SOURCE_1148.png', '../Data/train_source_image\\\\TRAIN_SOURCE_1149.png', '../Data/train_source_image\\\\TRAIN_SOURCE_1150.png', '../Data/train_source_image\\\\TRAIN_SOURCE_1151.png', '../Data/train_source_image\\\\TRAIN_SOURCE_1152.png', '../Data/train_source_image\\\\TRAIN_SOURCE_1153.png', '../Data/train_source_image\\\\TRAIN_SOURCE_1154.png', '../Data/train_source_image\\\\TRAIN_SOURCE_1155.png', '../Data/train_source_image\\\\TRAIN_SOURCE_1156.png', '../Data/train_source_image\\\\TRAIN_SOURCE_1157.png', '../Data/train_source_image\\\\TRAIN_SOURCE_1158.png', '../Data/train_source_image\\\\TRAIN_SOURCE_1159.png', '../Data/train_source_image\\\\TRAIN_SOURCE_1160.png', '../Data/train_source_image\\\\TRAIN_SOURCE_1161.png', '../Data/train_source_image\\\\TRAIN_SOURCE_1162.png', '../Data/train_source_image\\\\TRAIN_SOURCE_1163.png', '../Data/train_source_image\\\\TRAIN_SOURCE_1164.png', '../Data/train_source_image\\\\TRAIN_SOURCE_1165.png', '../Data/train_source_image\\\\TRAIN_SOURCE_1166.png', '../Data/train_source_image\\\\TRAIN_SOURCE_1167.png', '../Data/train_source_image\\\\TRAIN_SOURCE_1168.png', '../Data/train_source_image\\\\TRAIN_SOURCE_1169.png', '../Data/train_source_image\\\\TRAIN_SOURCE_1170.png', '../Data/train_source_image\\\\TRAIN_SOURCE_1171.png', '../Data/train_source_image\\\\TRAIN_SOURCE_1172.png', '../Data/train_source_image\\\\TRAIN_SOURCE_1173.png', '../Data/train_source_image\\\\TRAIN_SOURCE_1174.png', '../Data/train_source_image\\\\TRAIN_SOURCE_1175.png', '../Data/train_source_image\\\\TRAIN_SOURCE_1176.png', '../Data/train_source_image\\\\TRAIN_SOURCE_1177.png', '../Data/train_source_image\\\\TRAIN_SOURCE_1178.png', '../Data/train_source_image\\\\TRAIN_SOURCE_1179.png', '../Data/train_source_image\\\\TRAIN_SOURCE_1180.png', '../Data/train_source_image\\\\TRAIN_SOURCE_1181.png', '../Data/train_source_image\\\\TRAIN_SOURCE_1182.png', '../Data/train_source_image\\\\TRAIN_SOURCE_1183.png', '../Data/train_source_image\\\\TRAIN_SOURCE_1184.png', '../Data/train_source_image\\\\TRAIN_SOURCE_1185.png', '../Data/train_source_image\\\\TRAIN_SOURCE_1186.png', '../Data/train_source_image\\\\TRAIN_SOURCE_1187.png', '../Data/train_source_image\\\\TRAIN_SOURCE_1188.png', '../Data/train_source_image\\\\TRAIN_SOURCE_1189.png', '../Data/train_source_image\\\\TRAIN_SOURCE_1190.png', '../Data/train_source_image\\\\TRAIN_SOURCE_1191.png', '../Data/train_source_image\\\\TRAIN_SOURCE_1192.png', '../Data/train_source_image\\\\TRAIN_SOURCE_1193.png', '../Data/train_source_image\\\\TRAIN_SOURCE_1194.png', '../Data/train_source_image\\\\TRAIN_SOURCE_1195.png', '../Data/train_source_image\\\\TRAIN_SOURCE_1196.png', '../Data/train_source_image\\\\TRAIN_SOURCE_1197.png', '../Data/train_source_image\\\\TRAIN_SOURCE_1198.png', '../Data/train_source_image\\\\TRAIN_SOURCE_1199.png', '../Data/train_source_image\\\\TRAIN_SOURCE_1200.png', '../Data/train_source_image\\\\TRAIN_SOURCE_1201.png', '../Data/train_source_image\\\\TRAIN_SOURCE_1202.png', '../Data/train_source_image\\\\TRAIN_SOURCE_1203.png', '../Data/train_source_image\\\\TRAIN_SOURCE_1204.png', '../Data/train_source_image\\\\TRAIN_SOURCE_1205.png', '../Data/train_source_image\\\\TRAIN_SOURCE_1206.png', '../Data/train_source_image\\\\TRAIN_SOURCE_1207.png', '../Data/train_source_image\\\\TRAIN_SOURCE_1208.png', '../Data/train_source_image\\\\TRAIN_SOURCE_1209.png', '../Data/train_source_image\\\\TRAIN_SOURCE_1210.png', '../Data/train_source_image\\\\TRAIN_SOURCE_1211.png', '../Data/train_source_image\\\\TRAIN_SOURCE_1212.png', '../Data/train_source_image\\\\TRAIN_SOURCE_1213.png', '../Data/train_source_image\\\\TRAIN_SOURCE_1214.png', '../Data/train_source_image\\\\TRAIN_SOURCE_1215.png', '../Data/train_source_image\\\\TRAIN_SOURCE_1216.png', '../Data/train_source_image\\\\TRAIN_SOURCE_1217.png', '../Data/train_source_image\\\\TRAIN_SOURCE_1218.png', '../Data/train_source_image\\\\TRAIN_SOURCE_1219.png', '../Data/train_source_image\\\\TRAIN_SOURCE_1220.png', '../Data/train_source_image\\\\TRAIN_SOURCE_1221.png', '../Data/train_source_image\\\\TRAIN_SOURCE_1222.png', '../Data/train_source_image\\\\TRAIN_SOURCE_1223.png', '../Data/train_source_image\\\\TRAIN_SOURCE_1224.png', '../Data/train_source_image\\\\TRAIN_SOURCE_1225.png', '../Data/train_source_image\\\\TRAIN_SOURCE_1226.png', '../Data/train_source_image\\\\TRAIN_SOURCE_1227.png', '../Data/train_source_image\\\\TRAIN_SOURCE_1228.png', '../Data/train_source_image\\\\TRAIN_SOURCE_1229.png', '../Data/train_source_image\\\\TRAIN_SOURCE_1230.png', '../Data/train_source_image\\\\TRAIN_SOURCE_1231.png', '../Data/train_source_image\\\\TRAIN_SOURCE_1232.png', '../Data/train_source_image\\\\TRAIN_SOURCE_1233.png', '../Data/train_source_image\\\\TRAIN_SOURCE_1234.png', '../Data/train_source_image\\\\TRAIN_SOURCE_1235.png', '../Data/train_source_image\\\\TRAIN_SOURCE_1236.png', '../Data/train_source_image\\\\TRAIN_SOURCE_1237.png', '../Data/train_source_image\\\\TRAIN_SOURCE_1238.png', '../Data/train_source_image\\\\TRAIN_SOURCE_1239.png', '../Data/train_source_image\\\\TRAIN_SOURCE_1240.png', '../Data/train_source_image\\\\TRAIN_SOURCE_1241.png', '../Data/train_source_image\\\\TRAIN_SOURCE_1242.png', '../Data/train_source_image\\\\TRAIN_SOURCE_1243.png', '../Data/train_source_image\\\\TRAIN_SOURCE_1244.png', '../Data/train_source_image\\\\TRAIN_SOURCE_1245.png', '../Data/train_source_image\\\\TRAIN_SOURCE_1246.png', '../Data/train_source_image\\\\TRAIN_SOURCE_1247.png', '../Data/train_source_image\\\\TRAIN_SOURCE_1248.png', '../Data/train_source_image\\\\TRAIN_SOURCE_1249.png', '../Data/train_source_image\\\\TRAIN_SOURCE_1250.png', '../Data/train_source_image\\\\TRAIN_SOURCE_1251.png', '../Data/train_source_image\\\\TRAIN_SOURCE_1252.png', '../Data/train_source_image\\\\TRAIN_SOURCE_1253.png', '../Data/train_source_image\\\\TRAIN_SOURCE_1254.png', '../Data/train_source_image\\\\TRAIN_SOURCE_1255.png', '../Data/train_source_image\\\\TRAIN_SOURCE_1256.png', '../Data/train_source_image\\\\TRAIN_SOURCE_1257.png', '../Data/train_source_image\\\\TRAIN_SOURCE_1258.png', '../Data/train_source_image\\\\TRAIN_SOURCE_1259.png', '../Data/train_source_image\\\\TRAIN_SOURCE_1260.png', '../Data/train_source_image\\\\TRAIN_SOURCE_1261.png', '../Data/train_source_image\\\\TRAIN_SOURCE_1262.png', '../Data/train_source_image\\\\TRAIN_SOURCE_1263.png', '../Data/train_source_image\\\\TRAIN_SOURCE_1264.png', '../Data/train_source_image\\\\TRAIN_SOURCE_1265.png', '../Data/train_source_image\\\\TRAIN_SOURCE_1266.png', '../Data/train_source_image\\\\TRAIN_SOURCE_1267.png', '../Data/train_source_image\\\\TRAIN_SOURCE_1268.png', '../Data/train_source_image\\\\TRAIN_SOURCE_1269.png', '../Data/train_source_image\\\\TRAIN_SOURCE_1270.png', '../Data/train_source_image\\\\TRAIN_SOURCE_1271.png', '../Data/train_source_image\\\\TRAIN_SOURCE_1272.png', '../Data/train_source_image\\\\TRAIN_SOURCE_1273.png', '../Data/train_source_image\\\\TRAIN_SOURCE_1274.png', '../Data/train_source_image\\\\TRAIN_SOURCE_1275.png', '../Data/train_source_image\\\\TRAIN_SOURCE_1276.png', '../Data/train_source_image\\\\TRAIN_SOURCE_1277.png', '../Data/train_source_image\\\\TRAIN_SOURCE_1278.png', '../Data/train_source_image\\\\TRAIN_SOURCE_1279.png', '../Data/train_source_image\\\\TRAIN_SOURCE_1280.png', '../Data/train_source_image\\\\TRAIN_SOURCE_1281.png', '../Data/train_source_image\\\\TRAIN_SOURCE_1282.png', '../Data/train_source_image\\\\TRAIN_SOURCE_1283.png', '../Data/train_source_image\\\\TRAIN_SOURCE_1284.png', '../Data/train_source_image\\\\TRAIN_SOURCE_1285.png', '../Data/train_source_image\\\\TRAIN_SOURCE_1286.png', '../Data/train_source_image\\\\TRAIN_SOURCE_1287.png', '../Data/train_source_image\\\\TRAIN_SOURCE_1288.png', '../Data/train_source_image\\\\TRAIN_SOURCE_1289.png', '../Data/train_source_image\\\\TRAIN_SOURCE_1290.png', '../Data/train_source_image\\\\TRAIN_SOURCE_1291.png', '../Data/train_source_image\\\\TRAIN_SOURCE_1292.png', '../Data/train_source_image\\\\TRAIN_SOURCE_1293.png', '../Data/train_source_image\\\\TRAIN_SOURCE_1294.png', '../Data/train_source_image\\\\TRAIN_SOURCE_1295.png', '../Data/train_source_image\\\\TRAIN_SOURCE_1296.png', '../Data/train_source_image\\\\TRAIN_SOURCE_1297.png', '../Data/train_source_image\\\\TRAIN_SOURCE_1298.png', '../Data/train_source_image\\\\TRAIN_SOURCE_1299.png', '../Data/train_source_image\\\\TRAIN_SOURCE_1300.png', '../Data/train_source_image\\\\TRAIN_SOURCE_1301.png', '../Data/train_source_image\\\\TRAIN_SOURCE_1302.png', '../Data/train_source_image\\\\TRAIN_SOURCE_1303.png', '../Data/train_source_image\\\\TRAIN_SOURCE_1304.png', '../Data/train_source_image\\\\TRAIN_SOURCE_1305.png', '../Data/train_source_image\\\\TRAIN_SOURCE_1306.png', '../Data/train_source_image\\\\TRAIN_SOURCE_1307.png', '../Data/train_source_image\\\\TRAIN_SOURCE_1308.png', '../Data/train_source_image\\\\TRAIN_SOURCE_1309.png', '../Data/train_source_image\\\\TRAIN_SOURCE_1310.png', '../Data/train_source_image\\\\TRAIN_SOURCE_1311.png', '../Data/train_source_image\\\\TRAIN_SOURCE_1312.png', '../Data/train_source_image\\\\TRAIN_SOURCE_1313.png', '../Data/train_source_image\\\\TRAIN_SOURCE_1314.png', '../Data/train_source_image\\\\TRAIN_SOURCE_1315.png', '../Data/train_source_image\\\\TRAIN_SOURCE_1316.png', '../Data/train_source_image\\\\TRAIN_SOURCE_1317.png', '../Data/train_source_image\\\\TRAIN_SOURCE_1318.png', '../Data/train_source_image\\\\TRAIN_SOURCE_1319.png', '../Data/train_source_image\\\\TRAIN_SOURCE_1320.png', '../Data/train_source_image\\\\TRAIN_SOURCE_1321.png', '../Data/train_source_image\\\\TRAIN_SOURCE_1322.png', '../Data/train_source_image\\\\TRAIN_SOURCE_1323.png', '../Data/train_source_image\\\\TRAIN_SOURCE_1324.png', '../Data/train_source_image\\\\TRAIN_SOURCE_1325.png', '../Data/train_source_image\\\\TRAIN_SOURCE_1326.png', '../Data/train_source_image\\\\TRAIN_SOURCE_1327.png', '../Data/train_source_image\\\\TRAIN_SOURCE_1328.png', '../Data/train_source_image\\\\TRAIN_SOURCE_1329.png', '../Data/train_source_image\\\\TRAIN_SOURCE_1330.png', '../Data/train_source_image\\\\TRAIN_SOURCE_1331.png', '../Data/train_source_image\\\\TRAIN_SOURCE_1332.png', '../Data/train_source_image\\\\TRAIN_SOURCE_1333.png', '../Data/train_source_image\\\\TRAIN_SOURCE_1334.png', '../Data/train_source_image\\\\TRAIN_SOURCE_1335.png', '../Data/train_source_image\\\\TRAIN_SOURCE_1336.png', '../Data/train_source_image\\\\TRAIN_SOURCE_1337.png', '../Data/train_source_image\\\\TRAIN_SOURCE_1338.png', '../Data/train_source_image\\\\TRAIN_SOURCE_1339.png', '../Data/train_source_image\\\\TRAIN_SOURCE_1340.png', '../Data/train_source_image\\\\TRAIN_SOURCE_1341.png', '../Data/train_source_image\\\\TRAIN_SOURCE_1342.png', '../Data/train_source_image\\\\TRAIN_SOURCE_1343.png', '../Data/train_source_image\\\\TRAIN_SOURCE_1344.png', '../Data/train_source_image\\\\TRAIN_SOURCE_1345.png', '../Data/train_source_image\\\\TRAIN_SOURCE_1346.png', '../Data/train_source_image\\\\TRAIN_SOURCE_1347.png', '../Data/train_source_image\\\\TRAIN_SOURCE_1348.png', '../Data/train_source_image\\\\TRAIN_SOURCE_1349.png', '../Data/train_source_image\\\\TRAIN_SOURCE_1350.png', '../Data/train_source_image\\\\TRAIN_SOURCE_1351.png', '../Data/train_source_image\\\\TRAIN_SOURCE_1352.png', '../Data/train_source_image\\\\TRAIN_SOURCE_1353.png', '../Data/train_source_image\\\\TRAIN_SOURCE_1354.png', '../Data/train_source_image\\\\TRAIN_SOURCE_1355.png', '../Data/train_source_image\\\\TRAIN_SOURCE_1356.png', '../Data/train_source_image\\\\TRAIN_SOURCE_1357.png', '../Data/train_source_image\\\\TRAIN_SOURCE_1358.png', '../Data/train_source_image\\\\TRAIN_SOURCE_1359.png', '../Data/train_source_image\\\\TRAIN_SOURCE_1360.png', '../Data/train_source_image\\\\TRAIN_SOURCE_1361.png', '../Data/train_source_image\\\\TRAIN_SOURCE_1362.png', '../Data/train_source_image\\\\TRAIN_SOURCE_1363.png', '../Data/train_source_image\\\\TRAIN_SOURCE_1364.png', '../Data/train_source_image\\\\TRAIN_SOURCE_1365.png', '../Data/train_source_image\\\\TRAIN_SOURCE_1366.png', '../Data/train_source_image\\\\TRAIN_SOURCE_1367.png', '../Data/train_source_image\\\\TRAIN_SOURCE_1368.png', '../Data/train_source_image\\\\TRAIN_SOURCE_1369.png', '../Data/train_source_image\\\\TRAIN_SOURCE_1370.png', '../Data/train_source_image\\\\TRAIN_SOURCE_1371.png', '../Data/train_source_image\\\\TRAIN_SOURCE_1372.png', '../Data/train_source_image\\\\TRAIN_SOURCE_1373.png', '../Data/train_source_image\\\\TRAIN_SOURCE_1374.png', '../Data/train_source_image\\\\TRAIN_SOURCE_1375.png', '../Data/train_source_image\\\\TRAIN_SOURCE_1376.png', '../Data/train_source_image\\\\TRAIN_SOURCE_1377.png', '../Data/train_source_image\\\\TRAIN_SOURCE_1378.png', '../Data/train_source_image\\\\TRAIN_SOURCE_1379.png', '../Data/train_source_image\\\\TRAIN_SOURCE_1380.png', '../Data/train_source_image\\\\TRAIN_SOURCE_1381.png', '../Data/train_source_image\\\\TRAIN_SOURCE_1382.png', '../Data/train_source_image\\\\TRAIN_SOURCE_1383.png', '../Data/train_source_image\\\\TRAIN_SOURCE_1384.png', '../Data/train_source_image\\\\TRAIN_SOURCE_1385.png', '../Data/train_source_image\\\\TRAIN_SOURCE_1386.png', '../Data/train_source_image\\\\TRAIN_SOURCE_1387.png', '../Data/train_source_image\\\\TRAIN_SOURCE_1388.png', '../Data/train_source_image\\\\TRAIN_SOURCE_1389.png', '../Data/train_source_image\\\\TRAIN_SOURCE_1390.png', '../Data/train_source_image\\\\TRAIN_SOURCE_1391.png', '../Data/train_source_image\\\\TRAIN_SOURCE_1392.png', '../Data/train_source_image\\\\TRAIN_SOURCE_1393.png', '../Data/train_source_image\\\\TRAIN_SOURCE_1394.png', '../Data/train_source_image\\\\TRAIN_SOURCE_1395.png', '../Data/train_source_image\\\\TRAIN_SOURCE_1396.png', '../Data/train_source_image\\\\TRAIN_SOURCE_1397.png', '../Data/train_source_image\\\\TRAIN_SOURCE_1398.png', '../Data/train_source_image\\\\TRAIN_SOURCE_1399.png', '../Data/train_source_image\\\\TRAIN_SOURCE_1400.png', '../Data/train_source_image\\\\TRAIN_SOURCE_1401.png', '../Data/train_source_image\\\\TRAIN_SOURCE_1402.png', '../Data/train_source_image\\\\TRAIN_SOURCE_1403.png', '../Data/train_source_image\\\\TRAIN_SOURCE_1404.png', '../Data/train_source_image\\\\TRAIN_SOURCE_1405.png', '../Data/train_source_image\\\\TRAIN_SOURCE_1406.png', '../Data/train_source_image\\\\TRAIN_SOURCE_1407.png', '../Data/train_source_image\\\\TRAIN_SOURCE_1408.png', '../Data/train_source_image\\\\TRAIN_SOURCE_1409.png', '../Data/train_source_image\\\\TRAIN_SOURCE_1410.png', '../Data/train_source_image\\\\TRAIN_SOURCE_1411.png', '../Data/train_source_image\\\\TRAIN_SOURCE_1412.png', '../Data/train_source_image\\\\TRAIN_SOURCE_1413.png', '../Data/train_source_image\\\\TRAIN_SOURCE_1414.png', '../Data/train_source_image\\\\TRAIN_SOURCE_1415.png', '../Data/train_source_image\\\\TRAIN_SOURCE_1416.png', '../Data/train_source_image\\\\TRAIN_SOURCE_1417.png', '../Data/train_source_image\\\\TRAIN_SOURCE_1418.png', '../Data/train_source_image\\\\TRAIN_SOURCE_1419.png', '../Data/train_source_image\\\\TRAIN_SOURCE_1420.png', '../Data/train_source_image\\\\TRAIN_SOURCE_1421.png', '../Data/train_source_image\\\\TRAIN_SOURCE_1422.png', '../Data/train_source_image\\\\TRAIN_SOURCE_1423.png', '../Data/train_source_image\\\\TRAIN_SOURCE_1424.png', '../Data/train_source_image\\\\TRAIN_SOURCE_1425.png', '../Data/train_source_image\\\\TRAIN_SOURCE_1426.png', '../Data/train_source_image\\\\TRAIN_SOURCE_1427.png', '../Data/train_source_image\\\\TRAIN_SOURCE_1428.png', '../Data/train_source_image\\\\TRAIN_SOURCE_1429.png', '../Data/train_source_image\\\\TRAIN_SOURCE_1430.png', '../Data/train_source_image\\\\TRAIN_SOURCE_1431.png', '../Data/train_source_image\\\\TRAIN_SOURCE_1432.png', '../Data/train_source_image\\\\TRAIN_SOURCE_1433.png', '../Data/train_source_image\\\\TRAIN_SOURCE_1434.png', '../Data/train_source_image\\\\TRAIN_SOURCE_1435.png', '../Data/train_source_image\\\\TRAIN_SOURCE_1436.png', '../Data/train_source_image\\\\TRAIN_SOURCE_1437.png', '../Data/train_source_image\\\\TRAIN_SOURCE_1438.png', '../Data/train_source_image\\\\TRAIN_SOURCE_1439.png', '../Data/train_source_image\\\\TRAIN_SOURCE_1440.png', '../Data/train_source_image\\\\TRAIN_SOURCE_1441.png', '../Data/train_source_image\\\\TRAIN_SOURCE_1442.png', '../Data/train_source_image\\\\TRAIN_SOURCE_1443.png', '../Data/train_source_image\\\\TRAIN_SOURCE_1444.png', '../Data/train_source_image\\\\TRAIN_SOURCE_1445.png', '../Data/train_source_image\\\\TRAIN_SOURCE_1446.png', '../Data/train_source_image\\\\TRAIN_SOURCE_1447.png', '../Data/train_source_image\\\\TRAIN_SOURCE_1448.png', '../Data/train_source_image\\\\TRAIN_SOURCE_1449.png', '../Data/train_source_image\\\\TRAIN_SOURCE_1450.png', '../Data/train_source_image\\\\TRAIN_SOURCE_1451.png', '../Data/train_source_image\\\\TRAIN_SOURCE_1452.png', '../Data/train_source_image\\\\TRAIN_SOURCE_1453.png', '../Data/train_source_image\\\\TRAIN_SOURCE_1454.png', '../Data/train_source_image\\\\TRAIN_SOURCE_1455.png', '../Data/train_source_image\\\\TRAIN_SOURCE_1456.png', '../Data/train_source_image\\\\TRAIN_SOURCE_1457.png', '../Data/train_source_image\\\\TRAIN_SOURCE_1458.png', '../Data/train_source_image\\\\TRAIN_SOURCE_1459.png', '../Data/train_source_image\\\\TRAIN_SOURCE_1460.png', '../Data/train_source_image\\\\TRAIN_SOURCE_1461.png', '../Data/train_source_image\\\\TRAIN_SOURCE_1462.png', '../Data/train_source_image\\\\TRAIN_SOURCE_1463.png', '../Data/train_source_image\\\\TRAIN_SOURCE_1464.png', '../Data/train_source_image\\\\TRAIN_SOURCE_1465.png', '../Data/train_source_image\\\\TRAIN_SOURCE_1466.png', '../Data/train_source_image\\\\TRAIN_SOURCE_1467.png', '../Data/train_source_image\\\\TRAIN_SOURCE_1468.png', '../Data/train_source_image\\\\TRAIN_SOURCE_1469.png', '../Data/train_source_image\\\\TRAIN_SOURCE_1470.png', '../Data/train_source_image\\\\TRAIN_SOURCE_1471.png', '../Data/train_source_image\\\\TRAIN_SOURCE_1472.png', '../Data/train_source_image\\\\TRAIN_SOURCE_1473.png', '../Data/train_source_image\\\\TRAIN_SOURCE_1474.png', '../Data/train_source_image\\\\TRAIN_SOURCE_1475.png', '../Data/train_source_image\\\\TRAIN_SOURCE_1476.png', '../Data/train_source_image\\\\TRAIN_SOURCE_1477.png', '../Data/train_source_image\\\\TRAIN_SOURCE_1478.png', '../Data/train_source_image\\\\TRAIN_SOURCE_1479.png', '../Data/train_source_image\\\\TRAIN_SOURCE_1480.png', '../Data/train_source_image\\\\TRAIN_SOURCE_1481.png', '../Data/train_source_image\\\\TRAIN_SOURCE_1482.png', '../Data/train_source_image\\\\TRAIN_SOURCE_1483.png', '../Data/train_source_image\\\\TRAIN_SOURCE_1484.png', '../Data/train_source_image\\\\TRAIN_SOURCE_1485.png', '../Data/train_source_image\\\\TRAIN_SOURCE_1486.png', '../Data/train_source_image\\\\TRAIN_SOURCE_1487.png', '../Data/train_source_image\\\\TRAIN_SOURCE_1488.png', '../Data/train_source_image\\\\TRAIN_SOURCE_1489.png', '../Data/train_source_image\\\\TRAIN_SOURCE_1490.png', '../Data/train_source_image\\\\TRAIN_SOURCE_1491.png', '../Data/train_source_image\\\\TRAIN_SOURCE_1492.png', '../Data/train_source_image\\\\TRAIN_SOURCE_1493.png', '../Data/train_source_image\\\\TRAIN_SOURCE_1494.png', '../Data/train_source_image\\\\TRAIN_SOURCE_1495.png', '../Data/train_source_image\\\\TRAIN_SOURCE_1496.png', '../Data/train_source_image\\\\TRAIN_SOURCE_1497.png', '../Data/train_source_image\\\\TRAIN_SOURCE_1498.png', '../Data/train_source_image\\\\TRAIN_SOURCE_1499.png', '../Data/train_source_image\\\\TRAIN_SOURCE_1500.png', '../Data/train_source_image\\\\TRAIN_SOURCE_1501.png', '../Data/train_source_image\\\\TRAIN_SOURCE_1502.png', '../Data/train_source_image\\\\TRAIN_SOURCE_1503.png', '../Data/train_source_image\\\\TRAIN_SOURCE_1504.png', '../Data/train_source_image\\\\TRAIN_SOURCE_1505.png', '../Data/train_source_image\\\\TRAIN_SOURCE_1506.png', '../Data/train_source_image\\\\TRAIN_SOURCE_1507.png', '../Data/train_source_image\\\\TRAIN_SOURCE_1508.png', '../Data/train_source_image\\\\TRAIN_SOURCE_1509.png', '../Data/train_source_image\\\\TRAIN_SOURCE_1510.png', '../Data/train_source_image\\\\TRAIN_SOURCE_1511.png', '../Data/train_source_image\\\\TRAIN_SOURCE_1512.png', '../Data/train_source_image\\\\TRAIN_SOURCE_1513.png', '../Data/train_source_image\\\\TRAIN_SOURCE_1514.png', '../Data/train_source_image\\\\TRAIN_SOURCE_1515.png', '../Data/train_source_image\\\\TRAIN_SOURCE_1516.png', '../Data/train_source_image\\\\TRAIN_SOURCE_1517.png', '../Data/train_source_image\\\\TRAIN_SOURCE_1518.png', '../Data/train_source_image\\\\TRAIN_SOURCE_1519.png', '../Data/train_source_image\\\\TRAIN_SOURCE_1520.png', '../Data/train_source_image\\\\TRAIN_SOURCE_1521.png', '../Data/train_source_image\\\\TRAIN_SOURCE_1522.png', '../Data/train_source_image\\\\TRAIN_SOURCE_1523.png', '../Data/train_source_image\\\\TRAIN_SOURCE_1524.png', '../Data/train_source_image\\\\TRAIN_SOURCE_1525.png', '../Data/train_source_image\\\\TRAIN_SOURCE_1526.png', '../Data/train_source_image\\\\TRAIN_SOURCE_1527.png', '../Data/train_source_image\\\\TRAIN_SOURCE_1528.png', '../Data/train_source_image\\\\TRAIN_SOURCE_1529.png', '../Data/train_source_image\\\\TRAIN_SOURCE_1530.png', '../Data/train_source_image\\\\TRAIN_SOURCE_1531.png', '../Data/train_source_image\\\\TRAIN_SOURCE_1532.png', '../Data/train_source_image\\\\TRAIN_SOURCE_1533.png', '../Data/train_source_image\\\\TRAIN_SOURCE_1534.png', '../Data/train_source_image\\\\TRAIN_SOURCE_1535.png', '../Data/train_source_image\\\\TRAIN_SOURCE_1536.png', '../Data/train_source_image\\\\TRAIN_SOURCE_1537.png', '../Data/train_source_image\\\\TRAIN_SOURCE_1538.png', '../Data/train_source_image\\\\TRAIN_SOURCE_1539.png', '../Data/train_source_image\\\\TRAIN_SOURCE_1540.png', '../Data/train_source_image\\\\TRAIN_SOURCE_1541.png', '../Data/train_source_image\\\\TRAIN_SOURCE_1542.png', '../Data/train_source_image\\\\TRAIN_SOURCE_1543.png', '../Data/train_source_image\\\\TRAIN_SOURCE_1544.png', '../Data/train_source_image\\\\TRAIN_SOURCE_1545.png', '../Data/train_source_image\\\\TRAIN_SOURCE_1546.png', '../Data/train_source_image\\\\TRAIN_SOURCE_1547.png', '../Data/train_source_image\\\\TRAIN_SOURCE_1548.png', '../Data/train_source_image\\\\TRAIN_SOURCE_1549.png', '../Data/train_source_image\\\\TRAIN_SOURCE_1550.png', '../Data/train_source_image\\\\TRAIN_SOURCE_1551.png', '../Data/train_source_image\\\\TRAIN_SOURCE_1552.png', '../Data/train_source_image\\\\TRAIN_SOURCE_1553.png', '../Data/train_source_image\\\\TRAIN_SOURCE_1554.png', '../Data/train_source_image\\\\TRAIN_SOURCE_1555.png', '../Data/train_source_image\\\\TRAIN_SOURCE_1556.png', '../Data/train_source_image\\\\TRAIN_SOURCE_1557.png', '../Data/train_source_image\\\\TRAIN_SOURCE_1558.png', '../Data/train_source_image\\\\TRAIN_SOURCE_1559.png', '../Data/train_source_image\\\\TRAIN_SOURCE_1560.png', '../Data/train_source_image\\\\TRAIN_SOURCE_1561.png', '../Data/train_source_image\\\\TRAIN_SOURCE_1562.png', '../Data/train_source_image\\\\TRAIN_SOURCE_1563.png', '../Data/train_source_image\\\\TRAIN_SOURCE_1564.png', '../Data/train_source_image\\\\TRAIN_SOURCE_1565.png', '../Data/train_source_image\\\\TRAIN_SOURCE_1566.png', '../Data/train_source_image\\\\TRAIN_SOURCE_1567.png', '../Data/train_source_image\\\\TRAIN_SOURCE_1568.png', '../Data/train_source_image\\\\TRAIN_SOURCE_1569.png', '../Data/train_source_image\\\\TRAIN_SOURCE_1570.png', '../Data/train_source_image\\\\TRAIN_SOURCE_1571.png', '../Data/train_source_image\\\\TRAIN_SOURCE_1572.png', '../Data/train_source_image\\\\TRAIN_SOURCE_1573.png', '../Data/train_source_image\\\\TRAIN_SOURCE_1574.png', '../Data/train_source_image\\\\TRAIN_SOURCE_1575.png', '../Data/train_source_image\\\\TRAIN_SOURCE_1576.png', '../Data/train_source_image\\\\TRAIN_SOURCE_1577.png', '../Data/train_source_image\\\\TRAIN_SOURCE_1578.png', '../Data/train_source_image\\\\TRAIN_SOURCE_1579.png', '../Data/train_source_image\\\\TRAIN_SOURCE_1580.png', '../Data/train_source_image\\\\TRAIN_SOURCE_1581.png', '../Data/train_source_image\\\\TRAIN_SOURCE_1582.png', '../Data/train_source_image\\\\TRAIN_SOURCE_1583.png', '../Data/train_source_image\\\\TRAIN_SOURCE_1584.png', '../Data/train_source_image\\\\TRAIN_SOURCE_1585.png', '../Data/train_source_image\\\\TRAIN_SOURCE_1586.png', '../Data/train_source_image\\\\TRAIN_SOURCE_1587.png', '../Data/train_source_image\\\\TRAIN_SOURCE_1588.png', '../Data/train_source_image\\\\TRAIN_SOURCE_1589.png', '../Data/train_source_image\\\\TRAIN_SOURCE_1590.png', '../Data/train_source_image\\\\TRAIN_SOURCE_1591.png', '../Data/train_source_image\\\\TRAIN_SOURCE_1592.png', '../Data/train_source_image\\\\TRAIN_SOURCE_1593.png', '../Data/train_source_image\\\\TRAIN_SOURCE_1594.png', '../Data/train_source_image\\\\TRAIN_SOURCE_1595.png', '../Data/train_source_image\\\\TRAIN_SOURCE_1596.png', '../Data/train_source_image\\\\TRAIN_SOURCE_1597.png', '../Data/train_source_image\\\\TRAIN_SOURCE_1598.png', '../Data/train_source_image\\\\TRAIN_SOURCE_1599.png', '../Data/train_source_image\\\\TRAIN_SOURCE_1600.png', '../Data/train_source_image\\\\TRAIN_SOURCE_1601.png', '../Data/train_source_image\\\\TRAIN_SOURCE_1602.png', '../Data/train_source_image\\\\TRAIN_SOURCE_1603.png', '../Data/train_source_image\\\\TRAIN_SOURCE_1604.png', '../Data/train_source_image\\\\TRAIN_SOURCE_1605.png', '../Data/train_source_image\\\\TRAIN_SOURCE_1606.png', '../Data/train_source_image\\\\TRAIN_SOURCE_1607.png', '../Data/train_source_image\\\\TRAIN_SOURCE_1608.png', '../Data/train_source_image\\\\TRAIN_SOURCE_1609.png', '../Data/train_source_image\\\\TRAIN_SOURCE_1610.png', '../Data/train_source_image\\\\TRAIN_SOURCE_1611.png', '../Data/train_source_image\\\\TRAIN_SOURCE_1612.png', '../Data/train_source_image\\\\TRAIN_SOURCE_1613.png', '../Data/train_source_image\\\\TRAIN_SOURCE_1614.png', '../Data/train_source_image\\\\TRAIN_SOURCE_1615.png', '../Data/train_source_image\\\\TRAIN_SOURCE_1616.png', '../Data/train_source_image\\\\TRAIN_SOURCE_1617.png', '../Data/train_source_image\\\\TRAIN_SOURCE_1618.png', '../Data/train_source_image\\\\TRAIN_SOURCE_1619.png', '../Data/train_source_image\\\\TRAIN_SOURCE_1620.png', '../Data/train_source_image\\\\TRAIN_SOURCE_1621.png', '../Data/train_source_image\\\\TRAIN_SOURCE_1622.png', '../Data/train_source_image\\\\TRAIN_SOURCE_1623.png', '../Data/train_source_image\\\\TRAIN_SOURCE_1624.png', '../Data/train_source_image\\\\TRAIN_SOURCE_1625.png', '../Data/train_source_image\\\\TRAIN_SOURCE_1626.png', '../Data/train_source_image\\\\TRAIN_SOURCE_1627.png', '../Data/train_source_image\\\\TRAIN_SOURCE_1628.png', '../Data/train_source_image\\\\TRAIN_SOURCE_1629.png', '../Data/train_source_image\\\\TRAIN_SOURCE_1630.png', '../Data/train_source_image\\\\TRAIN_SOURCE_1631.png', '../Data/train_source_image\\\\TRAIN_SOURCE_1632.png', '../Data/train_source_image\\\\TRAIN_SOURCE_1633.png', '../Data/train_source_image\\\\TRAIN_SOURCE_1634.png', '../Data/train_source_image\\\\TRAIN_SOURCE_1635.png', '../Data/train_source_image\\\\TRAIN_SOURCE_1636.png', '../Data/train_source_image\\\\TRAIN_SOURCE_1637.png', '../Data/train_source_image\\\\TRAIN_SOURCE_1638.png', '../Data/train_source_image\\\\TRAIN_SOURCE_1639.png', '../Data/train_source_image\\\\TRAIN_SOURCE_1640.png', '../Data/train_source_image\\\\TRAIN_SOURCE_1641.png', '../Data/train_source_image\\\\TRAIN_SOURCE_1642.png', '../Data/train_source_image\\\\TRAIN_SOURCE_1643.png', '../Data/train_source_image\\\\TRAIN_SOURCE_1644.png', '../Data/train_source_image\\\\TRAIN_SOURCE_1645.png', '../Data/train_source_image\\\\TRAIN_SOURCE_1646.png', '../Data/train_source_image\\\\TRAIN_SOURCE_1647.png', '../Data/train_source_image\\\\TRAIN_SOURCE_1648.png', '../Data/train_source_image\\\\TRAIN_SOURCE_1649.png', '../Data/train_source_image\\\\TRAIN_SOURCE_1650.png', '../Data/train_source_image\\\\TRAIN_SOURCE_1651.png', '../Data/train_source_image\\\\TRAIN_SOURCE_1652.png', '../Data/train_source_image\\\\TRAIN_SOURCE_1653.png', '../Data/train_source_image\\\\TRAIN_SOURCE_1654.png', '../Data/train_source_image\\\\TRAIN_SOURCE_1655.png', '../Data/train_source_image\\\\TRAIN_SOURCE_1656.png', '../Data/train_source_image\\\\TRAIN_SOURCE_1657.png', '../Data/train_source_image\\\\TRAIN_SOURCE_1658.png', '../Data/train_source_image\\\\TRAIN_SOURCE_1659.png', '../Data/train_source_image\\\\TRAIN_SOURCE_1660.png', '../Data/train_source_image\\\\TRAIN_SOURCE_1661.png', '../Data/train_source_image\\\\TRAIN_SOURCE_1662.png', '../Data/train_source_image\\\\TRAIN_SOURCE_1663.png', '../Data/train_source_image\\\\TRAIN_SOURCE_1664.png', '../Data/train_source_image\\\\TRAIN_SOURCE_1665.png', '../Data/train_source_image\\\\TRAIN_SOURCE_1666.png', '../Data/train_source_image\\\\TRAIN_SOURCE_1667.png', '../Data/train_source_image\\\\TRAIN_SOURCE_1668.png', '../Data/train_source_image\\\\TRAIN_SOURCE_1669.png', '../Data/train_source_image\\\\TRAIN_SOURCE_1670.png', '../Data/train_source_image\\\\TRAIN_SOURCE_1671.png', '../Data/train_source_image\\\\TRAIN_SOURCE_1672.png', '../Data/train_source_image\\\\TRAIN_SOURCE_1673.png', '../Data/train_source_image\\\\TRAIN_SOURCE_1674.png', '../Data/train_source_image\\\\TRAIN_SOURCE_1675.png', '../Data/train_source_image\\\\TRAIN_SOURCE_1676.png', '../Data/train_source_image\\\\TRAIN_SOURCE_1677.png', '../Data/train_source_image\\\\TRAIN_SOURCE_1678.png', '../Data/train_source_image\\\\TRAIN_SOURCE_1679.png', '../Data/train_source_image\\\\TRAIN_SOURCE_1680.png', '../Data/train_source_image\\\\TRAIN_SOURCE_1681.png', '../Data/train_source_image\\\\TRAIN_SOURCE_1682.png', '../Data/train_source_image\\\\TRAIN_SOURCE_1683.png', '../Data/train_source_image\\\\TRAIN_SOURCE_1684.png', '../Data/train_source_image\\\\TRAIN_SOURCE_1685.png', '../Data/train_source_image\\\\TRAIN_SOURCE_1686.png', '../Data/train_source_image\\\\TRAIN_SOURCE_1687.png', '../Data/train_source_image\\\\TRAIN_SOURCE_1688.png', '../Data/train_source_image\\\\TRAIN_SOURCE_1689.png', '../Data/train_source_image\\\\TRAIN_SOURCE_1690.png', '../Data/train_source_image\\\\TRAIN_SOURCE_1691.png', '../Data/train_source_image\\\\TRAIN_SOURCE_1692.png', '../Data/train_source_image\\\\TRAIN_SOURCE_1693.png', '../Data/train_source_image\\\\TRAIN_SOURCE_1694.png', '../Data/train_source_image\\\\TRAIN_SOURCE_1695.png', '../Data/train_source_image\\\\TRAIN_SOURCE_1696.png', '../Data/train_source_image\\\\TRAIN_SOURCE_1697.png', '../Data/train_source_image\\\\TRAIN_SOURCE_1698.png', '../Data/train_source_image\\\\TRAIN_SOURCE_1699.png', '../Data/train_source_image\\\\TRAIN_SOURCE_1700.png', '../Data/train_source_image\\\\TRAIN_SOURCE_1701.png', '../Data/train_source_image\\\\TRAIN_SOURCE_1702.png', '../Data/train_source_image\\\\TRAIN_SOURCE_1703.png', '../Data/train_source_image\\\\TRAIN_SOURCE_1704.png', '../Data/train_source_image\\\\TRAIN_SOURCE_1705.png', '../Data/train_source_image\\\\TRAIN_SOURCE_1706.png', '../Data/train_source_image\\\\TRAIN_SOURCE_1707.png', '../Data/train_source_image\\\\TRAIN_SOURCE_1708.png', '../Data/train_source_image\\\\TRAIN_SOURCE_1709.png', '../Data/train_source_image\\\\TRAIN_SOURCE_1710.png', '../Data/train_source_image\\\\TRAIN_SOURCE_1711.png', '../Data/train_source_image\\\\TRAIN_SOURCE_1712.png', '../Data/train_source_image\\\\TRAIN_SOURCE_1713.png', '../Data/train_source_image\\\\TRAIN_SOURCE_1714.png', '../Data/train_source_image\\\\TRAIN_SOURCE_1715.png', '../Data/train_source_image\\\\TRAIN_SOURCE_1716.png', '../Data/train_source_image\\\\TRAIN_SOURCE_1717.png', '../Data/train_source_image\\\\TRAIN_SOURCE_1718.png', '../Data/train_source_image\\\\TRAIN_SOURCE_1719.png', '../Data/train_source_image\\\\TRAIN_SOURCE_1720.png', '../Data/train_source_image\\\\TRAIN_SOURCE_1721.png', '../Data/train_source_image\\\\TRAIN_SOURCE_1722.png', '../Data/train_source_image\\\\TRAIN_SOURCE_1723.png', '../Data/train_source_image\\\\TRAIN_SOURCE_1724.png', '../Data/train_source_image\\\\TRAIN_SOURCE_1725.png', '../Data/train_source_image\\\\TRAIN_SOURCE_1726.png', '../Data/train_source_image\\\\TRAIN_SOURCE_1727.png', '../Data/train_source_image\\\\TRAIN_SOURCE_1728.png', '../Data/train_source_image\\\\TRAIN_SOURCE_1729.png', '../Data/train_source_image\\\\TRAIN_SOURCE_1730.png', '../Data/train_source_image\\\\TRAIN_SOURCE_1731.png', '../Data/train_source_image\\\\TRAIN_SOURCE_1732.png', '../Data/train_source_image\\\\TRAIN_SOURCE_1733.png', '../Data/train_source_image\\\\TRAIN_SOURCE_1734.png', '../Data/train_source_image\\\\TRAIN_SOURCE_1735.png', '../Data/train_source_image\\\\TRAIN_SOURCE_1736.png', '../Data/train_source_image\\\\TRAIN_SOURCE_1737.png', '../Data/train_source_image\\\\TRAIN_SOURCE_1738.png', '../Data/train_source_image\\\\TRAIN_SOURCE_1739.png', '../Data/train_source_image\\\\TRAIN_SOURCE_1740.png', '../Data/train_source_image\\\\TRAIN_SOURCE_1741.png', '../Data/train_source_image\\\\TRAIN_SOURCE_1742.png', '../Data/train_source_image\\\\TRAIN_SOURCE_1743.png', '../Data/train_source_image\\\\TRAIN_SOURCE_1744.png', '../Data/train_source_image\\\\TRAIN_SOURCE_1745.png', '../Data/train_source_image\\\\TRAIN_SOURCE_1746.png', '../Data/train_source_image\\\\TRAIN_SOURCE_1747.png', '../Data/train_source_image\\\\TRAIN_SOURCE_1748.png', '../Data/train_source_image\\\\TRAIN_SOURCE_1749.png', '../Data/train_source_image\\\\TRAIN_SOURCE_1750.png', '../Data/train_source_image\\\\TRAIN_SOURCE_1751.png', '../Data/train_source_image\\\\TRAIN_SOURCE_1752.png', '../Data/train_source_image\\\\TRAIN_SOURCE_1753.png', '../Data/train_source_image\\\\TRAIN_SOURCE_1754.png', '../Data/train_source_image\\\\TRAIN_SOURCE_1755.png', '../Data/train_source_image\\\\TRAIN_SOURCE_1756.png', '../Data/train_source_image\\\\TRAIN_SOURCE_1757.png', '../Data/train_source_image\\\\TRAIN_SOURCE_1758.png', '../Data/train_source_image\\\\TRAIN_SOURCE_1759.png', '../Data/train_source_image\\\\TRAIN_SOURCE_1760.png', '../Data/train_source_image\\\\TRAIN_SOURCE_1761.png', '../Data/train_source_image\\\\TRAIN_SOURCE_1762.png', '../Data/train_source_image\\\\TRAIN_SOURCE_1763.png', '../Data/train_source_image\\\\TRAIN_SOURCE_1764.png', '../Data/train_source_image\\\\TRAIN_SOURCE_1765.png', '../Data/train_source_image\\\\TRAIN_SOURCE_1766.png', '../Data/train_source_image\\\\TRAIN_SOURCE_1767.png', '../Data/train_source_image\\\\TRAIN_SOURCE_1768.png', '../Data/train_source_image\\\\TRAIN_SOURCE_1769.png', '../Data/train_source_image\\\\TRAIN_SOURCE_1770.png', '../Data/train_source_image\\\\TRAIN_SOURCE_1771.png', '../Data/train_source_image\\\\TRAIN_SOURCE_1772.png', '../Data/train_source_image\\\\TRAIN_SOURCE_1773.png', '../Data/train_source_image\\\\TRAIN_SOURCE_1774.png', '../Data/train_source_image\\\\TRAIN_SOURCE_1775.png', '../Data/train_source_image\\\\TRAIN_SOURCE_1776.png', '../Data/train_source_image\\\\TRAIN_SOURCE_1777.png', '../Data/train_source_image\\\\TRAIN_SOURCE_1778.png', '../Data/train_source_image\\\\TRAIN_SOURCE_1779.png', '../Data/train_source_image\\\\TRAIN_SOURCE_1780.png', '../Data/train_source_image\\\\TRAIN_SOURCE_1781.png', '../Data/train_source_image\\\\TRAIN_SOURCE_1782.png', '../Data/train_source_image\\\\TRAIN_SOURCE_1783.png', '../Data/train_source_image\\\\TRAIN_SOURCE_1784.png', '../Data/train_source_image\\\\TRAIN_SOURCE_1785.png', '../Data/train_source_image\\\\TRAIN_SOURCE_1786.png', '../Data/train_source_image\\\\TRAIN_SOURCE_1787.png', '../Data/train_source_image\\\\TRAIN_SOURCE_1788.png', '../Data/train_source_image\\\\TRAIN_SOURCE_1789.png', '../Data/train_source_image\\\\TRAIN_SOURCE_1790.png', '../Data/train_source_image\\\\TRAIN_SOURCE_1791.png', '../Data/train_source_image\\\\TRAIN_SOURCE_1792.png', '../Data/train_source_image\\\\TRAIN_SOURCE_1793.png', '../Data/train_source_image\\\\TRAIN_SOURCE_1794.png', '../Data/train_source_image\\\\TRAIN_SOURCE_1795.png', '../Data/train_source_image\\\\TRAIN_SOURCE_1796.png', '../Data/train_source_image\\\\TRAIN_SOURCE_1797.png', '../Data/train_source_image\\\\TRAIN_SOURCE_1798.png', '../Data/train_source_image\\\\TRAIN_SOURCE_1799.png', '../Data/train_source_image\\\\TRAIN_SOURCE_1800.png', '../Data/train_source_image\\\\TRAIN_SOURCE_1801.png', '../Data/train_source_image\\\\TRAIN_SOURCE_1802.png', '../Data/train_source_image\\\\TRAIN_SOURCE_1803.png', '../Data/train_source_image\\\\TRAIN_SOURCE_1804.png', '../Data/train_source_image\\\\TRAIN_SOURCE_1805.png', '../Data/train_source_image\\\\TRAIN_SOURCE_1806.png', '../Data/train_source_image\\\\TRAIN_SOURCE_1807.png', '../Data/train_source_image\\\\TRAIN_SOURCE_1808.png', '../Data/train_source_image\\\\TRAIN_SOURCE_1809.png', '../Data/train_source_image\\\\TRAIN_SOURCE_1810.png', '../Data/train_source_image\\\\TRAIN_SOURCE_1811.png', '../Data/train_source_image\\\\TRAIN_SOURCE_1812.png', '../Data/train_source_image\\\\TRAIN_SOURCE_1813.png', '../Data/train_source_image\\\\TRAIN_SOURCE_1814.png', '../Data/train_source_image\\\\TRAIN_SOURCE_1815.png', '../Data/train_source_image\\\\TRAIN_SOURCE_1816.png', '../Data/train_source_image\\\\TRAIN_SOURCE_1817.png', '../Data/train_source_image\\\\TRAIN_SOURCE_1818.png', '../Data/train_source_image\\\\TRAIN_SOURCE_1819.png', '../Data/train_source_image\\\\TRAIN_SOURCE_1820.png', '../Data/train_source_image\\\\TRAIN_SOURCE_1821.png', '../Data/train_source_image\\\\TRAIN_SOURCE_1822.png', '../Data/train_source_image\\\\TRAIN_SOURCE_1823.png', '../Data/train_source_image\\\\TRAIN_SOURCE_1824.png', '../Data/train_source_image\\\\TRAIN_SOURCE_1825.png', '../Data/train_source_image\\\\TRAIN_SOURCE_1826.png', '../Data/train_source_image\\\\TRAIN_SOURCE_1827.png', '../Data/train_source_image\\\\TRAIN_SOURCE_1828.png', '../Data/train_source_image\\\\TRAIN_SOURCE_1829.png', '../Data/train_source_image\\\\TRAIN_SOURCE_1830.png', '../Data/train_source_image\\\\TRAIN_SOURCE_1831.png', '../Data/train_source_image\\\\TRAIN_SOURCE_1832.png', '../Data/train_source_image\\\\TRAIN_SOURCE_1833.png', '../Data/train_source_image\\\\TRAIN_SOURCE_1834.png', '../Data/train_source_image\\\\TRAIN_SOURCE_1835.png', '../Data/train_source_image\\\\TRAIN_SOURCE_1836.png', '../Data/train_source_image\\\\TRAIN_SOURCE_1837.png', '../Data/train_source_image\\\\TRAIN_SOURCE_1838.png', '../Data/train_source_image\\\\TRAIN_SOURCE_1839.png', '../Data/train_source_image\\\\TRAIN_SOURCE_1840.png', '../Data/train_source_image\\\\TRAIN_SOURCE_1841.png', '../Data/train_source_image\\\\TRAIN_SOURCE_1842.png', '../Data/train_source_image\\\\TRAIN_SOURCE_1843.png', '../Data/train_source_image\\\\TRAIN_SOURCE_1844.png', '../Data/train_source_image\\\\TRAIN_SOURCE_1845.png', '../Data/train_source_image\\\\TRAIN_SOURCE_1846.png', '../Data/train_source_image\\\\TRAIN_SOURCE_1847.png', '../Data/train_source_image\\\\TRAIN_SOURCE_1848.png', '../Data/train_source_image\\\\TRAIN_SOURCE_1849.png', '../Data/train_source_image\\\\TRAIN_SOURCE_1850.png', '../Data/train_source_image\\\\TRAIN_SOURCE_1851.png', '../Data/train_source_image\\\\TRAIN_SOURCE_1852.png', '../Data/train_source_image\\\\TRAIN_SOURCE_1853.png', '../Data/train_source_image\\\\TRAIN_SOURCE_1854.png', '../Data/train_source_image\\\\TRAIN_SOURCE_1855.png', '../Data/train_source_image\\\\TRAIN_SOURCE_1856.png', '../Data/train_source_image\\\\TRAIN_SOURCE_1857.png', '../Data/train_source_image\\\\TRAIN_SOURCE_1858.png', '../Data/train_source_image\\\\TRAIN_SOURCE_1859.png', '../Data/train_source_image\\\\TRAIN_SOURCE_1860.png', '../Data/train_source_image\\\\TRAIN_SOURCE_1861.png', '../Data/train_source_image\\\\TRAIN_SOURCE_1862.png', '../Data/train_source_image\\\\TRAIN_SOURCE_1863.png', '../Data/train_source_image\\\\TRAIN_SOURCE_1864.png', '../Data/train_source_image\\\\TRAIN_SOURCE_1865.png', '../Data/train_source_image\\\\TRAIN_SOURCE_1866.png', '../Data/train_source_image\\\\TRAIN_SOURCE_1867.png', '../Data/train_source_image\\\\TRAIN_SOURCE_1868.png', '../Data/train_source_image\\\\TRAIN_SOURCE_1869.png', '../Data/train_source_image\\\\TRAIN_SOURCE_1870.png', '../Data/train_source_image\\\\TRAIN_SOURCE_1871.png', '../Data/train_source_image\\\\TRAIN_SOURCE_1872.png', '../Data/train_source_image\\\\TRAIN_SOURCE_1873.png', '../Data/train_source_image\\\\TRAIN_SOURCE_1874.png', '../Data/train_source_image\\\\TRAIN_SOURCE_1875.png', '../Data/train_source_image\\\\TRAIN_SOURCE_1876.png', '../Data/train_source_image\\\\TRAIN_SOURCE_1877.png', '../Data/train_source_image\\\\TRAIN_SOURCE_1878.png', '../Data/train_source_image\\\\TRAIN_SOURCE_1879.png', '../Data/train_source_image\\\\TRAIN_SOURCE_1880.png', '../Data/train_source_image\\\\TRAIN_SOURCE_1881.png', '../Data/train_source_image\\\\TRAIN_SOURCE_1882.png', '../Data/train_source_image\\\\TRAIN_SOURCE_1883.png', '../Data/train_source_image\\\\TRAIN_SOURCE_1884.png', '../Data/train_source_image\\\\TRAIN_SOURCE_1885.png', '../Data/train_source_image\\\\TRAIN_SOURCE_1886.png', '../Data/train_source_image\\\\TRAIN_SOURCE_1887.png', '../Data/train_source_image\\\\TRAIN_SOURCE_1888.png', '../Data/train_source_image\\\\TRAIN_SOURCE_1889.png', '../Data/train_source_image\\\\TRAIN_SOURCE_1890.png', '../Data/train_source_image\\\\TRAIN_SOURCE_1891.png', '../Data/train_source_image\\\\TRAIN_SOURCE_1892.png', '../Data/train_source_image\\\\TRAIN_SOURCE_1893.png', '../Data/train_source_image\\\\TRAIN_SOURCE_1894.png', '../Data/train_source_image\\\\TRAIN_SOURCE_1895.png', '../Data/train_source_image\\\\TRAIN_SOURCE_1896.png', '../Data/train_source_image\\\\TRAIN_SOURCE_1897.png', '../Data/train_source_image\\\\TRAIN_SOURCE_1898.png', '../Data/train_source_image\\\\TRAIN_SOURCE_1899.png', '../Data/train_source_image\\\\TRAIN_SOURCE_1900.png', '../Data/train_source_image\\\\TRAIN_SOURCE_1901.png', '../Data/train_source_image\\\\TRAIN_SOURCE_1902.png', '../Data/train_source_image\\\\TRAIN_SOURCE_1903.png', '../Data/train_source_image\\\\TRAIN_SOURCE_1904.png', '../Data/train_source_image\\\\TRAIN_SOURCE_1905.png', '../Data/train_source_image\\\\TRAIN_SOURCE_1906.png', '../Data/train_source_image\\\\TRAIN_SOURCE_1907.png', '../Data/train_source_image\\\\TRAIN_SOURCE_1908.png', '../Data/train_source_image\\\\TRAIN_SOURCE_1909.png', '../Data/train_source_image\\\\TRAIN_SOURCE_1910.png', '../Data/train_source_image\\\\TRAIN_SOURCE_1911.png', '../Data/train_source_image\\\\TRAIN_SOURCE_1912.png', '../Data/train_source_image\\\\TRAIN_SOURCE_1913.png', '../Data/train_source_image\\\\TRAIN_SOURCE_1914.png', '../Data/train_source_image\\\\TRAIN_SOURCE_1915.png', '../Data/train_source_image\\\\TRAIN_SOURCE_1916.png', '../Data/train_source_image\\\\TRAIN_SOURCE_1917.png', '../Data/train_source_image\\\\TRAIN_SOURCE_1918.png', '../Data/train_source_image\\\\TRAIN_SOURCE_1919.png', '../Data/train_source_image\\\\TRAIN_SOURCE_1920.png', '../Data/train_source_image\\\\TRAIN_SOURCE_1921.png', '../Data/train_source_image\\\\TRAIN_SOURCE_1922.png', '../Data/train_source_image\\\\TRAIN_SOURCE_1923.png', '../Data/train_source_image\\\\TRAIN_SOURCE_1924.png', '../Data/train_source_image\\\\TRAIN_SOURCE_1925.png', '../Data/train_source_image\\\\TRAIN_SOURCE_1926.png', '../Data/train_source_image\\\\TRAIN_SOURCE_1927.png', '../Data/train_source_image\\\\TRAIN_SOURCE_1928.png', '../Data/train_source_image\\\\TRAIN_SOURCE_1929.png', '../Data/train_source_image\\\\TRAIN_SOURCE_1930.png', '../Data/train_source_image\\\\TRAIN_SOURCE_1931.png', '../Data/train_source_image\\\\TRAIN_SOURCE_1932.png', '../Data/train_source_image\\\\TRAIN_SOURCE_1933.png', '../Data/train_source_image\\\\TRAIN_SOURCE_1934.png', '../Data/train_source_image\\\\TRAIN_SOURCE_1935.png', '../Data/train_source_image\\\\TRAIN_SOURCE_1936.png', '../Data/train_source_image\\\\TRAIN_SOURCE_1937.png', '../Data/train_source_image\\\\TRAIN_SOURCE_1938.png', '../Data/train_source_image\\\\TRAIN_SOURCE_1939.png', '../Data/train_source_image\\\\TRAIN_SOURCE_1940.png', '../Data/train_source_image\\\\TRAIN_SOURCE_1941.png', '../Data/train_source_image\\\\TRAIN_SOURCE_1942.png', '../Data/train_source_image\\\\TRAIN_SOURCE_1943.png', '../Data/train_source_image\\\\TRAIN_SOURCE_1944.png', '../Data/train_source_image\\\\TRAIN_SOURCE_1945.png', '../Data/train_source_image\\\\TRAIN_SOURCE_1946.png', '../Data/train_source_image\\\\TRAIN_SOURCE_1947.png', '../Data/train_source_image\\\\TRAIN_SOURCE_1948.png', '../Data/train_source_image\\\\TRAIN_SOURCE_1949.png', '../Data/train_source_image\\\\TRAIN_SOURCE_1950.png', '../Data/train_source_image\\\\TRAIN_SOURCE_1951.png', '../Data/train_source_image\\\\TRAIN_SOURCE_1952.png', '../Data/train_source_image\\\\TRAIN_SOURCE_1953.png', '../Data/train_source_image\\\\TRAIN_SOURCE_1954.png', '../Data/train_source_image\\\\TRAIN_SOURCE_1955.png', '../Data/train_source_image\\\\TRAIN_SOURCE_1956.png', '../Data/train_source_image\\\\TRAIN_SOURCE_1957.png', '../Data/train_source_image\\\\TRAIN_SOURCE_1958.png', '../Data/train_source_image\\\\TRAIN_SOURCE_1959.png', '../Data/train_source_image\\\\TRAIN_SOURCE_1960.png', '../Data/train_source_image\\\\TRAIN_SOURCE_1961.png', '../Data/train_source_image\\\\TRAIN_SOURCE_1962.png', '../Data/train_source_image\\\\TRAIN_SOURCE_1963.png', '../Data/train_source_image\\\\TRAIN_SOURCE_1964.png', '../Data/train_source_image\\\\TRAIN_SOURCE_1965.png', '../Data/train_source_image\\\\TRAIN_SOURCE_1966.png', '../Data/train_source_image\\\\TRAIN_SOURCE_1967.png', '../Data/train_source_image\\\\TRAIN_SOURCE_1968.png', '../Data/train_source_image\\\\TRAIN_SOURCE_1969.png', '../Data/train_source_image\\\\TRAIN_SOURCE_1970.png', '../Data/train_source_image\\\\TRAIN_SOURCE_1971.png', '../Data/train_source_image\\\\TRAIN_SOURCE_1972.png', '../Data/train_source_image\\\\TRAIN_SOURCE_1973.png', '../Data/train_source_image\\\\TRAIN_SOURCE_1974.png', '../Data/train_source_image\\\\TRAIN_SOURCE_1975.png', '../Data/train_source_image\\\\TRAIN_SOURCE_1976.png', '../Data/train_source_image\\\\TRAIN_SOURCE_1977.png', '../Data/train_source_image\\\\TRAIN_SOURCE_1978.png', '../Data/train_source_image\\\\TRAIN_SOURCE_1979.png', '../Data/train_source_image\\\\TRAIN_SOURCE_1980.png', '../Data/train_source_image\\\\TRAIN_SOURCE_1981.png', '../Data/train_source_image\\\\TRAIN_SOURCE_1982.png', '../Data/train_source_image\\\\TRAIN_SOURCE_1983.png', '../Data/train_source_image\\\\TRAIN_SOURCE_1984.png', '../Data/train_source_image\\\\TRAIN_SOURCE_1985.png', '../Data/train_source_image\\\\TRAIN_SOURCE_1986.png', '../Data/train_source_image\\\\TRAIN_SOURCE_1987.png', '../Data/train_source_image\\\\TRAIN_SOURCE_1988.png', '../Data/train_source_image\\\\TRAIN_SOURCE_1989.png', '../Data/train_source_image\\\\TRAIN_SOURCE_1990.png', '../Data/train_source_image\\\\TRAIN_SOURCE_1991.png', '../Data/train_source_image\\\\TRAIN_SOURCE_1992.png', '../Data/train_source_image\\\\TRAIN_SOURCE_1993.png', '../Data/train_source_image\\\\TRAIN_SOURCE_1994.png', '../Data/train_source_image\\\\TRAIN_SOURCE_1995.png', '../Data/train_source_image\\\\TRAIN_SOURCE_1996.png', '../Data/train_source_image\\\\TRAIN_SOURCE_1997.png', '../Data/train_source_image\\\\TRAIN_SOURCE_1998.png', '../Data/train_source_image\\\\TRAIN_SOURCE_1999.png', '../Data/train_source_image\\\\TRAIN_SOURCE_2000.png', '../Data/train_source_image\\\\TRAIN_SOURCE_2001.png', '../Data/train_source_image\\\\TRAIN_SOURCE_2002.png', '../Data/train_source_image\\\\TRAIN_SOURCE_2003.png', '../Data/train_source_image\\\\TRAIN_SOURCE_2004.png', '../Data/train_source_image\\\\TRAIN_SOURCE_2005.png', '../Data/train_source_image\\\\TRAIN_SOURCE_2006.png', '../Data/train_source_image\\\\TRAIN_SOURCE_2007.png', '../Data/train_source_image\\\\TRAIN_SOURCE_2008.png', '../Data/train_source_image\\\\TRAIN_SOURCE_2009.png', '../Data/train_source_image\\\\TRAIN_SOURCE_2010.png', '../Data/train_source_image\\\\TRAIN_SOURCE_2011.png', '../Data/train_source_image\\\\TRAIN_SOURCE_2012.png', '../Data/train_source_image\\\\TRAIN_SOURCE_2013.png', '../Data/train_source_image\\\\TRAIN_SOURCE_2014.png', '../Data/train_source_image\\\\TRAIN_SOURCE_2015.png', '../Data/train_source_image\\\\TRAIN_SOURCE_2016.png', '../Data/train_source_image\\\\TRAIN_SOURCE_2017.png', '../Data/train_source_image\\\\TRAIN_SOURCE_2018.png', '../Data/train_source_image\\\\TRAIN_SOURCE_2019.png', '../Data/train_source_image\\\\TRAIN_SOURCE_2020.png', '../Data/train_source_image\\\\TRAIN_SOURCE_2021.png', '../Data/train_source_image\\\\TRAIN_SOURCE_2022.png', '../Data/train_source_image\\\\TRAIN_SOURCE_2023.png', '../Data/train_source_image\\\\TRAIN_SOURCE_2024.png', '../Data/train_source_image\\\\TRAIN_SOURCE_2025.png', '../Data/train_source_image\\\\TRAIN_SOURCE_2026.png', '../Data/train_source_image\\\\TRAIN_SOURCE_2027.png', '../Data/train_source_image\\\\TRAIN_SOURCE_2028.png', '../Data/train_source_image\\\\TRAIN_SOURCE_2029.png', '../Data/train_source_image\\\\TRAIN_SOURCE_2030.png', '../Data/train_source_image\\\\TRAIN_SOURCE_2031.png', '../Data/train_source_image\\\\TRAIN_SOURCE_2032.png', '../Data/train_source_image\\\\TRAIN_SOURCE_2033.png', '../Data/train_source_image\\\\TRAIN_SOURCE_2034.png', '../Data/train_source_image\\\\TRAIN_SOURCE_2035.png', '../Data/train_source_image\\\\TRAIN_SOURCE_2036.png', '../Data/train_source_image\\\\TRAIN_SOURCE_2037.png', '../Data/train_source_image\\\\TRAIN_SOURCE_2038.png', '../Data/train_source_image\\\\TRAIN_SOURCE_2039.png', '../Data/train_source_image\\\\TRAIN_SOURCE_2040.png', '../Data/train_source_image\\\\TRAIN_SOURCE_2041.png', '../Data/train_source_image\\\\TRAIN_SOURCE_2042.png', '../Data/train_source_image\\\\TRAIN_SOURCE_2043.png', '../Data/train_source_image\\\\TRAIN_SOURCE_2044.png', '../Data/train_source_image\\\\TRAIN_SOURCE_2045.png', '../Data/train_source_image\\\\TRAIN_SOURCE_2046.png', '../Data/train_source_image\\\\TRAIN_SOURCE_2047.png', '../Data/train_source_image\\\\TRAIN_SOURCE_2048.png', '../Data/train_source_image\\\\TRAIN_SOURCE_2049.png', '../Data/train_source_image\\\\TRAIN_SOURCE_2050.png', '../Data/train_source_image\\\\TRAIN_SOURCE_2051.png', '../Data/train_source_image\\\\TRAIN_SOURCE_2052.png', '../Data/train_source_image\\\\TRAIN_SOURCE_2053.png', '../Data/train_source_image\\\\TRAIN_SOURCE_2054.png', '../Data/train_source_image\\\\TRAIN_SOURCE_2055.png', '../Data/train_source_image\\\\TRAIN_SOURCE_2056.png', '../Data/train_source_image\\\\TRAIN_SOURCE_2057.png', '../Data/train_source_image\\\\TRAIN_SOURCE_2058.png', '../Data/train_source_image\\\\TRAIN_SOURCE_2059.png', '../Data/train_source_image\\\\TRAIN_SOURCE_2060.png', '../Data/train_source_image\\\\TRAIN_SOURCE_2061.png', '../Data/train_source_image\\\\TRAIN_SOURCE_2062.png', '../Data/train_source_image\\\\TRAIN_SOURCE_2063.png', '../Data/train_source_image\\\\TRAIN_SOURCE_2064.png', '../Data/train_source_image\\\\TRAIN_SOURCE_2065.png', '../Data/train_source_image\\\\TRAIN_SOURCE_2066.png', '../Data/train_source_image\\\\TRAIN_SOURCE_2067.png', '../Data/train_source_image\\\\TRAIN_SOURCE_2068.png', '../Data/train_source_image\\\\TRAIN_SOURCE_2069.png', '../Data/train_source_image\\\\TRAIN_SOURCE_2070.png', '../Data/train_source_image\\\\TRAIN_SOURCE_2071.png', '../Data/train_source_image\\\\TRAIN_SOURCE_2072.png', '../Data/train_source_image\\\\TRAIN_SOURCE_2073.png', '../Data/train_source_image\\\\TRAIN_SOURCE_2074.png', '../Data/train_source_image\\\\TRAIN_SOURCE_2075.png', '../Data/train_source_image\\\\TRAIN_SOURCE_2076.png', '../Data/train_source_image\\\\TRAIN_SOURCE_2077.png', '../Data/train_source_image\\\\TRAIN_SOURCE_2078.png', '../Data/train_source_image\\\\TRAIN_SOURCE_2079.png', '../Data/train_source_image\\\\TRAIN_SOURCE_2080.png', '../Data/train_source_image\\\\TRAIN_SOURCE_2081.png', '../Data/train_source_image\\\\TRAIN_SOURCE_2082.png', '../Data/train_source_image\\\\TRAIN_SOURCE_2083.png', '../Data/train_source_image\\\\TRAIN_SOURCE_2084.png', '../Data/train_source_image\\\\TRAIN_SOURCE_2085.png', '../Data/train_source_image\\\\TRAIN_SOURCE_2086.png', '../Data/train_source_image\\\\TRAIN_SOURCE_2087.png', '../Data/train_source_image\\\\TRAIN_SOURCE_2088.png', '../Data/train_source_image\\\\TRAIN_SOURCE_2089.png', '../Data/train_source_image\\\\TRAIN_SOURCE_2090.png', '../Data/train_source_image\\\\TRAIN_SOURCE_2091.png', '../Data/train_source_image\\\\TRAIN_SOURCE_2092.png', '../Data/train_source_image\\\\TRAIN_SOURCE_2093.png', '../Data/train_source_image\\\\TRAIN_SOURCE_2094.png', '../Data/train_source_image\\\\TRAIN_SOURCE_2095.png', '../Data/train_source_image\\\\TRAIN_SOURCE_2096.png', '../Data/train_source_image\\\\TRAIN_SOURCE_2097.png', '../Data/train_source_image\\\\TRAIN_SOURCE_2098.png', '../Data/train_source_image\\\\TRAIN_SOURCE_2099.png', '../Data/train_source_image\\\\TRAIN_SOURCE_2100.png', '../Data/train_source_image\\\\TRAIN_SOURCE_2101.png', '../Data/train_source_image\\\\TRAIN_SOURCE_2102.png', '../Data/train_source_image\\\\TRAIN_SOURCE_2103.png', '../Data/train_source_image\\\\TRAIN_SOURCE_2104.png', '../Data/train_source_image\\\\TRAIN_SOURCE_2105.png', '../Data/train_source_image\\\\TRAIN_SOURCE_2106.png', '../Data/train_source_image\\\\TRAIN_SOURCE_2107.png', '../Data/train_source_image\\\\TRAIN_SOURCE_2108.png', '../Data/train_source_image\\\\TRAIN_SOURCE_2109.png', '../Data/train_source_image\\\\TRAIN_SOURCE_2110.png', '../Data/train_source_image\\\\TRAIN_SOURCE_2111.png', '../Data/train_source_image\\\\TRAIN_SOURCE_2112.png', '../Data/train_source_image\\\\TRAIN_SOURCE_2113.png', '../Data/train_source_image\\\\TRAIN_SOURCE_2114.png', '../Data/train_source_image\\\\TRAIN_SOURCE_2115.png', '../Data/train_source_image\\\\TRAIN_SOURCE_2116.png', '../Data/train_source_image\\\\TRAIN_SOURCE_2117.png', '../Data/train_source_image\\\\TRAIN_SOURCE_2118.png', '../Data/train_source_image\\\\TRAIN_SOURCE_2119.png', '../Data/train_source_image\\\\TRAIN_SOURCE_2120.png', '../Data/train_source_image\\\\TRAIN_SOURCE_2121.png', '../Data/train_source_image\\\\TRAIN_SOURCE_2122.png', '../Data/train_source_image\\\\TRAIN_SOURCE_2123.png', '../Data/train_source_image\\\\TRAIN_SOURCE_2124.png', '../Data/train_source_image\\\\TRAIN_SOURCE_2125.png', '../Data/train_source_image\\\\TRAIN_SOURCE_2126.png', '../Data/train_source_image\\\\TRAIN_SOURCE_2127.png', '../Data/train_source_image\\\\TRAIN_SOURCE_2128.png', '../Data/train_source_image\\\\TRAIN_SOURCE_2129.png', '../Data/train_source_image\\\\TRAIN_SOURCE_2130.png', '../Data/train_source_image\\\\TRAIN_SOURCE_2131.png', '../Data/train_source_image\\\\TRAIN_SOURCE_2132.png', '../Data/train_source_image\\\\TRAIN_SOURCE_2133.png', '../Data/train_source_image\\\\TRAIN_SOURCE_2134.png', '../Data/train_source_image\\\\TRAIN_SOURCE_2135.png', '../Data/train_source_image\\\\TRAIN_SOURCE_2136.png', '../Data/train_source_image\\\\TRAIN_SOURCE_2137.png', '../Data/train_source_image\\\\TRAIN_SOURCE_2138.png', '../Data/train_source_image\\\\TRAIN_SOURCE_2139.png', '../Data/train_source_image\\\\TRAIN_SOURCE_2140.png', '../Data/train_source_image\\\\TRAIN_SOURCE_2141.png', '../Data/train_source_image\\\\TRAIN_SOURCE_2142.png', '../Data/train_source_image\\\\TRAIN_SOURCE_2143.png', '../Data/train_source_image\\\\TRAIN_SOURCE_2144.png', '../Data/train_source_image\\\\TRAIN_SOURCE_2145.png', '../Data/train_source_image\\\\TRAIN_SOURCE_2146.png', '../Data/train_source_image\\\\TRAIN_SOURCE_2147.png', '../Data/train_source_image\\\\TRAIN_SOURCE_2148.png', '../Data/train_source_image\\\\TRAIN_SOURCE_2149.png', '../Data/train_source_image\\\\TRAIN_SOURCE_2150.png', '../Data/train_source_image\\\\TRAIN_SOURCE_2151.png', '../Data/train_source_image\\\\TRAIN_SOURCE_2152.png', '../Data/train_source_image\\\\TRAIN_SOURCE_2153.png', '../Data/train_source_image\\\\TRAIN_SOURCE_2154.png', '../Data/train_source_image\\\\TRAIN_SOURCE_2155.png', '../Data/train_source_image\\\\TRAIN_SOURCE_2156.png', '../Data/train_source_image\\\\TRAIN_SOURCE_2157.png', '../Data/train_source_image\\\\TRAIN_SOURCE_2158.png', '../Data/train_source_image\\\\TRAIN_SOURCE_2159.png', '../Data/train_source_image\\\\TRAIN_SOURCE_2160.png', '../Data/train_source_image\\\\TRAIN_SOURCE_2161.png', '../Data/train_source_image\\\\TRAIN_SOURCE_2162.png', '../Data/train_source_image\\\\TRAIN_SOURCE_2163.png', '../Data/train_source_image\\\\TRAIN_SOURCE_2164.png', '../Data/train_source_image\\\\TRAIN_SOURCE_2165.png', '../Data/train_source_image\\\\TRAIN_SOURCE_2166.png', '../Data/train_source_image\\\\TRAIN_SOURCE_2167.png', '../Data/train_source_image\\\\TRAIN_SOURCE_2168.png', '../Data/train_source_image\\\\TRAIN_SOURCE_2169.png', '../Data/train_source_image\\\\TRAIN_SOURCE_2170.png', '../Data/train_source_image\\\\TRAIN_SOURCE_2171.png', '../Data/train_source_image\\\\TRAIN_SOURCE_2172.png', '../Data/train_source_image\\\\TRAIN_SOURCE_2173.png', '../Data/train_source_image\\\\TRAIN_SOURCE_2174.png', '../Data/train_source_image\\\\TRAIN_SOURCE_2175.png', '../Data/train_source_image\\\\TRAIN_SOURCE_2176.png', '../Data/train_source_image\\\\TRAIN_SOURCE_2177.png', '../Data/train_source_image\\\\TRAIN_SOURCE_2178.png', '../Data/train_source_image\\\\TRAIN_SOURCE_2179.png', '../Data/train_source_image\\\\TRAIN_SOURCE_2180.png', '../Data/train_source_image\\\\TRAIN_SOURCE_2181.png', '../Data/train_source_image\\\\TRAIN_SOURCE_2182.png', '../Data/train_source_image\\\\TRAIN_SOURCE_2183.png', '../Data/train_source_image\\\\TRAIN_SOURCE_2184.png', '../Data/train_source_image\\\\TRAIN_SOURCE_2185.png', '../Data/train_source_image\\\\TRAIN_SOURCE_2186.png', '../Data/train_source_image\\\\TRAIN_SOURCE_2187.png', '../Data/train_source_image\\\\TRAIN_SOURCE_2188.png', '../Data/train_source_image\\\\TRAIN_SOURCE_2189.png', '../Data/train_source_image\\\\TRAIN_SOURCE_2190.png', '../Data/train_source_image\\\\TRAIN_SOURCE_2191.png', '../Data/train_source_image\\\\TRAIN_SOURCE_2192.png', '../Data/train_source_image\\\\TRAIN_SOURCE_2193.png', '../Data/val_source_image\\\\VALID_SOURCE_000.png', '../Data/val_source_image\\\\VALID_SOURCE_001.png', '../Data/val_source_image\\\\VALID_SOURCE_002.png', '../Data/val_source_image\\\\VALID_SOURCE_003.png', '../Data/val_source_image\\\\VALID_SOURCE_004.png', '../Data/val_source_image\\\\VALID_SOURCE_005.png', '../Data/val_source_image\\\\VALID_SOURCE_006.png', '../Data/val_source_image\\\\VALID_SOURCE_007.png', '../Data/val_source_image\\\\VALID_SOURCE_008.png', '../Data/val_source_image\\\\VALID_SOURCE_009.png', '../Data/val_source_image\\\\VALID_SOURCE_010.png', '../Data/val_source_image\\\\VALID_SOURCE_011.png', '../Data/val_source_image\\\\VALID_SOURCE_012.png', '../Data/val_source_image\\\\VALID_SOURCE_013.png', '../Data/val_source_image\\\\VALID_SOURCE_014.png', '../Data/val_source_image\\\\VALID_SOURCE_015.png', '../Data/val_source_image\\\\VALID_SOURCE_016.png', '../Data/val_source_image\\\\VALID_SOURCE_017.png', '../Data/val_source_image\\\\VALID_SOURCE_018.png', '../Data/val_source_image\\\\VALID_SOURCE_019.png', '../Data/val_source_image\\\\VALID_SOURCE_020.png', '../Data/val_source_image\\\\VALID_SOURCE_021.png', '../Data/val_source_image\\\\VALID_SOURCE_022.png', '../Data/val_source_image\\\\VALID_SOURCE_023.png', '../Data/val_source_image\\\\VALID_SOURCE_024.png', '../Data/val_source_image\\\\VALID_SOURCE_025.png', '../Data/val_source_image\\\\VALID_SOURCE_026.png', '../Data/val_source_image\\\\VALID_SOURCE_027.png', '../Data/val_source_image\\\\VALID_SOURCE_028.png', '../Data/val_source_image\\\\VALID_SOURCE_029.png', '../Data/val_source_image\\\\VALID_SOURCE_030.png', '../Data/val_source_image\\\\VALID_SOURCE_031.png', '../Data/val_source_image\\\\VALID_SOURCE_032.png', '../Data/val_source_image\\\\VALID_SOURCE_033.png', '../Data/val_source_image\\\\VALID_SOURCE_034.png', '../Data/val_source_image\\\\VALID_SOURCE_035.png', '../Data/val_source_image\\\\VALID_SOURCE_036.png', '../Data/val_source_image\\\\VALID_SOURCE_037.png', '../Data/val_source_image\\\\VALID_SOURCE_038.png', '../Data/val_source_image\\\\VALID_SOURCE_039.png', '../Data/val_source_image\\\\VALID_SOURCE_040.png', '../Data/val_source_image\\\\VALID_SOURCE_041.png', '../Data/val_source_image\\\\VALID_SOURCE_042.png', '../Data/val_source_image\\\\VALID_SOURCE_043.png', '../Data/val_source_image\\\\VALID_SOURCE_044.png', '../Data/val_source_image\\\\VALID_SOURCE_045.png', '../Data/val_source_image\\\\VALID_SOURCE_046.png', '../Data/val_source_image\\\\VALID_SOURCE_047.png', '../Data/val_source_image\\\\VALID_SOURCE_048.png', '../Data/val_source_image\\\\VALID_SOURCE_049.png', '../Data/val_source_image\\\\VALID_SOURCE_050.png', '../Data/val_source_image\\\\VALID_SOURCE_051.png', '../Data/val_source_image\\\\VALID_SOURCE_052.png', '../Data/val_source_image\\\\VALID_SOURCE_053.png', '../Data/val_source_image\\\\VALID_SOURCE_054.png', '../Data/val_source_image\\\\VALID_SOURCE_055.png', '../Data/val_source_image\\\\VALID_SOURCE_056.png', '../Data/val_source_image\\\\VALID_SOURCE_057.png', '../Data/val_source_image\\\\VALID_SOURCE_058.png', '../Data/val_source_image\\\\VALID_SOURCE_059.png', '../Data/val_source_image\\\\VALID_SOURCE_060.png', '../Data/val_source_image\\\\VALID_SOURCE_061.png', '../Data/val_source_image\\\\VALID_SOURCE_062.png', '../Data/val_source_image\\\\VALID_SOURCE_063.png', '../Data/val_source_image\\\\VALID_SOURCE_064.png', '../Data/val_source_image\\\\VALID_SOURCE_065.png', '../Data/val_source_image\\\\VALID_SOURCE_066.png', '../Data/val_source_image\\\\VALID_SOURCE_067.png', '../Data/val_source_image\\\\VALID_SOURCE_068.png', '../Data/val_source_image\\\\VALID_SOURCE_069.png', '../Data/val_source_image\\\\VALID_SOURCE_070.png', '../Data/val_source_image\\\\VALID_SOURCE_071.png', '../Data/val_source_image\\\\VALID_SOURCE_072.png', '../Data/val_source_image\\\\VALID_SOURCE_073.png', '../Data/val_source_image\\\\VALID_SOURCE_074.png', '../Data/val_source_image\\\\VALID_SOURCE_075.png', '../Data/val_source_image\\\\VALID_SOURCE_076.png', '../Data/val_source_image\\\\VALID_SOURCE_077.png', '../Data/val_source_image\\\\VALID_SOURCE_078.png', '../Data/val_source_image\\\\VALID_SOURCE_079.png', '../Data/val_source_image\\\\VALID_SOURCE_080.png', '../Data/val_source_image\\\\VALID_SOURCE_081.png', '../Data/val_source_image\\\\VALID_SOURCE_082.png', '../Data/val_source_image\\\\VALID_SOURCE_083.png', '../Data/val_source_image\\\\VALID_SOURCE_084.png', '../Data/val_source_image\\\\VALID_SOURCE_085.png', '../Data/val_source_image\\\\VALID_SOURCE_086.png', '../Data/val_source_image\\\\VALID_SOURCE_087.png', '../Data/val_source_image\\\\VALID_SOURCE_088.png', '../Data/val_source_image\\\\VALID_SOURCE_089.png', '../Data/val_source_image\\\\VALID_SOURCE_090.png', '../Data/val_source_image\\\\VALID_SOURCE_091.png', '../Data/val_source_image\\\\VALID_SOURCE_092.png', '../Data/val_source_image\\\\VALID_SOURCE_093.png', '../Data/val_source_image\\\\VALID_SOURCE_094.png', '../Data/val_source_image\\\\VALID_SOURCE_095.png', '../Data/val_source_image\\\\VALID_SOURCE_096.png', '../Data/val_source_image\\\\VALID_SOURCE_097.png', '../Data/val_source_image\\\\VALID_SOURCE_098.png', '../Data/val_source_image\\\\VALID_SOURCE_099.png', '../Data/val_source_image\\\\VALID_SOURCE_100.png', '../Data/val_source_image\\\\VALID_SOURCE_101.png', '../Data/val_source_image\\\\VALID_SOURCE_102.png', '../Data/val_source_image\\\\VALID_SOURCE_103.png', '../Data/val_source_image\\\\VALID_SOURCE_104.png', '../Data/val_source_image\\\\VALID_SOURCE_105.png', '../Data/val_source_image\\\\VALID_SOURCE_106.png', '../Data/val_source_image\\\\VALID_SOURCE_107.png', '../Data/val_source_image\\\\VALID_SOURCE_108.png', '../Data/val_source_image\\\\VALID_SOURCE_109.png', '../Data/val_source_image\\\\VALID_SOURCE_110.png', '../Data/val_source_image\\\\VALID_SOURCE_111.png', '../Data/val_source_image\\\\VALID_SOURCE_112.png', '../Data/val_source_image\\\\VALID_SOURCE_113.png', '../Data/val_source_image\\\\VALID_SOURCE_114.png', '../Data/val_source_image\\\\VALID_SOURCE_115.png', '../Data/val_source_image\\\\VALID_SOURCE_116.png', '../Data/val_source_image\\\\VALID_SOURCE_117.png', '../Data/val_source_image\\\\VALID_SOURCE_118.png', '../Data/val_source_image\\\\VALID_SOURCE_119.png', '../Data/val_source_image\\\\VALID_SOURCE_120.png', '../Data/val_source_image\\\\VALID_SOURCE_121.png', '../Data/val_source_image\\\\VALID_SOURCE_122.png', '../Data/val_source_image\\\\VALID_SOURCE_123.png', '../Data/val_source_image\\\\VALID_SOURCE_124.png', '../Data/val_source_image\\\\VALID_SOURCE_125.png', '../Data/val_source_image\\\\VALID_SOURCE_126.png', '../Data/val_source_image\\\\VALID_SOURCE_127.png', '../Data/val_source_image\\\\VALID_SOURCE_128.png', '../Data/val_source_image\\\\VALID_SOURCE_129.png', '../Data/val_source_image\\\\VALID_SOURCE_130.png', '../Data/val_source_image\\\\VALID_SOURCE_131.png', '../Data/val_source_image\\\\VALID_SOURCE_132.png', '../Data/val_source_image\\\\VALID_SOURCE_133.png', '../Data/val_source_image\\\\VALID_SOURCE_134.png', '../Data/val_source_image\\\\VALID_SOURCE_135.png', '../Data/val_source_image\\\\VALID_SOURCE_136.png', '../Data/val_source_image\\\\VALID_SOURCE_137.png', '../Data/val_source_image\\\\VALID_SOURCE_138.png', '../Data/val_source_image\\\\VALID_SOURCE_139.png', '../Data/val_source_image\\\\VALID_SOURCE_140.png', '../Data/val_source_image\\\\VALID_SOURCE_141.png', '../Data/val_source_image\\\\VALID_SOURCE_142.png', '../Data/val_source_image\\\\VALID_SOURCE_143.png', '../Data/val_source_image\\\\VALID_SOURCE_144.png', '../Data/val_source_image\\\\VALID_SOURCE_145.png', '../Data/val_source_image\\\\VALID_SOURCE_146.png', '../Data/val_source_image\\\\VALID_SOURCE_147.png', '../Data/val_source_image\\\\VALID_SOURCE_148.png', '../Data/val_source_image\\\\VALID_SOURCE_149.png', '../Data/val_source_image\\\\VALID_SOURCE_150.png', '../Data/val_source_image\\\\VALID_SOURCE_151.png', '../Data/val_source_image\\\\VALID_SOURCE_152.png', '../Data/val_source_image\\\\VALID_SOURCE_153.png', '../Data/val_source_image\\\\VALID_SOURCE_154.png', '../Data/val_source_image\\\\VALID_SOURCE_155.png', '../Data/val_source_image\\\\VALID_SOURCE_156.png', '../Data/val_source_image\\\\VALID_SOURCE_157.png', '../Data/val_source_image\\\\VALID_SOURCE_158.png', '../Data/val_source_image\\\\VALID_SOURCE_159.png', '../Data/val_source_image\\\\VALID_SOURCE_160.png', '../Data/val_source_image\\\\VALID_SOURCE_161.png', '../Data/val_source_image\\\\VALID_SOURCE_162.png', '../Data/val_source_image\\\\VALID_SOURCE_163.png', '../Data/val_source_image\\\\VALID_SOURCE_164.png', '../Data/val_source_image\\\\VALID_SOURCE_165.png', '../Data/val_source_image\\\\VALID_SOURCE_166.png', '../Data/val_source_image\\\\VALID_SOURCE_167.png', '../Data/val_source_image\\\\VALID_SOURCE_168.png', '../Data/val_source_image\\\\VALID_SOURCE_169.png', '../Data/val_source_image\\\\VALID_SOURCE_170.png', '../Data/val_source_image\\\\VALID_SOURCE_171.png', '../Data/val_source_image\\\\VALID_SOURCE_172.png', '../Data/val_source_image\\\\VALID_SOURCE_173.png', '../Data/val_source_image\\\\VALID_SOURCE_174.png', '../Data/val_source_image\\\\VALID_SOURCE_175.png', '../Data/val_source_image\\\\VALID_SOURCE_176.png', '../Data/val_source_image\\\\VALID_SOURCE_177.png', '../Data/val_source_image\\\\VALID_SOURCE_178.png', '../Data/val_source_image\\\\VALID_SOURCE_179.png', '../Data/val_source_image\\\\VALID_SOURCE_180.png', '../Data/val_source_image\\\\VALID_SOURCE_181.png', '../Data/val_source_image\\\\VALID_SOURCE_182.png', '../Data/val_source_image\\\\VALID_SOURCE_183.png', '../Data/val_source_image\\\\VALID_SOURCE_184.png', '../Data/val_source_image\\\\VALID_SOURCE_185.png', '../Data/val_source_image\\\\VALID_SOURCE_186.png', '../Data/val_source_image\\\\VALID_SOURCE_187.png', '../Data/val_source_image\\\\VALID_SOURCE_188.png', '../Data/val_source_image\\\\VALID_SOURCE_189.png', '../Data/val_source_image\\\\VALID_SOURCE_190.png', '../Data/val_source_image\\\\VALID_SOURCE_191.png', '../Data/val_source_image\\\\VALID_SOURCE_192.png', '../Data/val_source_image\\\\VALID_SOURCE_193.png', '../Data/val_source_image\\\\VALID_SOURCE_194.png', '../Data/val_source_image\\\\VALID_SOURCE_195.png', '../Data/val_source_image\\\\VALID_SOURCE_196.png', '../Data/val_source_image\\\\VALID_SOURCE_197.png', '../Data/val_source_image\\\\VALID_SOURCE_198.png', '../Data/val_source_image\\\\VALID_SOURCE_199.png', '../Data/val_source_image\\\\VALID_SOURCE_200.png', '../Data/val_source_image\\\\VALID_SOURCE_201.png', '../Data/val_source_image\\\\VALID_SOURCE_202.png', '../Data/val_source_image\\\\VALID_SOURCE_203.png', '../Data/val_source_image\\\\VALID_SOURCE_204.png', '../Data/val_source_image\\\\VALID_SOURCE_205.png', '../Data/val_source_image\\\\VALID_SOURCE_206.png', '../Data/val_source_image\\\\VALID_SOURCE_207.png', '../Data/val_source_image\\\\VALID_SOURCE_208.png', '../Data/val_source_image\\\\VALID_SOURCE_209.png', '../Data/val_source_image\\\\VALID_SOURCE_210.png', '../Data/val_source_image\\\\VALID_SOURCE_211.png', '../Data/val_source_image\\\\VALID_SOURCE_212.png', '../Data/val_source_image\\\\VALID_SOURCE_213.png', '../Data/val_source_image\\\\VALID_SOURCE_214.png', '../Data/val_source_image\\\\VALID_SOURCE_215.png', '../Data/val_source_image\\\\VALID_SOURCE_216.png', '../Data/val_source_image\\\\VALID_SOURCE_217.png', '../Data/val_source_image\\\\VALID_SOURCE_218.png', '../Data/val_source_image\\\\VALID_SOURCE_219.png', '../Data/val_source_image\\\\VALID_SOURCE_220.png', '../Data/val_source_image\\\\VALID_SOURCE_221.png', '../Data/val_source_image\\\\VALID_SOURCE_222.png', '../Data/val_source_image\\\\VALID_SOURCE_223.png', '../Data/val_source_image\\\\VALID_SOURCE_224.png', '../Data/val_source_image\\\\VALID_SOURCE_225.png', '../Data/val_source_image\\\\VALID_SOURCE_226.png', '../Data/val_source_image\\\\VALID_SOURCE_227.png', '../Data/val_source_image\\\\VALID_SOURCE_228.png', '../Data/val_source_image\\\\VALID_SOURCE_229.png', '../Data/val_source_image\\\\VALID_SOURCE_230.png', '../Data/val_source_image\\\\VALID_SOURCE_231.png', '../Data/val_source_image\\\\VALID_SOURCE_232.png', '../Data/val_source_image\\\\VALID_SOURCE_233.png', '../Data/val_source_image\\\\VALID_SOURCE_234.png', '../Data/val_source_image\\\\VALID_SOURCE_235.png', '../Data/val_source_image\\\\VALID_SOURCE_236.png', '../Data/val_source_image\\\\VALID_SOURCE_237.png', '../Data/val_source_image\\\\VALID_SOURCE_238.png', '../Data/val_source_image\\\\VALID_SOURCE_239.png', '../Data/val_source_image\\\\VALID_SOURCE_240.png', '../Data/val_source_image\\\\VALID_SOURCE_241.png', '../Data/val_source_image\\\\VALID_SOURCE_242.png', '../Data/val_source_image\\\\VALID_SOURCE_243.png', '../Data/val_source_image\\\\VALID_SOURCE_244.png', '../Data/val_source_image\\\\VALID_SOURCE_245.png', '../Data/val_source_image\\\\VALID_SOURCE_246.png', '../Data/val_source_image\\\\VALID_SOURCE_247.png', '../Data/val_source_image\\\\VALID_SOURCE_248.png', '../Data/val_source_image\\\\VALID_SOURCE_249.png', '../Data/val_source_image\\\\VALID_SOURCE_250.png', '../Data/val_source_image\\\\VALID_SOURCE_251.png', '../Data/val_source_image\\\\VALID_SOURCE_252.png', '../Data/val_source_image\\\\VALID_SOURCE_253.png', '../Data/val_source_image\\\\VALID_SOURCE_254.png', '../Data/val_source_image\\\\VALID_SOURCE_255.png', '../Data/val_source_image\\\\VALID_SOURCE_256.png', '../Data/val_source_image\\\\VALID_SOURCE_257.png', '../Data/val_source_image\\\\VALID_SOURCE_258.png', '../Data/val_source_image\\\\VALID_SOURCE_259.png', '../Data/val_source_image\\\\VALID_SOURCE_260.png', '../Data/val_source_image\\\\VALID_SOURCE_261.png', '../Data/val_source_image\\\\VALID_SOURCE_262.png', '../Data/val_source_image\\\\VALID_SOURCE_263.png', '../Data/val_source_image\\\\VALID_SOURCE_264.png', '../Data/val_source_image\\\\VALID_SOURCE_265.png', '../Data/val_source_image\\\\VALID_SOURCE_266.png', '../Data/val_source_image\\\\VALID_SOURCE_267.png', '../Data/val_source_image\\\\VALID_SOURCE_268.png', '../Data/val_source_image\\\\VALID_SOURCE_269.png', '../Data/val_source_image\\\\VALID_SOURCE_270.png', '../Data/val_source_image\\\\VALID_SOURCE_271.png', '../Data/val_source_image\\\\VALID_SOURCE_272.png', '../Data/val_source_image\\\\VALID_SOURCE_273.png', '../Data/val_source_image\\\\VALID_SOURCE_274.png', '../Data/val_source_image\\\\VALID_SOURCE_275.png', '../Data/val_source_image\\\\VALID_SOURCE_276.png', '../Data/val_source_image\\\\VALID_SOURCE_277.png', '../Data/val_source_image\\\\VALID_SOURCE_278.png', '../Data/val_source_image\\\\VALID_SOURCE_279.png', '../Data/val_source_image\\\\VALID_SOURCE_280.png', '../Data/val_source_image\\\\VALID_SOURCE_281.png', '../Data/val_source_image\\\\VALID_SOURCE_282.png', '../Data/val_source_image\\\\VALID_SOURCE_283.png', '../Data/val_source_image\\\\VALID_SOURCE_284.png', '../Data/val_source_image\\\\VALID_SOURCE_285.png', '../Data/val_source_image\\\\VALID_SOURCE_286.png', '../Data/val_source_image\\\\VALID_SOURCE_287.png', '../Data/val_source_image\\\\VALID_SOURCE_288.png', '../Data/val_source_image\\\\VALID_SOURCE_289.png', '../Data/val_source_image\\\\VALID_SOURCE_290.png', '../Data/val_source_image\\\\VALID_SOURCE_291.png', '../Data/val_source_image\\\\VALID_SOURCE_292.png', '../Data/val_source_image\\\\VALID_SOURCE_293.png', '../Data/val_source_image\\\\VALID_SOURCE_294.png', '../Data/val_source_image\\\\VALID_SOURCE_295.png', '../Data/val_source_image\\\\VALID_SOURCE_296.png', '../Data/val_source_image\\\\VALID_SOURCE_297.png', '../Data/val_source_image\\\\VALID_SOURCE_298.png', '../Data/val_source_image\\\\VALID_SOURCE_299.png', '../Data/val_source_image\\\\VALID_SOURCE_300.png', '../Data/val_source_image\\\\VALID_SOURCE_301.png', '../Data/val_source_image\\\\VALID_SOURCE_302.png', '../Data/val_source_image\\\\VALID_SOURCE_303.png', '../Data/val_source_image\\\\VALID_SOURCE_304.png', '../Data/val_source_image\\\\VALID_SOURCE_305.png', '../Data/val_source_image\\\\VALID_SOURCE_306.png', '../Data/val_source_image\\\\VALID_SOURCE_307.png', '../Data/val_source_image\\\\VALID_SOURCE_308.png', '../Data/val_source_image\\\\VALID_SOURCE_309.png', '../Data/val_source_image\\\\VALID_SOURCE_310.png', '../Data/val_source_image\\\\VALID_SOURCE_311.png', '../Data/val_source_image\\\\VALID_SOURCE_312.png', '../Data/val_source_image\\\\VALID_SOURCE_313.png', '../Data/val_source_image\\\\VALID_SOURCE_314.png', '../Data/val_source_image\\\\VALID_SOURCE_315.png', '../Data/val_source_image\\\\VALID_SOURCE_316.png', '../Data/val_source_image\\\\VALID_SOURCE_317.png', '../Data/val_source_image\\\\VALID_SOURCE_318.png', '../Data/val_source_image\\\\VALID_SOURCE_319.png', '../Data/val_source_image\\\\VALID_SOURCE_320.png', '../Data/val_source_image\\\\VALID_SOURCE_321.png', '../Data/val_source_image\\\\VALID_SOURCE_322.png', '../Data/val_source_image\\\\VALID_SOURCE_323.png', '../Data/val_source_image\\\\VALID_SOURCE_324.png', '../Data/val_source_image\\\\VALID_SOURCE_325.png', '../Data/val_source_image\\\\VALID_SOURCE_326.png', '../Data/val_source_image\\\\VALID_SOURCE_327.png', '../Data/val_source_image\\\\VALID_SOURCE_328.png', '../Data/val_source_image\\\\VALID_SOURCE_329.png', '../Data/val_source_image\\\\VALID_SOURCE_330.png', '../Data/val_source_image\\\\VALID_SOURCE_331.png', '../Data/val_source_image\\\\VALID_SOURCE_332.png', '../Data/val_source_image\\\\VALID_SOURCE_333.png', '../Data/val_source_image\\\\VALID_SOURCE_334.png', '../Data/val_source_image\\\\VALID_SOURCE_335.png', '../Data/val_source_image\\\\VALID_SOURCE_336.png', '../Data/val_source_image\\\\VALID_SOURCE_337.png', '../Data/val_source_image\\\\VALID_SOURCE_338.png', '../Data/val_source_image\\\\VALID_SOURCE_339.png', '../Data/val_source_image\\\\VALID_SOURCE_340.png', '../Data/val_source_image\\\\VALID_SOURCE_341.png', '../Data/val_source_image\\\\VALID_SOURCE_342.png', '../Data/val_source_image\\\\VALID_SOURCE_343.png', '../Data/val_source_image\\\\VALID_SOURCE_344.png', '../Data/val_source_image\\\\VALID_SOURCE_345.png', '../Data/val_source_image\\\\VALID_SOURCE_346.png', '../Data/val_source_image\\\\VALID_SOURCE_347.png', '../Data/val_source_image\\\\VALID_SOURCE_348.png', '../Data/val_source_image\\\\VALID_SOURCE_349.png', '../Data/val_source_image\\\\VALID_SOURCE_350.png', '../Data/val_source_image\\\\VALID_SOURCE_351.png', '../Data/val_source_image\\\\VALID_SOURCE_352.png', '../Data/val_source_image\\\\VALID_SOURCE_353.png', '../Data/val_source_image\\\\VALID_SOURCE_354.png', '../Data/val_source_image\\\\VALID_SOURCE_355.png', '../Data/val_source_image\\\\VALID_SOURCE_356.png', '../Data/val_source_image\\\\VALID_SOURCE_357.png', '../Data/val_source_image\\\\VALID_SOURCE_358.png', '../Data/val_source_image\\\\VALID_SOURCE_359.png', '../Data/val_source_image\\\\VALID_SOURCE_360.png', '../Data/val_source_image\\\\VALID_SOURCE_361.png', '../Data/val_source_image\\\\VALID_SOURCE_362.png', '../Data/val_source_image\\\\VALID_SOURCE_363.png', '../Data/val_source_image\\\\VALID_SOURCE_364.png', '../Data/val_source_image\\\\VALID_SOURCE_365.png', '../Data/val_source_image\\\\VALID_SOURCE_366.png', '../Data/val_source_image\\\\VALID_SOURCE_367.png', '../Data/val_source_image\\\\VALID_SOURCE_368.png', '../Data/val_source_image\\\\VALID_SOURCE_369.png', '../Data/val_source_image\\\\VALID_SOURCE_370.png', '../Data/val_source_image\\\\VALID_SOURCE_371.png', '../Data/val_source_image\\\\VALID_SOURCE_372.png', '../Data/val_source_image\\\\VALID_SOURCE_373.png', '../Data/val_source_image\\\\VALID_SOURCE_374.png', '../Data/val_source_image\\\\VALID_SOURCE_375.png', '../Data/val_source_image\\\\VALID_SOURCE_376.png', '../Data/val_source_image\\\\VALID_SOURCE_377.png', '../Data/val_source_image\\\\VALID_SOURCE_378.png', '../Data/val_source_image\\\\VALID_SOURCE_379.png', '../Data/val_source_image\\\\VALID_SOURCE_380.png', '../Data/val_source_image\\\\VALID_SOURCE_381.png', '../Data/val_source_image\\\\VALID_SOURCE_382.png', '../Data/val_source_image\\\\VALID_SOURCE_383.png', '../Data/val_source_image\\\\VALID_SOURCE_384.png', '../Data/val_source_image\\\\VALID_SOURCE_385.png', '../Data/val_source_image\\\\VALID_SOURCE_386.png', '../Data/val_source_image\\\\VALID_SOURCE_387.png', '../Data/val_source_image\\\\VALID_SOURCE_388.png', '../Data/val_source_image\\\\VALID_SOURCE_389.png', '../Data/val_source_image\\\\VALID_SOURCE_390.png', '../Data/val_source_image\\\\VALID_SOURCE_391.png', '../Data/val_source_image\\\\VALID_SOURCE_392.png', '../Data/val_source_image\\\\VALID_SOURCE_393.png', '../Data/val_source_image\\\\VALID_SOURCE_394.png', '../Data/val_source_image\\\\VALID_SOURCE_395.png', '../Data/val_source_image\\\\VALID_SOURCE_396.png', '../Data/val_source_image\\\\VALID_SOURCE_397.png', '../Data/val_source_image\\\\VALID_SOURCE_398.png', '../Data/val_source_image\\\\VALID_SOURCE_399.png', '../Data/val_source_image\\\\VALID_SOURCE_400.png', '../Data/val_source_image\\\\VALID_SOURCE_401.png', '../Data/val_source_image\\\\VALID_SOURCE_402.png', '../Data/val_source_image\\\\VALID_SOURCE_403.png', '../Data/val_source_image\\\\VALID_SOURCE_404.png', '../Data/val_source_image\\\\VALID_SOURCE_405.png', '../Data/val_source_image\\\\VALID_SOURCE_406.png', '../Data/val_source_image\\\\VALID_SOURCE_407.png', '../Data/val_source_image\\\\VALID_SOURCE_408.png', '../Data/val_source_image\\\\VALID_SOURCE_409.png', '../Data/val_source_image\\\\VALID_SOURCE_410.png', '../Data/val_source_image\\\\VALID_SOURCE_411.png', '../Data/val_source_image\\\\VALID_SOURCE_412.png', '../Data/val_source_image\\\\VALID_SOURCE_413.png', '../Data/val_source_image\\\\VALID_SOURCE_414.png', '../Data/val_source_image\\\\VALID_SOURCE_415.png', '../Data/val_source_image\\\\VALID_SOURCE_416.png', '../Data/val_source_image\\\\VALID_SOURCE_417.png', '../Data/val_source_image\\\\VALID_SOURCE_418.png', '../Data/val_source_image\\\\VALID_SOURCE_419.png', '../Data/val_source_image\\\\VALID_SOURCE_420.png', '../Data/val_source_image\\\\VALID_SOURCE_421.png', '../Data/val_source_image\\\\VALID_SOURCE_422.png', '../Data/val_source_image\\\\VALID_SOURCE_423.png', '../Data/val_source_image\\\\VALID_SOURCE_424.png', '../Data/val_source_image\\\\VALID_SOURCE_425.png', '../Data/val_source_image\\\\VALID_SOURCE_426.png', '../Data/val_source_image\\\\VALID_SOURCE_427.png', '../Data/val_source_image\\\\VALID_SOURCE_428.png', '../Data/val_source_image\\\\VALID_SOURCE_429.png', '../Data/val_source_image\\\\VALID_SOURCE_430.png', '../Data/val_source_image\\\\VALID_SOURCE_431.png', '../Data/val_source_image\\\\VALID_SOURCE_432.png', '../Data/val_source_image\\\\VALID_SOURCE_433.png', '../Data/val_source_image\\\\VALID_SOURCE_434.png', '../Data/val_source_image\\\\VALID_SOURCE_435.png', '../Data/val_source_image\\\\VALID_SOURCE_436.png', '../Data/val_source_image\\\\VALID_SOURCE_437.png', '../Data/val_source_image\\\\VALID_SOURCE_438.png', '../Data/val_source_image\\\\VALID_SOURCE_439.png', '../Data/val_source_image\\\\VALID_SOURCE_440.png', '../Data/val_source_image\\\\VALID_SOURCE_441.png', '../Data/val_source_image\\\\VALID_SOURCE_442.png', '../Data/val_source_image\\\\VALID_SOURCE_443.png', '../Data/val_source_image\\\\VALID_SOURCE_444.png', '../Data/val_source_image\\\\VALID_SOURCE_445.png', '../Data/val_source_image\\\\VALID_SOURCE_446.png', '../Data/val_source_image\\\\VALID_SOURCE_447.png', '../Data/val_source_image\\\\VALID_SOURCE_448.png', '../Data/val_source_image\\\\VALID_SOURCE_449.png', '../Data/val_source_image\\\\VALID_SOURCE_450.png', '../Data/val_source_image\\\\VALID_SOURCE_451.png', '../Data/val_source_image\\\\VALID_SOURCE_452.png', '../Data/val_source_image\\\\VALID_SOURCE_453.png', '../Data/val_source_image\\\\VALID_SOURCE_454.png', '../Data/val_source_image\\\\VALID_SOURCE_455.png', '../Data/val_source_image\\\\VALID_SOURCE_456.png', '../Data/val_source_image\\\\VALID_SOURCE_457.png', '../Data/val_source_image\\\\VALID_SOURCE_458.png', '../Data/val_source_image\\\\VALID_SOURCE_459.png', '../Data/val_source_image\\\\VALID_SOURCE_460.png', '../Data/val_source_image\\\\VALID_SOURCE_461.png', '../Data/val_source_image\\\\VALID_SOURCE_462.png', '../Data/val_source_image\\\\VALID_SOURCE_463.png', '../Data/val_source_image\\\\VALID_SOURCE_464.png', '../Data/val_source_image\\\\VALID_SOURCE_465.png']\n"
     ]
    }
   ],
   "source": [
    "#폴더 이동시 경로 수정이 필요할 수 있음 \n",
    "train_source = glob.glob(\"../Data/train_source_image/*\")\n",
    "val_source = glob.glob(\"../Data/val_source_image/*\")\n",
    "train_gt = glob.glob(\"../Data/train_source_gt/*\")\n",
    "val_gt = glob.glob(\"../Data/val_source_gt/*\")\n",
    "\n",
    "train_source += val_source\n",
    "train_gt += val_gt\n",
    "\n",
    "# glob 이후에 정렬이 안되어 있기 때문에, source - gt matching을 위해 정렬\n",
    "train_source.sort()\n",
    "train_gt.sort()\n",
    "\n",
    "print(train_source)"
   ]
  },
  {
   "cell_type": "code",
   "execution_count": 4,
   "metadata": {},
   "outputs": [
    {
     "data": {
      "text/html": [
       "<div>\n",
       "<style scoped>\n",
       "    .dataframe tbody tr th:only-of-type {\n",
       "        vertical-align: middle;\n",
       "    }\n",
       "\n",
       "    .dataframe tbody tr th {\n",
       "        vertical-align: top;\n",
       "    }\n",
       "\n",
       "    .dataframe thead th {\n",
       "        text-align: right;\n",
       "    }\n",
       "</style>\n",
       "<table border=\"1\" class=\"dataframe\">\n",
       "  <thead>\n",
       "    <tr style=\"text-align: right;\">\n",
       "      <th></th>\n",
       "      <th>source</th>\n",
       "      <th>gt</th>\n",
       "    </tr>\n",
       "  </thead>\n",
       "  <tbody>\n",
       "    <tr>\n",
       "      <th>0</th>\n",
       "      <td>../Data/train_source_image\\TRAIN_SOURCE_0000.png</td>\n",
       "      <td>../Data/train_source_gt\\TRAIN_SOURCE_0000.png</td>\n",
       "    </tr>\n",
       "    <tr>\n",
       "      <th>1</th>\n",
       "      <td>../Data/train_source_image\\TRAIN_SOURCE_0001.png</td>\n",
       "      <td>../Data/train_source_gt\\TRAIN_SOURCE_0001.png</td>\n",
       "    </tr>\n",
       "    <tr>\n",
       "      <th>2</th>\n",
       "      <td>../Data/train_source_image\\TRAIN_SOURCE_0002.png</td>\n",
       "      <td>../Data/train_source_gt\\TRAIN_SOURCE_0002.png</td>\n",
       "    </tr>\n",
       "    <tr>\n",
       "      <th>3</th>\n",
       "      <td>../Data/train_source_image\\TRAIN_SOURCE_0003.png</td>\n",
       "      <td>../Data/train_source_gt\\TRAIN_SOURCE_0003.png</td>\n",
       "    </tr>\n",
       "    <tr>\n",
       "      <th>4</th>\n",
       "      <td>../Data/train_source_image\\TRAIN_SOURCE_0004.png</td>\n",
       "      <td>../Data/train_source_gt\\TRAIN_SOURCE_0004.png</td>\n",
       "    </tr>\n",
       "    <tr>\n",
       "      <th>...</th>\n",
       "      <td>...</td>\n",
       "      <td>...</td>\n",
       "    </tr>\n",
       "    <tr>\n",
       "      <th>2655</th>\n",
       "      <td>../Data/val_source_image\\VALID_SOURCE_461.png</td>\n",
       "      <td>../Data/val_source_gt\\VALID_SOURCE_461.png</td>\n",
       "    </tr>\n",
       "    <tr>\n",
       "      <th>2656</th>\n",
       "      <td>../Data/val_source_image\\VALID_SOURCE_462.png</td>\n",
       "      <td>../Data/val_source_gt\\VALID_SOURCE_462.png</td>\n",
       "    </tr>\n",
       "    <tr>\n",
       "      <th>2657</th>\n",
       "      <td>../Data/val_source_image\\VALID_SOURCE_463.png</td>\n",
       "      <td>../Data/val_source_gt\\VALID_SOURCE_463.png</td>\n",
       "    </tr>\n",
       "    <tr>\n",
       "      <th>2658</th>\n",
       "      <td>../Data/val_source_image\\VALID_SOURCE_464.png</td>\n",
       "      <td>../Data/val_source_gt\\VALID_SOURCE_464.png</td>\n",
       "    </tr>\n",
       "    <tr>\n",
       "      <th>2659</th>\n",
       "      <td>../Data/val_source_image\\VALID_SOURCE_465.png</td>\n",
       "      <td>../Data/val_source_gt\\VALID_SOURCE_465.png</td>\n",
       "    </tr>\n",
       "  </tbody>\n",
       "</table>\n",
       "<p>2660 rows × 2 columns</p>\n",
       "</div>"
      ],
      "text/plain": [
       "                                                source   \n",
       "0     ../Data/train_source_image\\TRAIN_SOURCE_0000.png  \\\n",
       "1     ../Data/train_source_image\\TRAIN_SOURCE_0001.png   \n",
       "2     ../Data/train_source_image\\TRAIN_SOURCE_0002.png   \n",
       "3     ../Data/train_source_image\\TRAIN_SOURCE_0003.png   \n",
       "4     ../Data/train_source_image\\TRAIN_SOURCE_0004.png   \n",
       "...                                                ...   \n",
       "2655     ../Data/val_source_image\\VALID_SOURCE_461.png   \n",
       "2656     ../Data/val_source_image\\VALID_SOURCE_462.png   \n",
       "2657     ../Data/val_source_image\\VALID_SOURCE_463.png   \n",
       "2658     ../Data/val_source_image\\VALID_SOURCE_464.png   \n",
       "2659     ../Data/val_source_image\\VALID_SOURCE_465.png   \n",
       "\n",
       "                                                 gt  \n",
       "0     ../Data/train_source_gt\\TRAIN_SOURCE_0000.png  \n",
       "1     ../Data/train_source_gt\\TRAIN_SOURCE_0001.png  \n",
       "2     ../Data/train_source_gt\\TRAIN_SOURCE_0002.png  \n",
       "3     ../Data/train_source_gt\\TRAIN_SOURCE_0003.png  \n",
       "4     ../Data/train_source_gt\\TRAIN_SOURCE_0004.png  \n",
       "...                                             ...  \n",
       "2655     ../Data/val_source_gt\\VALID_SOURCE_461.png  \n",
       "2656     ../Data/val_source_gt\\VALID_SOURCE_462.png  \n",
       "2657     ../Data/val_source_gt\\VALID_SOURCE_463.png  \n",
       "2658     ../Data/val_source_gt\\VALID_SOURCE_464.png  \n",
       "2659     ../Data/val_source_gt\\VALID_SOURCE_465.png  \n",
       "\n",
       "[2660 rows x 2 columns]"
      ]
     },
     "execution_count": 4,
     "metadata": {},
     "output_type": "execute_result"
    }
   ],
   "source": [
    "# DF 생성 \n",
    "df_seg = pd.DataFrame(columns=['source','gt'])\n",
    "df_seg['source'] = train_source\n",
    "df_seg['gt'] = train_gt\n",
    "df_seg"
   ]
  },
  {
   "cell_type": "code",
   "execution_count": 5,
   "metadata": {},
   "outputs": [],
   "source": [
    "#폴더 이동시 경로 수정이 필요할 수 있음 \n",
    "train_source_l = glob.glob(\"../Data/train_source_image/*\")\n",
    "val_source_l = glob.glob(\"../Data/val_source_image/*\")\n",
    "train_target_l = glob.glob(\"../Data/train_target_image/*\")\n",
    "\n",
    "length_s = len(train_source_l) + len(val_source_l)\n",
    "length_t = len(train_target_l)\n",
    "label = [0 for _ in range(length_s)] + [1 for _ in range(length_t)]\n",
    "\n",
    "train_source_l = train_source_l + val_source_l + train_target_l\n",
    "\n",
    "# glob 이후에 정렬이 안되어 있기 때문에, source - gt matching을 위해 정렬\n",
    "train_source_l.sort()"
   ]
  },
  {
   "cell_type": "code",
   "execution_count": 6,
   "metadata": {},
   "outputs": [],
   "source": [
    "# DF 생성 \n",
    "df_domain_adpt = pd.DataFrame(columns=['source','label'])\n",
    "df_domain_adpt['source'] = train_source_l\n",
    "df_domain_adpt['label'] = label"
   ]
  },
  {
   "cell_type": "markdown",
   "metadata": {},
   "source": [
    "# Custom Dataset"
   ]
  },
  {
   "cell_type": "code",
   "execution_count": 7,
   "metadata": {},
   "outputs": [],
   "source": [
    "class CustomDataset_seg(Dataset):\n",
    "    def __init__(self, source, gt, transform=None, infer=False):\n",
    "        self.source = source\n",
    "        self.gt = gt\n",
    "        self.transform = transform\n",
    "        self.infer = infer\n",
    "\n",
    "\n",
    "    def __getitem__(self, idx):\n",
    "        img_path = self.source[idx]\n",
    "        image = cv.imread(img_path)\n",
    "        image = cv.cvtColor(image, cv.COLOR_BGR2RGB)\n",
    "        \n",
    "        if self.infer:\n",
    "            if self.transform:\n",
    "                image = self.transform(image=image)['image']\n",
    "            return image\n",
    "        \n",
    "        mask_path = self.gt[idx]\n",
    "        mask = cv.imread(mask_path, cv.IMREAD_GRAYSCALE)\n",
    "        mask[mask == 255] = 12 #/ 배경을 픽셀값 12로 간주 이거 원래 없던 값!\n",
    "\n",
    "        if self.transform: # 알부네이션 먹이이는 형식으로 진행 \n",
    "            augmented = self.transform(image=image, mask=mask) \n",
    "            image = augmented['image']\n",
    "            mask = augmented['mask']\n",
    "            \n",
    "        return image, mask\n",
    "    \n",
    "    def __len__(self):\n",
    "        return len(self.source)"
   ]
  },
  {
   "cell_type": "code",
   "execution_count": 8,
   "metadata": {},
   "outputs": [],
   "source": [
    "class CustomDataset_domain_adpt(Dataset): # 도메인 adaptive 한 형식으로 진행하기 위해서!\n",
    "    def __init__(self, source, label, transform=None, infer=False):\n",
    "        self.source = source\n",
    "        self.label = label\n",
    "        self.transform = transform\n",
    "        self.infer = infer\n",
    "\n",
    "\n",
    "    def __getitem__(self, idx):\n",
    "        img_path = self.source[idx]\n",
    "        image = cv.imread(img_path)\n",
    "        image = cv.cvtColor(image, cv.COLOR_BGR2RGB)\n",
    "        \n",
    "        # if self.infer: #/해당 Data Loader는 사실상 학습에만 쓰여서 애당 코드 필요 없음!\n",
    "        #     if self.transform:\n",
    "        #         image = self.transform(image=image)['image']\n",
    "        #     return image\n",
    "        \n",
    "        label = self.label[idx]\n",
    "        \n",
    "\n",
    "        if self.transform: # 알부네이션 먹이이는 형식으로 진행 \n",
    "            augmented = self.transform(image=image) \n",
    "            image = augmented['image']\n",
    "            \n",
    "        return image, label\n",
    "    \n",
    "    def __len__(self):\n",
    "        return len(self.source)"
   ]
  },
  {
   "cell_type": "markdown",
   "metadata": {},
   "source": [
    "# Transfrom - Data Augmentation"
   ]
  },
  {
   "cell_type": "code",
   "execution_count": 9,
   "metadata": {},
   "outputs": [],
   "source": [
    "transform = A.Compose(\n",
    "    [   \n",
    "        A.Resize(224, 224),\n",
    "        A.Normalize(),\n",
    "        ToTensorV2()\n",
    "    ]\n",
    ")"
   ]
  },
  {
   "cell_type": "markdown",
   "metadata": {},
   "source": [
    "# Data Loader"
   ]
  },
  {
   "cell_type": "code",
   "execution_count": 10,
   "metadata": {},
   "outputs": [],
   "source": [
    "train_seg, val_seg, _, _ = train_test_split(df_seg, _, test_size=0.2, random_state=CFG['SEED'])\n",
    "train_domain_adpt, val_domain_adpt, _, _ = train_test_split(df_domain_adpt, df_domain_adpt['label'], test_size=0.2, random_state=CFG['SEED'])"
   ]
  },
  {
   "cell_type": "code",
   "execution_count": 11,
   "metadata": {},
   "outputs": [],
   "source": [
    "train_dataset_seg = CustomDataset_seg(source = train_seg['source'].values, gt = train_seg['gt'].values, transform=transform, infer=False)\n",
    "train_loader_seg = DataLoader(train_dataset_seg, batch_size=16, shuffle=True, num_workers=0)\n",
    "\n",
    "val_dataset_seg = CustomDataset_seg(source = val_seg['source'].values, gt = val_seg['gt'].values, transform=transform, infer=False)\n",
    "val_loader_seg = DataLoader(val_dataset_seg, batch_size=16, shuffle=True, num_workers=0)"
   ]
  },
  {
   "cell_type": "code",
   "execution_count": 12,
   "metadata": {},
   "outputs": [],
   "source": [
    "train_dataset_domain_adpt = CustomDataset_domain_adpt(source = train_domain_adpt['source'].values, label = train_domain_adpt['label'].values, transform=transform, infer=False)\n",
    "train_loader_domain_adpt = DataLoader(train_dataset_domain_adpt, batch_size=16, shuffle=True, num_workers=0)\n",
    "\n",
    "val_dataset_domain_adpt = CustomDataset_domain_adpt(source = val_domain_adpt['source'].values, label = val_domain_adpt['label'].values, transform=transform, infer=False)\n",
    "val_loader_domain_adpt = DataLoader(val_dataset_domain_adpt, batch_size=16, shuffle=True, num_workers=0)"
   ]
  },
  {
   "cell_type": "markdown",
   "metadata": {},
   "source": [
    "# Model\n",
    "\n",
    "### SMP API\n",
    "\n",
    "- model.encoder - pretrained backbone to extract features of different spatial resolution\n",
    "- model.decoder - depends on models architecture (Unet/Linknet/PSPNet/FPN)\n",
    "- model.segmentation_head - last block to produce required number of mask channels (include also optional upsampling and activation)\n",
    "- model.classification_head - optional block which create classification head on top of encoder\n",
    "- model.forward(x) - sequentially pass x through model`s encoder, decoder and segmentation head (and classification head if specified)\n",
    "\n",
    "### Model Param\n",
    " - Docs - https://www.kaggle.com/code/ligtfeather/semantic-segmentation-is-easy-with-pytorch"
   ]
  },
  {
   "cell_type": "code",
   "execution_count": 13,
   "metadata": {},
   "outputs": [],
   "source": [
    "aux_params=dict(\n",
    "    pooling='avg',             # one of 'avg', 'max'\n",
    "    dropout=0.5,               # dropout ratio, default is None\n",
    "    activation='sigmoid',      # activation function, default is None\n",
    "    classes=13,                 # define number of output labels\n",
    ")\n",
    "\n",
    "# model = smp.Unet('mobilenet_v2', encoder_weights='imagenet', classes=13, activation=None, encoder_depth=5, decoder_channels=[256, 128, 64, 32, 16] , aux_params=aux_params)\n",
    "# model\n"
   ]
  },
  {
   "cell_type": "code",
   "execution_count": 14,
   "metadata": {},
   "outputs": [],
   "source": [
    "aux_params=dict(\n",
    "    pooling='max',             # one of 'avg', 'max'\n",
    "    dropout=0.5,               # dropout ratio, default is None\n",
    "    activation='sigmoid',      # activation function, default is None\n",
    "    classes=13,                 # define number of output labels\n",
    ")\n",
    "\n",
    "# from torch.autograd import Function\n",
    "\n",
    "# class ReverseLayerF(Function):\n",
    "#     @staticmethod\n",
    "#     def forward(ctx, x, alpha):\n",
    "#         ctx.alpha = alpha\n",
    "\n",
    "#         return x.view_as(x)\n",
    "\n",
    "#     @staticmethod\n",
    "#     def backward(ctx, grad_output):\n",
    "#         output = grad_output.neg() * ctx.alpha\n",
    "\n",
    "#         return output, None\n",
    "from torch.autograd import Function\n",
    "\n",
    "class ReverseLayerF(Function):\n",
    "    @staticmethod\n",
    "    def forward(ctx, x, alpha):\n",
    "        ctx.alpha = alpha\n",
    "        return x\n",
    "\n",
    "    @staticmethod\n",
    "    def backward(ctx, grad_output):\n",
    "        return [-x * ctx.alpha for x in grad_output]\n",
    "    "
   ]
  },
  {
   "cell_type": "code",
   "execution_count": 15,
   "metadata": {},
   "outputs": [
    {
     "name": "stderr",
     "output_type": "stream",
     "text": [
      "c:\\Users\\EHmin\\anaconda3\\envs\\EHmin\\lib\\site-packages\\torchaudio\\backend\\utils.py:62: UserWarning: No audio backend is available.\n",
      "  warnings.warn(\"No audio backend is available.\")\n"
     ]
    }
   ],
   "source": [
    "import pytorch_lightning as pl\n",
    "class DANN(pl.LightningModule):\n",
    "    \n",
    "    def __init__( self, arch, encoder_name, in_channels, out_classes, **kwargs) -> None:\n",
    "        super().__init__()\n",
    "        self.model = smp.create_model(\n",
    "            arch, encoder_name=encoder_name, in_channels=in_channels, classes=out_classes, **kwargs\n",
    "        )\n",
    "        \n",
    "        self.AdaptiveAvgPool2d = nn.AdaptiveAvgPool2d(output_size=1)\n",
    "        self.Flatten = nn.Flatten(start_dim=1, end_dim=-1)\n",
    "        self.Dropout = nn.Dropout(p=0.5, inplace=True)\n",
    "        self.Classifier1 = nn.Linear(in_features=1280, out_features=100, bias=True)\n",
    "        self.Classifier2 = nn.Linear(in_features=100, out_features=2, bias=True)\n",
    "        self.Activation = nn.Identity()\n",
    "        \n",
    "    \n",
    "    def forward(self, x, flag, alpha):\n",
    "        if flag:\n",
    "            x = self.model.encoder(x)\n",
    "            x = self.model.decoder(*x)\n",
    "            x = self.model.segmentation_head(x)\n",
    "            return x\n",
    "        \n",
    "        else:\n",
    "            x = self.model.encoder(x)\n",
    "            x = ReverseLayerF.apply(x, alpha * 3)\n",
    "            x = self.AdaptiveAvgPool2d(x[-1])\n",
    "            x = self.Flatten(x)\n",
    "            x = self.Dropout(x)\n",
    "            x = self.Classifier1(x)\n",
    "            x = self.Classifier2(x)\n",
    "            x = self.Activation(x)\n",
    "            return x\n",
    "        \n",
    "        "
   ]
  },
  {
   "cell_type": "code",
   "execution_count": 16,
   "metadata": {},
   "outputs": [
    {
     "data": {
      "text/plain": [
       "DANN(\n",
       "  (model): Unet(\n",
       "    (encoder): MobileNetV2Encoder(\n",
       "      (features): Sequential(\n",
       "        (0): Conv2dNormActivation(\n",
       "          (0): Conv2d(3, 32, kernel_size=(3, 3), stride=(2, 2), padding=(1, 1), bias=False)\n",
       "          (1): BatchNorm2d(32, eps=1e-05, momentum=0.1, affine=True, track_running_stats=True)\n",
       "          (2): ReLU6(inplace=True)\n",
       "        )\n",
       "        (1): InvertedResidual(\n",
       "          (conv): Sequential(\n",
       "            (0): Conv2dNormActivation(\n",
       "              (0): Conv2d(32, 32, kernel_size=(3, 3), stride=(1, 1), padding=(1, 1), groups=32, bias=False)\n",
       "              (1): BatchNorm2d(32, eps=1e-05, momentum=0.1, affine=True, track_running_stats=True)\n",
       "              (2): ReLU6(inplace=True)\n",
       "            )\n",
       "            (1): Conv2d(32, 16, kernel_size=(1, 1), stride=(1, 1), bias=False)\n",
       "            (2): BatchNorm2d(16, eps=1e-05, momentum=0.1, affine=True, track_running_stats=True)\n",
       "          )\n",
       "        )\n",
       "        (2): InvertedResidual(\n",
       "          (conv): Sequential(\n",
       "            (0): Conv2dNormActivation(\n",
       "              (0): Conv2d(16, 96, kernel_size=(1, 1), stride=(1, 1), bias=False)\n",
       "              (1): BatchNorm2d(96, eps=1e-05, momentum=0.1, affine=True, track_running_stats=True)\n",
       "              (2): ReLU6(inplace=True)\n",
       "            )\n",
       "            (1): Conv2dNormActivation(\n",
       "              (0): Conv2d(96, 96, kernel_size=(3, 3), stride=(2, 2), padding=(1, 1), groups=96, bias=False)\n",
       "              (1): BatchNorm2d(96, eps=1e-05, momentum=0.1, affine=True, track_running_stats=True)\n",
       "              (2): ReLU6(inplace=True)\n",
       "            )\n",
       "            (2): Conv2d(96, 24, kernel_size=(1, 1), stride=(1, 1), bias=False)\n",
       "            (3): BatchNorm2d(24, eps=1e-05, momentum=0.1, affine=True, track_running_stats=True)\n",
       "          )\n",
       "        )\n",
       "        (3): InvertedResidual(\n",
       "          (conv): Sequential(\n",
       "            (0): Conv2dNormActivation(\n",
       "              (0): Conv2d(24, 144, kernel_size=(1, 1), stride=(1, 1), bias=False)\n",
       "              (1): BatchNorm2d(144, eps=1e-05, momentum=0.1, affine=True, track_running_stats=True)\n",
       "              (2): ReLU6(inplace=True)\n",
       "            )\n",
       "            (1): Conv2dNormActivation(\n",
       "              (0): Conv2d(144, 144, kernel_size=(3, 3), stride=(1, 1), padding=(1, 1), groups=144, bias=False)\n",
       "              (1): BatchNorm2d(144, eps=1e-05, momentum=0.1, affine=True, track_running_stats=True)\n",
       "              (2): ReLU6(inplace=True)\n",
       "            )\n",
       "            (2): Conv2d(144, 24, kernel_size=(1, 1), stride=(1, 1), bias=False)\n",
       "            (3): BatchNorm2d(24, eps=1e-05, momentum=0.1, affine=True, track_running_stats=True)\n",
       "          )\n",
       "        )\n",
       "        (4): InvertedResidual(\n",
       "          (conv): Sequential(\n",
       "            (0): Conv2dNormActivation(\n",
       "              (0): Conv2d(24, 144, kernel_size=(1, 1), stride=(1, 1), bias=False)\n",
       "              (1): BatchNorm2d(144, eps=1e-05, momentum=0.1, affine=True, track_running_stats=True)\n",
       "              (2): ReLU6(inplace=True)\n",
       "            )\n",
       "            (1): Conv2dNormActivation(\n",
       "              (0): Conv2d(144, 144, kernel_size=(3, 3), stride=(2, 2), padding=(1, 1), groups=144, bias=False)\n",
       "              (1): BatchNorm2d(144, eps=1e-05, momentum=0.1, affine=True, track_running_stats=True)\n",
       "              (2): ReLU6(inplace=True)\n",
       "            )\n",
       "            (2): Conv2d(144, 32, kernel_size=(1, 1), stride=(1, 1), bias=False)\n",
       "            (3): BatchNorm2d(32, eps=1e-05, momentum=0.1, affine=True, track_running_stats=True)\n",
       "          )\n",
       "        )\n",
       "        (5): InvertedResidual(\n",
       "          (conv): Sequential(\n",
       "            (0): Conv2dNormActivation(\n",
       "              (0): Conv2d(32, 192, kernel_size=(1, 1), stride=(1, 1), bias=False)\n",
       "              (1): BatchNorm2d(192, eps=1e-05, momentum=0.1, affine=True, track_running_stats=True)\n",
       "              (2): ReLU6(inplace=True)\n",
       "            )\n",
       "            (1): Conv2dNormActivation(\n",
       "              (0): Conv2d(192, 192, kernel_size=(3, 3), stride=(1, 1), padding=(1, 1), groups=192, bias=False)\n",
       "              (1): BatchNorm2d(192, eps=1e-05, momentum=0.1, affine=True, track_running_stats=True)\n",
       "              (2): ReLU6(inplace=True)\n",
       "            )\n",
       "            (2): Conv2d(192, 32, kernel_size=(1, 1), stride=(1, 1), bias=False)\n",
       "            (3): BatchNorm2d(32, eps=1e-05, momentum=0.1, affine=True, track_running_stats=True)\n",
       "          )\n",
       "        )\n",
       "        (6): InvertedResidual(\n",
       "          (conv): Sequential(\n",
       "            (0): Conv2dNormActivation(\n",
       "              (0): Conv2d(32, 192, kernel_size=(1, 1), stride=(1, 1), bias=False)\n",
       "              (1): BatchNorm2d(192, eps=1e-05, momentum=0.1, affine=True, track_running_stats=True)\n",
       "              (2): ReLU6(inplace=True)\n",
       "            )\n",
       "            (1): Conv2dNormActivation(\n",
       "              (0): Conv2d(192, 192, kernel_size=(3, 3), stride=(1, 1), padding=(1, 1), groups=192, bias=False)\n",
       "              (1): BatchNorm2d(192, eps=1e-05, momentum=0.1, affine=True, track_running_stats=True)\n",
       "              (2): ReLU6(inplace=True)\n",
       "            )\n",
       "            (2): Conv2d(192, 32, kernel_size=(1, 1), stride=(1, 1), bias=False)\n",
       "            (3): BatchNorm2d(32, eps=1e-05, momentum=0.1, affine=True, track_running_stats=True)\n",
       "          )\n",
       "        )\n",
       "        (7): InvertedResidual(\n",
       "          (conv): Sequential(\n",
       "            (0): Conv2dNormActivation(\n",
       "              (0): Conv2d(32, 192, kernel_size=(1, 1), stride=(1, 1), bias=False)\n",
       "              (1): BatchNorm2d(192, eps=1e-05, momentum=0.1, affine=True, track_running_stats=True)\n",
       "              (2): ReLU6(inplace=True)\n",
       "            )\n",
       "            (1): Conv2dNormActivation(\n",
       "              (0): Conv2d(192, 192, kernel_size=(3, 3), stride=(2, 2), padding=(1, 1), groups=192, bias=False)\n",
       "              (1): BatchNorm2d(192, eps=1e-05, momentum=0.1, affine=True, track_running_stats=True)\n",
       "              (2): ReLU6(inplace=True)\n",
       "            )\n",
       "            (2): Conv2d(192, 64, kernel_size=(1, 1), stride=(1, 1), bias=False)\n",
       "            (3): BatchNorm2d(64, eps=1e-05, momentum=0.1, affine=True, track_running_stats=True)\n",
       "          )\n",
       "        )\n",
       "        (8): InvertedResidual(\n",
       "          (conv): Sequential(\n",
       "            (0): Conv2dNormActivation(\n",
       "              (0): Conv2d(64, 384, kernel_size=(1, 1), stride=(1, 1), bias=False)\n",
       "              (1): BatchNorm2d(384, eps=1e-05, momentum=0.1, affine=True, track_running_stats=True)\n",
       "              (2): ReLU6(inplace=True)\n",
       "            )\n",
       "            (1): Conv2dNormActivation(\n",
       "              (0): Conv2d(384, 384, kernel_size=(3, 3), stride=(1, 1), padding=(1, 1), groups=384, bias=False)\n",
       "              (1): BatchNorm2d(384, eps=1e-05, momentum=0.1, affine=True, track_running_stats=True)\n",
       "              (2): ReLU6(inplace=True)\n",
       "            )\n",
       "            (2): Conv2d(384, 64, kernel_size=(1, 1), stride=(1, 1), bias=False)\n",
       "            (3): BatchNorm2d(64, eps=1e-05, momentum=0.1, affine=True, track_running_stats=True)\n",
       "          )\n",
       "        )\n",
       "        (9): InvertedResidual(\n",
       "          (conv): Sequential(\n",
       "            (0): Conv2dNormActivation(\n",
       "              (0): Conv2d(64, 384, kernel_size=(1, 1), stride=(1, 1), bias=False)\n",
       "              (1): BatchNorm2d(384, eps=1e-05, momentum=0.1, affine=True, track_running_stats=True)\n",
       "              (2): ReLU6(inplace=True)\n",
       "            )\n",
       "            (1): Conv2dNormActivation(\n",
       "              (0): Conv2d(384, 384, kernel_size=(3, 3), stride=(1, 1), padding=(1, 1), groups=384, bias=False)\n",
       "              (1): BatchNorm2d(384, eps=1e-05, momentum=0.1, affine=True, track_running_stats=True)\n",
       "              (2): ReLU6(inplace=True)\n",
       "            )\n",
       "            (2): Conv2d(384, 64, kernel_size=(1, 1), stride=(1, 1), bias=False)\n",
       "            (3): BatchNorm2d(64, eps=1e-05, momentum=0.1, affine=True, track_running_stats=True)\n",
       "          )\n",
       "        )\n",
       "        (10): InvertedResidual(\n",
       "          (conv): Sequential(\n",
       "            (0): Conv2dNormActivation(\n",
       "              (0): Conv2d(64, 384, kernel_size=(1, 1), stride=(1, 1), bias=False)\n",
       "              (1): BatchNorm2d(384, eps=1e-05, momentum=0.1, affine=True, track_running_stats=True)\n",
       "              (2): ReLU6(inplace=True)\n",
       "            )\n",
       "            (1): Conv2dNormActivation(\n",
       "              (0): Conv2d(384, 384, kernel_size=(3, 3), stride=(1, 1), padding=(1, 1), groups=384, bias=False)\n",
       "              (1): BatchNorm2d(384, eps=1e-05, momentum=0.1, affine=True, track_running_stats=True)\n",
       "              (2): ReLU6(inplace=True)\n",
       "            )\n",
       "            (2): Conv2d(384, 64, kernel_size=(1, 1), stride=(1, 1), bias=False)\n",
       "            (3): BatchNorm2d(64, eps=1e-05, momentum=0.1, affine=True, track_running_stats=True)\n",
       "          )\n",
       "        )\n",
       "        (11): InvertedResidual(\n",
       "          (conv): Sequential(\n",
       "            (0): Conv2dNormActivation(\n",
       "              (0): Conv2d(64, 384, kernel_size=(1, 1), stride=(1, 1), bias=False)\n",
       "              (1): BatchNorm2d(384, eps=1e-05, momentum=0.1, affine=True, track_running_stats=True)\n",
       "              (2): ReLU6(inplace=True)\n",
       "            )\n",
       "            (1): Conv2dNormActivation(\n",
       "              (0): Conv2d(384, 384, kernel_size=(3, 3), stride=(1, 1), padding=(1, 1), groups=384, bias=False)\n",
       "              (1): BatchNorm2d(384, eps=1e-05, momentum=0.1, affine=True, track_running_stats=True)\n",
       "              (2): ReLU6(inplace=True)\n",
       "            )\n",
       "            (2): Conv2d(384, 96, kernel_size=(1, 1), stride=(1, 1), bias=False)\n",
       "            (3): BatchNorm2d(96, eps=1e-05, momentum=0.1, affine=True, track_running_stats=True)\n",
       "          )\n",
       "        )\n",
       "        (12): InvertedResidual(\n",
       "          (conv): Sequential(\n",
       "            (0): Conv2dNormActivation(\n",
       "              (0): Conv2d(96, 576, kernel_size=(1, 1), stride=(1, 1), bias=False)\n",
       "              (1): BatchNorm2d(576, eps=1e-05, momentum=0.1, affine=True, track_running_stats=True)\n",
       "              (2): ReLU6(inplace=True)\n",
       "            )\n",
       "            (1): Conv2dNormActivation(\n",
       "              (0): Conv2d(576, 576, kernel_size=(3, 3), stride=(1, 1), padding=(1, 1), groups=576, bias=False)\n",
       "              (1): BatchNorm2d(576, eps=1e-05, momentum=0.1, affine=True, track_running_stats=True)\n",
       "              (2): ReLU6(inplace=True)\n",
       "            )\n",
       "            (2): Conv2d(576, 96, kernel_size=(1, 1), stride=(1, 1), bias=False)\n",
       "            (3): BatchNorm2d(96, eps=1e-05, momentum=0.1, affine=True, track_running_stats=True)\n",
       "          )\n",
       "        )\n",
       "        (13): InvertedResidual(\n",
       "          (conv): Sequential(\n",
       "            (0): Conv2dNormActivation(\n",
       "              (0): Conv2d(96, 576, kernel_size=(1, 1), stride=(1, 1), bias=False)\n",
       "              (1): BatchNorm2d(576, eps=1e-05, momentum=0.1, affine=True, track_running_stats=True)\n",
       "              (2): ReLU6(inplace=True)\n",
       "            )\n",
       "            (1): Conv2dNormActivation(\n",
       "              (0): Conv2d(576, 576, kernel_size=(3, 3), stride=(1, 1), padding=(1, 1), groups=576, bias=False)\n",
       "              (1): BatchNorm2d(576, eps=1e-05, momentum=0.1, affine=True, track_running_stats=True)\n",
       "              (2): ReLU6(inplace=True)\n",
       "            )\n",
       "            (2): Conv2d(576, 96, kernel_size=(1, 1), stride=(1, 1), bias=False)\n",
       "            (3): BatchNorm2d(96, eps=1e-05, momentum=0.1, affine=True, track_running_stats=True)\n",
       "          )\n",
       "        )\n",
       "        (14): InvertedResidual(\n",
       "          (conv): Sequential(\n",
       "            (0): Conv2dNormActivation(\n",
       "              (0): Conv2d(96, 576, kernel_size=(1, 1), stride=(1, 1), bias=False)\n",
       "              (1): BatchNorm2d(576, eps=1e-05, momentum=0.1, affine=True, track_running_stats=True)\n",
       "              (2): ReLU6(inplace=True)\n",
       "            )\n",
       "            (1): Conv2dNormActivation(\n",
       "              (0): Conv2d(576, 576, kernel_size=(3, 3), stride=(2, 2), padding=(1, 1), groups=576, bias=False)\n",
       "              (1): BatchNorm2d(576, eps=1e-05, momentum=0.1, affine=True, track_running_stats=True)\n",
       "              (2): ReLU6(inplace=True)\n",
       "            )\n",
       "            (2): Conv2d(576, 160, kernel_size=(1, 1), stride=(1, 1), bias=False)\n",
       "            (3): BatchNorm2d(160, eps=1e-05, momentum=0.1, affine=True, track_running_stats=True)\n",
       "          )\n",
       "        )\n",
       "        (15): InvertedResidual(\n",
       "          (conv): Sequential(\n",
       "            (0): Conv2dNormActivation(\n",
       "              (0): Conv2d(160, 960, kernel_size=(1, 1), stride=(1, 1), bias=False)\n",
       "              (1): BatchNorm2d(960, eps=1e-05, momentum=0.1, affine=True, track_running_stats=True)\n",
       "              (2): ReLU6(inplace=True)\n",
       "            )\n",
       "            (1): Conv2dNormActivation(\n",
       "              (0): Conv2d(960, 960, kernel_size=(3, 3), stride=(1, 1), padding=(1, 1), groups=960, bias=False)\n",
       "              (1): BatchNorm2d(960, eps=1e-05, momentum=0.1, affine=True, track_running_stats=True)\n",
       "              (2): ReLU6(inplace=True)\n",
       "            )\n",
       "            (2): Conv2d(960, 160, kernel_size=(1, 1), stride=(1, 1), bias=False)\n",
       "            (3): BatchNorm2d(160, eps=1e-05, momentum=0.1, affine=True, track_running_stats=True)\n",
       "          )\n",
       "        )\n",
       "        (16): InvertedResidual(\n",
       "          (conv): Sequential(\n",
       "            (0): Conv2dNormActivation(\n",
       "              (0): Conv2d(160, 960, kernel_size=(1, 1), stride=(1, 1), bias=False)\n",
       "              (1): BatchNorm2d(960, eps=1e-05, momentum=0.1, affine=True, track_running_stats=True)\n",
       "              (2): ReLU6(inplace=True)\n",
       "            )\n",
       "            (1): Conv2dNormActivation(\n",
       "              (0): Conv2d(960, 960, kernel_size=(3, 3), stride=(1, 1), padding=(1, 1), groups=960, bias=False)\n",
       "              (1): BatchNorm2d(960, eps=1e-05, momentum=0.1, affine=True, track_running_stats=True)\n",
       "              (2): ReLU6(inplace=True)\n",
       "            )\n",
       "            (2): Conv2d(960, 160, kernel_size=(1, 1), stride=(1, 1), bias=False)\n",
       "            (3): BatchNorm2d(160, eps=1e-05, momentum=0.1, affine=True, track_running_stats=True)\n",
       "          )\n",
       "        )\n",
       "        (17): InvertedResidual(\n",
       "          (conv): Sequential(\n",
       "            (0): Conv2dNormActivation(\n",
       "              (0): Conv2d(160, 960, kernel_size=(1, 1), stride=(1, 1), bias=False)\n",
       "              (1): BatchNorm2d(960, eps=1e-05, momentum=0.1, affine=True, track_running_stats=True)\n",
       "              (2): ReLU6(inplace=True)\n",
       "            )\n",
       "            (1): Conv2dNormActivation(\n",
       "              (0): Conv2d(960, 960, kernel_size=(3, 3), stride=(1, 1), padding=(1, 1), groups=960, bias=False)\n",
       "              (1): BatchNorm2d(960, eps=1e-05, momentum=0.1, affine=True, track_running_stats=True)\n",
       "              (2): ReLU6(inplace=True)\n",
       "            )\n",
       "            (2): Conv2d(960, 320, kernel_size=(1, 1), stride=(1, 1), bias=False)\n",
       "            (3): BatchNorm2d(320, eps=1e-05, momentum=0.1, affine=True, track_running_stats=True)\n",
       "          )\n",
       "        )\n",
       "        (18): Conv2dNormActivation(\n",
       "          (0): Conv2d(320, 1280, kernel_size=(1, 1), stride=(1, 1), bias=False)\n",
       "          (1): BatchNorm2d(1280, eps=1e-05, momentum=0.1, affine=True, track_running_stats=True)\n",
       "          (2): ReLU6(inplace=True)\n",
       "        )\n",
       "      )\n",
       "    )\n",
       "    (decoder): UnetDecoder(\n",
       "      (center): Identity()\n",
       "      (blocks): ModuleList(\n",
       "        (0): DecoderBlock(\n",
       "          (conv1): Conv2dReLU(\n",
       "            (0): Conv2d(1376, 256, kernel_size=(3, 3), stride=(1, 1), padding=(1, 1), bias=False)\n",
       "            (1): BatchNorm2d(256, eps=1e-05, momentum=0.1, affine=True, track_running_stats=True)\n",
       "            (2): ReLU(inplace=True)\n",
       "          )\n",
       "          (attention1): Attention(\n",
       "            (attention): Identity()\n",
       "          )\n",
       "          (conv2): Conv2dReLU(\n",
       "            (0): Conv2d(256, 256, kernel_size=(3, 3), stride=(1, 1), padding=(1, 1), bias=False)\n",
       "            (1): BatchNorm2d(256, eps=1e-05, momentum=0.1, affine=True, track_running_stats=True)\n",
       "            (2): ReLU(inplace=True)\n",
       "          )\n",
       "          (attention2): Attention(\n",
       "            (attention): Identity()\n",
       "          )\n",
       "        )\n",
       "        (1): DecoderBlock(\n",
       "          (conv1): Conv2dReLU(\n",
       "            (0): Conv2d(288, 128, kernel_size=(3, 3), stride=(1, 1), padding=(1, 1), bias=False)\n",
       "            (1): BatchNorm2d(128, eps=1e-05, momentum=0.1, affine=True, track_running_stats=True)\n",
       "            (2): ReLU(inplace=True)\n",
       "          )\n",
       "          (attention1): Attention(\n",
       "            (attention): Identity()\n",
       "          )\n",
       "          (conv2): Conv2dReLU(\n",
       "            (0): Conv2d(128, 128, kernel_size=(3, 3), stride=(1, 1), padding=(1, 1), bias=False)\n",
       "            (1): BatchNorm2d(128, eps=1e-05, momentum=0.1, affine=True, track_running_stats=True)\n",
       "            (2): ReLU(inplace=True)\n",
       "          )\n",
       "          (attention2): Attention(\n",
       "            (attention): Identity()\n",
       "          )\n",
       "        )\n",
       "        (2): DecoderBlock(\n",
       "          (conv1): Conv2dReLU(\n",
       "            (0): Conv2d(152, 64, kernel_size=(3, 3), stride=(1, 1), padding=(1, 1), bias=False)\n",
       "            (1): BatchNorm2d(64, eps=1e-05, momentum=0.1, affine=True, track_running_stats=True)\n",
       "            (2): ReLU(inplace=True)\n",
       "          )\n",
       "          (attention1): Attention(\n",
       "            (attention): Identity()\n",
       "          )\n",
       "          (conv2): Conv2dReLU(\n",
       "            (0): Conv2d(64, 64, kernel_size=(3, 3), stride=(1, 1), padding=(1, 1), bias=False)\n",
       "            (1): BatchNorm2d(64, eps=1e-05, momentum=0.1, affine=True, track_running_stats=True)\n",
       "            (2): ReLU(inplace=True)\n",
       "          )\n",
       "          (attention2): Attention(\n",
       "            (attention): Identity()\n",
       "          )\n",
       "        )\n",
       "        (3): DecoderBlock(\n",
       "          (conv1): Conv2dReLU(\n",
       "            (0): Conv2d(80, 32, kernel_size=(3, 3), stride=(1, 1), padding=(1, 1), bias=False)\n",
       "            (1): BatchNorm2d(32, eps=1e-05, momentum=0.1, affine=True, track_running_stats=True)\n",
       "            (2): ReLU(inplace=True)\n",
       "          )\n",
       "          (attention1): Attention(\n",
       "            (attention): Identity()\n",
       "          )\n",
       "          (conv2): Conv2dReLU(\n",
       "            (0): Conv2d(32, 32, kernel_size=(3, 3), stride=(1, 1), padding=(1, 1), bias=False)\n",
       "            (1): BatchNorm2d(32, eps=1e-05, momentum=0.1, affine=True, track_running_stats=True)\n",
       "            (2): ReLU(inplace=True)\n",
       "          )\n",
       "          (attention2): Attention(\n",
       "            (attention): Identity()\n",
       "          )\n",
       "        )\n",
       "        (4): DecoderBlock(\n",
       "          (conv1): Conv2dReLU(\n",
       "            (0): Conv2d(32, 16, kernel_size=(3, 3), stride=(1, 1), padding=(1, 1), bias=False)\n",
       "            (1): BatchNorm2d(16, eps=1e-05, momentum=0.1, affine=True, track_running_stats=True)\n",
       "            (2): ReLU(inplace=True)\n",
       "          )\n",
       "          (attention1): Attention(\n",
       "            (attention): Identity()\n",
       "          )\n",
       "          (conv2): Conv2dReLU(\n",
       "            (0): Conv2d(16, 16, kernel_size=(3, 3), stride=(1, 1), padding=(1, 1), bias=False)\n",
       "            (1): BatchNorm2d(16, eps=1e-05, momentum=0.1, affine=True, track_running_stats=True)\n",
       "            (2): ReLU(inplace=True)\n",
       "          )\n",
       "          (attention2): Attention(\n",
       "            (attention): Identity()\n",
       "          )\n",
       "        )\n",
       "      )\n",
       "    )\n",
       "    (segmentation_head): SegmentationHead(\n",
       "      (0): Conv2d(16, 13, kernel_size=(3, 3), stride=(1, 1), padding=(1, 1))\n",
       "      (1): Identity()\n",
       "      (2): Activation(\n",
       "        (activation): Identity()\n",
       "      )\n",
       "    )\n",
       "  )\n",
       "  (AdaptiveAvgPool2d): AdaptiveAvgPool2d(output_size=1)\n",
       "  (Flatten): Flatten(start_dim=1, end_dim=-1)\n",
       "  (Dropout): Dropout(p=0.5, inplace=True)\n",
       "  (Classifier1): Linear(in_features=1280, out_features=100, bias=True)\n",
       "  (Classifier2): Linear(in_features=100, out_features=2, bias=True)\n",
       "  (Activation): Identity()\n",
       ")"
      ]
     },
     "execution_count": 16,
     "metadata": {},
     "output_type": "execute_result"
    }
   ],
   "source": [
    "model = DANN(\"Unet\", \"mobilenet_v2\", in_channels=3, out_classes=13)\n",
    "model"
   ]
  },
  {
   "cell_type": "markdown",
   "metadata": {},
   "source": [
    "# Validation"
   ]
  },
  {
   "cell_type": "code",
   "execution_count": 17,
   "metadata": {},
   "outputs": [],
   "source": [
    "# define mIoU for Score >> 가져온 함수여서... batch 사이즈에 대한 고려가 안되어 있을 수 있음\n",
    "def mIoU(pred_mask, mask, smooth=1e-10, n_classes=13):\n",
    "    with torch.no_grad():\n",
    "        pred_mask = F.softmax(pred_mask, dim=1)\n",
    "        pred_mask = torch.argmax(pred_mask, dim=1)\n",
    "        pred_mask = pred_mask.contiguous().view(-1)\n",
    "        mask = mask.contiguous().view(-1)\n",
    "\n",
    "        iou_per_class = []\n",
    "        for clas in range(0, n_classes): #loop per pixel class\n",
    "            true_class = pred_mask == clas\n",
    "            true_label = mask == clas\n",
    "\n",
    "            if true_label.long().sum().item() == 0: #no exist label in this loop\n",
    "                iou_per_class.append(np.nan)\n",
    "            else:\n",
    "                intersect = torch.logical_and(true_class, true_label).sum().float().item()\n",
    "                union = torch.logical_or(true_class, true_label).sum().float().item()\n",
    "\n",
    "                iou = (intersect + smooth) / (union +smooth)\n",
    "                iou_per_class.append(iou)\n",
    "                \n",
    "    return np.nanmean(iou_per_class)"
   ]
  },
  {
   "cell_type": "code",
   "execution_count": 18,
   "metadata": {},
   "outputs": [],
   "source": [
    "def validation(model, loss_segmentation, loss_classification, val_loader_seg,val_loader_domain_adpt, device):\n",
    "    model.eval()\n",
    "    val_loss = 0\n",
    "    val_score = 0\n",
    "    preds, true_labels = [], []\n",
    "    with torch.no_grad():\n",
    "        for  (source , gt), (source_domain, label) in tqdm(zip(val_loader_seg, val_loader_domain_adpt)):\n",
    "            source = source.float().to(device)\n",
    "            gt = gt.long().to(device)\n",
    "            \n",
    "            source_domain = source_domain.float().to(device)\n",
    "            labels = label.type(torch.LongTensor).to(device)\n",
    "            \n",
    "            outputs= model(source, True, 0)\n",
    "            output_c = model(source_domain, False, 0)\n",
    "            \n",
    "            outputs.requires_grad_(True)\n",
    "            output_c.requires_grad_(True)\n",
    "            loss_s = loss_segmentation(outputs, gt.squeeze(1))\n",
    "            loss_d = loss_classification(output_c, labels)\n",
    "            loss = loss_s + loss_d\n",
    "            \n",
    "            preds += output_c.detach().argmax(1).cpu().numpy().tolist()\n",
    "            true_labels += labels.detach().cpu().numpy().tolist()\n",
    "            \n",
    "            \n",
    "            val_loss += loss.item()\n",
    "            val_score += mIoU(outputs, gt)\n",
    "        \n",
    "        val_score_acc = accuracy_score(true_labels, preds)\n",
    "    \n",
    "    return val_loss/len(val_loader_seg) , val_score/len(val_loader_seg), val_score_acc\n",
    "    "
   ]
  },
  {
   "cell_type": "markdown",
   "metadata": {},
   "source": [
    "# Train"
   ]
  },
  {
   "cell_type": "code",
   "execution_count": 19,
   "metadata": {},
   "outputs": [],
   "source": [
    "def train(model, optimizer, train_loader_seg, val_loader_seg, train_loader_domain_adpt, val_loader_domain_adpt, scheduler, device):\n",
    "    # Model load \n",
    "    model = model.to(device) # 그냥 model.to(device)만 하면 저장 안됨\n",
    "\n",
    "    # loss function과 optimizer 정의\n",
    "    loss_segmentation = torch.nn.CrossEntropyLoss()\n",
    "    loss_classification = torch.nn.CrossEntropyLoss()\n",
    "    # optimizer = torch.optim.Adam(model.parameters(), lr=CFG['LEARNING_RATE'])\n",
    "    # 이거 밖에서 선언할거임 \n",
    "    \n",
    "    best_score = 0\n",
    "    acc_best_score = -2\n",
    "    best_model = None\n",
    "    best_acc_model = None\n",
    "    \n",
    "    i = 1\n",
    "    \n",
    "    for epoch in range(0, CFG['EPOCHS']):\n",
    "        model.train()\n",
    "        train_loss = 0\n",
    "        tls = 0\n",
    "        tldc = 0\n",
    "        i = 0\n",
    "        for (source , gt), (source_domain, label) in tqdm(zip(train_loader_seg, train_loader_domain_adpt)):\n",
    "            # p = float(i + epoch * len(val_loader_seg)) / CFG['EPOCHS'] / len(val_loader_seg)\n",
    "            \n",
    "            p = float(i +epoch* len(val_loader_seg)) / CFG['EPOCHS'] / len(val_loader_seg)\n",
    "            alpha = 2. / (1 + np.exp(-10* p)) - 1\n",
    "            # print(alpha)\n",
    "            i += 1\n",
    "            source = source.float().to(device)\n",
    "            gt = gt.long().to(device)\n",
    "            \n",
    "            source_domain = source_domain.float().to(device)\n",
    "            labels = label.type(torch.LongTensor).to(device)\n",
    "            \n",
    "            optimizer.zero_grad() #! 이건 뭐해주는거지?? 추후에 확인 필\n",
    "            outputs  = model(source, True, alpha )\n",
    "            output_c = model(source_domain, False, alpha )\n",
    "            \n",
    "            outputs.requires_grad_(True)\n",
    "            output_c.requires_grad_(True)\n",
    "                \n",
    "            \n",
    "            loss_s = loss_segmentation(outputs, gt.squeeze(1))\n",
    "            loss_d = loss_classification(output_c, labels)\n",
    "            \n",
    "            # if i < 0:\n",
    "            #     loss = (loss_s)\n",
    "            #     loss.backward()\n",
    "            #     optimizer.step()\n",
    "            #     train_loss += loss.item()\n",
    "            # ###\n",
    "            # else:\n",
    "            #     loss = (loss_s + loss_d)/2\n",
    "            #     loss.backward()\n",
    "            #     optimizer.step()\n",
    "            #     train_loss += loss_s.item()\n",
    "            tls += loss_s.item()\n",
    "            tldc += loss_d.item()\n",
    "            \n",
    "            # loss = (loss_s + loss_d)/2\n",
    "            loss_d.backward()\n",
    "            optimizer.step()\n",
    "            # train_loss += loss.item()\n",
    "            train_loss += loss_d.item()\n",
    "            \n",
    "            \n",
    "            \n",
    "        _train_loss = train_loss/len(train_loader_seg)\n",
    "        _val_loss, _val_score, val_score_acc = validation(model, loss_segmentation, loss_classification, val_loader_seg,val_loader_domain_adpt, device)\n",
    "        print(f'Epoch [{epoch}], Train Loss : [{_train_loss:.5f}] Val Loss : [{_val_loss:.5f}] Val IOU score(segmentation) : [{_val_score:.5f}] Val accuracy score(Domain Classifier) : [{val_score_acc:.5f}]')\n",
    "        print(tls /len(train_loader_seg))\n",
    "        print(tldc /len(train_loader_seg))\n",
    "        \n",
    "        if scheduler is not None:\n",
    "            scheduler.step(_val_score)\n",
    "        \n",
    "        if best_score < _val_score:\n",
    "            best_score = _val_score\n",
    "            best_model = model\n",
    "            torch.save(best_model.state_dict(), \"./models/DANN_mobile.pt\")\n",
    "        \n",
    "        if acc_best_score < _val_score - abs(0.5 - val_score_acc):\n",
    "            acc_best_score = _val_score - val_score_acc\n",
    "            acc_best_model = model\n",
    "            torch.save(acc_best_model.state_dict(), \"./models/DANN_mobile_Consider_domain.pt\")\n",
    "    \n",
    "    return acc_best_score"
   ]
  },
  {
   "cell_type": "code",
   "execution_count": 20,
   "metadata": {},
   "outputs": [],
   "source": [
    "# model = model()\n",
    "# model.load_state_dict(torch.load('path'))\n",
    "# model.eval()"
   ]
  },
  {
   "cell_type": "code",
   "execution_count": 21,
   "metadata": {},
   "outputs": [
    {
     "data": {
      "application/vnd.jupyter.widget-view+json": {
       "model_id": "5fd4f8e6282a421984d3f219cf73ff9d",
       "version_major": 2,
       "version_minor": 0
      },
      "text/plain": [
       "0it [00:00, ?it/s]"
      ]
     },
     "metadata": {},
     "output_type": "display_data"
    },
    {
     "data": {
      "application/vnd.jupyter.widget-view+json": {
       "model_id": "0ae82b8674cc442e8f610aa202106fb1",
       "version_major": 2,
       "version_minor": 0
      },
      "text/plain": [
       "0it [00:00, ?it/s]"
      ]
     },
     "metadata": {},
     "output_type": "display_data"
    },
    {
     "name": "stdout",
     "output_type": "stream",
     "text": [
      "Epoch [0], Train Loss : [0.34642] Val Loss : [3.05836] Val IOU score(segmentation) : [0.02667] Val accuracy score(Domain Classifier) : [0.86029]\n",
      "2.56614231166983\n",
      "0.34642404323457776\n"
     ]
    },
    {
     "data": {
      "application/vnd.jupyter.widget-view+json": {
       "model_id": "d435ade82449418cb5b799fb8e6a736f",
       "version_major": 2,
       "version_minor": 0
      },
      "text/plain": [
       "0it [00:00, ?it/s]"
      ]
     },
     "metadata": {},
     "output_type": "display_data"
    },
    {
     "data": {
      "application/vnd.jupyter.widget-view+json": {
       "model_id": "23890b28fa204e2ca58e0757d60882a5",
       "version_major": 2,
       "version_minor": 0
      },
      "text/plain": [
       "0it [00:00, ?it/s]"
      ]
     },
     "metadata": {},
     "output_type": "display_data"
    },
    {
     "name": "stdout",
     "output_type": "stream",
     "text": [
      "Epoch [1], Train Loss : [0.24329] Val Loss : [2.83487] Val IOU score(segmentation) : [0.03501] Val accuracy score(Domain Classifier) : [0.90625]\n",
      "2.561429977416992\n",
      "0.2432891257471384\n"
     ]
    },
    {
     "data": {
      "application/vnd.jupyter.widget-view+json": {
       "model_id": "dcf7c4f349ef41c8bdda7aa72cc6375c",
       "version_major": 2,
       "version_minor": 0
      },
      "text/plain": [
       "0it [00:00, ?it/s]"
      ]
     },
     "metadata": {},
     "output_type": "display_data"
    },
    {
     "data": {
      "application/vnd.jupyter.widget-view+json": {
       "model_id": "a812997c51c44ac39b4bfe586a452f43",
       "version_major": 2,
       "version_minor": 0
      },
      "text/plain": [
       "0it [00:00, ?it/s]"
      ]
     },
     "metadata": {},
     "output_type": "display_data"
    },
    {
     "name": "stdout",
     "output_type": "stream",
     "text": [
      "Epoch [2], Train Loss : [0.26004] Val Loss : [2.83313] Val IOU score(segmentation) : [0.02909] Val accuracy score(Domain Classifier) : [0.91912]\n",
      "2.5585156132404068\n",
      "0.26004355784533617\n"
     ]
    },
    {
     "data": {
      "application/vnd.jupyter.widget-view+json": {
       "model_id": "de549db5c812465eab4f1a7b9b60d893",
       "version_major": 2,
       "version_minor": 0
      },
      "text/plain": [
       "0it [00:00, ?it/s]"
      ]
     },
     "metadata": {},
     "output_type": "display_data"
    },
    {
     "data": {
      "application/vnd.jupyter.widget-view+json": {
       "model_id": "ee441d81d372490ba9db230df3b8d3c2",
       "version_major": 2,
       "version_minor": 0
      },
      "text/plain": [
       "0it [00:00, ?it/s]"
      ]
     },
     "metadata": {},
     "output_type": "display_data"
    },
    {
     "name": "stdout",
     "output_type": "stream",
     "text": [
      "Epoch [3], Train Loss : [0.24948] Val Loss : [2.97375] Val IOU score(segmentation) : [0.02759] Val accuracy score(Domain Classifier) : [0.91360]\n",
      "2.5741368989299116\n",
      "0.2494840450248772\n"
     ]
    },
    {
     "data": {
      "application/vnd.jupyter.widget-view+json": {
       "model_id": "dc78bf3b645141a49dbab96e1052cad5",
       "version_major": 2,
       "version_minor": 0
      },
      "text/plain": [
       "0it [00:00, ?it/s]"
      ]
     },
     "metadata": {},
     "output_type": "display_data"
    },
    {
     "data": {
      "application/vnd.jupyter.widget-view+json": {
       "model_id": "f1d98dff9e0a49ceaaf0469b69d7f9e8",
       "version_major": 2,
       "version_minor": 0
      },
      "text/plain": [
       "0it [00:00, ?it/s]"
      ]
     },
     "metadata": {},
     "output_type": "display_data"
    },
    {
     "name": "stdout",
     "output_type": "stream",
     "text": [
      "Epoch [4], Train Loss : [0.23771] Val Loss : [2.90579] Val IOU score(segmentation) : [0.02819] Val accuracy score(Domain Classifier) : [0.91544]\n",
      "2.5985818859329797\n",
      "0.23771104856597303\n",
      "Epoch 00005: reducing learning rate of group 0 to 1.5000e-04.\n"
     ]
    },
    {
     "data": {
      "application/vnd.jupyter.widget-view+json": {
       "model_id": "ee4db0b83e284c8caccb4d053f46542e",
       "version_major": 2,
       "version_minor": 0
      },
      "text/plain": [
       "0it [00:00, ?it/s]"
      ]
     },
     "metadata": {},
     "output_type": "display_data"
    },
    {
     "data": {
      "application/vnd.jupyter.widget-view+json": {
       "model_id": "d9ca8071592d4414bb0a592c3c91e814",
       "version_major": 2,
       "version_minor": 0
      },
      "text/plain": [
       "0it [00:00, ?it/s]"
      ]
     },
     "metadata": {},
     "output_type": "display_data"
    },
    {
     "name": "stdout",
     "output_type": "stream",
     "text": [
      "Epoch [5], Train Loss : [0.24305] Val Loss : [2.85473] Val IOU score(segmentation) : [0.02680] Val accuracy score(Domain Classifier) : [0.92831]\n",
      "2.5924389362335205\n",
      "0.24305274903326107\n"
     ]
    },
    {
     "data": {
      "application/vnd.jupyter.widget-view+json": {
       "model_id": "a7ec63e50a7047dcae91660fa978aa1b",
       "version_major": 2,
       "version_minor": 0
      },
      "text/plain": [
       "0it [00:00, ?it/s]"
      ]
     },
     "metadata": {},
     "output_type": "display_data"
    },
    {
     "data": {
      "application/vnd.jupyter.widget-view+json": {
       "model_id": "9dbfada45b764646ae0bb80802850df2",
       "version_major": 2,
       "version_minor": 0
      },
      "text/plain": [
       "0it [00:00, ?it/s]"
      ]
     },
     "metadata": {},
     "output_type": "display_data"
    },
    {
     "name": "stdout",
     "output_type": "stream",
     "text": [
      "Epoch [6], Train Loss : [0.24399] Val Loss : [3.05472] Val IOU score(segmentation) : [0.02367] Val accuracy score(Domain Classifier) : [0.91544]\n",
      "2.587917867459749\n",
      "0.24398704790475226\n"
     ]
    },
    {
     "data": {
      "application/vnd.jupyter.widget-view+json": {
       "model_id": "4e5f250646284935a17c07e3b76fc884",
       "version_major": 2,
       "version_minor": 0
      },
      "text/plain": [
       "0it [00:00, ?it/s]"
      ]
     },
     "metadata": {},
     "output_type": "display_data"
    },
    {
     "data": {
      "application/vnd.jupyter.widget-view+json": {
       "model_id": "41b29762c4a845a4b64d8bc5284e661e",
       "version_major": 2,
       "version_minor": 0
      },
      "text/plain": [
       "0it [00:00, ?it/s]"
      ]
     },
     "metadata": {},
     "output_type": "display_data"
    },
    {
     "name": "stdout",
     "output_type": "stream",
     "text": [
      "Epoch [7], Train Loss : [0.22457] Val Loss : [2.92272] Val IOU score(segmentation) : [0.02539] Val accuracy score(Domain Classifier) : [0.90809]\n",
      "2.594662115986186\n",
      "0.22456866697429267\n",
      "Epoch 00008: reducing learning rate of group 0 to 7.5000e-05.\n"
     ]
    },
    {
     "data": {
      "application/vnd.jupyter.widget-view+json": {
       "model_id": "df47d70d7a924bcc8b5b0a226baa3a03",
       "version_major": 2,
       "version_minor": 0
      },
      "text/plain": [
       "0it [00:00, ?it/s]"
      ]
     },
     "metadata": {},
     "output_type": "display_data"
    },
    {
     "data": {
      "application/vnd.jupyter.widget-view+json": {
       "model_id": "19623d0988474e52bd27b7ef5aeb9439",
       "version_major": 2,
       "version_minor": 0
      },
      "text/plain": [
       "0it [00:00, ?it/s]"
      ]
     },
     "metadata": {},
     "output_type": "display_data"
    },
    {
     "name": "stdout",
     "output_type": "stream",
     "text": [
      "Epoch [8], Train Loss : [0.19218] Val Loss : [2.89478] Val IOU score(segmentation) : [0.02606] Val accuracy score(Domain Classifier) : [0.92463]\n",
      "2.601250289974356\n",
      "0.19218319456996327\n"
     ]
    },
    {
     "data": {
      "application/vnd.jupyter.widget-view+json": {
       "model_id": "cdc0486b206f423182b074930b837de9",
       "version_major": 2,
       "version_minor": 0
      },
      "text/plain": [
       "0it [00:00, ?it/s]"
      ]
     },
     "metadata": {},
     "output_type": "display_data"
    },
    {
     "data": {
      "application/vnd.jupyter.widget-view+json": {
       "model_id": "529211872b0f4ee5acc5c6d0d4780fbf",
       "version_major": 2,
       "version_minor": 0
      },
      "text/plain": [
       "0it [00:00, ?it/s]"
      ]
     },
     "metadata": {},
     "output_type": "display_data"
    },
    {
     "name": "stdout",
     "output_type": "stream",
     "text": [
      "Epoch [9], Train Loss : [0.17999] Val Loss : [2.95758] Val IOU score(segmentation) : [0.02495] Val accuracy score(Domain Classifier) : [0.90257]\n",
      "2.6021956017142847\n",
      "0.1799910476473265\n"
     ]
    },
    {
     "data": {
      "application/vnd.jupyter.widget-view+json": {
       "model_id": "93665dd4430046138c4221c09aef654b",
       "version_major": 2,
       "version_minor": 0
      },
      "text/plain": [
       "0it [00:00, ?it/s]"
      ]
     },
     "metadata": {},
     "output_type": "display_data"
    },
    {
     "data": {
      "application/vnd.jupyter.widget-view+json": {
       "model_id": "54bd776fbf08458aa2d6cc4ead37404f",
       "version_major": 2,
       "version_minor": 0
      },
      "text/plain": [
       "0it [00:00, ?it/s]"
      ]
     },
     "metadata": {},
     "output_type": "display_data"
    },
    {
     "name": "stdout",
     "output_type": "stream",
     "text": [
      "Epoch [10], Train Loss : [0.15393] Val Loss : [2.93825] Val IOU score(segmentation) : [0.02591] Val accuracy score(Domain Classifier) : [0.89338]\n",
      "2.601102556501116\n",
      "0.15393105863516493\n",
      "Epoch 00011: reducing learning rate of group 0 to 3.7500e-05.\n"
     ]
    },
    {
     "data": {
      "application/vnd.jupyter.widget-view+json": {
       "model_id": "5639995b64524b508646bc30bef912ff",
       "version_major": 2,
       "version_minor": 0
      },
      "text/plain": [
       "0it [00:00, ?it/s]"
      ]
     },
     "metadata": {},
     "output_type": "display_data"
    },
    {
     "data": {
      "application/vnd.jupyter.widget-view+json": {
       "model_id": "a0bdedb341a74cd9a3c686dcab5383c4",
       "version_major": 2,
       "version_minor": 0
      },
      "text/plain": [
       "0it [00:00, ?it/s]"
      ]
     },
     "metadata": {},
     "output_type": "display_data"
    },
    {
     "name": "stdout",
     "output_type": "stream",
     "text": [
      "Epoch [11], Train Loss : [0.12341] Val Loss : [3.01487] Val IOU score(segmentation) : [0.02580] Val accuracy score(Domain Classifier) : [0.88971]\n",
      "2.600034936030108\n",
      "0.12341313054995205\n"
     ]
    },
    {
     "data": {
      "application/vnd.jupyter.widget-view+json": {
       "model_id": "08f70a87d9354a78b89e6e8fc0e7dd1a",
       "version_major": 2,
       "version_minor": 0
      },
      "text/plain": [
       "0it [00:00, ?it/s]"
      ]
     },
     "metadata": {},
     "output_type": "display_data"
    },
    {
     "data": {
      "application/vnd.jupyter.widget-view+json": {
       "model_id": "8ad3e01406bd4dc39ee06d3915cec35d",
       "version_major": 2,
       "version_minor": 0
      },
      "text/plain": [
       "0it [00:00, ?it/s]"
      ]
     },
     "metadata": {},
     "output_type": "display_data"
    },
    {
     "name": "stdout",
     "output_type": "stream",
     "text": [
      "Epoch [12], Train Loss : [0.10290] Val Loss : [3.23764] Val IOU score(segmentation) : [0.02625] Val accuracy score(Domain Classifier) : [0.87132]\n",
      "2.5970138822283064\n",
      "0.10290353315098114\n"
     ]
    },
    {
     "data": {
      "application/vnd.jupyter.widget-view+json": {
       "model_id": "1d07363901e84d3b97016a7d84457d14",
       "version_major": 2,
       "version_minor": 0
      },
      "text/plain": [
       "0it [00:00, ?it/s]"
      ]
     },
     "metadata": {},
     "output_type": "display_data"
    },
    {
     "data": {
      "application/vnd.jupyter.widget-view+json": {
       "model_id": "ddcf93d2e33a4bf0a7d5aa858072a1b8",
       "version_major": 2,
       "version_minor": 0
      },
      "text/plain": [
       "0it [00:00, ?it/s]"
      ]
     },
     "metadata": {},
     "output_type": "display_data"
    },
    {
     "name": "stdout",
     "output_type": "stream",
     "text": [
      "Epoch [13], Train Loss : [0.09310] Val Loss : [3.09611] Val IOU score(segmentation) : [0.02586] Val accuracy score(Domain Classifier) : [0.90257]\n",
      "2.5960411792410945\n",
      "0.09310131750587738\n",
      "Epoch 00014: reducing learning rate of group 0 to 1.8750e-05.\n"
     ]
    },
    {
     "data": {
      "application/vnd.jupyter.widget-view+json": {
       "model_id": "9594a911672e48c884b0ea1fe6d19395",
       "version_major": 2,
       "version_minor": 0
      },
      "text/plain": [
       "0it [00:00, ?it/s]"
      ]
     },
     "metadata": {},
     "output_type": "display_data"
    },
    {
     "data": {
      "application/vnd.jupyter.widget-view+json": {
       "model_id": "8f0ed2e674514db8a4f197fe0acea73b",
       "version_major": 2,
       "version_minor": 0
      },
      "text/plain": [
       "0it [00:00, ?it/s]"
      ]
     },
     "metadata": {},
     "output_type": "display_data"
    },
    {
     "name": "stdout",
     "output_type": "stream",
     "text": [
      "Epoch [14], Train Loss : [0.06423] Val Loss : [3.16616] Val IOU score(segmentation) : [0.02629] Val accuracy score(Domain Classifier) : [0.86029]\n",
      "2.5933473432870735\n",
      "0.06423478436313178\n"
     ]
    },
    {
     "data": {
      "application/vnd.jupyter.widget-view+json": {
       "model_id": "93c05c2f8b4542309db49dc9ce45570b",
       "version_major": 2,
       "version_minor": 0
      },
      "text/plain": [
       "0it [00:00, ?it/s]"
      ]
     },
     "metadata": {},
     "output_type": "display_data"
    },
    {
     "data": {
      "application/vnd.jupyter.widget-view+json": {
       "model_id": "6a24b658606b4785a600bdca4e270e0e",
       "version_major": 2,
       "version_minor": 0
      },
      "text/plain": [
       "0it [00:00, ?it/s]"
      ]
     },
     "metadata": {},
     "output_type": "display_data"
    },
    {
     "name": "stdout",
     "output_type": "stream",
     "text": [
      "Epoch [15], Train Loss : [0.05348] Val Loss : [3.13540] Val IOU score(segmentation) : [0.02684] Val accuracy score(Domain Classifier) : [0.86397]\n",
      "2.592452723280828\n",
      "0.05347588846610537\n"
     ]
    },
    {
     "data": {
      "application/vnd.jupyter.widget-view+json": {
       "model_id": "fe5d4402e9e84cbda2ec690d9f3ed435",
       "version_major": 2,
       "version_minor": 0
      },
      "text/plain": [
       "0it [00:00, ?it/s]"
      ]
     },
     "metadata": {},
     "output_type": "display_data"
    },
    {
     "data": {
      "application/vnd.jupyter.widget-view+json": {
       "model_id": "06c21e322d9845539a9c6caa80174578",
       "version_major": 2,
       "version_minor": 0
      },
      "text/plain": [
       "0it [00:00, ?it/s]"
      ]
     },
     "metadata": {},
     "output_type": "display_data"
    },
    {
     "name": "stdout",
     "output_type": "stream",
     "text": [
      "Epoch [16], Train Loss : [0.03881] Val Loss : [3.19588] Val IOU score(segmentation) : [0.02683] Val accuracy score(Domain Classifier) : [0.87868]\n",
      "2.5909479363520345\n",
      "0.03881083808653757\n",
      "Epoch 00017: reducing learning rate of group 0 to 9.3750e-06.\n"
     ]
    },
    {
     "data": {
      "application/vnd.jupyter.widget-view+json": {
       "model_id": "48206f903f4343db88297b58c457cc23",
       "version_major": 2,
       "version_minor": 0
      },
      "text/plain": [
       "0it [00:00, ?it/s]"
      ]
     },
     "metadata": {},
     "output_type": "display_data"
    },
    {
     "data": {
      "application/vnd.jupyter.widget-view+json": {
       "model_id": "8ef3b2a3f3944cfaaab16a89745d324d",
       "version_major": 2,
       "version_minor": 0
      },
      "text/plain": [
       "0it [00:00, ?it/s]"
      ]
     },
     "metadata": {},
     "output_type": "display_data"
    },
    {
     "name": "stdout",
     "output_type": "stream",
     "text": [
      "Epoch [17], Train Loss : [0.05070] Val Loss : [3.15343] Val IOU score(segmentation) : [0.02655] Val accuracy score(Domain Classifier) : [0.90625]\n",
      "2.589191544324832\n",
      "0.050700819035781955\n"
     ]
    },
    {
     "data": {
      "application/vnd.jupyter.widget-view+json": {
       "model_id": "8c2db4abbba94da6a92628a8c4d0cfbc",
       "version_major": 2,
       "version_minor": 0
      },
      "text/plain": [
       "0it [00:00, ?it/s]"
      ]
     },
     "metadata": {},
     "output_type": "display_data"
    },
    {
     "data": {
      "application/vnd.jupyter.widget-view+json": {
       "model_id": "4e19e8bc65ff4c159c07d44dfc00cbba",
       "version_major": 2,
       "version_minor": 0
      },
      "text/plain": [
       "0it [00:00, ?it/s]"
      ]
     },
     "metadata": {},
     "output_type": "display_data"
    },
    {
     "name": "stdout",
     "output_type": "stream",
     "text": [
      "Epoch [18], Train Loss : [0.04333] Val Loss : [3.24063] Val IOU score(segmentation) : [0.02661] Val accuracy score(Domain Classifier) : [0.88787]\n",
      "2.5875131187582374\n",
      "0.043331432645559255\n"
     ]
    },
    {
     "data": {
      "application/vnd.jupyter.widget-view+json": {
       "model_id": "ccf8a086d8e64455bf1c87c9776c2c66",
       "version_major": 2,
       "version_minor": 0
      },
      "text/plain": [
       "0it [00:00, ?it/s]"
      ]
     },
     "metadata": {},
     "output_type": "display_data"
    },
    {
     "data": {
      "application/vnd.jupyter.widget-view+json": {
       "model_id": "7eeb34da1db941f193797bd113c5e694",
       "version_major": 2,
       "version_minor": 0
      },
      "text/plain": [
       "0it [00:00, ?it/s]"
      ]
     },
     "metadata": {},
     "output_type": "display_data"
    },
    {
     "name": "stdout",
     "output_type": "stream",
     "text": [
      "Epoch [19], Train Loss : [0.02210] Val Loss : [3.28845] Val IOU score(segmentation) : [0.02716] Val accuracy score(Domain Classifier) : [0.87684]\n",
      "2.5868242862529325\n",
      "0.02210350479375697\n",
      "Epoch 00020: reducing learning rate of group 0 to 4.6875e-06.\n"
     ]
    },
    {
     "data": {
      "application/vnd.jupyter.widget-view+json": {
       "model_id": "3901710957e84e878539d07d872b98b6",
       "version_major": 2,
       "version_minor": 0
      },
      "text/plain": [
       "0it [00:00, ?it/s]"
      ]
     },
     "metadata": {},
     "output_type": "display_data"
    },
    {
     "data": {
      "application/vnd.jupyter.widget-view+json": {
       "model_id": "597cddcfc07c43c0bdda73f9dee2a51c",
       "version_major": 2,
       "version_minor": 0
      },
      "text/plain": [
       "0it [00:00, ?it/s]"
      ]
     },
     "metadata": {},
     "output_type": "display_data"
    },
    {
     "name": "stdout",
     "output_type": "stream",
     "text": [
      "Epoch [20], Train Loss : [0.02362] Val Loss : [3.25843] Val IOU score(segmentation) : [0.02681] Val accuracy score(Domain Classifier) : [0.90074]\n",
      "2.5862423423537635\n",
      "0.023618945388449004\n"
     ]
    },
    {
     "data": {
      "application/vnd.jupyter.widget-view+json": {
       "model_id": "f619a95eacb54968b7f68935ce231794",
       "version_major": 2,
       "version_minor": 0
      },
      "text/plain": [
       "0it [00:00, ?it/s]"
      ]
     },
     "metadata": {},
     "output_type": "display_data"
    },
    {
     "data": {
      "application/vnd.jupyter.widget-view+json": {
       "model_id": "98d3bd1dd82940be8ba2fb534d569da6",
       "version_major": 2,
       "version_minor": 0
      },
      "text/plain": [
       "0it [00:00, ?it/s]"
      ]
     },
     "metadata": {},
     "output_type": "display_data"
    },
    {
     "name": "stdout",
     "output_type": "stream",
     "text": [
      "Epoch [21], Train Loss : [0.02195] Val Loss : [3.23650] Val IOU score(segmentation) : [0.02673] Val accuracy score(Domain Classifier) : [0.89522]\n",
      "2.5850194773279633\n",
      "0.021954914477926895\n"
     ]
    },
    {
     "data": {
      "application/vnd.jupyter.widget-view+json": {
       "model_id": "3c56c2de9d934df49a65f704271fb308",
       "version_major": 2,
       "version_minor": 0
      },
      "text/plain": [
       "0it [00:00, ?it/s]"
      ]
     },
     "metadata": {},
     "output_type": "display_data"
    },
    {
     "data": {
      "application/vnd.jupyter.widget-view+json": {
       "model_id": "4d9a63b3435b48b8a8ba53fe936beca1",
       "version_major": 2,
       "version_minor": 0
      },
      "text/plain": [
       "0it [00:00, ?it/s]"
      ]
     },
     "metadata": {},
     "output_type": "display_data"
    },
    {
     "name": "stdout",
     "output_type": "stream",
     "text": [
      "Epoch [22], Train Loss : [0.02825] Val Loss : [3.20363] Val IOU score(segmentation) : [0.02751] Val accuracy score(Domain Classifier) : [0.90809]\n",
      "2.5854426201124836\n",
      "0.028248274867349352\n",
      "Epoch 00023: reducing learning rate of group 0 to 2.3437e-06.\n"
     ]
    },
    {
     "data": {
      "application/vnd.jupyter.widget-view+json": {
       "model_id": "7d4fe8216c5446649c64edb211da1cad",
       "version_major": 2,
       "version_minor": 0
      },
      "text/plain": [
       "0it [00:00, ?it/s]"
      ]
     },
     "metadata": {},
     "output_type": "display_data"
    },
    {
     "data": {
      "application/vnd.jupyter.widget-view+json": {
       "model_id": "a854be17f67341a791414343f58d5c24",
       "version_major": 2,
       "version_minor": 0
      },
      "text/plain": [
       "0it [00:00, ?it/s]"
      ]
     },
     "metadata": {},
     "output_type": "display_data"
    },
    {
     "name": "stdout",
     "output_type": "stream",
     "text": [
      "Epoch [23], Train Loss : [0.02151] Val Loss : [3.26613] Val IOU score(segmentation) : [0.02726] Val accuracy score(Domain Classifier) : [0.88419]\n",
      "2.5843100386454645\n",
      "0.0215140809863018\n"
     ]
    },
    {
     "data": {
      "application/vnd.jupyter.widget-view+json": {
       "model_id": "8c0a692bdc094488905de1f0634ff31f",
       "version_major": 2,
       "version_minor": 0
      },
      "text/plain": [
       "0it [00:00, ?it/s]"
      ]
     },
     "metadata": {},
     "output_type": "display_data"
    },
    {
     "data": {
      "application/vnd.jupyter.widget-view+json": {
       "model_id": "04269c729dfc44819b97d0a1e7db60a8",
       "version_major": 2,
       "version_minor": 0
      },
      "text/plain": [
       "0it [00:00, ?it/s]"
      ]
     },
     "metadata": {},
     "output_type": "display_data"
    },
    {
     "name": "stdout",
     "output_type": "stream",
     "text": [
      "Epoch [24], Train Loss : [0.01768] Val Loss : [3.32705] Val IOU score(segmentation) : [0.02689] Val accuracy score(Domain Classifier) : [0.88603]\n",
      "2.5844278407276127\n",
      "0.01768433049897124\n"
     ]
    },
    {
     "data": {
      "application/vnd.jupyter.widget-view+json": {
       "model_id": "bc4ab5520c334020a870457fa87f9437",
       "version_major": 2,
       "version_minor": 0
      },
      "text/plain": [
       "0it [00:00, ?it/s]"
      ]
     },
     "metadata": {},
     "output_type": "display_data"
    },
    {
     "data": {
      "application/vnd.jupyter.widget-view+json": {
       "model_id": "625d08d8afc149e59d95e88e8d2cfa8b",
       "version_major": 2,
       "version_minor": 0
      },
      "text/plain": [
       "0it [00:00, ?it/s]"
      ]
     },
     "metadata": {},
     "output_type": "display_data"
    },
    {
     "name": "stdout",
     "output_type": "stream",
     "text": [
      "Epoch [25], Train Loss : [0.02305] Val Loss : [3.31773] Val IOU score(segmentation) : [0.02697] Val accuracy score(Domain Classifier) : [0.88235]\n",
      "2.5839135342074515\n",
      "0.02305368902547945\n",
      "Epoch 00026: reducing learning rate of group 0 to 1.1719e-06.\n"
     ]
    },
    {
     "data": {
      "application/vnd.jupyter.widget-view+json": {
       "model_id": "8275f8c9d29a46c5b1f98f0dabda97fe",
       "version_major": 2,
       "version_minor": 0
      },
      "text/plain": [
       "0it [00:00, ?it/s]"
      ]
     },
     "metadata": {},
     "output_type": "display_data"
    },
    {
     "data": {
      "application/vnd.jupyter.widget-view+json": {
       "model_id": "05008367ed784dc2bf8c4c1eb548911d",
       "version_major": 2,
       "version_minor": 0
      },
      "text/plain": [
       "0it [00:00, ?it/s]"
      ]
     },
     "metadata": {},
     "output_type": "display_data"
    },
    {
     "name": "stdout",
     "output_type": "stream",
     "text": [
      "Epoch [26], Train Loss : [0.02289] Val Loss : [3.35695] Val IOU score(segmentation) : [0.02741] Val accuracy score(Domain Classifier) : [0.89154]\n",
      "2.5843962726736427\n",
      "0.02289155194974816\n"
     ]
    },
    {
     "data": {
      "application/vnd.jupyter.widget-view+json": {
       "model_id": "52c7167401e14dbaa2d6726245d7a979",
       "version_major": 2,
       "version_minor": 0
      },
      "text/plain": [
       "0it [00:00, ?it/s]"
      ]
     },
     "metadata": {},
     "output_type": "display_data"
    },
    {
     "data": {
      "application/vnd.jupyter.widget-view+json": {
       "model_id": "2622520b04004533b959978d6f1c5526",
       "version_major": 2,
       "version_minor": 0
      },
      "text/plain": [
       "0it [00:00, ?it/s]"
      ]
     },
     "metadata": {},
     "output_type": "display_data"
    },
    {
     "name": "stdout",
     "output_type": "stream",
     "text": [
      "Epoch [27], Train Loss : [0.02503] Val Loss : [3.15851] Val IOU score(segmentation) : [0.02664] Val accuracy score(Domain Classifier) : [0.89706]\n",
      "2.584194857375066\n",
      "0.025034478756150974\n"
     ]
    },
    {
     "data": {
      "application/vnd.jupyter.widget-view+json": {
       "model_id": "412f16cc226b4db4a4d6497b53100b2a",
       "version_major": 2,
       "version_minor": 0
      },
      "text/plain": [
       "0it [00:00, ?it/s]"
      ]
     },
     "metadata": {},
     "output_type": "display_data"
    },
    {
     "data": {
      "application/vnd.jupyter.widget-view+json": {
       "model_id": "71dfadee74a94268847087b750b0c916",
       "version_major": 2,
       "version_minor": 0
      },
      "text/plain": [
       "0it [00:00, ?it/s]"
      ]
     },
     "metadata": {},
     "output_type": "display_data"
    },
    {
     "name": "stdout",
     "output_type": "stream",
     "text": [
      "Epoch [28], Train Loss : [0.01655] Val Loss : [3.31078] Val IOU score(segmentation) : [0.02700] Val accuracy score(Domain Classifier) : [0.88971]\n",
      "2.583852509806927\n",
      "0.016549176599959935\n",
      "Epoch 00029: reducing learning rate of group 0 to 5.8594e-07.\n"
     ]
    },
    {
     "data": {
      "application/vnd.jupyter.widget-view+json": {
       "model_id": "35a377143253421fa11523f7924d09b4",
       "version_major": 2,
       "version_minor": 0
      },
      "text/plain": [
       "0it [00:00, ?it/s]"
      ]
     },
     "metadata": {},
     "output_type": "display_data"
    },
    {
     "data": {
      "application/vnd.jupyter.widget-view+json": {
       "model_id": "cb859f0a615b4f9eb8de49ecf0a7aefd",
       "version_major": 2,
       "version_minor": 0
      },
      "text/plain": [
       "0it [00:00, ?it/s]"
      ]
     },
     "metadata": {},
     "output_type": "display_data"
    },
    {
     "name": "stdout",
     "output_type": "stream",
     "text": [
      "Epoch [29], Train Loss : [0.01775] Val Loss : [3.34440] Val IOU score(segmentation) : [0.02721] Val accuracy score(Domain Classifier) : [0.86949]\n",
      "2.583860918991548\n",
      "0.017748893596821892\n"
     ]
    },
    {
     "data": {
      "application/vnd.jupyter.widget-view+json": {
       "model_id": "f4c869e73bc24c8e9f13dec8743aeaa1",
       "version_major": 2,
       "version_minor": 0
      },
      "text/plain": [
       "0it [00:00, ?it/s]"
      ]
     },
     "metadata": {},
     "output_type": "display_data"
    },
    {
     "data": {
      "application/vnd.jupyter.widget-view+json": {
       "model_id": "1a96d8222d834593b0bcb37ac3f0639b",
       "version_major": 2,
       "version_minor": 0
      },
      "text/plain": [
       "0it [00:00, ?it/s]"
      ]
     },
     "metadata": {},
     "output_type": "display_data"
    },
    {
     "name": "stdout",
     "output_type": "stream",
     "text": [
      "Epoch [30], Train Loss : [0.01620] Val Loss : [3.31110] Val IOU score(segmentation) : [0.02705] Val accuracy score(Domain Classifier) : [0.89338]\n",
      "2.5835496859442917\n",
      "0.016204504513039945\n"
     ]
    },
    {
     "data": {
      "application/vnd.jupyter.widget-view+json": {
       "model_id": "9224463399bf41feb33a2cc370d8cd55",
       "version_major": 2,
       "version_minor": 0
      },
      "text/plain": [
       "0it [00:00, ?it/s]"
      ]
     },
     "metadata": {},
     "output_type": "display_data"
    },
    {
     "data": {
      "application/vnd.jupyter.widget-view+json": {
       "model_id": "a09ae6b7d2734b75b1e6d8d948305ef2",
       "version_major": 2,
       "version_minor": 0
      },
      "text/plain": [
       "0it [00:00, ?it/s]"
      ]
     },
     "metadata": {},
     "output_type": "display_data"
    },
    {
     "name": "stdout",
     "output_type": "stream",
     "text": [
      "Epoch [31], Train Loss : [0.02039] Val Loss : [3.25501] Val IOU score(segmentation) : [0.02720] Val accuracy score(Domain Classifier) : [0.88419]\n",
      "2.5836765999184514\n",
      "0.02038704675816602\n",
      "Epoch 00032: reducing learning rate of group 0 to 2.9297e-07.\n"
     ]
    },
    {
     "data": {
      "application/vnd.jupyter.widget-view+json": {
       "model_id": "6dd5906611924c8eaec60c919362aa73",
       "version_major": 2,
       "version_minor": 0
      },
      "text/plain": [
       "0it [00:00, ?it/s]"
      ]
     },
     "metadata": {},
     "output_type": "display_data"
    },
    {
     "data": {
      "application/vnd.jupyter.widget-view+json": {
       "model_id": "5c29c38a69c14e318c0045f012e76d22",
       "version_major": 2,
       "version_minor": 0
      },
      "text/plain": [
       "0it [00:00, ?it/s]"
      ]
     },
     "metadata": {},
     "output_type": "display_data"
    },
    {
     "name": "stdout",
     "output_type": "stream",
     "text": [
      "Epoch [32], Train Loss : [0.01824] Val Loss : [3.34896] Val IOU score(segmentation) : [0.02708] Val accuracy score(Domain Classifier) : [0.89154]\n",
      "2.5841034641839506\n",
      "0.018235110598673197\n"
     ]
    },
    {
     "data": {
      "application/vnd.jupyter.widget-view+json": {
       "model_id": "668e67dd8b7d400bace4e2c97b028266",
       "version_major": 2,
       "version_minor": 0
      },
      "text/plain": [
       "0it [00:00, ?it/s]"
      ]
     },
     "metadata": {},
     "output_type": "display_data"
    },
    {
     "data": {
      "application/vnd.jupyter.widget-view+json": {
       "model_id": "4adac4ec401c44d59fd0a77afd9bef8d",
       "version_major": 2,
       "version_minor": 0
      },
      "text/plain": [
       "0it [00:00, ?it/s]"
      ]
     },
     "metadata": {},
     "output_type": "display_data"
    },
    {
     "name": "stdout",
     "output_type": "stream",
     "text": [
      "Epoch [33], Train Loss : [0.01555] Val Loss : [3.31437] Val IOU score(segmentation) : [0.02686] Val accuracy score(Domain Classifier) : [0.88603]\n",
      "2.5838970546435593\n",
      "0.015548601829822357\n"
     ]
    },
    {
     "data": {
      "application/vnd.jupyter.widget-view+json": {
       "model_id": "846f915d750346e48c2fd366622fe236",
       "version_major": 2,
       "version_minor": 0
      },
      "text/plain": [
       "0it [00:00, ?it/s]"
      ]
     },
     "metadata": {},
     "output_type": "display_data"
    },
    {
     "data": {
      "application/vnd.jupyter.widget-view+json": {
       "model_id": "779626eed108473fb7ace43ded1bab47",
       "version_major": 2,
       "version_minor": 0
      },
      "text/plain": [
       "0it [00:00, ?it/s]"
      ]
     },
     "metadata": {},
     "output_type": "display_data"
    },
    {
     "name": "stdout",
     "output_type": "stream",
     "text": [
      "Epoch [34], Train Loss : [0.01764] Val Loss : [3.24832] Val IOU score(segmentation) : [0.02752] Val accuracy score(Domain Classifier) : [0.88971]\n",
      "2.5842065703599975\n",
      "0.01764065398770311\n",
      "Epoch 00035: reducing learning rate of group 0 to 1.4648e-07.\n"
     ]
    },
    {
     "data": {
      "application/vnd.jupyter.widget-view+json": {
       "model_id": "1663d47a1aea4519a20889f7874abfbf",
       "version_major": 2,
       "version_minor": 0
      },
      "text/plain": [
       "0it [00:00, ?it/s]"
      ]
     },
     "metadata": {},
     "output_type": "display_data"
    },
    {
     "data": {
      "application/vnd.jupyter.widget-view+json": {
       "model_id": "2a73e617d5ac49ad9d111ffaf5220a1c",
       "version_major": 2,
       "version_minor": 0
      },
      "text/plain": [
       "0it [00:00, ?it/s]"
      ]
     },
     "metadata": {},
     "output_type": "display_data"
    },
    {
     "name": "stdout",
     "output_type": "stream",
     "text": [
      "Epoch [35], Train Loss : [0.01807] Val Loss : [3.42660] Val IOU score(segmentation) : [0.02710] Val accuracy score(Domain Classifier) : [0.88603]\n",
      "2.5835765429905484\n",
      "0.01807241458240091\n"
     ]
    },
    {
     "data": {
      "application/vnd.jupyter.widget-view+json": {
       "model_id": "9abf2598fd7f4e84bafc237230918d4a",
       "version_major": 2,
       "version_minor": 0
      },
      "text/plain": [
       "0it [00:00, ?it/s]"
      ]
     },
     "metadata": {},
     "output_type": "display_data"
    },
    {
     "data": {
      "application/vnd.jupyter.widget-view+json": {
       "model_id": "8262ea46479945668d4ff6c496a2649c",
       "version_major": 2,
       "version_minor": 0
      },
      "text/plain": [
       "0it [00:00, ?it/s]"
      ]
     },
     "metadata": {},
     "output_type": "display_data"
    },
    {
     "name": "stdout",
     "output_type": "stream",
     "text": [
      "Epoch [36], Train Loss : [0.02092] Val Loss : [3.28994] Val IOU score(segmentation) : [0.02670] Val accuracy score(Domain Classifier) : [0.88787]\n",
      "2.583682884847311\n",
      "0.020923704973507772\n"
     ]
    },
    {
     "data": {
      "application/vnd.jupyter.widget-view+json": {
       "model_id": "3d55511cc37d4f6e8e3d5857460afa1c",
       "version_major": 2,
       "version_minor": 0
      },
      "text/plain": [
       "0it [00:00, ?it/s]"
      ]
     },
     "metadata": {},
     "output_type": "display_data"
    },
    {
     "data": {
      "application/vnd.jupyter.widget-view+json": {
       "model_id": "ab9c188ec7014bcd98b235566e4c9956",
       "version_major": 2,
       "version_minor": 0
      },
      "text/plain": [
       "0it [00:00, ?it/s]"
      ]
     },
     "metadata": {},
     "output_type": "display_data"
    },
    {
     "name": "stdout",
     "output_type": "stream",
     "text": [
      "Epoch [37], Train Loss : [0.01656] Val Loss : [3.22444] Val IOU score(segmentation) : [0.02668] Val accuracy score(Domain Classifier) : [0.89890]\n",
      "2.583283931689155\n",
      "0.01656104973287591\n",
      "Epoch 00038: reducing learning rate of group 0 to 7.3242e-08.\n"
     ]
    },
    {
     "data": {
      "application/vnd.jupyter.widget-view+json": {
       "model_id": "c4654538ec604bbeb856060ef7be7cd1",
       "version_major": 2,
       "version_minor": 0
      },
      "text/plain": [
       "0it [00:00, ?it/s]"
      ]
     },
     "metadata": {},
     "output_type": "display_data"
    },
    {
     "data": {
      "application/vnd.jupyter.widget-view+json": {
       "model_id": "ba44e5dff7434735bd44a14e98cbb16a",
       "version_major": 2,
       "version_minor": 0
      },
      "text/plain": [
       "0it [00:00, ?it/s]"
      ]
     },
     "metadata": {},
     "output_type": "display_data"
    },
    {
     "name": "stdout",
     "output_type": "stream",
     "text": [
      "Epoch [38], Train Loss : [0.01795] Val Loss : [3.19557] Val IOU score(segmentation) : [0.02712] Val accuracy score(Domain Classifier) : [0.89154]\n",
      "2.583696469328457\n",
      "0.017954793277273614\n"
     ]
    },
    {
     "data": {
      "application/vnd.jupyter.widget-view+json": {
       "model_id": "dd073b2d26a84c9e81a43039aca29f30",
       "version_major": 2,
       "version_minor": 0
      },
      "text/plain": [
       "0it [00:00, ?it/s]"
      ]
     },
     "metadata": {},
     "output_type": "display_data"
    },
    {
     "data": {
      "application/vnd.jupyter.widget-view+json": {
       "model_id": "5ecd01440d28488fb586ad1deb29e0e2",
       "version_major": 2,
       "version_minor": 0
      },
      "text/plain": [
       "0it [00:00, ?it/s]"
      ]
     },
     "metadata": {},
     "output_type": "display_data"
    },
    {
     "name": "stdout",
     "output_type": "stream",
     "text": [
      "Epoch [39], Train Loss : [0.01859] Val Loss : [3.37696] Val IOU score(segmentation) : [0.02680] Val accuracy score(Domain Classifier) : [0.87868]\n",
      "2.5839619439347348\n",
      "0.0185863320201266\n"
     ]
    },
    {
     "data": {
      "application/vnd.jupyter.widget-view+json": {
       "model_id": "d06cd0e1d4554fd198d0263e1dc4fdd6",
       "version_major": 2,
       "version_minor": 0
      },
      "text/plain": [
       "0it [00:00, ?it/s]"
      ]
     },
     "metadata": {},
     "output_type": "display_data"
    },
    {
     "data": {
      "application/vnd.jupyter.widget-view+json": {
       "model_id": "9330e177c2f847c480754b5dfb658570",
       "version_major": 2,
       "version_minor": 0
      },
      "text/plain": [
       "0it [00:00, ?it/s]"
      ]
     },
     "metadata": {},
     "output_type": "display_data"
    },
    {
     "name": "stdout",
     "output_type": "stream",
     "text": [
      "Epoch [40], Train Loss : [0.02430] Val Loss : [3.35815] Val IOU score(segmentation) : [0.02721] Val accuracy score(Domain Classifier) : [0.88971]\n",
      "2.583924298895929\n",
      "0.024303425627076103\n",
      "Epoch 00041: reducing learning rate of group 0 to 3.6621e-08.\n"
     ]
    },
    {
     "data": {
      "application/vnd.jupyter.widget-view+json": {
       "model_id": "d84df571100844b9910d7a6cf6837955",
       "version_major": 2,
       "version_minor": 0
      },
      "text/plain": [
       "0it [00:00, ?it/s]"
      ]
     },
     "metadata": {},
     "output_type": "display_data"
    },
    {
     "data": {
      "application/vnd.jupyter.widget-view+json": {
       "model_id": "e315cf7a30034e9383cfe3eb62a93dcb",
       "version_major": 2,
       "version_minor": 0
      },
      "text/plain": [
       "0it [00:00, ?it/s]"
      ]
     },
     "metadata": {},
     "output_type": "display_data"
    },
    {
     "name": "stdout",
     "output_type": "stream",
     "text": [
      "Epoch [41], Train Loss : [0.01853] Val Loss : [3.21745] Val IOU score(segmentation) : [0.02704] Val accuracy score(Domain Classifier) : [0.89338]\n",
      "2.5834056470627176\n",
      "0.018534341869487155\n"
     ]
    },
    {
     "data": {
      "application/vnd.jupyter.widget-view+json": {
       "model_id": "9c1b379764ed46a6a7b8c223685dcd9f",
       "version_major": 2,
       "version_minor": 0
      },
      "text/plain": [
       "0it [00:00, ?it/s]"
      ]
     },
     "metadata": {},
     "output_type": "display_data"
    },
    {
     "data": {
      "application/vnd.jupyter.widget-view+json": {
       "model_id": "35385061400340638a115d4411ea7f0b",
       "version_major": 2,
       "version_minor": 0
      },
      "text/plain": [
       "0it [00:00, ?it/s]"
      ]
     },
     "metadata": {},
     "output_type": "display_data"
    },
    {
     "name": "stdout",
     "output_type": "stream",
     "text": [
      "Epoch [42], Train Loss : [0.01663] Val Loss : [3.35433] Val IOU score(segmentation) : [0.02732] Val accuracy score(Domain Classifier) : [0.88603]\n",
      "2.583855274028348\n",
      "0.016629037548152422\n"
     ]
    },
    {
     "data": {
      "application/vnd.jupyter.widget-view+json": {
       "model_id": "43401d16c6754c9eb88d01aa2fa78e3d",
       "version_major": 2,
       "version_minor": 0
      },
      "text/plain": [
       "0it [00:00, ?it/s]"
      ]
     },
     "metadata": {},
     "output_type": "display_data"
    },
    {
     "data": {
      "application/vnd.jupyter.widget-view+json": {
       "model_id": "1b7be5adbf0a4de8b2759e94eb7b7d8b",
       "version_major": 2,
       "version_minor": 0
      },
      "text/plain": [
       "0it [00:00, ?it/s]"
      ]
     },
     "metadata": {},
     "output_type": "display_data"
    },
    {
     "name": "stdout",
     "output_type": "stream",
     "text": [
      "Epoch [43], Train Loss : [0.01671] Val Loss : [3.42803] Val IOU score(segmentation) : [0.02745] Val accuracy score(Domain Classifier) : [0.88419]\n",
      "2.5837370148278715\n",
      "0.01670570521832302\n",
      "Epoch 00044: reducing learning rate of group 0 to 1.8311e-08.\n"
     ]
    },
    {
     "data": {
      "application/vnd.jupyter.widget-view+json": {
       "model_id": "d770a91e30004e9b9f49d9d6190fd145",
       "version_major": 2,
       "version_minor": 0
      },
      "text/plain": [
       "0it [00:00, ?it/s]"
      ]
     },
     "metadata": {},
     "output_type": "display_data"
    },
    {
     "data": {
      "application/vnd.jupyter.widget-view+json": {
       "model_id": "04d7e70b293841c2a2926809511756c7",
       "version_major": 2,
       "version_minor": 0
      },
      "text/plain": [
       "0it [00:00, ?it/s]"
      ]
     },
     "metadata": {},
     "output_type": "display_data"
    },
    {
     "name": "stdout",
     "output_type": "stream",
     "text": [
      "Epoch [44], Train Loss : [0.01793] Val Loss : [3.44247] Val IOU score(segmentation) : [0.02745] Val accuracy score(Domain Classifier) : [0.87684]\n",
      "2.5835779251012587\n",
      "0.017926229577913313\n"
     ]
    },
    {
     "data": {
      "application/vnd.jupyter.widget-view+json": {
       "model_id": "8a8d5e46c82845d58e6bb7e59443342f",
       "version_major": 2,
       "version_minor": 0
      },
      "text/plain": [
       "0it [00:00, ?it/s]"
      ]
     },
     "metadata": {},
     "output_type": "display_data"
    },
    {
     "data": {
      "application/vnd.jupyter.widget-view+json": {
       "model_id": "4a1a66d748224dbaa39776730350bc5e",
       "version_major": 2,
       "version_minor": 0
      },
      "text/plain": [
       "0it [00:00, ?it/s]"
      ]
     },
     "metadata": {},
     "output_type": "display_data"
    },
    {
     "name": "stdout",
     "output_type": "stream",
     "text": [
      "Epoch [45], Train Loss : [0.01366] Val Loss : [3.28115] Val IOU score(segmentation) : [0.02732] Val accuracy score(Domain Classifier) : [0.88971]\n",
      "2.584035149194244\n",
      "0.013658878808146119\n"
     ]
    },
    {
     "data": {
      "application/vnd.jupyter.widget-view+json": {
       "model_id": "34648b595445471baf83f3b27b1e84c0",
       "version_major": 2,
       "version_minor": 0
      },
      "text/plain": [
       "0it [00:00, ?it/s]"
      ]
     },
     "metadata": {},
     "output_type": "display_data"
    },
    {
     "data": {
      "application/vnd.jupyter.widget-view+json": {
       "model_id": "168c773b28bd4864b70d1b3085855e6a",
       "version_major": 2,
       "version_minor": 0
      },
      "text/plain": [
       "0it [00:00, ?it/s]"
      ]
     },
     "metadata": {},
     "output_type": "display_data"
    },
    {
     "name": "stdout",
     "output_type": "stream",
     "text": [
      "Epoch [46], Train Loss : [0.01542] Val Loss : [3.16446] Val IOU score(segmentation) : [0.02705] Val accuracy score(Domain Classifier) : [0.90809]\n",
      "2.5833460657220138\n",
      "0.015415925331806756\n"
     ]
    },
    {
     "data": {
      "application/vnd.jupyter.widget-view+json": {
       "model_id": "019a7df3d02446589edb1becefabe868",
       "version_major": 2,
       "version_minor": 0
      },
      "text/plain": [
       "0it [00:00, ?it/s]"
      ]
     },
     "metadata": {},
     "output_type": "display_data"
    },
    {
     "data": {
      "application/vnd.jupyter.widget-view+json": {
       "model_id": "4b7f32ea125f4fbc81ff466f997c6322",
       "version_major": 2,
       "version_minor": 0
      },
      "text/plain": [
       "0it [00:00, ?it/s]"
      ]
     },
     "metadata": {},
     "output_type": "display_data"
    },
    {
     "name": "stdout",
     "output_type": "stream",
     "text": [
      "Epoch [47], Train Loss : [0.01852] Val Loss : [3.34472] Val IOU score(segmentation) : [0.02728] Val accuracy score(Domain Classifier) : [0.87500]\n",
      "2.58389889745784\n",
      "0.018521474023227916\n"
     ]
    },
    {
     "data": {
      "application/vnd.jupyter.widget-view+json": {
       "model_id": "5cf99b7e40e04464bfe8096bf3d55f8d",
       "version_major": 2,
       "version_minor": 0
      },
      "text/plain": [
       "0it [00:00, ?it/s]"
      ]
     },
     "metadata": {},
     "output_type": "display_data"
    },
    {
     "data": {
      "application/vnd.jupyter.widget-view+json": {
       "model_id": "b7c3dd4509a843fb9d1ca946146c4077",
       "version_major": 2,
       "version_minor": 0
      },
      "text/plain": [
       "0it [00:00, ?it/s]"
      ]
     },
     "metadata": {},
     "output_type": "display_data"
    },
    {
     "name": "stdout",
     "output_type": "stream",
     "text": [
      "Epoch [48], Train Loss : [0.01565] Val Loss : [3.49746] Val IOU score(segmentation) : [0.02703] Val accuracy score(Domain Classifier) : [0.86397]\n",
      "2.583507568316352\n",
      "0.015650413437729833\n"
     ]
    },
    {
     "data": {
      "application/vnd.jupyter.widget-view+json": {
       "model_id": "cd47b0b92b2b41428134df6e4cacc7ce",
       "version_major": 2,
       "version_minor": 0
      },
      "text/plain": [
       "0it [00:00, ?it/s]"
      ]
     },
     "metadata": {},
     "output_type": "display_data"
    },
    {
     "data": {
      "application/vnd.jupyter.widget-view+json": {
       "model_id": "263428522b5f48a4b566117462d95ff4",
       "version_major": 2,
       "version_minor": 0
      },
      "text/plain": [
       "0it [00:00, ?it/s]"
      ]
     },
     "metadata": {},
     "output_type": "display_data"
    },
    {
     "name": "stdout",
     "output_type": "stream",
     "text": [
      "Epoch [49], Train Loss : [0.01415] Val Loss : [3.31204] Val IOU score(segmentation) : [0.02721] Val accuracy score(Domain Classifier) : [0.88051]\n",
      "2.5838762476928254\n",
      "0.014148831742560085\n"
     ]
    },
    {
     "data": {
      "application/vnd.jupyter.widget-view+json": {
       "model_id": "039652c1250c4cf58abbaa5bf5b68f45",
       "version_major": 2,
       "version_minor": 0
      },
      "text/plain": [
       "0it [00:00, ?it/s]"
      ]
     },
     "metadata": {},
     "output_type": "display_data"
    },
    {
     "data": {
      "application/vnd.jupyter.widget-view+json": {
       "model_id": "73181669078644e8966c3322b197e8ab",
       "version_major": 2,
       "version_minor": 0
      },
      "text/plain": [
       "0it [00:00, ?it/s]"
      ]
     },
     "metadata": {},
     "output_type": "display_data"
    },
    {
     "name": "stdout",
     "output_type": "stream",
     "text": [
      "Epoch [50], Train Loss : [0.01516] Val Loss : [3.26672] Val IOU score(segmentation) : [0.02672] Val accuracy score(Domain Classifier) : [0.89338]\n",
      "2.583646675697843\n",
      "0.01515849274092991\n"
     ]
    },
    {
     "data": {
      "application/vnd.jupyter.widget-view+json": {
       "model_id": "ecfc34e62c6742dbae789fc7c441127a",
       "version_major": 2,
       "version_minor": 0
      },
      "text/plain": [
       "0it [00:00, ?it/s]"
      ]
     },
     "metadata": {},
     "output_type": "display_data"
    },
    {
     "data": {
      "application/vnd.jupyter.widget-view+json": {
       "model_id": "c50bdc5887d448c2b7bb30c894faed14",
       "version_major": 2,
       "version_minor": 0
      },
      "text/plain": [
       "0it [00:00, ?it/s]"
      ]
     },
     "metadata": {},
     "output_type": "display_data"
    },
    {
     "name": "stdout",
     "output_type": "stream",
     "text": [
      "Epoch [51], Train Loss : [0.01688] Val Loss : [3.25983] Val IOU score(segmentation) : [0.02735] Val accuracy score(Domain Classifier) : [0.88787]\n",
      "2.5835312542162443\n",
      "0.016876502684120585\n"
     ]
    },
    {
     "data": {
      "application/vnd.jupyter.widget-view+json": {
       "model_id": "060dcb680cb14bceb8c847dfbc09130f",
       "version_major": 2,
       "version_minor": 0
      },
      "text/plain": [
       "0it [00:00, ?it/s]"
      ]
     },
     "metadata": {},
     "output_type": "display_data"
    },
    {
     "data": {
      "application/vnd.jupyter.widget-view+json": {
       "model_id": "71897721b44c4664ba40ea9cd3d9375f",
       "version_major": 2,
       "version_minor": 0
      },
      "text/plain": [
       "0it [00:00, ?it/s]"
      ]
     },
     "metadata": {},
     "output_type": "display_data"
    },
    {
     "name": "stdout",
     "output_type": "stream",
     "text": [
      "Epoch [52], Train Loss : [0.01402] Val Loss : [3.26891] Val IOU score(segmentation) : [0.02703] Val accuracy score(Domain Classifier) : [0.88603]\n",
      "2.5841816618926545\n",
      "0.014020740692698505\n"
     ]
    },
    {
     "data": {
      "application/vnd.jupyter.widget-view+json": {
       "model_id": "2ac730f0bad8453cb3defef2780f9fe3",
       "version_major": 2,
       "version_minor": 0
      },
      "text/plain": [
       "0it [00:00, ?it/s]"
      ]
     },
     "metadata": {},
     "output_type": "display_data"
    },
    {
     "data": {
      "application/vnd.jupyter.widget-view+json": {
       "model_id": "33630cd539694c839c2c5666314726d9",
       "version_major": 2,
       "version_minor": 0
      },
      "text/plain": [
       "0it [00:00, ?it/s]"
      ]
     },
     "metadata": {},
     "output_type": "display_data"
    },
    {
     "name": "stdout",
     "output_type": "stream",
     "text": [
      "Epoch [53], Train Loss : [0.01550] Val Loss : [3.32142] Val IOU score(segmentation) : [0.02674] Val accuracy score(Domain Classifier) : [0.88971]\n",
      "2.583892101632025\n",
      "0.015497683325219598\n"
     ]
    },
    {
     "data": {
      "application/vnd.jupyter.widget-view+json": {
       "model_id": "a586e5ab315e47a3b8ecbbdc4914aa9f",
       "version_major": 2,
       "version_minor": 0
      },
      "text/plain": [
       "0it [00:00, ?it/s]"
      ]
     },
     "metadata": {},
     "output_type": "display_data"
    },
    {
     "data": {
      "application/vnd.jupyter.widget-view+json": {
       "model_id": "2f6ff297e7cd4db2bab0c5296c2461c3",
       "version_major": 2,
       "version_minor": 0
      },
      "text/plain": [
       "0it [00:00, ?it/s]"
      ]
     },
     "metadata": {},
     "output_type": "display_data"
    },
    {
     "name": "stdout",
     "output_type": "stream",
     "text": [
      "Epoch [54], Train Loss : [0.02219] Val Loss : [3.27690] Val IOU score(segmentation) : [0.02697] Val accuracy score(Domain Classifier) : [0.89154]\n",
      "2.583477206696245\n",
      "0.022190727016239083\n"
     ]
    },
    {
     "data": {
      "application/vnd.jupyter.widget-view+json": {
       "model_id": "240dd075959d4139bdeff9048bce353e",
       "version_major": 2,
       "version_minor": 0
      },
      "text/plain": [
       "0it [00:00, ?it/s]"
      ]
     },
     "metadata": {},
     "output_type": "display_data"
    },
    {
     "data": {
      "application/vnd.jupyter.widget-view+json": {
       "model_id": "1752690d0a4148d2b5a1d0688bbb1a3c",
       "version_major": 2,
       "version_minor": 0
      },
      "text/plain": [
       "0it [00:00, ?it/s]"
      ]
     },
     "metadata": {},
     "output_type": "display_data"
    },
    {
     "name": "stdout",
     "output_type": "stream",
     "text": [
      "Epoch [55], Train Loss : [0.01744] Val Loss : [3.36423] Val IOU score(segmentation) : [0.02741] Val accuracy score(Domain Classifier) : [0.87684]\n",
      "2.5836048646080765\n",
      "0.017444395342569526\n"
     ]
    },
    {
     "data": {
      "application/vnd.jupyter.widget-view+json": {
       "model_id": "090e9c2204654dffacdba3f9729b44e2",
       "version_major": 2,
       "version_minor": 0
      },
      "text/plain": [
       "0it [00:00, ?it/s]"
      ]
     },
     "metadata": {},
     "output_type": "display_data"
    },
    {
     "data": {
      "application/vnd.jupyter.widget-view+json": {
       "model_id": "0d0280fcce2b458ab821f9fd159249b8",
       "version_major": 2,
       "version_minor": 0
      },
      "text/plain": [
       "0it [00:00, ?it/s]"
      ]
     },
     "metadata": {},
     "output_type": "display_data"
    },
    {
     "name": "stdout",
     "output_type": "stream",
     "text": [
      "Epoch [56], Train Loss : [0.01840] Val Loss : [3.24061] Val IOU score(segmentation) : [0.02709] Val accuracy score(Domain Classifier) : [0.90257]\n",
      "2.5838374553766466\n",
      "0.018397954553982795\n"
     ]
    },
    {
     "data": {
      "application/vnd.jupyter.widget-view+json": {
       "model_id": "7eaf53ebcfe44c8aad8f9f19d7ad83e9",
       "version_major": 2,
       "version_minor": 0
      },
      "text/plain": [
       "0it [00:00, ?it/s]"
      ]
     },
     "metadata": {},
     "output_type": "display_data"
    },
    {
     "data": {
      "application/vnd.jupyter.widget-view+json": {
       "model_id": "061415d9bf8c48edaf8b21d8289a2501",
       "version_major": 2,
       "version_minor": 0
      },
      "text/plain": [
       "0it [00:00, ?it/s]"
      ]
     },
     "metadata": {},
     "output_type": "display_data"
    },
    {
     "name": "stdout",
     "output_type": "stream",
     "text": [
      "Epoch [57], Train Loss : [0.02063] Val Loss : [3.27083] Val IOU score(segmentation) : [0.02690] Val accuracy score(Domain Classifier) : [0.89154]\n",
      "2.583713441863096\n",
      "0.02062892254671306\n"
     ]
    },
    {
     "data": {
      "application/vnd.jupyter.widget-view+json": {
       "model_id": "11bfcbcd1a414ce1a4ae477409d49397",
       "version_major": 2,
       "version_minor": 0
      },
      "text/plain": [
       "0it [00:00, ?it/s]"
      ]
     },
     "metadata": {},
     "output_type": "display_data"
    },
    {
     "data": {
      "application/vnd.jupyter.widget-view+json": {
       "model_id": "948e8f204a3040428c6037219056a622",
       "version_major": 2,
       "version_minor": 0
      },
      "text/plain": [
       "0it [00:00, ?it/s]"
      ]
     },
     "metadata": {},
     "output_type": "display_data"
    },
    {
     "name": "stdout",
     "output_type": "stream",
     "text": [
      "Epoch [58], Train Loss : [0.02064] Val Loss : [3.32221] Val IOU score(segmentation) : [0.02710] Val accuracy score(Domain Classifier) : [0.87684]\n",
      "2.5835447185917904\n",
      "0.0206390669103493\n"
     ]
    },
    {
     "data": {
      "application/vnd.jupyter.widget-view+json": {
       "model_id": "b0fe3e8f11474f75a9bb05829c8defcf",
       "version_major": 2,
       "version_minor": 0
      },
      "text/plain": [
       "0it [00:00, ?it/s]"
      ]
     },
     "metadata": {},
     "output_type": "display_data"
    },
    {
     "data": {
      "application/vnd.jupyter.widget-view+json": {
       "model_id": "d61a03d3e07e4a88892e789f9a6f4a81",
       "version_major": 2,
       "version_minor": 0
      },
      "text/plain": [
       "0it [00:00, ?it/s]"
      ]
     },
     "metadata": {},
     "output_type": "display_data"
    },
    {
     "name": "stdout",
     "output_type": "stream",
     "text": [
      "Epoch [59], Train Loss : [0.01927] Val Loss : [3.31876] Val IOU score(segmentation) : [0.02694] Val accuracy score(Domain Classifier) : [0.87500]\n",
      "2.5832487658450476\n",
      "0.019274011683209163\n"
     ]
    },
    {
     "data": {
      "application/vnd.jupyter.widget-view+json": {
       "model_id": "2faa4b66b2ad4564aa61ac984920f034",
       "version_major": 2,
       "version_minor": 0
      },
      "text/plain": [
       "0it [00:00, ?it/s]"
      ]
     },
     "metadata": {},
     "output_type": "display_data"
    },
    {
     "data": {
      "application/vnd.jupyter.widget-view+json": {
       "model_id": "7ca7bbbfcf524af2ab71fbb8b0eaf97c",
       "version_major": 2,
       "version_minor": 0
      },
      "text/plain": [
       "0it [00:00, ?it/s]"
      ]
     },
     "metadata": {},
     "output_type": "display_data"
    },
    {
     "name": "stdout",
     "output_type": "stream",
     "text": [
      "Epoch [60], Train Loss : [0.01859] Val Loss : [3.32932] Val IOU score(segmentation) : [0.02710] Val accuracy score(Domain Classifier) : [0.89522]\n",
      "2.5834868563745257\n",
      "0.018587143435138558\n"
     ]
    },
    {
     "data": {
      "application/vnd.jupyter.widget-view+json": {
       "model_id": "bde9b869e89347a48c29f4932b57ed69",
       "version_major": 2,
       "version_minor": 0
      },
      "text/plain": [
       "0it [00:00, ?it/s]"
      ]
     },
     "metadata": {},
     "output_type": "display_data"
    },
    {
     "data": {
      "application/vnd.jupyter.widget-view+json": {
       "model_id": "54e5db9d7bfa4389b6ec89bf26175f96",
       "version_major": 2,
       "version_minor": 0
      },
      "text/plain": [
       "0it [00:00, ?it/s]"
      ]
     },
     "metadata": {},
     "output_type": "display_data"
    },
    {
     "name": "stdout",
     "output_type": "stream",
     "text": [
      "Epoch [61], Train Loss : [0.01578] Val Loss : [3.17071] Val IOU score(segmentation) : [0.02708] Val accuracy score(Domain Classifier) : [0.89890]\n",
      "2.5839312524723828\n",
      "0.015779421932070124\n"
     ]
    },
    {
     "data": {
      "application/vnd.jupyter.widget-view+json": {
       "model_id": "0af09b99713649bf8eb7f4936105ec16",
       "version_major": 2,
       "version_minor": 0
      },
      "text/plain": [
       "0it [00:00, ?it/s]"
      ]
     },
     "metadata": {},
     "output_type": "display_data"
    },
    {
     "data": {
      "application/vnd.jupyter.widget-view+json": {
       "model_id": "69548f0d49bc4e4492311d15d5040c92",
       "version_major": 2,
       "version_minor": 0
      },
      "text/plain": [
       "0it [00:00, ?it/s]"
      ]
     },
     "metadata": {},
     "output_type": "display_data"
    },
    {
     "name": "stdout",
     "output_type": "stream",
     "text": [
      "Epoch [62], Train Loss : [0.01757] Val Loss : [3.33935] Val IOU score(segmentation) : [0.02725] Val accuracy score(Domain Classifier) : [0.88787]\n",
      "2.5831733466987323\n",
      "0.01756938315225114\n"
     ]
    },
    {
     "data": {
      "application/vnd.jupyter.widget-view+json": {
       "model_id": "84e10e3b36ad48c594a3a809b81f60cd",
       "version_major": 2,
       "version_minor": 0
      },
      "text/plain": [
       "0it [00:00, ?it/s]"
      ]
     },
     "metadata": {},
     "output_type": "display_data"
    },
    {
     "data": {
      "application/vnd.jupyter.widget-view+json": {
       "model_id": "b62b2135731d4e849aae124064cc658a",
       "version_major": 2,
       "version_minor": 0
      },
      "text/plain": [
       "0it [00:00, ?it/s]"
      ]
     },
     "metadata": {},
     "output_type": "display_data"
    },
    {
     "name": "stdout",
     "output_type": "stream",
     "text": [
      "Epoch [63], Train Loss : [0.01437] Val Loss : [3.31273] Val IOU score(segmentation) : [0.02693] Val accuracy score(Domain Classifier) : [0.89890]\n",
      "2.5833781088205208\n",
      "0.014369076967683159\n"
     ]
    },
    {
     "data": {
      "application/vnd.jupyter.widget-view+json": {
       "model_id": "569a2fe4e05f4554a435040f0fba913a",
       "version_major": 2,
       "version_minor": 0
      },
      "text/plain": [
       "0it [00:00, ?it/s]"
      ]
     },
     "metadata": {},
     "output_type": "display_data"
    },
    {
     "data": {
      "application/vnd.jupyter.widget-view+json": {
       "model_id": "83f6c4cffac945a7ae808bcb7df8e7ce",
       "version_major": 2,
       "version_minor": 0
      },
      "text/plain": [
       "0it [00:00, ?it/s]"
      ]
     },
     "metadata": {},
     "output_type": "display_data"
    },
    {
     "name": "stdout",
     "output_type": "stream",
     "text": [
      "Epoch [64], Train Loss : [0.02137] Val Loss : [3.29452] Val IOU score(segmentation) : [0.02716] Val accuracy score(Domain Classifier) : [0.88787]\n",
      "2.5836099861259747\n",
      "0.021373041572409886\n"
     ]
    },
    {
     "data": {
      "application/vnd.jupyter.widget-view+json": {
       "model_id": "9981e243b3ce4f58afb32664a6c9538d",
       "version_major": 2,
       "version_minor": 0
      },
      "text/plain": [
       "0it [00:00, ?it/s]"
      ]
     },
     "metadata": {},
     "output_type": "display_data"
    },
    {
     "data": {
      "application/vnd.jupyter.widget-view+json": {
       "model_id": "fa40dd1dd999466785d6844ea14391ce",
       "version_major": 2,
       "version_minor": 0
      },
      "text/plain": [
       "0it [00:00, ?it/s]"
      ]
     },
     "metadata": {},
     "output_type": "display_data"
    },
    {
     "name": "stdout",
     "output_type": "stream",
     "text": [
      "Epoch [65], Train Loss : [0.01980] Val Loss : [3.32230] Val IOU score(segmentation) : [0.02715] Val accuracy score(Domain Classifier) : [0.85846]\n",
      "2.583643913269043\n",
      "0.019802186044661284\n"
     ]
    },
    {
     "data": {
      "application/vnd.jupyter.widget-view+json": {
       "model_id": "88859d92997c401baa5120650a72ef5f",
       "version_major": 2,
       "version_minor": 0
      },
      "text/plain": [
       "0it [00:00, ?it/s]"
      ]
     },
     "metadata": {},
     "output_type": "display_data"
    },
    {
     "data": {
      "application/vnd.jupyter.widget-view+json": {
       "model_id": "941fe3010bd140ff829be8241a898ade",
       "version_major": 2,
       "version_minor": 0
      },
      "text/plain": [
       "0it [00:00, ?it/s]"
      ]
     },
     "metadata": {},
     "output_type": "display_data"
    },
    {
     "name": "stdout",
     "output_type": "stream",
     "text": [
      "Epoch [66], Train Loss : [0.01228] Val Loss : [3.30464] Val IOU score(segmentation) : [0.02706] Val accuracy score(Domain Classifier) : [0.88603]\n",
      "2.583950852989254\n",
      "0.012275367330574199\n"
     ]
    },
    {
     "data": {
      "application/vnd.jupyter.widget-view+json": {
       "model_id": "f91b09c15a1e496fa474d68fed17dacc",
       "version_major": 2,
       "version_minor": 0
      },
      "text/plain": [
       "0it [00:00, ?it/s]"
      ]
     },
     "metadata": {},
     "output_type": "display_data"
    },
    {
     "data": {
      "application/vnd.jupyter.widget-view+json": {
       "model_id": "9930023f479a4558a3345708ad1fe3e1",
       "version_major": 2,
       "version_minor": 0
      },
      "text/plain": [
       "0it [00:00, ?it/s]"
      ]
     },
     "metadata": {},
     "output_type": "display_data"
    },
    {
     "name": "stdout",
     "output_type": "stream",
     "text": [
      "Epoch [67], Train Loss : [0.01823] Val Loss : [3.30529] Val IOU score(segmentation) : [0.02753] Val accuracy score(Domain Classifier) : [0.88419]\n",
      "2.583502269328985\n",
      "0.018226881524638965\n"
     ]
    },
    {
     "data": {
      "application/vnd.jupyter.widget-view+json": {
       "model_id": "30878418999f49c3b5496994a9d9de23",
       "version_major": 2,
       "version_minor": 0
      },
      "text/plain": [
       "0it [00:00, ?it/s]"
      ]
     },
     "metadata": {},
     "output_type": "display_data"
    },
    {
     "data": {
      "application/vnd.jupyter.widget-view+json": {
       "model_id": "8676f18442bc4532acb1e9015e5bcbfa",
       "version_major": 2,
       "version_minor": 0
      },
      "text/plain": [
       "0it [00:00, ?it/s]"
      ]
     },
     "metadata": {},
     "output_type": "display_data"
    },
    {
     "name": "stdout",
     "output_type": "stream",
     "text": [
      "Epoch [68], Train Loss : [0.02212] Val Loss : [3.26568] Val IOU score(segmentation) : [0.02717] Val accuracy score(Domain Classifier) : [0.90074]\n",
      "2.583513734932233\n",
      "0.02212275563773377\n"
     ]
    },
    {
     "data": {
      "application/vnd.jupyter.widget-view+json": {
       "model_id": "40e4b8d9b88f4e1bba07f0b9dc55a658",
       "version_major": 2,
       "version_minor": 0
      },
      "text/plain": [
       "0it [00:00, ?it/s]"
      ]
     },
     "metadata": {},
     "output_type": "display_data"
    },
    {
     "data": {
      "application/vnd.jupyter.widget-view+json": {
       "model_id": "93d9e4fef7c548679a9635dcbd7d21b2",
       "version_major": 2,
       "version_minor": 0
      },
      "text/plain": [
       "0it [00:00, ?it/s]"
      ]
     },
     "metadata": {},
     "output_type": "display_data"
    },
    {
     "name": "stdout",
     "output_type": "stream",
     "text": [
      "Epoch [69], Train Loss : [0.02263] Val Loss : [3.19699] Val IOU score(segmentation) : [0.02726] Val accuracy score(Domain Classifier) : [0.90625]\n",
      "2.5838059267603364\n",
      "0.02262707764420245\n"
     ]
    },
    {
     "data": {
      "application/vnd.jupyter.widget-view+json": {
       "model_id": "f9208b68c82e4e3ca1b52fcf1a835ab0",
       "version_major": 2,
       "version_minor": 0
      },
      "text/plain": [
       "0it [00:00, ?it/s]"
      ]
     },
     "metadata": {},
     "output_type": "display_data"
    },
    {
     "data": {
      "application/vnd.jupyter.widget-view+json": {
       "model_id": "d402971d8db44733b46d9bccdc47aa40",
       "version_major": 2,
       "version_minor": 0
      },
      "text/plain": [
       "0it [00:00, ?it/s]"
      ]
     },
     "metadata": {},
     "output_type": "display_data"
    },
    {
     "name": "stdout",
     "output_type": "stream",
     "text": [
      "Epoch [70], Train Loss : [0.01777] Val Loss : [3.36693] Val IOU score(segmentation) : [0.02739] Val accuracy score(Domain Classifier) : [0.88787]\n",
      "2.582986711559439\n",
      "0.017770281626319485\n"
     ]
    },
    {
     "data": {
      "application/vnd.jupyter.widget-view+json": {
       "model_id": "7c9bbcd4ac7b495dad68e7ef18ba8a3c",
       "version_major": 2,
       "version_minor": 0
      },
      "text/plain": [
       "0it [00:00, ?it/s]"
      ]
     },
     "metadata": {},
     "output_type": "display_data"
    },
    {
     "data": {
      "application/vnd.jupyter.widget-view+json": {
       "model_id": "a91cc853607e40898debfa71ab2b69e3",
       "version_major": 2,
       "version_minor": 0
      },
      "text/plain": [
       "0it [00:00, ?it/s]"
      ]
     },
     "metadata": {},
     "output_type": "display_data"
    },
    {
     "name": "stdout",
     "output_type": "stream",
     "text": [
      "Epoch [71], Train Loss : [0.02697] Val Loss : [3.42194] Val IOU score(segmentation) : [0.02727] Val accuracy score(Domain Classifier) : [0.88971]\n",
      "2.5833152433983364\n",
      "0.026965889535516964\n"
     ]
    },
    {
     "data": {
      "application/vnd.jupyter.widget-view+json": {
       "model_id": "a5f09451c88447f58bf55d6228caf15b",
       "version_major": 2,
       "version_minor": 0
      },
      "text/plain": [
       "0it [00:00, ?it/s]"
      ]
     },
     "metadata": {},
     "output_type": "display_data"
    },
    {
     "data": {
      "application/vnd.jupyter.widget-view+json": {
       "model_id": "6eaa863cd1f54f6295f5e75b22d6dc23",
       "version_major": 2,
       "version_minor": 0
      },
      "text/plain": [
       "0it [00:00, ?it/s]"
      ]
     },
     "metadata": {},
     "output_type": "display_data"
    },
    {
     "name": "stdout",
     "output_type": "stream",
     "text": [
      "Epoch [72], Train Loss : [0.01551] Val Loss : [3.39482] Val IOU score(segmentation) : [0.02645] Val accuracy score(Domain Classifier) : [0.86581]\n",
      "2.5837479731194057\n",
      "0.015505296003429703\n"
     ]
    },
    {
     "data": {
      "application/vnd.jupyter.widget-view+json": {
       "model_id": "05146e99735a4db7be3cb6545beff354",
       "version_major": 2,
       "version_minor": 0
      },
      "text/plain": [
       "0it [00:00, ?it/s]"
      ]
     },
     "metadata": {},
     "output_type": "display_data"
    },
    {
     "data": {
      "application/vnd.jupyter.widget-view+json": {
       "model_id": "c3652043448042eca4213b65901b4dd2",
       "version_major": 2,
       "version_minor": 0
      },
      "text/plain": [
       "0it [00:00, ?it/s]"
      ]
     },
     "metadata": {},
     "output_type": "display_data"
    },
    {
     "name": "stdout",
     "output_type": "stream",
     "text": [
      "Epoch [73], Train Loss : [0.02050] Val Loss : [3.17714] Val IOU score(segmentation) : [0.02695] Val accuracy score(Domain Classifier) : [0.89890]\n",
      "2.583492614272842\n",
      "0.020495627809594266\n"
     ]
    },
    {
     "data": {
      "application/vnd.jupyter.widget-view+json": {
       "model_id": "c8552ede15fa4f0e96fb4f60424ab5b5",
       "version_major": 2,
       "version_minor": 0
      },
      "text/plain": [
       "0it [00:00, ?it/s]"
      ]
     },
     "metadata": {},
     "output_type": "display_data"
    },
    {
     "data": {
      "application/vnd.jupyter.widget-view+json": {
       "model_id": "a308c3a302bb41968643b60e93dfa510",
       "version_major": 2,
       "version_minor": 0
      },
      "text/plain": [
       "0it [00:00, ?it/s]"
      ]
     },
     "metadata": {},
     "output_type": "display_data"
    },
    {
     "name": "stdout",
     "output_type": "stream",
     "text": [
      "Epoch [74], Train Loss : [0.01828] Val Loss : [3.35019] Val IOU score(segmentation) : [0.02721] Val accuracy score(Domain Classifier) : [0.87868]\n",
      "2.5835752523035036\n",
      "0.018284569782674526\n"
     ]
    },
    {
     "data": {
      "application/vnd.jupyter.widget-view+json": {
       "model_id": "0e6577b382044e53a92e0b0cfe5c1726",
       "version_major": 2,
       "version_minor": 0
      },
      "text/plain": [
       "0it [00:00, ?it/s]"
      ]
     },
     "metadata": {},
     "output_type": "display_data"
    },
    {
     "data": {
      "application/vnd.jupyter.widget-view+json": {
       "model_id": "7a43f024da424353bf6b406858b32b31",
       "version_major": 2,
       "version_minor": 0
      },
      "text/plain": [
       "0it [00:00, ?it/s]"
      ]
     },
     "metadata": {},
     "output_type": "display_data"
    },
    {
     "name": "stdout",
     "output_type": "stream",
     "text": [
      "Epoch [75], Train Loss : [0.01121] Val Loss : [3.19186] Val IOU score(segmentation) : [0.02723] Val accuracy score(Domain Classifier) : [0.90074]\n",
      "2.5833357276773095\n",
      "0.011208754540526104\n"
     ]
    },
    {
     "data": {
      "application/vnd.jupyter.widget-view+json": {
       "model_id": "6e0621e1ad9941e28ae20b91b0887dd0",
       "version_major": 2,
       "version_minor": 0
      },
      "text/plain": [
       "0it [00:00, ?it/s]"
      ]
     },
     "metadata": {},
     "output_type": "display_data"
    },
    {
     "data": {
      "application/vnd.jupyter.widget-view+json": {
       "model_id": "51c65afe6ef54114a95b7e5511b70213",
       "version_major": 2,
       "version_minor": 0
      },
      "text/plain": [
       "0it [00:00, ?it/s]"
      ]
     },
     "metadata": {},
     "output_type": "display_data"
    },
    {
     "name": "stdout",
     "output_type": "stream",
     "text": [
      "Epoch [76], Train Loss : [0.01705] Val Loss : [3.32654] Val IOU score(segmentation) : [0.02713] Val accuracy score(Domain Classifier) : [0.89338]\n",
      "2.5836684632122067\n",
      "0.017049705474991947\n"
     ]
    },
    {
     "data": {
      "application/vnd.jupyter.widget-view+json": {
       "model_id": "596c4793a0e640b2b1f0f79cc03dfd97",
       "version_major": 2,
       "version_minor": 0
      },
      "text/plain": [
       "0it [00:00, ?it/s]"
      ]
     },
     "metadata": {},
     "output_type": "display_data"
    },
    {
     "data": {
      "application/vnd.jupyter.widget-view+json": {
       "model_id": "e389f705669c49689d0ba9047d88b993",
       "version_major": 2,
       "version_minor": 0
      },
      "text/plain": [
       "0it [00:00, ?it/s]"
      ]
     },
     "metadata": {},
     "output_type": "display_data"
    },
    {
     "name": "stdout",
     "output_type": "stream",
     "text": [
      "Epoch [77], Train Loss : [0.01412] Val Loss : [3.21308] Val IOU score(segmentation) : [0.02674] Val accuracy score(Domain Classifier) : [0.89338]\n",
      "2.583491445484018\n",
      "0.014115824797400799\n"
     ]
    },
    {
     "data": {
      "application/vnd.jupyter.widget-view+json": {
       "model_id": "2de3c728ed4743c187d8aa716bb54813",
       "version_major": 2,
       "version_minor": 0
      },
      "text/plain": [
       "0it [00:00, ?it/s]"
      ]
     },
     "metadata": {},
     "output_type": "display_data"
    },
    {
     "data": {
      "application/vnd.jupyter.widget-view+json": {
       "model_id": "a5714d3c43714e4bb0c8998434cffda1",
       "version_major": 2,
       "version_minor": 0
      },
      "text/plain": [
       "0it [00:00, ?it/s]"
      ]
     },
     "metadata": {},
     "output_type": "display_data"
    },
    {
     "name": "stdout",
     "output_type": "stream",
     "text": [
      "Epoch [78], Train Loss : [0.01999] Val Loss : [3.29117] Val IOU score(segmentation) : [0.02741] Val accuracy score(Domain Classifier) : [0.89522]\n",
      "2.5838829485097325\n",
      "0.019987521436810755\n"
     ]
    },
    {
     "data": {
      "application/vnd.jupyter.widget-view+json": {
       "model_id": "49469d61a33c442dbd0a4236b043920e",
       "version_major": 2,
       "version_minor": 0
      },
      "text/plain": [
       "0it [00:00, ?it/s]"
      ]
     },
     "metadata": {},
     "output_type": "display_data"
    },
    {
     "data": {
      "application/vnd.jupyter.widget-view+json": {
       "model_id": "ad5b5fc48604455f97d68ccd392ed950",
       "version_major": 2,
       "version_minor": 0
      },
      "text/plain": [
       "0it [00:00, ?it/s]"
      ]
     },
     "metadata": {},
     "output_type": "display_data"
    },
    {
     "name": "stdout",
     "output_type": "stream",
     "text": [
      "Epoch [79], Train Loss : [0.01372] Val Loss : [3.08854] Val IOU score(segmentation) : [0.02699] Val accuracy score(Domain Classifier) : [0.91176]\n",
      "2.583238542528081\n",
      "0.013724932681219442\n"
     ]
    },
    {
     "data": {
      "application/vnd.jupyter.widget-view+json": {
       "model_id": "5b9e0e0eb93d487d9d36d581b33dae3c",
       "version_major": 2,
       "version_minor": 0
      },
      "text/plain": [
       "0it [00:00, ?it/s]"
      ]
     },
     "metadata": {},
     "output_type": "display_data"
    },
    {
     "data": {
      "application/vnd.jupyter.widget-view+json": {
       "model_id": "611e13f2b506409bbc1ac5dbb187226c",
       "version_major": 2,
       "version_minor": 0
      },
      "text/plain": [
       "0it [00:00, ?it/s]"
      ]
     },
     "metadata": {},
     "output_type": "display_data"
    },
    {
     "name": "stdout",
     "output_type": "stream",
     "text": [
      "Epoch [80], Train Loss : [0.01905] Val Loss : [3.35408] Val IOU score(segmentation) : [0.02708] Val accuracy score(Domain Classifier) : [0.86765]\n",
      "2.583532327996161\n",
      "0.019048404565305953\n"
     ]
    },
    {
     "data": {
      "application/vnd.jupyter.widget-view+json": {
       "model_id": "cd9703acb38640408c9d9e2709e614f5",
       "version_major": 2,
       "version_minor": 0
      },
      "text/plain": [
       "0it [00:00, ?it/s]"
      ]
     },
     "metadata": {},
     "output_type": "display_data"
    },
    {
     "data": {
      "application/vnd.jupyter.widget-view+json": {
       "model_id": "356d9e7afbe04f0dbb253ce0eecc4937",
       "version_major": 2,
       "version_minor": 0
      },
      "text/plain": [
       "0it [00:00, ?it/s]"
      ]
     },
     "metadata": {},
     "output_type": "display_data"
    },
    {
     "name": "stdout",
     "output_type": "stream",
     "text": [
      "Epoch [81], Train Loss : [0.01576] Val Loss : [3.30677] Val IOU score(segmentation) : [0.02703] Val accuracy score(Domain Classifier) : [0.87684]\n",
      "2.583839027505172\n",
      "0.015762302817138266\n"
     ]
    },
    {
     "data": {
      "application/vnd.jupyter.widget-view+json": {
       "model_id": "285ac9620e47469eb4448d2906389011",
       "version_major": 2,
       "version_minor": 0
      },
      "text/plain": [
       "0it [00:00, ?it/s]"
      ]
     },
     "metadata": {},
     "output_type": "display_data"
    },
    {
     "data": {
      "application/vnd.jupyter.widget-view+json": {
       "model_id": "5f27d44273f446e99c8a07e809e865e0",
       "version_major": 2,
       "version_minor": 0
      },
      "text/plain": [
       "0it [00:00, ?it/s]"
      ]
     },
     "metadata": {},
     "output_type": "display_data"
    },
    {
     "name": "stdout",
     "output_type": "stream",
     "text": [
      "Epoch [82], Train Loss : [0.01427] Val Loss : [3.24195] Val IOU score(segmentation) : [0.02698] Val accuracy score(Domain Classifier) : [0.88971]\n",
      "2.583299079335722\n",
      "0.014271616274547847\n"
     ]
    },
    {
     "data": {
      "application/vnd.jupyter.widget-view+json": {
       "model_id": "f0c4a7ad29b74f2baa3bed772da5a77b",
       "version_major": 2,
       "version_minor": 0
      },
      "text/plain": [
       "0it [00:00, ?it/s]"
      ]
     },
     "metadata": {},
     "output_type": "display_data"
    },
    {
     "data": {
      "application/vnd.jupyter.widget-view+json": {
       "model_id": "6ce5ca53f9894a2bb4316c53aeaac3e1",
       "version_major": 2,
       "version_minor": 0
      },
      "text/plain": [
       "0it [00:00, ?it/s]"
      ]
     },
     "metadata": {},
     "output_type": "display_data"
    },
    {
     "name": "stdout",
     "output_type": "stream",
     "text": [
      "Epoch [83], Train Loss : [0.01677] Val Loss : [3.15662] Val IOU score(segmentation) : [0.02719] Val accuracy score(Domain Classifier) : [0.89890]\n",
      "2.5829500399137797\n",
      "0.0167695090841656\n"
     ]
    },
    {
     "data": {
      "application/vnd.jupyter.widget-view+json": {
       "model_id": "4c6faddcc98a4903a60f2876f5e14418",
       "version_major": 2,
       "version_minor": 0
      },
      "text/plain": [
       "0it [00:00, ?it/s]"
      ]
     },
     "metadata": {},
     "output_type": "display_data"
    },
    {
     "data": {
      "application/vnd.jupyter.widget-view+json": {
       "model_id": "a6d2d51971de46c1907f47ee77544484",
       "version_major": 2,
       "version_minor": 0
      },
      "text/plain": [
       "0it [00:00, ?it/s]"
      ]
     },
     "metadata": {},
     "output_type": "display_data"
    },
    {
     "name": "stdout",
     "output_type": "stream",
     "text": [
      "Epoch [84], Train Loss : [0.01441] Val Loss : [3.22473] Val IOU score(segmentation) : [0.02729] Val accuracy score(Domain Classifier) : [0.88787]\n",
      "2.5840886320386613\n",
      "0.014412536049923418\n"
     ]
    },
    {
     "data": {
      "application/vnd.jupyter.widget-view+json": {
       "model_id": "e7e3c453938647ba97f20d1da3b0d940",
       "version_major": 2,
       "version_minor": 0
      },
      "text/plain": [
       "0it [00:00, ?it/s]"
      ]
     },
     "metadata": {},
     "output_type": "display_data"
    },
    {
     "data": {
      "application/vnd.jupyter.widget-view+json": {
       "model_id": "2cc0cfc4330b45a7aa6006400dc95275",
       "version_major": 2,
       "version_minor": 0
      },
      "text/plain": [
       "0it [00:00, ?it/s]"
      ]
     },
     "metadata": {},
     "output_type": "display_data"
    },
    {
     "name": "stdout",
     "output_type": "stream",
     "text": [
      "Epoch [85], Train Loss : [0.01639] Val Loss : [3.37901] Val IOU score(segmentation) : [0.02687] Val accuracy score(Domain Classifier) : [0.86765]\n",
      "2.583713165799478\n",
      "0.016392218378150164\n"
     ]
    },
    {
     "data": {
      "application/vnd.jupyter.widget-view+json": {
       "model_id": "93f061a4c88f4f0086b14bb7d60c8df3",
       "version_major": 2,
       "version_minor": 0
      },
      "text/plain": [
       "0it [00:00, ?it/s]"
      ]
     },
     "metadata": {},
     "output_type": "display_data"
    },
    {
     "data": {
      "application/vnd.jupyter.widget-view+json": {
       "model_id": "ea865ff1236b4f4c99c5d65941355e79",
       "version_major": 2,
       "version_minor": 0
      },
      "text/plain": [
       "0it [00:00, ?it/s]"
      ]
     },
     "metadata": {},
     "output_type": "display_data"
    },
    {
     "name": "stdout",
     "output_type": "stream",
     "text": [
      "Epoch [86], Train Loss : [0.01342] Val Loss : [3.29618] Val IOU score(segmentation) : [0.02721] Val accuracy score(Domain Classifier) : [0.88235]\n",
      "2.583794961298319\n",
      "0.013423467524235025\n"
     ]
    },
    {
     "data": {
      "application/vnd.jupyter.widget-view+json": {
       "model_id": "27478929d9cb4c75b3e516464d1fb0c0",
       "version_major": 2,
       "version_minor": 0
      },
      "text/plain": [
       "0it [00:00, ?it/s]"
      ]
     },
     "metadata": {},
     "output_type": "display_data"
    },
    {
     "data": {
      "application/vnd.jupyter.widget-view+json": {
       "model_id": "712e5931d8b64a6486b05901f6a43e35",
       "version_major": 2,
       "version_minor": 0
      },
      "text/plain": [
       "0it [00:00, ?it/s]"
      ]
     },
     "metadata": {},
     "output_type": "display_data"
    },
    {
     "name": "stdout",
     "output_type": "stream",
     "text": [
      "Epoch [87], Train Loss : [0.01995] Val Loss : [3.26443] Val IOU score(segmentation) : [0.02725] Val accuracy score(Domain Classifier) : [0.88603]\n",
      "2.5838183066002407\n",
      "0.019953097861008087\n"
     ]
    },
    {
     "data": {
      "application/vnd.jupyter.widget-view+json": {
       "model_id": "3eea4c71e3464cb1ae6e21e2cc7bb918",
       "version_major": 2,
       "version_minor": 0
      },
      "text/plain": [
       "0it [00:00, ?it/s]"
      ]
     },
     "metadata": {},
     "output_type": "display_data"
    },
    {
     "data": {
      "application/vnd.jupyter.widget-view+json": {
       "model_id": "39551d49920348dda401470a13cb90e7",
       "version_major": 2,
       "version_minor": 0
      },
      "text/plain": [
       "0it [00:00, ?it/s]"
      ]
     },
     "metadata": {},
     "output_type": "display_data"
    },
    {
     "name": "stdout",
     "output_type": "stream",
     "text": [
      "Epoch [88], Train Loss : [0.01646] Val Loss : [3.14923] Val IOU score(segmentation) : [0.02700] Val accuracy score(Domain Classifier) : [0.91544]\n",
      "2.5841231615023506\n",
      "0.016455019712715086\n"
     ]
    },
    {
     "data": {
      "application/vnd.jupyter.widget-view+json": {
       "model_id": "624dcdb4ecbe4992a3789f0f5d521685",
       "version_major": 2,
       "version_minor": 0
      },
      "text/plain": [
       "0it [00:00, ?it/s]"
      ]
     },
     "metadata": {},
     "output_type": "display_data"
    },
    {
     "data": {
      "application/vnd.jupyter.widget-view+json": {
       "model_id": "d128b5db51154a76bc0763db4c8d9ad7",
       "version_major": 2,
       "version_minor": 0
      },
      "text/plain": [
       "0it [00:00, ?it/s]"
      ]
     },
     "metadata": {},
     "output_type": "display_data"
    },
    {
     "name": "stdout",
     "output_type": "stream",
     "text": [
      "Epoch [89], Train Loss : [0.01535] Val Loss : [3.23540] Val IOU score(segmentation) : [0.02690] Val accuracy score(Domain Classifier) : [0.89154]\n",
      "2.5833594512222406\n",
      "0.0153527864934684\n"
     ]
    },
    {
     "data": {
      "application/vnd.jupyter.widget-view+json": {
       "model_id": "245616bdbb7b4693a65e25ff857bd2d4",
       "version_major": 2,
       "version_minor": 0
      },
      "text/plain": [
       "0it [00:00, ?it/s]"
      ]
     },
     "metadata": {},
     "output_type": "display_data"
    },
    {
     "data": {
      "application/vnd.jupyter.widget-view+json": {
       "model_id": "2065f9f7bf874b8baa14a0e3dd0e50c7",
       "version_major": 2,
       "version_minor": 0
      },
      "text/plain": [
       "0it [00:00, ?it/s]"
      ]
     },
     "metadata": {},
     "output_type": "display_data"
    },
    {
     "name": "stdout",
     "output_type": "stream",
     "text": [
      "Epoch [90], Train Loss : [0.02135] Val Loss : [3.26098] Val IOU score(segmentation) : [0.02722] Val accuracy score(Domain Classifier) : [0.88603]\n",
      "2.58396890109643\n",
      "0.021351594420887802\n"
     ]
    },
    {
     "data": {
      "application/vnd.jupyter.widget-view+json": {
       "model_id": "176caeb7a22b4278bed0b1aae153030f",
       "version_major": 2,
       "version_minor": 0
      },
      "text/plain": [
       "0it [00:00, ?it/s]"
      ]
     },
     "metadata": {},
     "output_type": "display_data"
    },
    {
     "data": {
      "application/vnd.jupyter.widget-view+json": {
       "model_id": "25c6691f93a843339001d73521763002",
       "version_major": 2,
       "version_minor": 0
      },
      "text/plain": [
       "0it [00:00, ?it/s]"
      ]
     },
     "metadata": {},
     "output_type": "display_data"
    },
    {
     "name": "stdout",
     "output_type": "stream",
     "text": [
      "Epoch [91], Train Loss : [0.02649] Val Loss : [3.24821] Val IOU score(segmentation) : [0.02709] Val accuracy score(Domain Classifier) : [0.88971]\n",
      "2.5836309042192043\n",
      "0.026494414640456626\n"
     ]
    },
    {
     "data": {
      "application/vnd.jupyter.widget-view+json": {
       "model_id": "961eba67fdb64172a894838b1863bb2b",
       "version_major": 2,
       "version_minor": 0
      },
      "text/plain": [
       "0it [00:00, ?it/s]"
      ]
     },
     "metadata": {},
     "output_type": "display_data"
    },
    {
     "data": {
      "application/vnd.jupyter.widget-view+json": {
       "model_id": "181ee84ab3f946c9ad60f174e109b78a",
       "version_major": 2,
       "version_minor": 0
      },
      "text/plain": [
       "0it [00:00, ?it/s]"
      ]
     },
     "metadata": {},
     "output_type": "display_data"
    },
    {
     "name": "stdout",
     "output_type": "stream",
     "text": [
      "Epoch [92], Train Loss : [0.01756] Val Loss : [3.27419] Val IOU score(segmentation) : [0.02725] Val accuracy score(Domain Classifier) : [0.88419]\n",
      "2.583686063164159\n",
      "0.017561320360326312\n"
     ]
    },
    {
     "data": {
      "application/vnd.jupyter.widget-view+json": {
       "model_id": "6f3336c9f70e45b4b87e5e2dd49d8d03",
       "version_major": 2,
       "version_minor": 0
      },
      "text/plain": [
       "0it [00:00, ?it/s]"
      ]
     },
     "metadata": {},
     "output_type": "display_data"
    },
    {
     "data": {
      "application/vnd.jupyter.widget-view+json": {
       "model_id": "e4db633277ab4b9cb59990ffedac24c0",
       "version_major": 2,
       "version_minor": 0
      },
      "text/plain": [
       "0it [00:00, ?it/s]"
      ]
     },
     "metadata": {},
     "output_type": "display_data"
    },
    {
     "name": "stdout",
     "output_type": "stream",
     "text": [
      "Epoch [93], Train Loss : [0.01267] Val Loss : [3.18708] Val IOU score(segmentation) : [0.02687] Val accuracy score(Domain Classifier) : [0.88787]\n",
      "2.583130228788333\n",
      "0.012670250755364489\n"
     ]
    },
    {
     "data": {
      "application/vnd.jupyter.widget-view+json": {
       "model_id": "675ba8b495a54aca91395d22a8786e16",
       "version_major": 2,
       "version_minor": 0
      },
      "text/plain": [
       "0it [00:00, ?it/s]"
      ]
     },
     "metadata": {},
     "output_type": "display_data"
    },
    {
     "data": {
      "application/vnd.jupyter.widget-view+json": {
       "model_id": "470eb2ecfe424d2ea324969d67462164",
       "version_major": 2,
       "version_minor": 0
      },
      "text/plain": [
       "0it [00:00, ?it/s]"
      ]
     },
     "metadata": {},
     "output_type": "display_data"
    },
    {
     "name": "stdout",
     "output_type": "stream",
     "text": [
      "Epoch [94], Train Loss : [0.01615] Val Loss : [3.35110] Val IOU score(segmentation) : [0.02715] Val accuracy score(Domain Classifier) : [0.88603]\n",
      "2.5836451376291145\n",
      "0.016149564176365466\n"
     ]
    },
    {
     "data": {
      "application/vnd.jupyter.widget-view+json": {
       "model_id": "83ef57f6fcd64592a77578f6aaafa79a",
       "version_major": 2,
       "version_minor": 0
      },
      "text/plain": [
       "0it [00:00, ?it/s]"
      ]
     },
     "metadata": {},
     "output_type": "display_data"
    },
    {
     "data": {
      "application/vnd.jupyter.widget-view+json": {
       "model_id": "a611262ea64741e2a358eeea00048ac9",
       "version_major": 2,
       "version_minor": 0
      },
      "text/plain": [
       "0it [00:00, ?it/s]"
      ]
     },
     "metadata": {},
     "output_type": "display_data"
    },
    {
     "name": "stdout",
     "output_type": "stream",
     "text": [
      "Epoch [95], Train Loss : [0.01696] Val Loss : [3.26270] Val IOU score(segmentation) : [0.02702] Val accuracy score(Domain Classifier) : [0.88419]\n",
      "2.583202154116523\n",
      "0.01695798171775615\n"
     ]
    },
    {
     "data": {
      "application/vnd.jupyter.widget-view+json": {
       "model_id": "9cd441f96ab8478aa2060b9dbec8298e",
       "version_major": 2,
       "version_minor": 0
      },
      "text/plain": [
       "0it [00:00, ?it/s]"
      ]
     },
     "metadata": {},
     "output_type": "display_data"
    },
    {
     "data": {
      "application/vnd.jupyter.widget-view+json": {
       "model_id": "e73ccf49965345bf84f9c826dc36e6f3",
       "version_major": 2,
       "version_minor": 0
      },
      "text/plain": [
       "0it [00:00, ?it/s]"
      ]
     },
     "metadata": {},
     "output_type": "display_data"
    },
    {
     "name": "stdout",
     "output_type": "stream",
     "text": [
      "Epoch [96], Train Loss : [0.01320] Val Loss : [3.25853] Val IOU score(segmentation) : [0.02716] Val accuracy score(Domain Classifier) : [0.89338]\n",
      "2.5832998376143608\n",
      "0.013202613935288553\n"
     ]
    },
    {
     "data": {
      "application/vnd.jupyter.widget-view+json": {
       "model_id": "6aa16ec9d5b94147b7c2c37e2eb389a7",
       "version_major": 2,
       "version_minor": 0
      },
      "text/plain": [
       "0it [00:00, ?it/s]"
      ]
     },
     "metadata": {},
     "output_type": "display_data"
    },
    {
     "data": {
      "application/vnd.jupyter.widget-view+json": {
       "model_id": "46c1e2db90bd4aeea992d95c7920cd3e",
       "version_major": 2,
       "version_minor": 0
      },
      "text/plain": [
       "0it [00:00, ?it/s]"
      ]
     },
     "metadata": {},
     "output_type": "display_data"
    },
    {
     "name": "stdout",
     "output_type": "stream",
     "text": [
      "Epoch [97], Train Loss : [0.01496] Val Loss : [3.40250] Val IOU score(segmentation) : [0.02693] Val accuracy score(Domain Classifier) : [0.86213]\n",
      "2.583459811103075\n",
      "0.014959366217800906\n"
     ]
    },
    {
     "data": {
      "application/vnd.jupyter.widget-view+json": {
       "model_id": "829b4a105380461196cec23dc270f37e",
       "version_major": 2,
       "version_minor": 0
      },
      "text/plain": [
       "0it [00:00, ?it/s]"
      ]
     },
     "metadata": {},
     "output_type": "display_data"
    },
    {
     "data": {
      "application/vnd.jupyter.widget-view+json": {
       "model_id": "ed11644d220b486aad6027d3a28a017a",
       "version_major": 2,
       "version_minor": 0
      },
      "text/plain": [
       "0it [00:00, ?it/s]"
      ]
     },
     "metadata": {},
     "output_type": "display_data"
    },
    {
     "name": "stdout",
     "output_type": "stream",
     "text": [
      "Epoch [98], Train Loss : [0.02068] Val Loss : [3.41241] Val IOU score(segmentation) : [0.02723] Val accuracy score(Domain Classifier) : [0.87868]\n",
      "2.5835325933040534\n",
      "0.02068237446655985\n"
     ]
    },
    {
     "data": {
      "application/vnd.jupyter.widget-view+json": {
       "model_id": "7647b1ad574a4f528912814b04b2779c",
       "version_major": 2,
       "version_minor": 0
      },
      "text/plain": [
       "0it [00:00, ?it/s]"
      ]
     },
     "metadata": {},
     "output_type": "display_data"
    },
    {
     "data": {
      "application/vnd.jupyter.widget-view+json": {
       "model_id": "697c2e98a1354a4f83011627ca8cb43a",
       "version_major": 2,
       "version_minor": 0
      },
      "text/plain": [
       "0it [00:00, ?it/s]"
      ]
     },
     "metadata": {},
     "output_type": "display_data"
    },
    {
     "name": "stdout",
     "output_type": "stream",
     "text": [
      "Epoch [99], Train Loss : [0.02348] Val Loss : [3.21596] Val IOU score(segmentation) : [0.02709] Val accuracy score(Domain Classifier) : [0.89522]\n",
      "2.5834790208285914\n",
      "0.023481253287172876\n"
     ]
    },
    {
     "data": {
      "application/vnd.jupyter.widget-view+json": {
       "model_id": "4768f361e37048b38900830d8cc60447",
       "version_major": 2,
       "version_minor": 0
      },
      "text/plain": [
       "0it [00:00, ?it/s]"
      ]
     },
     "metadata": {},
     "output_type": "display_data"
    },
    {
     "data": {
      "application/vnd.jupyter.widget-view+json": {
       "model_id": "7783b7417abc40b7b8043d66dc2db2a6",
       "version_major": 2,
       "version_minor": 0
      },
      "text/plain": [
       "0it [00:00, ?it/s]"
      ]
     },
     "metadata": {},
     "output_type": "display_data"
    },
    {
     "name": "stdout",
     "output_type": "stream",
     "text": [
      "Epoch [100], Train Loss : [0.02024] Val Loss : [3.31719] Val IOU score(segmentation) : [0.02727] Val accuracy score(Domain Classifier) : [0.87132]\n",
      "2.583928108215332\n",
      "0.020244467780965596\n"
     ]
    },
    {
     "data": {
      "application/vnd.jupyter.widget-view+json": {
       "model_id": "3a88b7d206e94183bdac05292fed8ecb",
       "version_major": 2,
       "version_minor": 0
      },
      "text/plain": [
       "0it [00:00, ?it/s]"
      ]
     },
     "metadata": {},
     "output_type": "display_data"
    },
    {
     "data": {
      "application/vnd.jupyter.widget-view+json": {
       "model_id": "b14bfad05f1443ffa533202d342cefec",
       "version_major": 2,
       "version_minor": 0
      },
      "text/plain": [
       "0it [00:00, ?it/s]"
      ]
     },
     "metadata": {},
     "output_type": "display_data"
    },
    {
     "name": "stdout",
     "output_type": "stream",
     "text": [
      "Epoch [101], Train Loss : [0.02397] Val Loss : [3.23674] Val IOU score(segmentation) : [0.02742] Val accuracy score(Domain Classifier) : [0.88971]\n",
      "2.583503970526215\n",
      "0.023967745999676084\n"
     ]
    },
    {
     "data": {
      "application/vnd.jupyter.widget-view+json": {
       "model_id": "864fff4255d24951b90725c4a91e8e4c",
       "version_major": 2,
       "version_minor": 0
      },
      "text/plain": [
       "0it [00:00, ?it/s]"
      ]
     },
     "metadata": {},
     "output_type": "display_data"
    },
    {
     "data": {
      "application/vnd.jupyter.widget-view+json": {
       "model_id": "283b6f2309724f0a9d8f3bc9350a37ae",
       "version_major": 2,
       "version_minor": 0
      },
      "text/plain": [
       "0it [00:00, ?it/s]"
      ]
     },
     "metadata": {},
     "output_type": "display_data"
    },
    {
     "name": "stdout",
     "output_type": "stream",
     "text": [
      "Epoch [102], Train Loss : [0.01943] Val Loss : [3.28341] Val IOU score(segmentation) : [0.02717] Val accuracy score(Domain Classifier) : [0.89338]\n",
      "2.5836610794067383\n",
      "0.01943125889139404\n"
     ]
    },
    {
     "data": {
      "application/vnd.jupyter.widget-view+json": {
       "model_id": "abc852d38fa6434ea880dd9a546b8887",
       "version_major": 2,
       "version_minor": 0
      },
      "text/plain": [
       "0it [00:00, ?it/s]"
      ]
     },
     "metadata": {},
     "output_type": "display_data"
    },
    {
     "data": {
      "application/vnd.jupyter.widget-view+json": {
       "model_id": "c66d878ed09e4ba9a55e7d1924861243",
       "version_major": 2,
       "version_minor": 0
      },
      "text/plain": [
       "0it [00:00, ?it/s]"
      ]
     },
     "metadata": {},
     "output_type": "display_data"
    },
    {
     "name": "stdout",
     "output_type": "stream",
     "text": [
      "Epoch [103], Train Loss : [0.01794] Val Loss : [3.20663] Val IOU score(segmentation) : [0.02709] Val accuracy score(Domain Classifier) : [0.90441]\n",
      "2.582986422947475\n",
      "0.017941271243975813\n"
     ]
    },
    {
     "data": {
      "application/vnd.jupyter.widget-view+json": {
       "model_id": "864a878d1a894fbb8a01f84033bafe2e",
       "version_major": 2,
       "version_minor": 0
      },
      "text/plain": [
       "0it [00:00, ?it/s]"
      ]
     },
     "metadata": {},
     "output_type": "display_data"
    },
    {
     "data": {
      "application/vnd.jupyter.widget-view+json": {
       "model_id": "a4e27f697ec34a5896ba66d55486ea22",
       "version_major": 2,
       "version_minor": 0
      },
      "text/plain": [
       "0it [00:00, ?it/s]"
      ]
     },
     "metadata": {},
     "output_type": "display_data"
    },
    {
     "name": "stdout",
     "output_type": "stream",
     "text": [
      "Epoch [104], Train Loss : [0.01613] Val Loss : [3.24034] Val IOU score(segmentation) : [0.02705] Val accuracy score(Domain Classifier) : [0.89890]\n",
      "2.5834496720392903\n",
      "0.016131628418837574\n"
     ]
    },
    {
     "data": {
      "application/vnd.jupyter.widget-view+json": {
       "model_id": "18dbc58cf8884fde91ae3ff5a65bcb9f",
       "version_major": 2,
       "version_minor": 0
      },
      "text/plain": [
       "0it [00:00, ?it/s]"
      ]
     },
     "metadata": {},
     "output_type": "display_data"
    },
    {
     "data": {
      "application/vnd.jupyter.widget-view+json": {
       "model_id": "ef6534d345da45189eb3d73e49be4da1",
       "version_major": 2,
       "version_minor": 0
      },
      "text/plain": [
       "0it [00:00, ?it/s]"
      ]
     },
     "metadata": {},
     "output_type": "display_data"
    },
    {
     "name": "stdout",
     "output_type": "stream",
     "text": [
      "Epoch [105], Train Loss : [0.02064] Val Loss : [3.41587] Val IOU score(segmentation) : [0.02689] Val accuracy score(Domain Classifier) : [0.85662]\n",
      "2.583465280389427\n",
      "0.020636411737370536\n"
     ]
    },
    {
     "data": {
      "application/vnd.jupyter.widget-view+json": {
       "model_id": "7e37b7720d2d469a868d80cf37a36261",
       "version_major": 2,
       "version_minor": 0
      },
      "text/plain": [
       "0it [00:00, ?it/s]"
      ]
     },
     "metadata": {},
     "output_type": "display_data"
    },
    {
     "data": {
      "application/vnd.jupyter.widget-view+json": {
       "model_id": "2ab5e8730a2747c98cdefabc920226c4",
       "version_major": 2,
       "version_minor": 0
      },
      "text/plain": [
       "0it [00:00, ?it/s]"
      ]
     },
     "metadata": {},
     "output_type": "display_data"
    },
    {
     "name": "stdout",
     "output_type": "stream",
     "text": [
      "Epoch [106], Train Loss : [0.01377] Val Loss : [3.22992] Val IOU score(segmentation) : [0.02693] Val accuracy score(Domain Classifier) : [0.88787]\n",
      "2.5833440992168915\n",
      "0.013768190939261234\n"
     ]
    },
    {
     "data": {
      "application/vnd.jupyter.widget-view+json": {
       "model_id": "7e9995da233a4720a2762976bc70d403",
       "version_major": 2,
       "version_minor": 0
      },
      "text/plain": [
       "0it [00:00, ?it/s]"
      ]
     },
     "metadata": {},
     "output_type": "display_data"
    },
    {
     "data": {
      "application/vnd.jupyter.widget-view+json": {
       "model_id": "ff82d00c89414f23bbc9db1cbc613473",
       "version_major": 2,
       "version_minor": 0
      },
      "text/plain": [
       "0it [00:00, ?it/s]"
      ]
     },
     "metadata": {},
     "output_type": "display_data"
    },
    {
     "name": "stdout",
     "output_type": "stream",
     "text": [
      "Epoch [107], Train Loss : [0.01973] Val Loss : [3.34934] Val IOU score(segmentation) : [0.02708] Val accuracy score(Domain Classifier) : [0.87500]\n",
      "2.583686695959335\n",
      "0.019729965574417047\n"
     ]
    },
    {
     "data": {
      "application/vnd.jupyter.widget-view+json": {
       "model_id": "0892d2dd9e164ab89cd0dc03f0110152",
       "version_major": 2,
       "version_minor": 0
      },
      "text/plain": [
       "0it [00:00, ?it/s]"
      ]
     },
     "metadata": {},
     "output_type": "display_data"
    },
    {
     "data": {
      "application/vnd.jupyter.widget-view+json": {
       "model_id": "79c3ce1955c342f89955c716043922f1",
       "version_major": 2,
       "version_minor": 0
      },
      "text/plain": [
       "0it [00:00, ?it/s]"
      ]
     },
     "metadata": {},
     "output_type": "display_data"
    },
    {
     "name": "stdout",
     "output_type": "stream",
     "text": [
      "Epoch [108], Train Loss : [0.01599] Val Loss : [3.26827] Val IOU score(segmentation) : [0.02714] Val accuracy score(Domain Classifier) : [0.89154]\n",
      "2.5833994786542163\n",
      "0.015986875583648794\n"
     ]
    },
    {
     "data": {
      "application/vnd.jupyter.widget-view+json": {
       "model_id": "bb925ad822794a15847c55f2cd10cf3f",
       "version_major": 2,
       "version_minor": 0
      },
      "text/plain": [
       "0it [00:00, ?it/s]"
      ]
     },
     "metadata": {},
     "output_type": "display_data"
    },
    {
     "data": {
      "application/vnd.jupyter.widget-view+json": {
       "model_id": "278a46be13864a64a6395cb7630df7e0",
       "version_major": 2,
       "version_minor": 0
      },
      "text/plain": [
       "0it [00:00, ?it/s]"
      ]
     },
     "metadata": {},
     "output_type": "display_data"
    },
    {
     "name": "stdout",
     "output_type": "stream",
     "text": [
      "Epoch [109], Train Loss : [0.01969] Val Loss : [3.43506] Val IOU score(segmentation) : [0.02752] Val accuracy score(Domain Classifier) : [0.86397]\n",
      "2.5831964643378007\n",
      "0.019690823534029164\n"
     ]
    },
    {
     "data": {
      "application/vnd.jupyter.widget-view+json": {
       "model_id": "c860f27f453a490196a138427d2206a5",
       "version_major": 2,
       "version_minor": 0
      },
      "text/plain": [
       "0it [00:00, ?it/s]"
      ]
     },
     "metadata": {},
     "output_type": "display_data"
    },
    {
     "data": {
      "application/vnd.jupyter.widget-view+json": {
       "model_id": "848da73e7a514076ab471e1c7694e9d1",
       "version_major": 2,
       "version_minor": 0
      },
      "text/plain": [
       "0it [00:00, ?it/s]"
      ]
     },
     "metadata": {},
     "output_type": "display_data"
    },
    {
     "name": "stdout",
     "output_type": "stream",
     "text": [
      "Epoch [110], Train Loss : [0.01684] Val Loss : [3.39387] Val IOU score(segmentation) : [0.02717] Val accuracy score(Domain Classifier) : [0.88051]\n",
      "2.5832315118689286\n",
      "0.01683543013107676\n"
     ]
    },
    {
     "data": {
      "application/vnd.jupyter.widget-view+json": {
       "model_id": "80df05dab378480b86d02c57bbf95345",
       "version_major": 2,
       "version_minor": 0
      },
      "text/plain": [
       "0it [00:00, ?it/s]"
      ]
     },
     "metadata": {},
     "output_type": "display_data"
    },
    {
     "data": {
      "application/vnd.jupyter.widget-view+json": {
       "model_id": "aee30389f990464c8292e67c2a47318b",
       "version_major": 2,
       "version_minor": 0
      },
      "text/plain": [
       "0it [00:00, ?it/s]"
      ]
     },
     "metadata": {},
     "output_type": "display_data"
    },
    {
     "name": "stdout",
     "output_type": "stream",
     "text": [
      "Epoch [111], Train Loss : [0.01799] Val Loss : [3.25537] Val IOU score(segmentation) : [0.02728] Val accuracy score(Domain Classifier) : [0.89154]\n",
      "2.5831520360215268\n",
      "0.01798950718670709\n"
     ]
    },
    {
     "data": {
      "application/vnd.jupyter.widget-view+json": {
       "model_id": "6bb4b98af3ad456fbd9a864d364e5b18",
       "version_major": 2,
       "version_minor": 0
      },
      "text/plain": [
       "0it [00:00, ?it/s]"
      ]
     },
     "metadata": {},
     "output_type": "display_data"
    },
    {
     "data": {
      "application/vnd.jupyter.widget-view+json": {
       "model_id": "9838200e2fb245259b4ba91ac540267c",
       "version_major": 2,
       "version_minor": 0
      },
      "text/plain": [
       "0it [00:00, ?it/s]"
      ]
     },
     "metadata": {},
     "output_type": "display_data"
    },
    {
     "name": "stdout",
     "output_type": "stream",
     "text": [
      "Epoch [112], Train Loss : [0.02026] Val Loss : [3.25038] Val IOU score(segmentation) : [0.02700] Val accuracy score(Domain Classifier) : [0.88971]\n",
      "2.583523130058346\n",
      "0.020255075637434953\n"
     ]
    },
    {
     "data": {
      "application/vnd.jupyter.widget-view+json": {
       "model_id": "253e8e56b04647cbbe67674c1a44d020",
       "version_major": 2,
       "version_minor": 0
      },
      "text/plain": [
       "0it [00:00, ?it/s]"
      ]
     },
     "metadata": {},
     "output_type": "display_data"
    },
    {
     "data": {
      "application/vnd.jupyter.widget-view+json": {
       "model_id": "5e1ac0833f724f568a1513e81e40d6ca",
       "version_major": 2,
       "version_minor": 0
      },
      "text/plain": [
       "0it [00:00, ?it/s]"
      ]
     },
     "metadata": {},
     "output_type": "display_data"
    },
    {
     "name": "stdout",
     "output_type": "stream",
     "text": [
      "Epoch [113], Train Loss : [0.02035] Val Loss : [3.37312] Val IOU score(segmentation) : [0.02713] Val accuracy score(Domain Classifier) : [0.86581]\n",
      "2.5833006980723905\n",
      "0.020350348216190906\n"
     ]
    },
    {
     "data": {
      "application/vnd.jupyter.widget-view+json": {
       "model_id": "4a859e09821649ed99a7298d92363ec3",
       "version_major": 2,
       "version_minor": 0
      },
      "text/plain": [
       "0it [00:00, ?it/s]"
      ]
     },
     "metadata": {},
     "output_type": "display_data"
    },
    {
     "data": {
      "application/vnd.jupyter.widget-view+json": {
       "model_id": "6b35c49a671c40389147ce30c721ad4b",
       "version_major": 2,
       "version_minor": 0
      },
      "text/plain": [
       "0it [00:00, ?it/s]"
      ]
     },
     "metadata": {},
     "output_type": "display_data"
    },
    {
     "name": "stdout",
     "output_type": "stream",
     "text": [
      "Epoch [114], Train Loss : [0.02204] Val Loss : [3.32741] Val IOU score(segmentation) : [0.02724] Val accuracy score(Domain Classifier) : [0.88603]\n",
      "2.5837840047994054\n",
      "0.022043966137102973\n"
     ]
    },
    {
     "data": {
      "application/vnd.jupyter.widget-view+json": {
       "model_id": "33c5760df7cf4bd9bcf209f570916efd",
       "version_major": 2,
       "version_minor": 0
      },
      "text/plain": [
       "0it [00:00, ?it/s]"
      ]
     },
     "metadata": {},
     "output_type": "display_data"
    },
    {
     "data": {
      "application/vnd.jupyter.widget-view+json": {
       "model_id": "22f87c0f5dca4854ad67f321bd0a6444",
       "version_major": 2,
       "version_minor": 0
      },
      "text/plain": [
       "0it [00:00, ?it/s]"
      ]
     },
     "metadata": {},
     "output_type": "display_data"
    },
    {
     "name": "stdout",
     "output_type": "stream",
     "text": [
      "Epoch [115], Train Loss : [0.01832] Val Loss : [3.27759] Val IOU score(segmentation) : [0.02686] Val accuracy score(Domain Classifier) : [0.88971]\n",
      "2.5830209936414446\n",
      "0.018321821316849105\n"
     ]
    },
    {
     "data": {
      "application/vnd.jupyter.widget-view+json": {
       "model_id": "5d0e9fa6889f4ca69df6b930dde76de4",
       "version_major": 2,
       "version_minor": 0
      },
      "text/plain": [
       "0it [00:00, ?it/s]"
      ]
     },
     "metadata": {},
     "output_type": "display_data"
    },
    {
     "data": {
      "application/vnd.jupyter.widget-view+json": {
       "model_id": "61eeff7dd1144b0cb077e9394fc95661",
       "version_major": 2,
       "version_minor": 0
      },
      "text/plain": [
       "0it [00:00, ?it/s]"
      ]
     },
     "metadata": {},
     "output_type": "display_data"
    },
    {
     "name": "stdout",
     "output_type": "stream",
     "text": [
      "Epoch [116], Train Loss : [0.01724] Val Loss : [3.32853] Val IOU score(segmentation) : [0.02702] Val accuracy score(Domain Classifier) : [0.88419]\n",
      "2.5832794322107073\n",
      "0.017243689892216606\n"
     ]
    },
    {
     "data": {
      "application/vnd.jupyter.widget-view+json": {
       "model_id": "613091c7b61b44b58772f538d51eecdc",
       "version_major": 2,
       "version_minor": 0
      },
      "text/plain": [
       "0it [00:00, ?it/s]"
      ]
     },
     "metadata": {},
     "output_type": "display_data"
    },
    {
     "data": {
      "application/vnd.jupyter.widget-view+json": {
       "model_id": "79cb03e4dde54c86bfc6c36b017ad0c1",
       "version_major": 2,
       "version_minor": 0
      },
      "text/plain": [
       "0it [00:00, ?it/s]"
      ]
     },
     "metadata": {},
     "output_type": "display_data"
    },
    {
     "name": "stdout",
     "output_type": "stream",
     "text": [
      "Epoch [117], Train Loss : [0.01788] Val Loss : [3.26278] Val IOU score(segmentation) : [0.02750] Val accuracy score(Domain Classifier) : [0.90074]\n",
      "2.5835616319699395\n",
      "0.017881599802189486\n"
     ]
    },
    {
     "data": {
      "application/vnd.jupyter.widget-view+json": {
       "model_id": "4100056da94942a09c766bc53a2f7eaa",
       "version_major": 2,
       "version_minor": 0
      },
      "text/plain": [
       "0it [00:00, ?it/s]"
      ]
     },
     "metadata": {},
     "output_type": "display_data"
    },
    {
     "data": {
      "application/vnd.jupyter.widget-view+json": {
       "model_id": "eb3d49e6795e47b59f7a1e1090607fbc",
       "version_major": 2,
       "version_minor": 0
      },
      "text/plain": [
       "0it [00:00, ?it/s]"
      ]
     },
     "metadata": {},
     "output_type": "display_data"
    },
    {
     "name": "stdout",
     "output_type": "stream",
     "text": [
      "Epoch [118], Train Loss : [0.02330] Val Loss : [3.21521] Val IOU score(segmentation) : [0.02735] Val accuracy score(Domain Classifier) : [0.89338]\n",
      "2.5835342192112054\n",
      "0.02330058396018602\n"
     ]
    },
    {
     "data": {
      "application/vnd.jupyter.widget-view+json": {
       "model_id": "9ffcd29a2aef4f35b8ce889dd36df8d3",
       "version_major": 2,
       "version_minor": 0
      },
      "text/plain": [
       "0it [00:00, ?it/s]"
      ]
     },
     "metadata": {},
     "output_type": "display_data"
    },
    {
     "data": {
      "application/vnd.jupyter.widget-view+json": {
       "model_id": "9a48fac122e54df3bfe410540e289869",
       "version_major": 2,
       "version_minor": 0
      },
      "text/plain": [
       "0it [00:00, ?it/s]"
      ]
     },
     "metadata": {},
     "output_type": "display_data"
    },
    {
     "name": "stdout",
     "output_type": "stream",
     "text": [
      "Epoch [119], Train Loss : [0.02169] Val Loss : [3.23489] Val IOU score(segmentation) : [0.02754] Val accuracy score(Domain Classifier) : [0.90257]\n",
      "2.583363952493309\n",
      "0.021690581387667777\n"
     ]
    },
    {
     "data": {
      "application/vnd.jupyter.widget-view+json": {
       "model_id": "7d4bcf1bfc3e4a1a9b98f7f030d0f9e2",
       "version_major": 2,
       "version_minor": 0
      },
      "text/plain": [
       "0it [00:00, ?it/s]"
      ]
     },
     "metadata": {},
     "output_type": "display_data"
    },
    {
     "data": {
      "application/vnd.jupyter.widget-view+json": {
       "model_id": "e94dfb8999d348be95ab2484d167913c",
       "version_major": 2,
       "version_minor": 0
      },
      "text/plain": [
       "0it [00:00, ?it/s]"
      ]
     },
     "metadata": {},
     "output_type": "display_data"
    },
    {
     "name": "stdout",
     "output_type": "stream",
     "text": [
      "Epoch [120], Train Loss : [0.01367] Val Loss : [3.38974] Val IOU score(segmentation) : [0.02683] Val accuracy score(Domain Classifier) : [0.87316]\n",
      "2.5836089965992404\n",
      "0.013670813164361263\n"
     ]
    },
    {
     "data": {
      "application/vnd.jupyter.widget-view+json": {
       "model_id": "fb48677af9064226b70311da610dbd51",
       "version_major": 2,
       "version_minor": 0
      },
      "text/plain": [
       "0it [00:00, ?it/s]"
      ]
     },
     "metadata": {},
     "output_type": "display_data"
    },
    {
     "data": {
      "application/vnd.jupyter.widget-view+json": {
       "model_id": "99faba70e09c42e9acff31a9be89acd8",
       "version_major": 2,
       "version_minor": 0
      },
      "text/plain": [
       "0it [00:00, ?it/s]"
      ]
     },
     "metadata": {},
     "output_type": "display_data"
    },
    {
     "name": "stdout",
     "output_type": "stream",
     "text": [
      "Epoch [121], Train Loss : [0.01994] Val Loss : [3.36152] Val IOU score(segmentation) : [0.02729] Val accuracy score(Domain Classifier) : [0.88235]\n",
      "2.583578842923157\n",
      "0.019939885980010216\n"
     ]
    },
    {
     "data": {
      "application/vnd.jupyter.widget-view+json": {
       "model_id": "d9323efa004e4e96b0cb09fd6b95c6cb",
       "version_major": 2,
       "version_minor": 0
      },
      "text/plain": [
       "0it [00:00, ?it/s]"
      ]
     },
     "metadata": {},
     "output_type": "display_data"
    },
    {
     "data": {
      "application/vnd.jupyter.widget-view+json": {
       "model_id": "aa4a8ba85e734f2488f71b2ea2ee3f63",
       "version_major": 2,
       "version_minor": 0
      },
      "text/plain": [
       "0it [00:00, ?it/s]"
      ]
     },
     "metadata": {},
     "output_type": "display_data"
    },
    {
     "name": "stdout",
     "output_type": "stream",
     "text": [
      "Epoch [122], Train Loss : [0.02463] Val Loss : [3.25087] Val IOU score(segmentation) : [0.02663] Val accuracy score(Domain Classifier) : [0.88419]\n",
      "2.5831692792419205\n",
      "0.024630516081701796\n"
     ]
    },
    {
     "data": {
      "application/vnd.jupyter.widget-view+json": {
       "model_id": "5a4509e226b1433e841f2cb4845b0747",
       "version_major": 2,
       "version_minor": 0
      },
      "text/plain": [
       "0it [00:00, ?it/s]"
      ]
     },
     "metadata": {},
     "output_type": "display_data"
    },
    {
     "data": {
      "application/vnd.jupyter.widget-view+json": {
       "model_id": "e29a7b825013493a90e9edc6d1349b01",
       "version_major": 2,
       "version_minor": 0
      },
      "text/plain": [
       "0it [00:00, ?it/s]"
      ]
     },
     "metadata": {},
     "output_type": "display_data"
    },
    {
     "name": "stdout",
     "output_type": "stream",
     "text": [
      "Epoch [123], Train Loss : [0.02047] Val Loss : [3.42463] Val IOU score(segmentation) : [0.02696] Val accuracy score(Domain Classifier) : [0.86213]\n",
      "2.5833048928052857\n",
      "0.020474726513541947\n"
     ]
    },
    {
     "data": {
      "application/vnd.jupyter.widget-view+json": {
       "model_id": "1cb5ef7313864d58b5c3ad90d455f394",
       "version_major": 2,
       "version_minor": 0
      },
      "text/plain": [
       "0it [00:00, ?it/s]"
      ]
     },
     "metadata": {},
     "output_type": "display_data"
    },
    {
     "data": {
      "application/vnd.jupyter.widget-view+json": {
       "model_id": "f0c1e3fd6f9041318d73921fa8da5d28",
       "version_major": 2,
       "version_minor": 0
      },
      "text/plain": [
       "0it [00:00, ?it/s]"
      ]
     },
     "metadata": {},
     "output_type": "display_data"
    },
    {
     "name": "stdout",
     "output_type": "stream",
     "text": [
      "Epoch [124], Train Loss : [0.01577] Val Loss : [3.29176] Val IOU score(segmentation) : [0.02699] Val accuracy score(Domain Classifier) : [0.88971]\n",
      "2.583480757878239\n",
      "0.015765192984564833\n"
     ]
    },
    {
     "data": {
      "application/vnd.jupyter.widget-view+json": {
       "model_id": "c77533a7b2914307b00f44a57dd50e31",
       "version_major": 2,
       "version_minor": 0
      },
      "text/plain": [
       "0it [00:00, ?it/s]"
      ]
     },
     "metadata": {},
     "output_type": "display_data"
    },
    {
     "data": {
      "application/vnd.jupyter.widget-view+json": {
       "model_id": "f3f446c42efe4b178ff3fac292a35376",
       "version_major": 2,
       "version_minor": 0
      },
      "text/plain": [
       "0it [00:00, ?it/s]"
      ]
     },
     "metadata": {},
     "output_type": "display_data"
    },
    {
     "name": "stdout",
     "output_type": "stream",
     "text": [
      "Epoch [125], Train Loss : [0.01835] Val Loss : [3.20566] Val IOU score(segmentation) : [0.02724] Val accuracy score(Domain Classifier) : [0.88971]\n",
      "2.583695877763562\n",
      "0.018346434875078064\n"
     ]
    },
    {
     "data": {
      "application/vnd.jupyter.widget-view+json": {
       "model_id": "c218f04437c64bc7afcd244b90ff8adc",
       "version_major": 2,
       "version_minor": 0
      },
      "text/plain": [
       "0it [00:00, ?it/s]"
      ]
     },
     "metadata": {},
     "output_type": "display_data"
    },
    {
     "data": {
      "application/vnd.jupyter.widget-view+json": {
       "model_id": "595adaa631ee4778945ab1b9fa0f847d",
       "version_major": 2,
       "version_minor": 0
      },
      "text/plain": [
       "0it [00:00, ?it/s]"
      ]
     },
     "metadata": {},
     "output_type": "display_data"
    },
    {
     "name": "stdout",
     "output_type": "stream",
     "text": [
      "Epoch [126], Train Loss : [0.02121] Val Loss : [3.27306] Val IOU score(segmentation) : [0.02672] Val accuracy score(Domain Classifier) : [0.88603]\n",
      "2.583462474937726\n",
      "0.021210276273156244\n"
     ]
    },
    {
     "data": {
      "application/vnd.jupyter.widget-view+json": {
       "model_id": "5cb1238db9ee425abfbdfe38afb6279a",
       "version_major": 2,
       "version_minor": 0
      },
      "text/plain": [
       "0it [00:00, ?it/s]"
      ]
     },
     "metadata": {},
     "output_type": "display_data"
    },
    {
     "data": {
      "application/vnd.jupyter.widget-view+json": {
       "model_id": "aaeb1f7f68c4445594ca5e4a920ffd2c",
       "version_major": 2,
       "version_minor": 0
      },
      "text/plain": [
       "0it [00:00, ?it/s]"
      ]
     },
     "metadata": {},
     "output_type": "display_data"
    },
    {
     "name": "stdout",
     "output_type": "stream",
     "text": [
      "Epoch [127], Train Loss : [0.01348] Val Loss : [3.29166] Val IOU score(segmentation) : [0.02725] Val accuracy score(Domain Classifier) : [0.88051]\n",
      "2.5836828400317886\n",
      "0.013481724620849258\n"
     ]
    },
    {
     "data": {
      "application/vnd.jupyter.widget-view+json": {
       "model_id": "7a8b2660c2e848d980f21e926b4afd06",
       "version_major": 2,
       "version_minor": 0
      },
      "text/plain": [
       "0it [00:00, ?it/s]"
      ]
     },
     "metadata": {},
     "output_type": "display_data"
    },
    {
     "data": {
      "application/vnd.jupyter.widget-view+json": {
       "model_id": "be3a14e6fed547a685d6490390c36913",
       "version_major": 2,
       "version_minor": 0
      },
      "text/plain": [
       "0it [00:00, ?it/s]"
      ]
     },
     "metadata": {},
     "output_type": "display_data"
    },
    {
     "name": "stdout",
     "output_type": "stream",
     "text": [
      "Epoch [128], Train Loss : [0.01783] Val Loss : [3.21539] Val IOU score(segmentation) : [0.02672] Val accuracy score(Domain Classifier) : [0.89706]\n",
      "2.5830143896260656\n",
      "0.017828424822467315\n"
     ]
    },
    {
     "data": {
      "application/vnd.jupyter.widget-view+json": {
       "model_id": "7942e7515e9d44a2bf5ee3158db4e28a",
       "version_major": 2,
       "version_minor": 0
      },
      "text/plain": [
       "0it [00:00, ?it/s]"
      ]
     },
     "metadata": {},
     "output_type": "display_data"
    },
    {
     "data": {
      "application/vnd.jupyter.widget-view+json": {
       "model_id": "d0c3ccbe92644ef8bcc536b66b8751b1",
       "version_major": 2,
       "version_minor": 0
      },
      "text/plain": [
       "0it [00:00, ?it/s]"
      ]
     },
     "metadata": {},
     "output_type": "display_data"
    },
    {
     "name": "stdout",
     "output_type": "stream",
     "text": [
      "Epoch [129], Train Loss : [0.01409] Val Loss : [3.20256] Val IOU score(segmentation) : [0.02720] Val accuracy score(Domain Classifier) : [0.90257]\n",
      "2.583563386945796\n",
      "0.014089052132558413\n"
     ]
    },
    {
     "data": {
      "application/vnd.jupyter.widget-view+json": {
       "model_id": "014042237f2743b4a33d11d5f0a61cab",
       "version_major": 2,
       "version_minor": 0
      },
      "text/plain": [
       "0it [00:00, ?it/s]"
      ]
     },
     "metadata": {},
     "output_type": "display_data"
    },
    {
     "data": {
      "application/vnd.jupyter.widget-view+json": {
       "model_id": "d4c7318842d040fb945c90fc236e4128",
       "version_major": 2,
       "version_minor": 0
      },
      "text/plain": [
       "0it [00:00, ?it/s]"
      ]
     },
     "metadata": {},
     "output_type": "display_data"
    },
    {
     "name": "stdout",
     "output_type": "stream",
     "text": [
      "Epoch [130], Train Loss : [0.02060] Val Loss : [3.30064] Val IOU score(segmentation) : [0.02657] Val accuracy score(Domain Classifier) : [0.88603]\n",
      "2.582974665147021\n",
      "0.020597608226283166\n"
     ]
    },
    {
     "data": {
      "application/vnd.jupyter.widget-view+json": {
       "model_id": "1990bfc32ef84868ab33dbadc53b196e",
       "version_major": 2,
       "version_minor": 0
      },
      "text/plain": [
       "0it [00:00, ?it/s]"
      ]
     },
     "metadata": {},
     "output_type": "display_data"
    },
    {
     "data": {
      "application/vnd.jupyter.widget-view+json": {
       "model_id": "3283576358f24e09a01a2d966aa1cdf9",
       "version_major": 2,
       "version_minor": 0
      },
      "text/plain": [
       "0it [00:00, ?it/s]"
      ]
     },
     "metadata": {},
     "output_type": "display_data"
    },
    {
     "name": "stdout",
     "output_type": "stream",
     "text": [
      "Epoch [131], Train Loss : [0.01739] Val Loss : [3.22185] Val IOU score(segmentation) : [0.02731] Val accuracy score(Domain Classifier) : [0.88235]\n",
      "2.583770237470928\n",
      "0.017387809129904508\n"
     ]
    },
    {
     "data": {
      "application/vnd.jupyter.widget-view+json": {
       "model_id": "3b442c71f1bc438e8bcfe7df7a7013ff",
       "version_major": 2,
       "version_minor": 0
      },
      "text/plain": [
       "0it [00:00, ?it/s]"
      ]
     },
     "metadata": {},
     "output_type": "display_data"
    },
    {
     "data": {
      "application/vnd.jupyter.widget-view+json": {
       "model_id": "dc350c43879f4155b7d0ead8b57e7703",
       "version_major": 2,
       "version_minor": 0
      },
      "text/plain": [
       "0it [00:00, ?it/s]"
      ]
     },
     "metadata": {},
     "output_type": "display_data"
    },
    {
     "name": "stdout",
     "output_type": "stream",
     "text": [
      "Epoch [132], Train Loss : [0.01851] Val Loss : [3.25412] Val IOU score(segmentation) : [0.02696] Val accuracy score(Domain Classifier) : [0.90625]\n",
      "2.583614715059897\n",
      "0.018508513303363304\n"
     ]
    },
    {
     "data": {
      "application/vnd.jupyter.widget-view+json": {
       "model_id": "1d180c3c397c427f91d959f085378e41",
       "version_major": 2,
       "version_minor": 0
      },
      "text/plain": [
       "0it [00:00, ?it/s]"
      ]
     },
     "metadata": {},
     "output_type": "display_data"
    },
    {
     "data": {
      "application/vnd.jupyter.widget-view+json": {
       "model_id": "d4e937b06c7b41f0bdfd6341477c2b1c",
       "version_major": 2,
       "version_minor": 0
      },
      "text/plain": [
       "0it [00:00, ?it/s]"
      ]
     },
     "metadata": {},
     "output_type": "display_data"
    },
    {
     "name": "stdout",
     "output_type": "stream",
     "text": [
      "Epoch [133], Train Loss : [0.01730] Val Loss : [3.28088] Val IOU score(segmentation) : [0.02709] Val accuracy score(Domain Classifier) : [0.88971]\n",
      "2.5831579229885473\n",
      "0.017296334261514938\n"
     ]
    },
    {
     "data": {
      "application/vnd.jupyter.widget-view+json": {
       "model_id": "fded94f6adc443dab60fe02511ec6a88",
       "version_major": 2,
       "version_minor": 0
      },
      "text/plain": [
       "0it [00:00, ?it/s]"
      ]
     },
     "metadata": {},
     "output_type": "display_data"
    },
    {
     "data": {
      "application/vnd.jupyter.widget-view+json": {
       "model_id": "237a73196c474218ad32ff34847bdad0",
       "version_major": 2,
       "version_minor": 0
      },
      "text/plain": [
       "0it [00:00, ?it/s]"
      ]
     },
     "metadata": {},
     "output_type": "display_data"
    },
    {
     "name": "stdout",
     "output_type": "stream",
     "text": [
      "Epoch [134], Train Loss : [0.01657] Val Loss : [3.30321] Val IOU score(segmentation) : [0.02693] Val accuracy score(Domain Classifier) : [0.88971]\n",
      "2.5842108762353884\n",
      "0.01656691867806091\n"
     ]
    },
    {
     "data": {
      "application/vnd.jupyter.widget-view+json": {
       "model_id": "9c1553c94c8847b186a06eeb2df56a70",
       "version_major": 2,
       "version_minor": 0
      },
      "text/plain": [
       "0it [00:00, ?it/s]"
      ]
     },
     "metadata": {},
     "output_type": "display_data"
    },
    {
     "data": {
      "application/vnd.jupyter.widget-view+json": {
       "model_id": "795f151f91a8485fa0b7afb0883477bc",
       "version_major": 2,
       "version_minor": 0
      },
      "text/plain": [
       "0it [00:00, ?it/s]"
      ]
     },
     "metadata": {},
     "output_type": "display_data"
    },
    {
     "name": "stdout",
     "output_type": "stream",
     "text": [
      "Epoch [135], Train Loss : [0.02167] Val Loss : [3.24389] Val IOU score(segmentation) : [0.02710] Val accuracy score(Domain Classifier) : [0.88419]\n",
      "2.583431512789619\n",
      "0.02167164392137368\n"
     ]
    },
    {
     "data": {
      "application/vnd.jupyter.widget-view+json": {
       "model_id": "6227c5664e06492f93a52cce374f09c4",
       "version_major": 2,
       "version_minor": 0
      },
      "text/plain": [
       "0it [00:00, ?it/s]"
      ]
     },
     "metadata": {},
     "output_type": "display_data"
    },
    {
     "data": {
      "application/vnd.jupyter.widget-view+json": {
       "model_id": "e9f71fd53a6b4ae2890886bf52af4380",
       "version_major": 2,
       "version_minor": 0
      },
      "text/plain": [
       "0it [00:00, ?it/s]"
      ]
     },
     "metadata": {},
     "output_type": "display_data"
    },
    {
     "name": "stdout",
     "output_type": "stream",
     "text": [
      "Epoch [136], Train Loss : [0.01686] Val Loss : [3.51780] Val IOU score(segmentation) : [0.02699] Val accuracy score(Domain Classifier) : [0.86397]\n",
      "2.583646874678762\n",
      "0.01685700241987912\n"
     ]
    },
    {
     "data": {
      "application/vnd.jupyter.widget-view+json": {
       "model_id": "61b0192254294d5a9e080d93a1cce677",
       "version_major": 2,
       "version_minor": 0
      },
      "text/plain": [
       "0it [00:00, ?it/s]"
      ]
     },
     "metadata": {},
     "output_type": "display_data"
    },
    {
     "data": {
      "application/vnd.jupyter.widget-view+json": {
       "model_id": "06cbded378484724a067a49af33c26ec",
       "version_major": 2,
       "version_minor": 0
      },
      "text/plain": [
       "0it [00:00, ?it/s]"
      ]
     },
     "metadata": {},
     "output_type": "display_data"
    },
    {
     "name": "stdout",
     "output_type": "stream",
     "text": [
      "Epoch [137], Train Loss : [0.02254] Val Loss : [3.21998] Val IOU score(segmentation) : [0.02707] Val accuracy score(Domain Classifier) : [0.88787]\n",
      "2.58341013578544\n",
      "0.0225375497598145\n"
     ]
    },
    {
     "data": {
      "application/vnd.jupyter.widget-view+json": {
       "model_id": "80ad04009e2640a88dcdf802c481940a",
       "version_major": 2,
       "version_minor": 0
      },
      "text/plain": [
       "0it [00:00, ?it/s]"
      ]
     },
     "metadata": {},
     "output_type": "display_data"
    },
    {
     "data": {
      "application/vnd.jupyter.widget-view+json": {
       "model_id": "a2eb29353449462f8defdcf01146545e",
       "version_major": 2,
       "version_minor": 0
      },
      "text/plain": [
       "0it [00:00, ?it/s]"
      ]
     },
     "metadata": {},
     "output_type": "display_data"
    },
    {
     "name": "stdout",
     "output_type": "stream",
     "text": [
      "Epoch [138], Train Loss : [0.01617] Val Loss : [3.13984] Val IOU score(segmentation) : [0.02698] Val accuracy score(Domain Classifier) : [0.89706]\n",
      "2.5839137045064366\n",
      "0.016167979141099017\n"
     ]
    },
    {
     "data": {
      "application/vnd.jupyter.widget-view+json": {
       "model_id": "7e016f99ca76470f9818f04fd6917163",
       "version_major": 2,
       "version_minor": 0
      },
      "text/plain": [
       "0it [00:00, ?it/s]"
      ]
     },
     "metadata": {},
     "output_type": "display_data"
    },
    {
     "data": {
      "application/vnd.jupyter.widget-view+json": {
       "model_id": "f55aeba0a89e41838f9a4f0d2cde0052",
       "version_major": 2,
       "version_minor": 0
      },
      "text/plain": [
       "0it [00:00, ?it/s]"
      ]
     },
     "metadata": {},
     "output_type": "display_data"
    },
    {
     "name": "stdout",
     "output_type": "stream",
     "text": [
      "Epoch [139], Train Loss : [0.01603] Val Loss : [3.25640] Val IOU score(segmentation) : [0.02702] Val accuracy score(Domain Classifier) : [0.88787]\n",
      "2.5838268036232854\n",
      "0.016032207968401463\n"
     ]
    },
    {
     "data": {
      "application/vnd.jupyter.widget-view+json": {
       "model_id": "f07be3519808478a84eb6aa9806147c1",
       "version_major": 2,
       "version_minor": 0
      },
      "text/plain": [
       "0it [00:00, ?it/s]"
      ]
     },
     "metadata": {},
     "output_type": "display_data"
    },
    {
     "data": {
      "application/vnd.jupyter.widget-view+json": {
       "model_id": "9952c75336a1439e8f88385378ccbf1b",
       "version_major": 2,
       "version_minor": 0
      },
      "text/plain": [
       "0it [00:00, ?it/s]"
      ]
     },
     "metadata": {},
     "output_type": "display_data"
    },
    {
     "name": "stdout",
     "output_type": "stream",
     "text": [
      "Epoch [140], Train Loss : [0.02019] Val Loss : [3.36927] Val IOU score(segmentation) : [0.02639] Val accuracy score(Domain Classifier) : [0.87316]\n",
      "2.583416408165953\n",
      "0.02018983796399955\n"
     ]
    },
    {
     "data": {
      "application/vnd.jupyter.widget-view+json": {
       "model_id": "e393952a95d64009ae116c22124701fd",
       "version_major": 2,
       "version_minor": 0
      },
      "text/plain": [
       "0it [00:00, ?it/s]"
      ]
     },
     "metadata": {},
     "output_type": "display_data"
    },
    {
     "data": {
      "application/vnd.jupyter.widget-view+json": {
       "model_id": "14c68a2088ff4b758e4bfe918cabac3b",
       "version_major": 2,
       "version_minor": 0
      },
      "text/plain": [
       "0it [00:00, ?it/s]"
      ]
     },
     "metadata": {},
     "output_type": "display_data"
    },
    {
     "name": "stdout",
     "output_type": "stream",
     "text": [
      "Epoch [141], Train Loss : [0.01782] Val Loss : [3.22187] Val IOU score(segmentation) : [0.02741] Val accuracy score(Domain Classifier) : [0.88971]\n",
      "2.5833002875622055\n",
      "0.017821579352301314\n"
     ]
    },
    {
     "data": {
      "application/vnd.jupyter.widget-view+json": {
       "model_id": "ab0ddb4499e64ccfa69352a0ecde7572",
       "version_major": 2,
       "version_minor": 0
      },
      "text/plain": [
       "0it [00:00, ?it/s]"
      ]
     },
     "metadata": {},
     "output_type": "display_data"
    },
    {
     "data": {
      "application/vnd.jupyter.widget-view+json": {
       "model_id": "3c0ed8a3992847d9a6ebb9f7d88c3859",
       "version_major": 2,
       "version_minor": 0
      },
      "text/plain": [
       "0it [00:00, ?it/s]"
      ]
     },
     "metadata": {},
     "output_type": "display_data"
    },
    {
     "name": "stdout",
     "output_type": "stream",
     "text": [
      "Epoch [142], Train Loss : [0.02319] Val Loss : [3.26317] Val IOU score(segmentation) : [0.02692] Val accuracy score(Domain Classifier) : [0.89338]\n",
      "2.583533771055982\n",
      "0.023185502627909995\n"
     ]
    },
    {
     "data": {
      "application/vnd.jupyter.widget-view+json": {
       "model_id": "99545e89ea8d476d9162e2d775e7e193",
       "version_major": 2,
       "version_minor": 0
      },
      "text/plain": [
       "0it [00:00, ?it/s]"
      ]
     },
     "metadata": {},
     "output_type": "display_data"
    },
    {
     "data": {
      "application/vnd.jupyter.widget-view+json": {
       "model_id": "7d0f44dd46844a039b0f4fc357e24f15",
       "version_major": 2,
       "version_minor": 0
      },
      "text/plain": [
       "0it [00:00, ?it/s]"
      ]
     },
     "metadata": {},
     "output_type": "display_data"
    },
    {
     "name": "stdout",
     "output_type": "stream",
     "text": [
      "Epoch [143], Train Loss : [0.01721] Val Loss : [3.19603] Val IOU score(segmentation) : [0.02708] Val accuracy score(Domain Classifier) : [0.91360]\n",
      "2.5830430231596293\n",
      "0.01720995976752864\n"
     ]
    },
    {
     "data": {
      "application/vnd.jupyter.widget-view+json": {
       "model_id": "23213d16804d4ca8b71846558cab9711",
       "version_major": 2,
       "version_minor": 0
      },
      "text/plain": [
       "0it [00:00, ?it/s]"
      ]
     },
     "metadata": {},
     "output_type": "display_data"
    },
    {
     "data": {
      "application/vnd.jupyter.widget-view+json": {
       "model_id": "1ef180c92074488e85424e242d354a21",
       "version_major": 2,
       "version_minor": 0
      },
      "text/plain": [
       "0it [00:00, ?it/s]"
      ]
     },
     "metadata": {},
     "output_type": "display_data"
    },
    {
     "name": "stdout",
     "output_type": "stream",
     "text": [
      "Epoch [144], Train Loss : [0.01538] Val Loss : [3.33291] Val IOU score(segmentation) : [0.02690] Val accuracy score(Domain Classifier) : [0.87500]\n",
      "2.5833448359840796\n",
      "0.015382691408827887\n"
     ]
    },
    {
     "data": {
      "application/vnd.jupyter.widget-view+json": {
       "model_id": "a14c5af0b87045b793c420bf21229f04",
       "version_major": 2,
       "version_minor": 0
      },
      "text/plain": [
       "0it [00:00, ?it/s]"
      ]
     },
     "metadata": {},
     "output_type": "display_data"
    },
    {
     "data": {
      "application/vnd.jupyter.widget-view+json": {
       "model_id": "ca6b3bf74521410a8621eb743f6f5c58",
       "version_major": 2,
       "version_minor": 0
      },
      "text/plain": [
       "0it [00:00, ?it/s]"
      ]
     },
     "metadata": {},
     "output_type": "display_data"
    },
    {
     "name": "stdout",
     "output_type": "stream",
     "text": [
      "Epoch [145], Train Loss : [0.01553] Val Loss : [3.21155] Val IOU score(segmentation) : [0.02709] Val accuracy score(Domain Classifier) : [0.88603]\n",
      "2.5833684232898224\n",
      "0.015532460069385379\n"
     ]
    },
    {
     "data": {
      "application/vnd.jupyter.widget-view+json": {
       "model_id": "4cadd89b7a614ef9b55450cf8359cec4",
       "version_major": 2,
       "version_minor": 0
      },
      "text/plain": [
       "0it [00:00, ?it/s]"
      ]
     },
     "metadata": {},
     "output_type": "display_data"
    },
    {
     "data": {
      "application/vnd.jupyter.widget-view+json": {
       "model_id": "a4138027a6df483aa3a3400ac5053974",
       "version_major": 2,
       "version_minor": 0
      },
      "text/plain": [
       "0it [00:00, ?it/s]"
      ]
     },
     "metadata": {},
     "output_type": "display_data"
    },
    {
     "name": "stdout",
     "output_type": "stream",
     "text": [
      "Epoch [146], Train Loss : [0.01258] Val Loss : [3.39306] Val IOU score(segmentation) : [0.02664] Val accuracy score(Domain Classifier) : [0.86029]\n",
      "2.5831562253765594\n",
      "0.012583220874736631\n"
     ]
    },
    {
     "data": {
      "application/vnd.jupyter.widget-view+json": {
       "model_id": "3c87821c807b428ba5494fbb1a7c981b",
       "version_major": 2,
       "version_minor": 0
      },
      "text/plain": [
       "0it [00:00, ?it/s]"
      ]
     },
     "metadata": {},
     "output_type": "display_data"
    },
    {
     "data": {
      "application/vnd.jupyter.widget-view+json": {
       "model_id": "81dcefa8e5ba41d8af068fc043392c70",
       "version_major": 2,
       "version_minor": 0
      },
      "text/plain": [
       "0it [00:00, ?it/s]"
      ]
     },
     "metadata": {},
     "output_type": "display_data"
    },
    {
     "name": "stdout",
     "output_type": "stream",
     "text": [
      "Epoch [147], Train Loss : [0.01807] Val Loss : [3.34667] Val IOU score(segmentation) : [0.02710] Val accuracy score(Domain Classifier) : [0.87684]\n",
      "2.583146729863676\n",
      "0.018066653749740095\n"
     ]
    },
    {
     "data": {
      "application/vnd.jupyter.widget-view+json": {
       "model_id": "8f69d7e85c3742c8ae0192b57e569f4d",
       "version_major": 2,
       "version_minor": 0
      },
      "text/plain": [
       "0it [00:00, ?it/s]"
      ]
     },
     "metadata": {},
     "output_type": "display_data"
    },
    {
     "data": {
      "application/vnd.jupyter.widget-view+json": {
       "model_id": "28532648c63b483eaeba3491b8ad6491",
       "version_major": 2,
       "version_minor": 0
      },
      "text/plain": [
       "0it [00:00, ?it/s]"
      ]
     },
     "metadata": {},
     "output_type": "display_data"
    },
    {
     "name": "stdout",
     "output_type": "stream",
     "text": [
      "Epoch [148], Train Loss : [0.01650] Val Loss : [3.31127] Val IOU score(segmentation) : [0.02677] Val accuracy score(Domain Classifier) : [0.88419]\n",
      "2.5836421188555265\n",
      "0.01649793043896325\n"
     ]
    },
    {
     "data": {
      "application/vnd.jupyter.widget-view+json": {
       "model_id": "6d3ee491b2b740b5b9127e6817b2613e",
       "version_major": 2,
       "version_minor": 0
      },
      "text/plain": [
       "0it [00:00, ?it/s]"
      ]
     },
     "metadata": {},
     "output_type": "display_data"
    },
    {
     "data": {
      "application/vnd.jupyter.widget-view+json": {
       "model_id": "fe1c2ef48f2c4686afc1ac3f321f92e2",
       "version_major": 2,
       "version_minor": 0
      },
      "text/plain": [
       "0it [00:00, ?it/s]"
      ]
     },
     "metadata": {},
     "output_type": "display_data"
    },
    {
     "name": "stdout",
     "output_type": "stream",
     "text": [
      "Epoch [149], Train Loss : [0.01907] Val Loss : [3.34164] Val IOU score(segmentation) : [0.02682] Val accuracy score(Domain Classifier) : [0.87684]\n",
      "2.58317762568481\n",
      "0.019065645269969043\n"
     ]
    },
    {
     "data": {
      "application/vnd.jupyter.widget-view+json": {
       "model_id": "800c2b680c014b8c8d0138d473f6fc71",
       "version_major": 2,
       "version_minor": 0
      },
      "text/plain": [
       "0it [00:00, ?it/s]"
      ]
     },
     "metadata": {},
     "output_type": "display_data"
    },
    {
     "data": {
      "application/vnd.jupyter.widget-view+json": {
       "model_id": "b4939911fae5403eaee53d214e1aecdf",
       "version_major": 2,
       "version_minor": 0
      },
      "text/plain": [
       "0it [00:00, ?it/s]"
      ]
     },
     "metadata": {},
     "output_type": "display_data"
    },
    {
     "name": "stdout",
     "output_type": "stream",
     "text": [
      "Epoch [150], Train Loss : [0.01890] Val Loss : [3.30279] Val IOU score(segmentation) : [0.02718] Val accuracy score(Domain Classifier) : [0.88787]\n",
      "2.5833065957951367\n",
      "0.018895260785720347\n"
     ]
    },
    {
     "data": {
      "application/vnd.jupyter.widget-view+json": {
       "model_id": "421b52c84f00426985b4e47588589c6b",
       "version_major": 2,
       "version_minor": 0
      },
      "text/plain": [
       "0it [00:00, ?it/s]"
      ]
     },
     "metadata": {},
     "output_type": "display_data"
    },
    {
     "data": {
      "application/vnd.jupyter.widget-view+json": {
       "model_id": "f8544902db924ab9939618827bad45fc",
       "version_major": 2,
       "version_minor": 0
      },
      "text/plain": [
       "0it [00:00, ?it/s]"
      ]
     },
     "metadata": {},
     "output_type": "display_data"
    },
    {
     "name": "stdout",
     "output_type": "stream",
     "text": [
      "Epoch [151], Train Loss : [0.01702] Val Loss : [3.24807] Val IOU score(segmentation) : [0.02704] Val accuracy score(Domain Classifier) : [0.89338]\n",
      "2.5835077565415463\n",
      "0.01702191745847047\n"
     ]
    },
    {
     "data": {
      "application/vnd.jupyter.widget-view+json": {
       "model_id": "2b866d4753ca4d18979bb01c28d95dd2",
       "version_major": 2,
       "version_minor": 0
      },
      "text/plain": [
       "0it [00:00, ?it/s]"
      ]
     },
     "metadata": {},
     "output_type": "display_data"
    },
    {
     "data": {
      "application/vnd.jupyter.widget-view+json": {
       "model_id": "162545302c994999ac09f19358c65408",
       "version_major": 2,
       "version_minor": 0
      },
      "text/plain": [
       "0it [00:00, ?it/s]"
      ]
     },
     "metadata": {},
     "output_type": "display_data"
    },
    {
     "name": "stdout",
     "output_type": "stream",
     "text": [
      "Epoch [152], Train Loss : [0.01400] Val Loss : [3.38446] Val IOU score(segmentation) : [0.02730] Val accuracy score(Domain Classifier) : [0.86765]\n",
      "2.5834567636475527\n",
      "0.013999423194419299\n"
     ]
    },
    {
     "data": {
      "application/vnd.jupyter.widget-view+json": {
       "model_id": "1e0d13008f204fb5827c87670bb31ce2",
       "version_major": 2,
       "version_minor": 0
      },
      "text/plain": [
       "0it [00:00, ?it/s]"
      ]
     },
     "metadata": {},
     "output_type": "display_data"
    },
    {
     "data": {
      "application/vnd.jupyter.widget-view+json": {
       "model_id": "7681466289234321a29a8630ec15c4d1",
       "version_major": 2,
       "version_minor": 0
      },
      "text/plain": [
       "0it [00:00, ?it/s]"
      ]
     },
     "metadata": {},
     "output_type": "display_data"
    },
    {
     "name": "stdout",
     "output_type": "stream",
     "text": [
      "Epoch [153], Train Loss : [0.01424] Val Loss : [3.29370] Val IOU score(segmentation) : [0.02743] Val accuracy score(Domain Classifier) : [0.88235]\n",
      "2.583403322033416\n",
      "0.014237568976753216\n"
     ]
    },
    {
     "data": {
      "application/vnd.jupyter.widget-view+json": {
       "model_id": "2cb004171c6349808f7a3dda44ccfc69",
       "version_major": 2,
       "version_minor": 0
      },
      "text/plain": [
       "0it [00:00, ?it/s]"
      ]
     },
     "metadata": {},
     "output_type": "display_data"
    },
    {
     "data": {
      "application/vnd.jupyter.widget-view+json": {
       "model_id": "77bd79e70a8a4be0a0e07f3d5f4a29fd",
       "version_major": 2,
       "version_minor": 0
      },
      "text/plain": [
       "0it [00:00, ?it/s]"
      ]
     },
     "metadata": {},
     "output_type": "display_data"
    },
    {
     "name": "stdout",
     "output_type": "stream",
     "text": [
      "Epoch [154], Train Loss : [0.01845] Val Loss : [3.26430] Val IOU score(segmentation) : [0.02665] Val accuracy score(Domain Classifier) : [0.90074]\n",
      "2.583546651037116\n",
      "0.01844608315620729\n"
     ]
    },
    {
     "data": {
      "application/vnd.jupyter.widget-view+json": {
       "model_id": "defbe874d0274a0495461f5713149bf7",
       "version_major": 2,
       "version_minor": 0
      },
      "text/plain": [
       "0it [00:00, ?it/s]"
      ]
     },
     "metadata": {},
     "output_type": "display_data"
    },
    {
     "data": {
      "application/vnd.jupyter.widget-view+json": {
       "model_id": "cbd1c1e2aa5746129b5d4ff5c897b786",
       "version_major": 2,
       "version_minor": 0
      },
      "text/plain": [
       "0it [00:00, ?it/s]"
      ]
     },
     "metadata": {},
     "output_type": "display_data"
    },
    {
     "name": "stdout",
     "output_type": "stream",
     "text": [
      "Epoch [155], Train Loss : [0.01442] Val Loss : [3.16572] Val IOU score(segmentation) : [0.02720] Val accuracy score(Domain Classifier) : [0.89890]\n",
      "2.5834786407929613\n",
      "0.014415756831557448\n"
     ]
    },
    {
     "data": {
      "application/vnd.jupyter.widget-view+json": {
       "model_id": "a13d88e7ad5941f0956958faf0812b7d",
       "version_major": 2,
       "version_minor": 0
      },
      "text/plain": [
       "0it [00:00, ?it/s]"
      ]
     },
     "metadata": {},
     "output_type": "display_data"
    },
    {
     "data": {
      "application/vnd.jupyter.widget-view+json": {
       "model_id": "17dfe31feac447f294cc0e7175abb8c7",
       "version_major": 2,
       "version_minor": 0
      },
      "text/plain": [
       "0it [00:00, ?it/s]"
      ]
     },
     "metadata": {},
     "output_type": "display_data"
    },
    {
     "name": "stdout",
     "output_type": "stream",
     "text": [
      "Epoch [156], Train Loss : [0.01895] Val Loss : [3.25858] Val IOU score(segmentation) : [0.02718] Val accuracy score(Domain Classifier) : [0.88787]\n",
      "2.5836706699285292\n",
      "0.0189522826165325\n"
     ]
    },
    {
     "data": {
      "application/vnd.jupyter.widget-view+json": {
       "model_id": "9c19d4b9f84840b2978a2a9618d87d02",
       "version_major": 2,
       "version_minor": 0
      },
      "text/plain": [
       "0it [00:00, ?it/s]"
      ]
     },
     "metadata": {},
     "output_type": "display_data"
    },
    {
     "data": {
      "application/vnd.jupyter.widget-view+json": {
       "model_id": "d56d931b958e44a0b9cf48913e7e3779",
       "version_major": 2,
       "version_minor": 0
      },
      "text/plain": [
       "0it [00:00, ?it/s]"
      ]
     },
     "metadata": {},
     "output_type": "display_data"
    },
    {
     "name": "stdout",
     "output_type": "stream",
     "text": [
      "Epoch [157], Train Loss : [0.01467] Val Loss : [3.30491] Val IOU score(segmentation) : [0.02677] Val accuracy score(Domain Classifier) : [0.89522]\n",
      "2.5835545511174023\n",
      "0.014673664829456527\n"
     ]
    },
    {
     "data": {
      "application/vnd.jupyter.widget-view+json": {
       "model_id": "aa0c7db2b74048d4a27e49df29252052",
       "version_major": 2,
       "version_minor": 0
      },
      "text/plain": [
       "0it [00:00, ?it/s]"
      ]
     },
     "metadata": {},
     "output_type": "display_data"
    },
    {
     "data": {
      "application/vnd.jupyter.widget-view+json": {
       "model_id": "02650e13f37847ba8f2fee38ce153dfe",
       "version_major": 2,
       "version_minor": 0
      },
      "text/plain": [
       "0it [00:00, ?it/s]"
      ]
     },
     "metadata": {},
     "output_type": "display_data"
    },
    {
     "name": "stdout",
     "output_type": "stream",
     "text": [
      "Epoch [158], Train Loss : [0.01937] Val Loss : [3.39133] Val IOU score(segmentation) : [0.02710] Val accuracy score(Domain Classifier) : [0.87500]\n",
      "2.5833213723691784\n",
      "0.019373662797804166\n"
     ]
    },
    {
     "data": {
      "application/vnd.jupyter.widget-view+json": {
       "model_id": "22cc2dd96f9047e5b3cdc2989bc60fa0",
       "version_major": 2,
       "version_minor": 0
      },
      "text/plain": [
       "0it [00:00, ?it/s]"
      ]
     },
     "metadata": {},
     "output_type": "display_data"
    },
    {
     "data": {
      "application/vnd.jupyter.widget-view+json": {
       "model_id": "3b4fd00e14df4f84a83c38406e49e391",
       "version_major": 2,
       "version_minor": 0
      },
      "text/plain": [
       "0it [00:00, ?it/s]"
      ]
     },
     "metadata": {},
     "output_type": "display_data"
    },
    {
     "name": "stdout",
     "output_type": "stream",
     "text": [
      "Epoch [159], Train Loss : [0.01139] Val Loss : [3.32192] Val IOU score(segmentation) : [0.02709] Val accuracy score(Domain Classifier) : [0.88419]\n",
      "2.5833664155544196\n",
      "0.011390954089312485\n"
     ]
    },
    {
     "data": {
      "application/vnd.jupyter.widget-view+json": {
       "model_id": "7a7115df02e44c969f298c57be98f010",
       "version_major": 2,
       "version_minor": 0
      },
      "text/plain": [
       "0it [00:00, ?it/s]"
      ]
     },
     "metadata": {},
     "output_type": "display_data"
    },
    {
     "data": {
      "application/vnd.jupyter.widget-view+json": {
       "model_id": "475f7676184a479fa047bdecd612a550",
       "version_major": 2,
       "version_minor": 0
      },
      "text/plain": [
       "0it [00:00, ?it/s]"
      ]
     },
     "metadata": {},
     "output_type": "display_data"
    },
    {
     "name": "stdout",
     "output_type": "stream",
     "text": [
      "Epoch [160], Train Loss : [0.01845] Val Loss : [3.37774] Val IOU score(segmentation) : [0.02720] Val accuracy score(Domain Classifier) : [0.90074]\n",
      "2.5833520781724975\n",
      "0.01845194598991613\n"
     ]
    },
    {
     "data": {
      "application/vnd.jupyter.widget-view+json": {
       "model_id": "cd1abea1c4284117ab5f8f152e3e00d1",
       "version_major": 2,
       "version_minor": 0
      },
      "text/plain": [
       "0it [00:00, ?it/s]"
      ]
     },
     "metadata": {},
     "output_type": "display_data"
    },
    {
     "data": {
      "application/vnd.jupyter.widget-view+json": {
       "model_id": "f564ab98bf7b4743b125c8bd6b5145d5",
       "version_major": 2,
       "version_minor": 0
      },
      "text/plain": [
       "0it [00:00, ?it/s]"
      ]
     },
     "metadata": {},
     "output_type": "display_data"
    },
    {
     "name": "stdout",
     "output_type": "stream",
     "text": [
      "Epoch [161], Train Loss : [0.01643] Val Loss : [3.34780] Val IOU score(segmentation) : [0.02718] Val accuracy score(Domain Classifier) : [0.88051]\n",
      "2.5837533850418892\n",
      "0.01642573754547367\n"
     ]
    },
    {
     "data": {
      "application/vnd.jupyter.widget-view+json": {
       "model_id": "6f43f806bf9641868c67bae698431922",
       "version_major": 2,
       "version_minor": 0
      },
      "text/plain": [
       "0it [00:00, ?it/s]"
      ]
     },
     "metadata": {},
     "output_type": "display_data"
    },
    {
     "data": {
      "application/vnd.jupyter.widget-view+json": {
       "model_id": "fd17e1c1c1d74d65a6cd96845d0878ab",
       "version_major": 2,
       "version_minor": 0
      },
      "text/plain": [
       "0it [00:00, ?it/s]"
      ]
     },
     "metadata": {},
     "output_type": "display_data"
    },
    {
     "name": "stdout",
     "output_type": "stream",
     "text": [
      "Epoch [162], Train Loss : [0.02318] Val Loss : [3.33999] Val IOU score(segmentation) : [0.02726] Val accuracy score(Domain Classifier) : [0.87684]\n",
      "2.5838552596873807\n",
      "0.02317572428739395\n"
     ]
    },
    {
     "data": {
      "application/vnd.jupyter.widget-view+json": {
       "model_id": "fcac65fd335d4f78b0a66d91bb6c5b57",
       "version_major": 2,
       "version_minor": 0
      },
      "text/plain": [
       "0it [00:00, ?it/s]"
      ]
     },
     "metadata": {},
     "output_type": "display_data"
    },
    {
     "data": {
      "application/vnd.jupyter.widget-view+json": {
       "model_id": "c8b8de2175934160b98a113018b3f0bf",
       "version_major": 2,
       "version_minor": 0
      },
      "text/plain": [
       "0it [00:00, ?it/s]"
      ]
     },
     "metadata": {},
     "output_type": "display_data"
    },
    {
     "name": "stdout",
     "output_type": "stream",
     "text": [
      "Epoch [163], Train Loss : [0.01670] Val Loss : [3.30013] Val IOU score(segmentation) : [0.02683] Val accuracy score(Domain Classifier) : [0.88419]\n",
      "2.583465443517929\n",
      "0.01669689813127463\n"
     ]
    },
    {
     "data": {
      "application/vnd.jupyter.widget-view+json": {
       "model_id": "6dce81f3ad984f1c86db7ae246bdccda",
       "version_major": 2,
       "version_minor": 0
      },
      "text/plain": [
       "0it [00:00, ?it/s]"
      ]
     },
     "metadata": {},
     "output_type": "display_data"
    },
    {
     "data": {
      "application/vnd.jupyter.widget-view+json": {
       "model_id": "619c10b963f0472da5f5a9215a9413a3",
       "version_major": 2,
       "version_minor": 0
      },
      "text/plain": [
       "0it [00:00, ?it/s]"
      ]
     },
     "metadata": {},
     "output_type": "display_data"
    },
    {
     "name": "stdout",
     "output_type": "stream",
     "text": [
      "Epoch [164], Train Loss : [0.01810] Val Loss : [3.22718] Val IOU score(segmentation) : [0.02740] Val accuracy score(Domain Classifier) : [0.89338]\n",
      "2.583745504680433\n",
      "0.01809557644714675\n"
     ]
    },
    {
     "data": {
      "application/vnd.jupyter.widget-view+json": {
       "model_id": "d47d617ae5ab4157a516722a943d63dd",
       "version_major": 2,
       "version_minor": 0
      },
      "text/plain": [
       "0it [00:00, ?it/s]"
      ]
     },
     "metadata": {},
     "output_type": "display_data"
    },
    {
     "data": {
      "application/vnd.jupyter.widget-view+json": {
       "model_id": "9f0587ed98b746de971b67a8014aa7f9",
       "version_major": 2,
       "version_minor": 0
      },
      "text/plain": [
       "0it [00:00, ?it/s]"
      ]
     },
     "metadata": {},
     "output_type": "display_data"
    },
    {
     "name": "stdout",
     "output_type": "stream",
     "text": [
      "Epoch [165], Train Loss : [0.01758] Val Loss : [3.34366] Val IOU score(segmentation) : [0.02710] Val accuracy score(Domain Classifier) : [0.88603]\n",
      "2.583456399745511\n",
      "0.017581959855497667\n"
     ]
    },
    {
     "data": {
      "application/vnd.jupyter.widget-view+json": {
       "model_id": "6f544d323b1342e88269e1def95f0657",
       "version_major": 2,
       "version_minor": 0
      },
      "text/plain": [
       "0it [00:00, ?it/s]"
      ]
     },
     "metadata": {},
     "output_type": "display_data"
    },
    {
     "data": {
      "application/vnd.jupyter.widget-view+json": {
       "model_id": "64a6bfc674854063a62221f90e3c7bb3",
       "version_major": 2,
       "version_minor": 0
      },
      "text/plain": [
       "0it [00:00, ?it/s]"
      ]
     },
     "metadata": {},
     "output_type": "display_data"
    },
    {
     "name": "stdout",
     "output_type": "stream",
     "text": [
      "Epoch [166], Train Loss : [0.01883] Val Loss : [3.28602] Val IOU score(segmentation) : [0.02722] Val accuracy score(Domain Classifier) : [0.87132]\n",
      "2.583805064509686\n",
      "0.01882780961301948\n"
     ]
    },
    {
     "data": {
      "application/vnd.jupyter.widget-view+json": {
       "model_id": "6f6d33a7b4db4839b541c45f3304a34c",
       "version_major": 2,
       "version_minor": 0
      },
      "text/plain": [
       "0it [00:00, ?it/s]"
      ]
     },
     "metadata": {},
     "output_type": "display_data"
    },
    {
     "data": {
      "application/vnd.jupyter.widget-view+json": {
       "model_id": "5a9be45024c7420ba392d74f65f7341a",
       "version_major": 2,
       "version_minor": 0
      },
      "text/plain": [
       "0it [00:00, ?it/s]"
      ]
     },
     "metadata": {},
     "output_type": "display_data"
    },
    {
     "name": "stdout",
     "output_type": "stream",
     "text": [
      "Epoch [167], Train Loss : [0.01859] Val Loss : [3.32879] Val IOU score(segmentation) : [0.02716] Val accuracy score(Domain Classifier) : [0.88051]\n",
      "2.5833668941841985\n",
      "0.018591852604715273\n"
     ]
    },
    {
     "data": {
      "application/vnd.jupyter.widget-view+json": {
       "model_id": "20d0ae04ddbb43caa6b9db97d6d40166",
       "version_major": 2,
       "version_minor": 0
      },
      "text/plain": [
       "0it [00:00, ?it/s]"
      ]
     },
     "metadata": {},
     "output_type": "display_data"
    },
    {
     "data": {
      "application/vnd.jupyter.widget-view+json": {
       "model_id": "fa1ba337a4f242fa82583f53437c06cb",
       "version_major": 2,
       "version_minor": 0
      },
      "text/plain": [
       "0it [00:00, ?it/s]"
      ]
     },
     "metadata": {},
     "output_type": "display_data"
    },
    {
     "name": "stdout",
     "output_type": "stream",
     "text": [
      "Epoch [168], Train Loss : [0.01815] Val Loss : [3.40032] Val IOU score(segmentation) : [0.02688] Val accuracy score(Domain Classifier) : [0.87500]\n",
      "2.5829219997377324\n",
      "0.018146531335585855\n"
     ]
    },
    {
     "data": {
      "application/vnd.jupyter.widget-view+json": {
       "model_id": "4d3cc8695d604c53ae0fd3c07004ca7f",
       "version_major": 2,
       "version_minor": 0
      },
      "text/plain": [
       "0it [00:00, ?it/s]"
      ]
     },
     "metadata": {},
     "output_type": "display_data"
    },
    {
     "data": {
      "application/vnd.jupyter.widget-view+json": {
       "model_id": "3528407b2f4c4b239c24775422f9f59e",
       "version_major": 2,
       "version_minor": 0
      },
      "text/plain": [
       "0it [00:00, ?it/s]"
      ]
     },
     "metadata": {},
     "output_type": "display_data"
    },
    {
     "name": "stdout",
     "output_type": "stream",
     "text": [
      "Epoch [169], Train Loss : [0.01462] Val Loss : [3.37377] Val IOU score(segmentation) : [0.02733] Val accuracy score(Domain Classifier) : [0.88603]\n",
      "2.5840179023886085\n",
      "0.014623361160449991\n"
     ]
    },
    {
     "data": {
      "application/vnd.jupyter.widget-view+json": {
       "model_id": "e6a6c1edc79d45bfbdf2ded5f72c9217",
       "version_major": 2,
       "version_minor": 0
      },
      "text/plain": [
       "0it [00:00, ?it/s]"
      ]
     },
     "metadata": {},
     "output_type": "display_data"
    },
    {
     "data": {
      "application/vnd.jupyter.widget-view+json": {
       "model_id": "be343b4f04c6471b81b199354908ca11",
       "version_major": 2,
       "version_minor": 0
      },
      "text/plain": [
       "0it [00:00, ?it/s]"
      ]
     },
     "metadata": {},
     "output_type": "display_data"
    },
    {
     "name": "stdout",
     "output_type": "stream",
     "text": [
      "Epoch [170], Train Loss : [0.01790] Val Loss : [3.21141] Val IOU score(segmentation) : [0.02701] Val accuracy score(Domain Classifier) : [0.89154]\n",
      "2.5832330051221346\n",
      "0.01790253583585171\n"
     ]
    },
    {
     "data": {
      "application/vnd.jupyter.widget-view+json": {
       "model_id": "f64cb14c92bc47e9958a9639cb65a8eb",
       "version_major": 2,
       "version_minor": 0
      },
      "text/plain": [
       "0it [00:00, ?it/s]"
      ]
     },
     "metadata": {},
     "output_type": "display_data"
    },
    {
     "data": {
      "application/vnd.jupyter.widget-view+json": {
       "model_id": "557cf4b7eef3432a9a4ed0fce7d07ccc",
       "version_major": 2,
       "version_minor": 0
      },
      "text/plain": [
       "0it [00:00, ?it/s]"
      ]
     },
     "metadata": {},
     "output_type": "display_data"
    },
    {
     "name": "stdout",
     "output_type": "stream",
     "text": [
      "Epoch [171], Train Loss : [0.01298] Val Loss : [3.32857] Val IOU score(segmentation) : [0.02700] Val accuracy score(Domain Classifier) : [0.88235]\n",
      "2.583143537205861\n",
      "0.012977137499711217\n"
     ]
    },
    {
     "data": {
      "application/vnd.jupyter.widget-view+json": {
       "model_id": "40ef6c93b32040b5acffff42b83590d7",
       "version_major": 2,
       "version_minor": 0
      },
      "text/plain": [
       "0it [00:00, ?it/s]"
      ]
     },
     "metadata": {},
     "output_type": "display_data"
    },
    {
     "data": {
      "application/vnd.jupyter.widget-view+json": {
       "model_id": "52f4ff6ac5ad455a8bed8b0afe775f2c",
       "version_major": 2,
       "version_minor": 0
      },
      "text/plain": [
       "0it [00:00, ?it/s]"
      ]
     },
     "metadata": {},
     "output_type": "display_data"
    },
    {
     "name": "stdout",
     "output_type": "stream",
     "text": [
      "Epoch [172], Train Loss : [0.01588] Val Loss : [3.28237] Val IOU score(segmentation) : [0.02706] Val accuracy score(Domain Classifier) : [0.88603]\n",
      "2.583560782267635\n",
      "0.015877076285485094\n"
     ]
    },
    {
     "data": {
      "application/vnd.jupyter.widget-view+json": {
       "model_id": "72c5d719f15b49d3aca2301c09150765",
       "version_major": 2,
       "version_minor": 0
      },
      "text/plain": [
       "0it [00:00, ?it/s]"
      ]
     },
     "metadata": {},
     "output_type": "display_data"
    },
    {
     "data": {
      "application/vnd.jupyter.widget-view+json": {
       "model_id": "01347b2f85b241d1b06918e0d206edb7",
       "version_major": 2,
       "version_minor": 0
      },
      "text/plain": [
       "0it [00:00, ?it/s]"
      ]
     },
     "metadata": {},
     "output_type": "display_data"
    },
    {
     "name": "stdout",
     "output_type": "stream",
     "text": [
      "Epoch [173], Train Loss : [0.01763] Val Loss : [3.16833] Val IOU score(segmentation) : [0.02639] Val accuracy score(Domain Classifier) : [0.90809]\n",
      "2.583578896701784\n",
      "0.017634230563561504\n"
     ]
    },
    {
     "data": {
      "application/vnd.jupyter.widget-view+json": {
       "model_id": "453e8a449a164f31ae8744c4ba4a5cb8",
       "version_major": 2,
       "version_minor": 0
      },
      "text/plain": [
       "0it [00:00, ?it/s]"
      ]
     },
     "metadata": {},
     "output_type": "display_data"
    },
    {
     "data": {
      "application/vnd.jupyter.widget-view+json": {
       "model_id": "7f84a8cde60a47a0874f3b30506e9c12",
       "version_major": 2,
       "version_minor": 0
      },
      "text/plain": [
       "0it [00:00, ?it/s]"
      ]
     },
     "metadata": {},
     "output_type": "display_data"
    },
    {
     "name": "stdout",
     "output_type": "stream",
     "text": [
      "Epoch [174], Train Loss : [0.01122] Val Loss : [3.18806] Val IOU score(segmentation) : [0.02673] Val accuracy score(Domain Classifier) : [0.89338]\n",
      "2.5832514171313523\n",
      "0.011217256850839585\n"
     ]
    },
    {
     "data": {
      "application/vnd.jupyter.widget-view+json": {
       "model_id": "4e6c509977024221aa0e7db4b302ee33",
       "version_major": 2,
       "version_minor": 0
      },
      "text/plain": [
       "0it [00:00, ?it/s]"
      ]
     },
     "metadata": {},
     "output_type": "display_data"
    },
    {
     "data": {
      "application/vnd.jupyter.widget-view+json": {
       "model_id": "34d18e17be2648ab9ea1aaedaf9d7d0c",
       "version_major": 2,
       "version_minor": 0
      },
      "text/plain": [
       "0it [00:00, ?it/s]"
      ]
     },
     "metadata": {},
     "output_type": "display_data"
    },
    {
     "name": "stdout",
     "output_type": "stream",
     "text": [
      "Epoch [175], Train Loss : [0.01710] Val Loss : [3.33394] Val IOU score(segmentation) : [0.02709] Val accuracy score(Domain Classifier) : [0.87868]\n",
      "2.583071167307689\n",
      "0.017103451227001614\n"
     ]
    },
    {
     "data": {
      "application/vnd.jupyter.widget-view+json": {
       "model_id": "f5112a1dbc144cbdba416931fdef98d0",
       "version_major": 2,
       "version_minor": 0
      },
      "text/plain": [
       "0it [00:00, ?it/s]"
      ]
     },
     "metadata": {},
     "output_type": "display_data"
    },
    {
     "data": {
      "application/vnd.jupyter.widget-view+json": {
       "model_id": "5749e4a6463349d88004c9c8b2e32d8c",
       "version_major": 2,
       "version_minor": 0
      },
      "text/plain": [
       "0it [00:00, ?it/s]"
      ]
     },
     "metadata": {},
     "output_type": "display_data"
    },
    {
     "name": "stdout",
     "output_type": "stream",
     "text": [
      "Epoch [176], Train Loss : [0.02358] Val Loss : [3.28461] Val IOU score(segmentation) : [0.02717] Val accuracy score(Domain Classifier) : [0.88419]\n",
      "2.583609554104339\n",
      "0.02358048716006377\n"
     ]
    },
    {
     "data": {
      "application/vnd.jupyter.widget-view+json": {
       "model_id": "d25c874b933b4e84a236d167030bf882",
       "version_major": 2,
       "version_minor": 0
      },
      "text/plain": [
       "0it [00:00, ?it/s]"
      ]
     },
     "metadata": {},
     "output_type": "display_data"
    },
    {
     "data": {
      "application/vnd.jupyter.widget-view+json": {
       "model_id": "c4b56912de2a478d9f2caedfa99fb63b",
       "version_major": 2,
       "version_minor": 0
      },
      "text/plain": [
       "0it [00:00, ?it/s]"
      ]
     },
     "metadata": {},
     "output_type": "display_data"
    },
    {
     "name": "stdout",
     "output_type": "stream",
     "text": [
      "Epoch [177], Train Loss : [0.01978] Val Loss : [3.34326] Val IOU score(segmentation) : [0.02725] Val accuracy score(Domain Classifier) : [0.88051]\n",
      "2.5828012111491727\n",
      "0.019783091603356406\n"
     ]
    },
    {
     "data": {
      "application/vnd.jupyter.widget-view+json": {
       "model_id": "d73bfe7a419c43e2b95825da2e1f5eb1",
       "version_major": 2,
       "version_minor": 0
      },
      "text/plain": [
       "0it [00:00, ?it/s]"
      ]
     },
     "metadata": {},
     "output_type": "display_data"
    },
    {
     "data": {
      "application/vnd.jupyter.widget-view+json": {
       "model_id": "9984e92e9c6c4160ad51cfb129b100a3",
       "version_major": 2,
       "version_minor": 0
      },
      "text/plain": [
       "0it [00:00, ?it/s]"
      ]
     },
     "metadata": {},
     "output_type": "display_data"
    },
    {
     "name": "stdout",
     "output_type": "stream",
     "text": [
      "Epoch [178], Train Loss : [0.01541] Val Loss : [3.35248] Val IOU score(segmentation) : [0.02735] Val accuracy score(Domain Classifier) : [0.88419]\n",
      "2.583514844564567\n",
      "0.015412937859278978\n"
     ]
    },
    {
     "data": {
      "application/vnd.jupyter.widget-view+json": {
       "model_id": "53dc91a2dd0e481fba045ddefff9f58d",
       "version_major": 2,
       "version_minor": 0
      },
      "text/plain": [
       "0it [00:00, ?it/s]"
      ]
     },
     "metadata": {},
     "output_type": "display_data"
    },
    {
     "data": {
      "application/vnd.jupyter.widget-view+json": {
       "model_id": "22d193ec1fa145a788e0ac6cb6cdc434",
       "version_major": 2,
       "version_minor": 0
      },
      "text/plain": [
       "0it [00:00, ?it/s]"
      ]
     },
     "metadata": {},
     "output_type": "display_data"
    },
    {
     "name": "stdout",
     "output_type": "stream",
     "text": [
      "Epoch [179], Train Loss : [0.01606] Val Loss : [3.36480] Val IOU score(segmentation) : [0.02697] Val accuracy score(Domain Classifier) : [0.87684]\n",
      "2.58339826504987\n",
      "0.01605863189954955\n"
     ]
    },
    {
     "data": {
      "application/vnd.jupyter.widget-view+json": {
       "model_id": "bbb0d842414148d7ba759ff56d9af3ea",
       "version_major": 2,
       "version_minor": 0
      },
      "text/plain": [
       "0it [00:00, ?it/s]"
      ]
     },
     "metadata": {},
     "output_type": "display_data"
    },
    {
     "data": {
      "application/vnd.jupyter.widget-view+json": {
       "model_id": "c6055aecc19644eea85d24c8d26e3804",
       "version_major": 2,
       "version_minor": 0
      },
      "text/plain": [
       "0it [00:00, ?it/s]"
      ]
     },
     "metadata": {},
     "output_type": "display_data"
    },
    {
     "name": "stdout",
     "output_type": "stream",
     "text": [
      "Epoch [180], Train Loss : [0.01972] Val Loss : [3.11450] Val IOU score(segmentation) : [0.02736] Val accuracy score(Domain Classifier) : [0.90257]\n",
      "2.583346870608796\n",
      "0.01971534229473638\n"
     ]
    },
    {
     "data": {
      "application/vnd.jupyter.widget-view+json": {
       "model_id": "2050e944fdd243dd942dadd6766fcc9a",
       "version_major": 2,
       "version_minor": 0
      },
      "text/plain": [
       "0it [00:00, ?it/s]"
      ]
     },
     "metadata": {},
     "output_type": "display_data"
    },
    {
     "data": {
      "application/vnd.jupyter.widget-view+json": {
       "model_id": "d3608bcf7ac54afe8e6d1e631eb38cab",
       "version_major": 2,
       "version_minor": 0
      },
      "text/plain": [
       "0it [00:00, ?it/s]"
      ]
     },
     "metadata": {},
     "output_type": "display_data"
    },
    {
     "name": "stdout",
     "output_type": "stream",
     "text": [
      "Epoch [181], Train Loss : [0.01517] Val Loss : [3.38852] Val IOU score(segmentation) : [0.02683] Val accuracy score(Domain Classifier) : [0.87684]\n",
      "2.583392277696079\n",
      "0.015173174972169773\n"
     ]
    },
    {
     "data": {
      "application/vnd.jupyter.widget-view+json": {
       "model_id": "5f2609385f8d466d9978b3e1d430ed2a",
       "version_major": 2,
       "version_minor": 0
      },
      "text/plain": [
       "0it [00:00, ?it/s]"
      ]
     },
     "metadata": {},
     "output_type": "display_data"
    },
    {
     "data": {
      "application/vnd.jupyter.widget-view+json": {
       "model_id": "b4102ae9c55f457f91d0bdce9e542efb",
       "version_major": 2,
       "version_minor": 0
      },
      "text/plain": [
       "0it [00:00, ?it/s]"
      ]
     },
     "metadata": {},
     "output_type": "display_data"
    },
    {
     "ename": "KeyboardInterrupt",
     "evalue": "",
     "output_type": "error",
     "traceback": [
      "\u001b[1;31m---------------------------------------------------------------------------\u001b[0m",
      "\u001b[1;31mKeyboardInterrupt\u001b[0m                         Traceback (most recent call last)",
      "\u001b[1;32mc:\\Users\\EHmin\\Camera-Invariant-Domain-Adaptation\\Test_Another\\DANN_testAlpha.ipynb Cell 29\u001b[0m line \u001b[0;36m4\n\u001b[0;32m      <a href='vscode-notebook-cell:/c%3A/Users/EHmin/Camera-Invariant-Domain-Adaptation/Test_Another/DANN_testAlpha.ipynb#X40sZmlsZQ%3D%3D?line=0'>1</a>\u001b[0m optimizer \u001b[39m=\u001b[39m torch\u001b[39m.\u001b[39moptim\u001b[39m.\u001b[39mAdam(params \u001b[39m=\u001b[39m model\u001b[39m.\u001b[39mparameters(), lr \u001b[39m=\u001b[39m CFG[\u001b[39m\"\u001b[39m\u001b[39mLEARNING_RATE\u001b[39m\u001b[39m\"\u001b[39m])\n\u001b[0;32m      <a href='vscode-notebook-cell:/c%3A/Users/EHmin/Camera-Invariant-Domain-Adaptation/Test_Another/DANN_testAlpha.ipynb#X40sZmlsZQ%3D%3D?line=1'>2</a>\u001b[0m scheduler \u001b[39m=\u001b[39m torch\u001b[39m.\u001b[39moptim\u001b[39m.\u001b[39mlr_scheduler\u001b[39m.\u001b[39mReduceLROnPlateau(optimizer, mode\u001b[39m=\u001b[39m\u001b[39m'\u001b[39m\u001b[39mmax\u001b[39m\u001b[39m'\u001b[39m, factor\u001b[39m=\u001b[39m\u001b[39m0.5\u001b[39m, patience\u001b[39m=\u001b[39m\u001b[39m2\u001b[39m, threshold_mode\u001b[39m=\u001b[39m\u001b[39m'\u001b[39m\u001b[39mabs\u001b[39m\u001b[39m'\u001b[39m, min_lr\u001b[39m=\u001b[39m\u001b[39m1e-8\u001b[39m, verbose\u001b[39m=\u001b[39m\u001b[39mTrue\u001b[39;00m)\n\u001b[1;32m----> <a href='vscode-notebook-cell:/c%3A/Users/EHmin/Camera-Invariant-Domain-Adaptation/Test_Another/DANN_testAlpha.ipynb#X40sZmlsZQ%3D%3D?line=3'>4</a>\u001b[0m infer_model \u001b[39m=\u001b[39m train(model, optimizer, train_loader_seg, val_loader_seg,train_loader_domain_adpt, val_loader_domain_adpt, scheduler, device)\n",
      "\u001b[1;32mc:\\Users\\EHmin\\Camera-Invariant-Domain-Adaptation\\Test_Another\\DANN_testAlpha.ipynb Cell 29\u001b[0m line \u001b[0;36m7\n\u001b[0;32m     <a href='vscode-notebook-cell:/c%3A/Users/EHmin/Camera-Invariant-Domain-Adaptation/Test_Another/DANN_testAlpha.ipynb#X40sZmlsZQ%3D%3D?line=65'>66</a>\u001b[0m     train_loss \u001b[39m+\u001b[39m\u001b[39m=\u001b[39m loss_d\u001b[39m.\u001b[39mitem()\n\u001b[0;32m     <a href='vscode-notebook-cell:/c%3A/Users/EHmin/Camera-Invariant-Domain-Adaptation/Test_Another/DANN_testAlpha.ipynb#X40sZmlsZQ%3D%3D?line=69'>70</a>\u001b[0m _train_loss \u001b[39m=\u001b[39m train_loss\u001b[39m/\u001b[39m\u001b[39mlen\u001b[39m(train_loader_seg)\n\u001b[1;32m---> <a href='vscode-notebook-cell:/c%3A/Users/EHmin/Camera-Invariant-Domain-Adaptation/Test_Another/DANN_testAlpha.ipynb#X40sZmlsZQ%3D%3D?line=70'>71</a>\u001b[0m _val_loss, _val_score, val_score_acc \u001b[39m=\u001b[39m validation(model, loss_segmentation, loss_classification, val_loader_seg,val_loader_domain_adpt, device)\n\u001b[0;32m     <a href='vscode-notebook-cell:/c%3A/Users/EHmin/Camera-Invariant-Domain-Adaptation/Test_Another/DANN_testAlpha.ipynb#X40sZmlsZQ%3D%3D?line=71'>72</a>\u001b[0m \u001b[39mprint\u001b[39m(\u001b[39mf\u001b[39m\u001b[39m'\u001b[39m\u001b[39mEpoch [\u001b[39m\u001b[39m{\u001b[39;00mepoch\u001b[39m}\u001b[39;00m\u001b[39m], Train Loss : [\u001b[39m\u001b[39m{\u001b[39;00m_train_loss\u001b[39m:\u001b[39;00m\u001b[39m.5f\u001b[39m\u001b[39m}\u001b[39;00m\u001b[39m] Val Loss : [\u001b[39m\u001b[39m{\u001b[39;00m_val_loss\u001b[39m:\u001b[39;00m\u001b[39m.5f\u001b[39m\u001b[39m}\u001b[39;00m\u001b[39m] Val IOU score(segmentation) : [\u001b[39m\u001b[39m{\u001b[39;00m_val_score\u001b[39m:\u001b[39;00m\u001b[39m.5f\u001b[39m\u001b[39m}\u001b[39;00m\u001b[39m] Val accuracy score(Domain Classifier) : [\u001b[39m\u001b[39m{\u001b[39;00mval_score_acc\u001b[39m:\u001b[39;00m\u001b[39m.5f\u001b[39m\u001b[39m}\u001b[39;00m\u001b[39m]\u001b[39m\u001b[39m'\u001b[39m)\n\u001b[0;32m     <a href='vscode-notebook-cell:/c%3A/Users/EHmin/Camera-Invariant-Domain-Adaptation/Test_Another/DANN_testAlpha.ipynb#X40sZmlsZQ%3D%3D?line=72'>73</a>\u001b[0m \u001b[39mprint\u001b[39m(tls \u001b[39m/\u001b[39m\u001b[39mlen\u001b[39m(train_loader_seg))\n",
      "\u001b[1;32mc:\\Users\\EHmin\\Camera-Invariant-Domain-Adaptation\\Test_Another\\DANN_testAlpha.ipynb Cell 29\u001b[0m line \u001b[0;36m7\n\u001b[0;32m      <a href='vscode-notebook-cell:/c%3A/Users/EHmin/Camera-Invariant-Domain-Adaptation/Test_Another/DANN_testAlpha.ipynb#X40sZmlsZQ%3D%3D?line=4'>5</a>\u001b[0m preds, true_labels \u001b[39m=\u001b[39m [], []\n\u001b[0;32m      <a href='vscode-notebook-cell:/c%3A/Users/EHmin/Camera-Invariant-Domain-Adaptation/Test_Another/DANN_testAlpha.ipynb#X40sZmlsZQ%3D%3D?line=5'>6</a>\u001b[0m \u001b[39mwith\u001b[39;00m torch\u001b[39m.\u001b[39mno_grad():\n\u001b[1;32m----> <a href='vscode-notebook-cell:/c%3A/Users/EHmin/Camera-Invariant-Domain-Adaptation/Test_Another/DANN_testAlpha.ipynb#X40sZmlsZQ%3D%3D?line=6'>7</a>\u001b[0m     \u001b[39mfor\u001b[39;00m  (source , gt), (source_domain, label) \u001b[39min\u001b[39;00m tqdm(\u001b[39mzip\u001b[39m(val_loader_seg, val_loader_domain_adpt)):\n\u001b[0;32m      <a href='vscode-notebook-cell:/c%3A/Users/EHmin/Camera-Invariant-Domain-Adaptation/Test_Another/DANN_testAlpha.ipynb#X40sZmlsZQ%3D%3D?line=7'>8</a>\u001b[0m         source \u001b[39m=\u001b[39m source\u001b[39m.\u001b[39mfloat()\u001b[39m.\u001b[39mto(device)\n\u001b[0;32m      <a href='vscode-notebook-cell:/c%3A/Users/EHmin/Camera-Invariant-Domain-Adaptation/Test_Another/DANN_testAlpha.ipynb#X40sZmlsZQ%3D%3D?line=8'>9</a>\u001b[0m         gt \u001b[39m=\u001b[39m gt\u001b[39m.\u001b[39mlong()\u001b[39m.\u001b[39mto(device)\n",
      "File \u001b[1;32mc:\\Users\\EHmin\\anaconda3\\envs\\EHmin\\lib\\site-packages\\tqdm\\notebook.py:254\u001b[0m, in \u001b[0;36mtqdm_notebook.__iter__\u001b[1;34m(self)\u001b[0m\n\u001b[0;32m    252\u001b[0m \u001b[39mtry\u001b[39;00m:\n\u001b[0;32m    253\u001b[0m     it \u001b[39m=\u001b[39m \u001b[39msuper\u001b[39m(tqdm_notebook, \u001b[39mself\u001b[39m)\u001b[39m.\u001b[39m\u001b[39m__iter__\u001b[39m()\n\u001b[1;32m--> 254\u001b[0m     \u001b[39mfor\u001b[39;00m obj \u001b[39min\u001b[39;00m it:\n\u001b[0;32m    255\u001b[0m         \u001b[39m# return super(tqdm...) will not catch exception\u001b[39;00m\n\u001b[0;32m    256\u001b[0m         \u001b[39myield\u001b[39;00m obj\n\u001b[0;32m    257\u001b[0m \u001b[39m# NB: except ... [ as ...] breaks IPython async KeyboardInterrupt\u001b[39;00m\n",
      "File \u001b[1;32mc:\\Users\\EHmin\\anaconda3\\envs\\EHmin\\lib\\site-packages\\tqdm\\std.py:1178\u001b[0m, in \u001b[0;36mtqdm.__iter__\u001b[1;34m(self)\u001b[0m\n\u001b[0;32m   1175\u001b[0m time \u001b[39m=\u001b[39m \u001b[39mself\u001b[39m\u001b[39m.\u001b[39m_time\n\u001b[0;32m   1177\u001b[0m \u001b[39mtry\u001b[39;00m:\n\u001b[1;32m-> 1178\u001b[0m     \u001b[39mfor\u001b[39;00m obj \u001b[39min\u001b[39;00m iterable:\n\u001b[0;32m   1179\u001b[0m         \u001b[39myield\u001b[39;00m obj\n\u001b[0;32m   1180\u001b[0m         \u001b[39m# Update and possibly print the progressbar.\u001b[39;00m\n\u001b[0;32m   1181\u001b[0m         \u001b[39m# Note: does not call self.update(1) for speed optimisation.\u001b[39;00m\n",
      "File \u001b[1;32mc:\\Users\\EHmin\\anaconda3\\envs\\EHmin\\lib\\site-packages\\torch\\utils\\data\\dataloader.py:628\u001b[0m, in \u001b[0;36m_BaseDataLoaderIter.__next__\u001b[1;34m(self)\u001b[0m\n\u001b[0;32m    625\u001b[0m \u001b[39mif\u001b[39;00m \u001b[39mself\u001b[39m\u001b[39m.\u001b[39m_sampler_iter \u001b[39mis\u001b[39;00m \u001b[39mNone\u001b[39;00m:\n\u001b[0;32m    626\u001b[0m     \u001b[39m# TODO(https://github.com/pytorch/pytorch/issues/76750)\u001b[39;00m\n\u001b[0;32m    627\u001b[0m     \u001b[39mself\u001b[39m\u001b[39m.\u001b[39m_reset()  \u001b[39m# type: ignore[call-arg]\u001b[39;00m\n\u001b[1;32m--> 628\u001b[0m data \u001b[39m=\u001b[39m \u001b[39mself\u001b[39;49m\u001b[39m.\u001b[39;49m_next_data()\n\u001b[0;32m    629\u001b[0m \u001b[39mself\u001b[39m\u001b[39m.\u001b[39m_num_yielded \u001b[39m+\u001b[39m\u001b[39m=\u001b[39m \u001b[39m1\u001b[39m\n\u001b[0;32m    630\u001b[0m \u001b[39mif\u001b[39;00m \u001b[39mself\u001b[39m\u001b[39m.\u001b[39m_dataset_kind \u001b[39m==\u001b[39m _DatasetKind\u001b[39m.\u001b[39mIterable \u001b[39mand\u001b[39;00m \\\n\u001b[0;32m    631\u001b[0m         \u001b[39mself\u001b[39m\u001b[39m.\u001b[39m_IterableDataset_len_called \u001b[39mis\u001b[39;00m \u001b[39mnot\u001b[39;00m \u001b[39mNone\u001b[39;00m \u001b[39mand\u001b[39;00m \\\n\u001b[0;32m    632\u001b[0m         \u001b[39mself\u001b[39m\u001b[39m.\u001b[39m_num_yielded \u001b[39m>\u001b[39m \u001b[39mself\u001b[39m\u001b[39m.\u001b[39m_IterableDataset_len_called:\n",
      "File \u001b[1;32mc:\\Users\\EHmin\\anaconda3\\envs\\EHmin\\lib\\site-packages\\torch\\utils\\data\\dataloader.py:671\u001b[0m, in \u001b[0;36m_SingleProcessDataLoaderIter._next_data\u001b[1;34m(self)\u001b[0m\n\u001b[0;32m    669\u001b[0m \u001b[39mdef\u001b[39;00m \u001b[39m_next_data\u001b[39m(\u001b[39mself\u001b[39m):\n\u001b[0;32m    670\u001b[0m     index \u001b[39m=\u001b[39m \u001b[39mself\u001b[39m\u001b[39m.\u001b[39m_next_index()  \u001b[39m# may raise StopIteration\u001b[39;00m\n\u001b[1;32m--> 671\u001b[0m     data \u001b[39m=\u001b[39m \u001b[39mself\u001b[39;49m\u001b[39m.\u001b[39;49m_dataset_fetcher\u001b[39m.\u001b[39;49mfetch(index)  \u001b[39m# may raise StopIteration\u001b[39;00m\n\u001b[0;32m    672\u001b[0m     \u001b[39mif\u001b[39;00m \u001b[39mself\u001b[39m\u001b[39m.\u001b[39m_pin_memory:\n\u001b[0;32m    673\u001b[0m         data \u001b[39m=\u001b[39m _utils\u001b[39m.\u001b[39mpin_memory\u001b[39m.\u001b[39mpin_memory(data, \u001b[39mself\u001b[39m\u001b[39m.\u001b[39m_pin_memory_device)\n",
      "File \u001b[1;32mc:\\Users\\EHmin\\anaconda3\\envs\\EHmin\\lib\\site-packages\\torch\\utils\\data\\_utils\\fetch.py:58\u001b[0m, in \u001b[0;36m_MapDatasetFetcher.fetch\u001b[1;34m(self, possibly_batched_index)\u001b[0m\n\u001b[0;32m     56\u001b[0m         data \u001b[39m=\u001b[39m \u001b[39mself\u001b[39m\u001b[39m.\u001b[39mdataset\u001b[39m.\u001b[39m__getitems__(possibly_batched_index)\n\u001b[0;32m     57\u001b[0m     \u001b[39melse\u001b[39;00m:\n\u001b[1;32m---> 58\u001b[0m         data \u001b[39m=\u001b[39m [\u001b[39mself\u001b[39m\u001b[39m.\u001b[39mdataset[idx] \u001b[39mfor\u001b[39;00m idx \u001b[39min\u001b[39;00m possibly_batched_index]\n\u001b[0;32m     59\u001b[0m \u001b[39melse\u001b[39;00m:\n\u001b[0;32m     60\u001b[0m     data \u001b[39m=\u001b[39m \u001b[39mself\u001b[39m\u001b[39m.\u001b[39mdataset[possibly_batched_index]\n",
      "File \u001b[1;32mc:\\Users\\EHmin\\anaconda3\\envs\\EHmin\\lib\\site-packages\\torch\\utils\\data\\_utils\\fetch.py:58\u001b[0m, in \u001b[0;36m<listcomp>\u001b[1;34m(.0)\u001b[0m\n\u001b[0;32m     56\u001b[0m         data \u001b[39m=\u001b[39m \u001b[39mself\u001b[39m\u001b[39m.\u001b[39mdataset\u001b[39m.\u001b[39m__getitems__(possibly_batched_index)\n\u001b[0;32m     57\u001b[0m     \u001b[39melse\u001b[39;00m:\n\u001b[1;32m---> 58\u001b[0m         data \u001b[39m=\u001b[39m [\u001b[39mself\u001b[39;49m\u001b[39m.\u001b[39;49mdataset[idx] \u001b[39mfor\u001b[39;00m idx \u001b[39min\u001b[39;00m possibly_batched_index]\n\u001b[0;32m     59\u001b[0m \u001b[39melse\u001b[39;00m:\n\u001b[0;32m     60\u001b[0m     data \u001b[39m=\u001b[39m \u001b[39mself\u001b[39m\u001b[39m.\u001b[39mdataset[possibly_batched_index]\n",
      "\u001b[1;32mc:\\Users\\EHmin\\Camera-Invariant-Domain-Adaptation\\Test_Another\\DANN_testAlpha.ipynb Cell 29\u001b[0m line \u001b[0;36m2\n\u001b[0;32m     <a href='vscode-notebook-cell:/c%3A/Users/EHmin/Camera-Invariant-Domain-Adaptation/Test_Another/DANN_testAlpha.ipynb#X40sZmlsZQ%3D%3D?line=16'>17</a>\u001b[0m     \u001b[39mreturn\u001b[39;00m image\n\u001b[0;32m     <a href='vscode-notebook-cell:/c%3A/Users/EHmin/Camera-Invariant-Domain-Adaptation/Test_Another/DANN_testAlpha.ipynb#X40sZmlsZQ%3D%3D?line=18'>19</a>\u001b[0m mask_path \u001b[39m=\u001b[39m \u001b[39mself\u001b[39m\u001b[39m.\u001b[39mgt[idx]\n\u001b[1;32m---> <a href='vscode-notebook-cell:/c%3A/Users/EHmin/Camera-Invariant-Domain-Adaptation/Test_Another/DANN_testAlpha.ipynb#X40sZmlsZQ%3D%3D?line=19'>20</a>\u001b[0m mask \u001b[39m=\u001b[39m cv\u001b[39m.\u001b[39;49mimread(mask_path, cv\u001b[39m.\u001b[39;49mIMREAD_GRAYSCALE)\n\u001b[0;32m     <a href='vscode-notebook-cell:/c%3A/Users/EHmin/Camera-Invariant-Domain-Adaptation/Test_Another/DANN_testAlpha.ipynb#X40sZmlsZQ%3D%3D?line=20'>21</a>\u001b[0m mask[mask \u001b[39m==\u001b[39m \u001b[39m255\u001b[39m] \u001b[39m=\u001b[39m \u001b[39m12\u001b[39m \u001b[39m#/ 배경을 픽셀값 12로 간주 이거 원래 없던 값!\u001b[39;00m\n\u001b[0;32m     <a href='vscode-notebook-cell:/c%3A/Users/EHmin/Camera-Invariant-Domain-Adaptation/Test_Another/DANN_testAlpha.ipynb#X40sZmlsZQ%3D%3D?line=22'>23</a>\u001b[0m \u001b[39mif\u001b[39;00m \u001b[39mself\u001b[39m\u001b[39m.\u001b[39mtransform: \u001b[39m# 알부네이션 먹이이는 형식으로 진행 \u001b[39;00m\n",
      "\u001b[1;31mKeyboardInterrupt\u001b[0m: "
     ]
    }
   ],
   "source": [
    "optimizer = torch.optim.Adam(params = model.parameters(), lr = CFG[\"LEARNING_RATE\"])\n",
    "scheduler = torch.optim.lr_scheduler.ReduceLROnPlateau(optimizer, mode='max', factor=0.5, patience=2, threshold_mode='abs', min_lr=1e-8, verbose=True)\n",
    "\n",
    "infer_model = train(model, optimizer, train_loader_seg, val_loader_seg,train_loader_domain_adpt, val_loader_domain_adpt, scheduler, device)"
   ]
  },
  {
   "cell_type": "markdown",
   "metadata": {},
   "source": [
    "# EVAL"
   ]
  },
  {
   "cell_type": "code",
   "execution_count": null,
   "metadata": {},
   "outputs": [],
   "source": [
    "#폴더 이동시 경로 수정이 필요할 수 있음 \n",
    "test_dataset = glob.glob(\"../Data/test_image/*\")\n",
    "\n",
    "# glob 이후에 정렬이 안되어 있기 때문에, source - gt matching을 위해 정렬\n",
    "test_dataset.sort()\n",
    "\n",
    "print(test_dataset)"
   ]
  },
  {
   "cell_type": "code",
   "execution_count": null,
   "metadata": {},
   "outputs": [],
   "source": [
    "df_test = pd.DataFrame(columns=['test'])\n",
    "df_test['test'] = test_dataset\n",
    "\n",
    "df_test"
   ]
  },
  {
   "cell_type": "code",
   "execution_count": null,
   "metadata": {},
   "outputs": [],
   "source": [
    "test_dataset = CustomDataset_seg(source = df_test['test'].values ,gt = _ , transform=transform, infer=True)\n",
    "test_loader = DataLoader(test_dataset, batch_size=16, shuffle=False, num_workers=0 )"
   ]
  },
  {
   "cell_type": "code",
   "execution_count": null,
   "metadata": {},
   "outputs": [],
   "source": [
    "# model =  smp.Unet('mobilenet_v2', encoder_weights='imagenet', classes=13, activation=None, encoder_depth=5, decoder_channels=[256, 128, 64, 32, 16] , aux_params=aux_params)\n",
    "# model.load_state_dict(torch.load('./models/smp_base.pt'))\n",
    "# model.to(device)"
   ]
  },
  {
   "cell_type": "code",
   "execution_count": null,
   "metadata": {},
   "outputs": [],
   "source": [
    "with torch.no_grad():\n",
    "    infer_model.eval()\n",
    "    result = []\n",
    "    for images in tqdm(test_loader):\n",
    "        images = images.float().to(device)\n",
    "        outputs = infer_model(images, True, 0)\n",
    "        outputs = torch.softmax(outputs, dim=1).cpu()\n",
    "        outputs = torch.argmax(outputs, dim=1).numpy()\n",
    "        # batch에 존재하는 각 이미지에 대해서 반복\n",
    "        for pred in outputs:\n",
    "            pred = pred.astype(np.uint8)\n",
    "            pred = Image.fromarray(pred) # 이미지로 변환\n",
    "            pred = pred.resize((960, 540), Image.NEAREST) # 960 x 540 사이즈로 변환\n",
    "            pred = np.array(pred) # 다시 수치로 변환\n",
    "            # class 0 ~ 11에 해당하는 경우에 마스크 형성 / 12(배경)는 제외하고 진행\n",
    "            for class_id in range(12):\n",
    "                class_mask = (pred == class_id).astype(np.uint8)\n",
    "                if np.sum(class_mask) > 0: # 마스크가 존재하는 경우 encode\n",
    "                    mask_rle = rle_encode(class_mask)\n",
    "                    result.append(mask_rle)\n",
    "                else: # 마스크가 존재하지 않는 경우 -1\n",
    "                    result.append(-1)"
   ]
  },
  {
   "cell_type": "markdown",
   "metadata": {},
   "source": [
    "# Submisssion"
   ]
  },
  {
   "cell_type": "code",
   "execution_count": null,
   "metadata": {},
   "outputs": [],
   "source": [
    "submit = pd.read_csv('../Data/sample_submission.csv')\n",
    "submit['mask_rle'] = result\n",
    "submit"
   ]
  },
  {
   "cell_type": "code",
   "execution_count": null,
   "metadata": {},
   "outputs": [],
   "source": [
    "submit.to_csv('./DANN_mobile.csv', index=False)"
   ]
  },
  {
   "cell_type": "code",
   "execution_count": null,
   "metadata": {},
   "outputs": [],
   "source": []
  }
 ],
 "metadata": {
  "kernelspec": {
   "display_name": "EHmin",
   "language": "python",
   "name": "python3"
  },
  "language_info": {
   "codemirror_mode": {
    "name": "ipython",
    "version": 3
   },
   "file_extension": ".py",
   "mimetype": "text/x-python",
   "name": "python",
   "nbconvert_exporter": "python",
   "pygments_lexer": "ipython3",
   "version": "3.9.0"
  },
  "orig_nbformat": 4
 },
 "nbformat": 4,
 "nbformat_minor": 2
}
