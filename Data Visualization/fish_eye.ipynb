{
 "cells": [
  {
   "cell_type": "code",
   "execution_count": 2,
   "metadata": {},
   "outputs": [],
   "source": [
    "import cv2\n",
    "import albumentations as A\n",
    "\n",
    "image = cv2.imread('../Data/train_source_image/TRAIN_SOURCE_0000.png')  # Replace 'your_image.jpg' with the path to your image\n",
    "\n",
    "\n",
    "transform = A.Compose([\n",
    "    # A.RandomCrop(width=self.width, height=self.height, p=1),\n",
    "    A.HorizontalFlip(p=0.5),\n",
    "    A.Rotate(limit=60, p=0.5),\n",
    "    A.OneOf([\n",
    "        A.Defocus(always_apply=False, p=0.5, radius=(3, 10), alias_blur=(0.1, 0.5)),\n",
    "        A.RandomBrightnessContrast(always_apply=False, p=0.5)\n",
    "    ]),\n",
    "    A.OpticalDistortion(distort_limit=(0, 2.0), shift_limit=(-1.0, 2.0), p=0.8),\n",
    "])\n",
    "\n",
    "augmented_image = transform(image=image)['image']\n"
   ]
  },
  {
   "cell_type": "code",
   "execution_count": 4,
   "metadata": {},
   "outputs": [],
   "source": [
    "from PIL import Image\n",
    "import matplotlib.pyplot as plt  # For displaying the image in a window (optional)\n",
    "import numpy as np\n",
    "\n",
    "pil_image = Image.fromarray(np.uint8(augmented_image))\n",
    "\n",
    "# Display the Pillow image\n",
    "pil_image.show()"
   ]
  }
 ],
 "metadata": {
  "kernelspec": {
   "display_name": "EHmin",
   "language": "python",
   "name": "python3"
  },
  "language_info": {
   "codemirror_mode": {
    "name": "ipython",
    "version": 3
   },
   "file_extension": ".py",
   "mimetype": "text/x-python",
   "name": "python",
   "nbconvert_exporter": "python",
   "pygments_lexer": "ipython3",
   "version": "3.10.11"
  },
  "orig_nbformat": 4
 },
 "nbformat": 4,
 "nbformat_minor": 2
}
